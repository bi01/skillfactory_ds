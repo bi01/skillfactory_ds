{
 "cells": [
  {
   "cell_type": "markdown",
   "metadata": {},
   "source": [
    "# MATH&STAT-2. Линейная алгебра. Часть II "
   ]
  },
  {
   "cell_type": "markdown",
   "metadata": {},
   "source": [
    "## Что будем делать?\n",
    "\n",
    "- первый модуль (MATH_STAT1) - базовый язык линейной алгебры\n",
    "- второй модуль (MATH_STAT2) - алгоритмы линейной алгебры для анализа данных\n",
    "\n",
    "\n",
    "**Основная тема** - построение моделей линейной регрессии\n",
    "\n",
    "- Построение классической OLS (метод наименьших квадратов) модели\n",
    "    - проблемы \n",
    "        - Зависимые факторы \n",
    "        - Большие размерности\n",
    "    - методы решения проблем\n",
    "        - Спектральный анализ \n",
    "        - Метод главных компонент\n",
    "        - Сингулярное разложение\n",
    "        \n",
    "**Новые понятия**\n",
    " - Матрица корреляция \n",
    " - Линейный оператор\n",
    " - Комплексные числа\n",
    " \n",
    " \n",
    "### Не будем рассматривать в этом модуле\n",
    " - Вероятностные допущения в модели \n",
    " - Оценка значимости регрессии\n",
    " - Statistic-based методы предварительной обработки данных \n",
    " \n"
   ]
  },
  {
   "cell_type": "markdown",
   "metadata": {},
   "source": [
    "## Неоднородные СЛАУ"
   ]
  },
  {
   "cell_type": "markdown",
   "metadata": {},
   "source": [
    "Мы начнем с алгоритма классической линейной регрессии по **методу наименьших квадратов** (Ordinary Least Squares, OLS) или OLS регрессии.\n",
    "\n",
    "Это самый базовый алгоритм, но даже он уже не очень прост для восприятия, поэтому мы разобьём сложносоставную задачу линейного прогнозирования на две части:\n",
    "\n",
    "- алгоритм — решение неоднородных систем линейных уравнений или СЛАУ;\n",
    "- контекст задачи прогнозирования.\n",
    "\n",
    "В решении СЛАУ возможно 3 случая:\n",
    "\n",
    "1. **«Идеальная пара»** Это так называемые определённые системы, имеющие единственное решение.\n",
    "2. **«В активном поиске»** Недоопределённые системы, в которых решений бесконечно много.\n",
    "3. **«Всё сложно»** Это переопределённые системы, в которых решений нет вовсе\n",
    "\n",
    "\n",
    "Рассмотрим каждый случай на примере.\n",
    "\n",
    "<br><br>\n",
    "**_Комментарий_**\n",
    "\n",
    "_В изложенной выше классификации неоднородных систем допущено не вполне «честное» упрощение в терминологии._\n",
    "\n",
    "_На самом деле, недоопределённые системы — это те, в которых независимых уравнений меньше, чем неизвестных. Они могут иметь бесконечно много решений (быть совместными) или ни одного решения (быть несовместными, если уравнения противоречат друг другу)._\n",
    "\n",
    "_На практике, в обучении регрессий, например, этот случай практически не встречается._\n",
    "\n",
    "_Что касается переопределённых систем, то в них помимо несовместности (т. е. отсутствия решений) ещё и количество независимых уравнений превышает количество неизвестных — как раз тот самый случай, что мы видим в регрессионном анализе._"
   ]
  },
  {
   "cell_type": "markdown",
   "metadata": {},
   "source": [
    "## Случай «Идеальная пара»"
   ]
  },
  {
   "cell_type": "code",
   "execution_count": 5,
   "metadata": {
    "ExecuteTime": {
     "end_time": "2020-12-27T15:25:25.197826Z",
     "start_time": "2020-12-27T15:25:25.192628Z"
    }
   },
   "outputs": [
    {
     "data": {
      "text/plain": [
       "matrix([[ 8, 15]])"
      ]
     },
     "execution_count": 5,
     "metadata": {},
     "output_type": "execute_result"
    }
   ],
   "source": [
    "import numpy as np \n",
    "\n",
    "\n",
    "A  = np.matrix('0,2; 5,0')\n",
    "v = np.array([3,4])\n",
    "\n",
    "A@v\n",
    "\n"
   ]
  }
 ],
 "metadata": {
  "hide_input": false,
  "kernelspec": {
   "display_name": "PyCharm (SkillFactory)",
   "language": "python",
   "name": "pycharm-654c38e"
  },
  "language_info": {
   "codemirror_mode": {
    "name": "ipython",
    "version": 3
   },
   "file_extension": ".py",
   "mimetype": "text/x-python",
   "name": "python",
   "nbconvert_exporter": "python",
   "pygments_lexer": "ipython3",
   "version": "3.8.5"
  },
  "nbTranslate": {
   "displayLangs": [
    "*"
   ],
   "hotkey": "alt-t",
   "langInMainMenu": true,
   "sourceLang": "en",
   "targetLang": "fr",
   "useGoogleTranslate": true
  },
  "toc": {
   "base_numbering": 1,
   "nav_menu": {},
   "number_sections": true,
   "sideBar": true,
   "skip_h1_title": false,
   "title_cell": "Table of Contents",
   "title_sidebar": "Contents",
   "toc_cell": false,
   "toc_position": {},
   "toc_section_display": true,
   "toc_window_display": false
  },
  "varInspector": {
   "cols": {
    "lenName": 16,
    "lenType": 16,
    "lenVar": 40
   },
   "kernels_config": {
    "python": {
     "delete_cmd_postfix": "",
     "delete_cmd_prefix": "del ",
     "library": "var_list.py",
     "varRefreshCmd": "print(var_dic_list())"
    },
    "r": {
     "delete_cmd_postfix": ") ",
     "delete_cmd_prefix": "rm(",
     "library": "var_list.r",
     "varRefreshCmd": "cat(var_dic_list()) "
    }
   },
   "types_to_exclude": [
    "module",
    "function",
    "builtin_function_or_method",
    "instance",
    "_Feature"
   ],
   "window_display": false
  }
 },
 "nbformat": 4,
 "nbformat_minor": 4
}
