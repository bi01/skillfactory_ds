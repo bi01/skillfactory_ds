{
 "cells": [
  {
   "cell_type": "markdown",
   "metadata": {
    "collapsed": true,
    "pycharm": {
     "name": "#%% md\n"
    }
   },
   "source": [
    "\n",
    "# PYTHON-9. Возможности библиотеки Numpy для работы с данными\n"
   ]
  },
  {
   "cell_type": "code",
   "execution_count": 267,
   "outputs": [
    {
     "data": {
      "text/plain": "array([1, 2, 3, 4])"
     },
     "execution_count": 267,
     "metadata": {},
     "output_type": "execute_result"
    }
   ],
   "source": [
    "\n",
    "import numpy as np\n",
    "from IPython.core.display import display\n",
    "\n",
    "arr1 = np.array([1,2,3,4])\n",
    "arr1"
   ],
   "metadata": {
    "collapsed": false,
    "pycharm": {
     "name": "#%%\n"
    }
   }
  },
  {
   "cell_type": "code",
   "execution_count": 268,
   "outputs": [
    {
     "data": {
      "text/plain": "dtype('float64')"
     },
     "execution_count": 268,
     "metadata": {},
     "output_type": "execute_result"
    }
   ],
   "source": [
    "arr2 = np.array([5,6,7,8], dtype = float)\n",
    "arr2.dtype\n"
   ],
   "metadata": {
    "collapsed": false,
    "pycharm": {
     "name": "#%%\n"
    }
   }
  },
  {
   "cell_type": "code",
   "execution_count": 269,
   "outputs": [
    {
     "data": {
      "text/plain": "(3, 3)"
     },
     "execution_count": 269,
     "metadata": {},
     "output_type": "execute_result"
    }
   ],
   "source": [
    "\n",
    "arr3 = np.array([[1,2,3],[4,5,6],[7,8,9]])\n",
    "np.shape(arr3)\n"
   ],
   "metadata": {
    "collapsed": false,
    "pycharm": {
     "name": "#%%\n"
    }
   }
  },
  {
   "cell_type": "code",
   "execution_count": 270,
   "outputs": [
    {
     "data": {
      "text/plain": "numpy.ndarray"
     },
     "execution_count": 270,
     "metadata": {},
     "output_type": "execute_result"
    }
   ],
   "source": [
    "import numpy as np\n",
    "import pandas as pd\n",
    "\n",
    "df = pd.DataFrame()\n",
    "x = df.values\n",
    "\n",
    "type(x)"
   ],
   "metadata": {
    "collapsed": false,
    "pycharm": {
     "name": "#%%\n"
    }
   }
  },
  {
   "cell_type": "code",
   "execution_count": 271,
   "outputs": [
    {
     "data": {
      "text/plain": "array([ 5,  6,  7,  8,  9, 10])"
     },
     "execution_count": 271,
     "metadata": {},
     "output_type": "execute_result"
    }
   ],
   "source": [
    "import numpy as np\n",
    "import pandas as pd\n",
    "my_series = pd.Series([5, 6, 7, 8, 9, 10])\n",
    "my_series.values\n"
   ],
   "metadata": {
    "collapsed": false,
    "pycharm": {
     "name": "#%%\n"
    }
   }
  },
  {
   "cell_type": "code",
   "execution_count": 272,
   "outputs": [
    {
     "data": {
      "text/plain": "array([[7, 5, 6],\n       [6, 7, 3],\n       [0, 0, 7]])"
     },
     "execution_count": 272,
     "metadata": {},
     "output_type": "execute_result"
    }
   ],
   "source": [
    "# одномерный массив из пяти элементов,\n",
    "# память для которого выделена, но не инициализирована\n",
    "np.empty(5)\n",
    "\n",
    "# массив размером 10x7, заполненный нулями\n",
    "np.zeros((10, 7))\n",
    "\n",
    "# массив размером 3х3х3, заполненный единицами\n",
    "np.ones((3,3,3))\n",
    "\n",
    "# единичная матрица (элементы главной диагонали равны 1, остальные — 0)\n",
    "# размера 3х3\n",
    "np.eye(3)\n",
    "\n",
    "# массив 3x5 заполненный числом 3.14\n",
    "np.full((3, 5), 3.14)\n",
    "\n",
    "# одномерный массив, заполненный числами в диапазоне от 0 до 20 с шагом 7\n",
    "np.arange(0, 21, 7)\n",
    "\n",
    "# массив из пяти чисел, равномерно распределённых\n",
    "# в интервале между 0 и 1 включительно\n",
    "np.linspace(0, 1, 5)\n",
    "\n",
    "# массив размера 3х3, заполненный случайными числами\n",
    "# из диапазона от 0 до 9 (включительно)\n",
    "np.random.randint(0, 10, (3, 3))\n"
   ],
   "metadata": {
    "collapsed": false,
    "pycharm": {
     "name": "#%%\n"
    }
   }
  },
  {
   "cell_type": "code",
   "execution_count": 273,
   "outputs": [
    {
     "data": {
      "text/plain": "array([[1, 3, 8],\n       [3, 0, 3],\n       [1, 0, 2]])"
     },
     "metadata": {},
     "output_type": "display_data"
    },
    {
     "data": {
      "text/plain": "1"
     },
     "execution_count": 273,
     "metadata": {},
     "output_type": "execute_result"
    }
   ],
   "source": [
    "# Какой индекс имеет верхний левый элемент любого двумерного массива?\n",
    "m = np.random.randint(0, 9, (3,3))\n",
    "display(m)\n",
    "m[0][0]\n"
   ],
   "metadata": {
    "collapsed": false,
    "pycharm": {
     "name": "#%%\n"
    }
   }
  },
  {
   "cell_type": "code",
   "execution_count": 274,
   "outputs": [
    {
     "data": {
      "text/plain": "array([[ 8, 13, 18,  4],\n       [25,  3, 18, 28],\n       [14, 15, 18, 24],\n       [ 1,  2,  3,  4]])"
     },
     "metadata": {},
     "output_type": "display_data"
    }
   ],
   "source": [
    "\n",
    "# Какие элементы расположены на главной диагонали массива, заданного с помощью кода выше?\n",
    "data = [[8,13,18,4], [25,3,18,28], [14,15,18,24], [1,2,3,4]]\n",
    "m = np.array(data)\n",
    "display(m)"
   ],
   "metadata": {
    "collapsed": false,
    "pycharm": {
     "name": "#%%\n"
    }
   }
  },
  {
   "cell_type": "code",
   "execution_count": 275,
   "outputs": [
    {
     "data": {
      "text/plain": "array([[  1. ,  57. ,  71. , 127. , 141. , 197. , 211. , 267. , 281. ],\n       [  0.5,  28.5,  35.5,  63.5,  70.5,  98.5, 105.5, 133.5, 140.5],\n       [-99. , -43. , -29. ,  27. ,  41. ,  97. , 111. , 167. , 181. ]])"
     },
     "metadata": {},
     "output_type": "display_data"
    }
   ],
   "source": [
    "\n",
    "# Какие элементы расположены в последнем столбце массива, заданного с помощью кода выше?\n",
    "# my_secret = [x for x in range(1, 301, 7)]\n",
    "my_secret = [x for x in range(1, 301, 7) if x%10 == 7 or x%10 == 1]\n",
    "res = np.array([my_secret, [x/2 for x in my_secret], [x-100 for x in my_secret]])\n",
    "display(res)\n"
   ],
   "metadata": {
    "collapsed": false,
    "pycharm": {
     "name": "#%%\n"
    }
   }
  },
  {
   "cell_type": "code",
   "execution_count": 276,
   "outputs": [
    {
     "data": {
      "text/plain": "array([[1., 1., 1., 1., 1.],\n       [1., 1., 1., 1., 1.],\n       [1., 1., 1., 1., 1.],\n       [1., 1., 1., 1., 1.],\n       [1., 1., 1., 1., 1.]])"
     },
     "metadata": {},
     "output_type": "display_data"
    },
    {
     "data": {
      "text/plain": "array([[1., 0., 0., 0., 0.],\n       [0., 1., 0., 0., 0.],\n       [0., 0., 1., 0., 0.],\n       [0., 0., 0., 1., 0.],\n       [0., 0., 0., 0., 1.]])"
     },
     "metadata": {},
     "output_type": "display_data"
    },
    {
     "data": {
      "text/plain": "array([[1, 1, 1, 1, 1],\n       [1, 1, 1, 1, 1],\n       [1, 1, 1, 1, 1],\n       [1, 1, 1, 1, 1],\n       [1, 1, 1, 1, 1]])"
     },
     "metadata": {},
     "output_type": "display_data"
    },
    {
     "data": {
      "text/plain": "array([[1, 2, 3, 4, 5],\n       [5, 1, 2, 3, 4],\n       [4, 5, 1, 2, 3],\n       [3, 4, 5, 1, 2],\n       [2, 3, 4, 5, 1]])"
     },
     "metadata": {},
     "output_type": "display_data"
    }
   ],
   "source": [
    "\n",
    "# С помощью каких вариантов кода можно создать массив,\n",
    "# среднее арифметическое всех элементов главной диагонали которого равно 1?\n",
    "display(\n",
    "    np.ones((5, 5)),\n",
    "    np.eye(5),\n",
    "    np.full((5,5), 1),\n",
    "    np.array([[1,2,3,4,5], [5,1,2,3,4], [4,5,1,2,3], [3,4,5,1,2], [2,3,4,5,1]])\n",
    ")\n"
   ],
   "metadata": {
    "collapsed": false,
    "pycharm": {
     "name": "#%%\n"
    }
   }
  },
  {
   "cell_type": "code",
   "execution_count": 277,
   "outputs": [
    {
     "data": {
      "text/plain": "array([[1, 1, 1],\n       [0, 2, 2],\n       [2, 4, 1]])"
     },
     "metadata": {},
     "output_type": "display_data"
    },
    {
     "data": {
      "text/plain": "array([[1, 0, 0],\n       [3, 1, 1],\n       [3, 3, 3]])"
     },
     "metadata": {},
     "output_type": "display_data"
    },
    {
     "data": {
      "text/plain": "array([2, 3, 2])"
     },
     "metadata": {},
     "output_type": "display_data"
    }
   ],
   "source": [
    "# С помощью каких вариантов кода НЕВОЗМОЖНО создать массив,\n",
    "# представленный в примере выше?\n",
    "\n",
    "m = np.array([\n",
    " [1, 1, 1],\n",
    " [0, 2, 2],\n",
    " [2, 4, 1]\n",
    "])\n",
    "display(\n",
    "    m,\n",
    "    np.random.randint(0, 4, (3, 3)),\n",
    "    np.random.randint(0, 5, 3)\n",
    ")"
   ],
   "metadata": {
    "collapsed": false,
    "pycharm": {
     "name": "#%%\n"
    }
   }
  },
  {
   "cell_type": "code",
   "execution_count": 278,
   "outputs": [
    {
     "data": {
      "text/plain": "array([[1, 1, 1, 1],\n       [1, 1, 1, 1],\n       [1, 1, 1, 1],\n       [1, 1, 1, 1]])"
     },
     "metadata": {},
     "output_type": "display_data"
    },
    {
     "data": {
      "text/plain": "array([[1., 1., 1., 1.],\n       [1., 1., 1., 1.],\n       [1., 1., 1., 1.],\n       [1., 1., 1., 1.]])"
     },
     "metadata": {},
     "output_type": "display_data"
    },
    {
     "data": {
      "text/plain": "array([[1, 1, 1, 1],\n       [1, 1, 1, 1],\n       [1, 1, 1, 1],\n       [1, 1, 1, 1]])"
     },
     "metadata": {},
     "output_type": "display_data"
    }
   ],
   "source": [
    "\n",
    "# Какие из представленных вариантов кода можно использовать для создания массива 4х4,\n",
    "# полностью заполненного единицами?\n",
    "\n",
    "display(\n",
    "    np.array([[1, 1, 1, 1], [1, 1, 1, 1], [1, 1, 1, 1], [1, 1, 1, 1]]),\n",
    "    np.ones((4, 4), dtype=float),\n",
    "    np.full((4, 4), 1)\n",
    "    )\n",
    "\n"
   ],
   "metadata": {
    "collapsed": false,
    "pycharm": {
     "name": "#%%\n"
    }
   }
  },
  {
   "cell_type": "code",
   "execution_count": 279,
   "outputs": [
    {
     "data": {
      "text/plain": "array([[[1., 1.],\n        [1., 1.]],\n\n       [[1., 1.],\n        [1., 1.]]])"
     },
     "metadata": {},
     "output_type": "display_data"
    },
    {
     "data": {
      "text/plain": "array([1, 3, 5, 7, 9])"
     },
     "metadata": {},
     "output_type": "display_data"
    },
    {
     "data": {
      "text/plain": "array([ 1,  3,  5,  7,  9, 11, 13])"
     },
     "metadata": {},
     "output_type": "display_data"
    }
   ],
   "source": [
    "\n",
    "# Какие из вариантов кода можно использовать для создания массива,\n",
    "# заполненного нечётными числами?\n",
    "display(\n",
    "    np.ones((2,2,2)),\n",
    "    np.array([i for i in range(11) if i%2]),\n",
    "    np.arange(1, 14, 2)\n",
    "    )\n",
    "\n",
    "\n"
   ],
   "metadata": {
    "collapsed": false,
    "pycharm": {
     "name": "#%%\n"
    }
   }
  },
  {
   "cell_type": "code",
   "execution_count": 280,
   "outputs": [
    {
     "data": {
      "text/plain": "array([0, 1, 2, 3, 4, 5, 6, 7, 8, 9])"
     },
     "metadata": {},
     "output_type": "display_data"
    },
    {
     "data": {
      "text/plain": "1"
     },
     "metadata": {},
     "output_type": "display_data"
    }
   ],
   "source": [
    "my_array = np.array([x for x in range(10)])\n",
    "display(\n",
    "my_array,\n",
    "my_array[1]\n",
    ")\n",
    "\n"
   ],
   "metadata": {
    "collapsed": false,
    "pycharm": {
     "name": "#%%\n"
    }
   }
  },
  {
   "cell_type": "code",
   "execution_count": 281,
   "outputs": [
    {
     "data": {
      "text/plain": "[14,\n 10,\n 6,\n 56,\n 40,\n 24,\n 98,\n 70,\n 42,\n 140,\n 100,\n 60,\n 182,\n 130,\n 78,\n 224,\n 160,\n 96,\n 266,\n 190,\n 114,\n 308,\n 220,\n 132,\n 350,\n 250,\n 150,\n 392,\n 280,\n 168,\n 434,\n 310,\n 186,\n 476,\n 340,\n 204,\n 518,\n 370,\n 222,\n 560,\n 400,\n 240,\n 602,\n 430,\n 258,\n 644,\n 460,\n 276,\n 686,\n 490,\n 294]"
     },
     "metadata": {},
     "output_type": "display_data"
    },
    {
     "data": {
      "text/plain": "'------------------------------'"
     },
     "metadata": {},
     "output_type": "display_data"
    },
    {
     "data": {
      "text/plain": "[31.622776601683793,\n 31.654383582688826,\n 31.68595903550972,\n 31.71750305430741,\n 31.74901573277509,\n 31.78049716414141,\n 31.811947441173732,\n 31.843366656181317,\n 31.874754901018456,\n 31.906112267087632,\n 31.937438845342623,\n 31.96873472629156,\n 32.0,\n 32.03123475609393,\n 32.0624390837628,\n 32.09361307176243,\n 32.12475680841802,\n 32.155870381627054,\n 32.18695387886216,\n 32.218007387174026,\n 32.2490309931942,\n 32.28002478313795,\n 32.31098884280702,\n 32.341923257592455,\n 32.37282811247729,\n 32.4037034920393,\n 32.43454948045371,\n 32.46536616149585,\n 32.49615361854384,\n 32.526911934581186,\n 32.55764119219941,\n 32.58834147360065,\n 32.61901286060018,\n 32.64965543462902,\n 32.68026927673638,\n 32.71085446759225,\n 32.7414110874898,\n 32.77193921634788,\n 32.802438933713454,\n 32.83291031876401,\n 32.863353450309965,\n 32.89376840679705,\n 32.92415526630866,\n 32.95451410656816,\n 32.984845004941285,\n 33.015148038438355,\n 33.04542328371661,\n 33.075670817082454,\n 33.1058907144937,\n 33.13608305156178,\n 33.166247903554]"
     },
     "metadata": {},
     "output_type": "display_data"
    },
    {
     "data": {
      "text/plain": "'------------------------------'"
     },
     "metadata": {},
     "output_type": "display_data"
    },
    {
     "data": {
      "text/plain": "[0,\n 1,\n 4,\n 9,\n 16,\n 25,\n 36,\n 49,\n 64,\n 81,\n 100,\n 121,\n 144,\n 169,\n 196,\n 225,\n 256,\n 289,\n 324,\n 361,\n 400,\n 441,\n 484,\n 529,\n 576,\n 625,\n 676,\n 729,\n 784,\n 841,\n 900,\n 961,\n 1024,\n 1089,\n 1156,\n 1225,\n 1296,\n 1369,\n 1444,\n 1521,\n 1600,\n 1681,\n 1764,\n 1849,\n 1936,\n 2025,\n 2116,\n 2209,\n 2304,\n 2401,\n 2500]"
     },
     "metadata": {},
     "output_type": "display_data"
    },
    {
     "data": {
      "text/plain": "'------------------------------'"
     },
     "metadata": {},
     "output_type": "display_data"
    },
    {
     "data": {
      "text/plain": "array([[1.40000000e+01, 1.00000000e+01, 6.00000000e+00, 5.60000000e+01,\n        4.00000000e+01, 2.40000000e+01, 9.80000000e+01, 7.00000000e+01,\n        4.20000000e+01, 1.40000000e+02, 1.00000000e+02, 6.00000000e+01,\n        1.82000000e+02, 1.30000000e+02, 7.80000000e+01, 2.24000000e+02,\n        1.60000000e+02, 9.60000000e+01, 2.66000000e+02, 1.90000000e+02,\n        1.14000000e+02, 3.08000000e+02, 2.20000000e+02, 1.32000000e+02,\n        3.50000000e+02, 2.50000000e+02, 1.50000000e+02, 3.92000000e+02,\n        2.80000000e+02, 1.68000000e+02, 4.34000000e+02, 3.10000000e+02,\n        1.86000000e+02, 4.76000000e+02, 3.40000000e+02, 2.04000000e+02,\n        5.18000000e+02, 3.70000000e+02, 2.22000000e+02, 5.60000000e+02,\n        4.00000000e+02, 2.40000000e+02, 6.02000000e+02, 4.30000000e+02,\n        2.58000000e+02, 6.44000000e+02, 4.60000000e+02, 2.76000000e+02,\n        6.86000000e+02, 4.90000000e+02, 2.94000000e+02],\n       [3.16227766e+01, 3.16543836e+01, 3.16859590e+01, 3.17175031e+01,\n        3.17490157e+01, 3.17804972e+01, 3.18119474e+01, 3.18433667e+01,\n        3.18747549e+01, 3.19061123e+01, 3.19374388e+01, 3.19687347e+01,\n        3.20000000e+01, 3.20312348e+01, 3.20624391e+01, 3.20936131e+01,\n        3.21247568e+01, 3.21558704e+01, 3.21869539e+01, 3.22180074e+01,\n        3.22490310e+01, 3.22800248e+01, 3.23109888e+01, 3.23419233e+01,\n        3.23728281e+01, 3.24037035e+01, 3.24345495e+01, 3.24653662e+01,\n        3.24961536e+01, 3.25269119e+01, 3.25576412e+01, 3.25883415e+01,\n        3.26190129e+01, 3.26496554e+01, 3.26802693e+01, 3.27108545e+01,\n        3.27414111e+01, 3.27719392e+01, 3.28024389e+01, 3.28329103e+01,\n        3.28633535e+01, 3.28937684e+01, 3.29241553e+01, 3.29545141e+01,\n        3.29848450e+01, 3.30151480e+01, 3.30454233e+01, 3.30756708e+01,\n        3.31058907e+01, 3.31360831e+01, 3.31662479e+01],\n       [0.00000000e+00, 1.00000000e+00, 4.00000000e+00, 9.00000000e+00,\n        1.60000000e+01, 2.50000000e+01, 3.60000000e+01, 4.90000000e+01,\n        6.40000000e+01, 8.10000000e+01, 1.00000000e+02, 1.21000000e+02,\n        1.44000000e+02, 1.69000000e+02, 1.96000000e+02, 2.25000000e+02,\n        2.56000000e+02, 2.89000000e+02, 3.24000000e+02, 3.61000000e+02,\n        4.00000000e+02, 4.41000000e+02, 4.84000000e+02, 5.29000000e+02,\n        5.76000000e+02, 6.25000000e+02, 6.76000000e+02, 7.29000000e+02,\n        7.84000000e+02, 8.41000000e+02, 9.00000000e+02, 9.61000000e+02,\n        1.02400000e+03, 1.08900000e+03, 1.15600000e+03, 1.22500000e+03,\n        1.29600000e+03, 1.36900000e+03, 1.44400000e+03, 1.52100000e+03,\n        1.60000000e+03, 1.68100000e+03, 1.76400000e+03, 1.84900000e+03,\n        1.93600000e+03, 2.02500000e+03, 2.11600000e+03, 2.20900000e+03,\n        2.30400000e+03, 2.40100000e+03, 2.50000000e+03],\n       [3.16227766e+01, 3.16543836e+01, 3.16859590e+01, 3.17175031e+01,\n        3.17490157e+01, 3.17804972e+01, 3.18119474e+01, 3.18433667e+01,\n        3.18747549e+01, 3.19061123e+01, 3.19374388e+01, 3.19687347e+01,\n        3.20000000e+01, 3.20312348e+01, 3.20624391e+01, 3.20936131e+01,\n        3.21247568e+01, 3.21558704e+01, 3.21869539e+01, 3.22180074e+01,\n        3.22490310e+01, 3.22800248e+01, 3.23109888e+01, 3.23419233e+01,\n        3.23728281e+01, 3.24037035e+01, 3.24345495e+01, 3.24653662e+01,\n        3.24961536e+01, 3.25269119e+01, 3.25576412e+01, 3.25883415e+01,\n        3.26190129e+01, 3.26496554e+01, 3.26802693e+01, 3.27108545e+01,\n        3.27414111e+01, 3.27719392e+01, 3.28024389e+01, 3.28329103e+01,\n        3.28633535e+01, 3.28937684e+01, 3.29241553e+01, 3.29545141e+01,\n        3.29848450e+01, 3.30151480e+01, 3.30454233e+01, 3.30756708e+01,\n        3.31058907e+01, 3.31360831e+01, 3.31662479e+01],\n       [1.40000000e+01, 1.00000000e+01, 6.00000000e+00, 5.60000000e+01,\n        4.00000000e+01, 2.40000000e+01, 9.80000000e+01, 7.00000000e+01,\n        4.20000000e+01, 1.40000000e+02, 1.00000000e+02, 6.00000000e+01,\n        1.82000000e+02, 1.30000000e+02, 7.80000000e+01, 2.24000000e+02,\n        1.60000000e+02, 9.60000000e+01, 2.66000000e+02, 1.90000000e+02,\n        1.14000000e+02, 3.08000000e+02, 2.20000000e+02, 1.32000000e+02,\n        3.50000000e+02, 2.50000000e+02, 1.50000000e+02, 3.92000000e+02,\n        2.80000000e+02, 1.68000000e+02, 4.34000000e+02, 3.10000000e+02,\n        1.86000000e+02, 4.76000000e+02, 3.40000000e+02, 2.04000000e+02,\n        5.18000000e+02, 3.70000000e+02, 2.22000000e+02, 5.60000000e+02,\n        4.00000000e+02, 2.40000000e+02, 6.02000000e+02, 4.30000000e+02,\n        2.58000000e+02, 6.44000000e+02, 4.60000000e+02, 2.76000000e+02,\n        6.86000000e+02, 4.90000000e+02, 2.94000000e+02]])"
     },
     "metadata": {},
     "output_type": "display_data"
    },
    {
     "data": {
      "text/plain": "14.0"
     },
     "metadata": {},
     "output_type": "display_data"
    }
   ],
   "source": [
    "first_line = [x*y for x in range(2, 100, 6) for y in range (7, 1, -2)]\n",
    "second_line = [x ** 0.5 for x in range(1000, 1101, 2)]\n",
    "third_line = [x**2 for x in range(51)]\n",
    "\n",
    "big_secret = np.array([first_line, second_line, third_line, second_line, first_line])\n",
    "\n",
    "display(\n",
    "    first_line,\n",
    "    '-' * 30,\n",
    "    second_line,\n",
    "    '-' * 30,\n",
    "    third_line,\n",
    "    '-' * 30,\n",
    "    big_secret,\n",
    "    big_secret[0][0],\n",
    "    )\n",
    "\n"
   ],
   "metadata": {
    "collapsed": false,
    "pycharm": {
     "name": "#%%\n"
    }
   }
  },
  {
   "cell_type": "code",
   "execution_count": 282,
   "outputs": [
    {
     "data": {
      "text/plain": "3154.33"
     },
     "execution_count": 282,
     "metadata": {},
     "output_type": "execute_result"
    }
   ],
   "source": [
    "# Чему равна сумма элементов последнего столбца массива?\n",
    "# Ответ округлите до двух цифр после запятой:\n",
    "\n",
    "round(sum(row[-1] for row in big_secret), 2)\n"
   ],
   "metadata": {
    "collapsed": false,
    "pycharm": {
     "name": "#%%\n"
    }
   }
  },
  {
   "cell_type": "code",
   "execution_count": 283,
   "outputs": [
    {
     "data": {
      "text/plain": "121.37"
     },
     "metadata": {},
     "output_type": "display_data"
    },
    {
     "data": {
      "text/plain": "array([[14.        , 10.        ,  6.        , 56.        , 40.        ],\n       [31.6227766 , 31.65438358, 31.68595904, 31.71750305, 31.74901573],\n       [ 0.        ,  1.        ,  4.        ,  9.        , 16.        ],\n       [31.6227766 , 31.65438358, 31.68595904, 31.71750305, 31.74901573],\n       [14.        , 10.        ,  6.        , 56.        , 40.        ]])"
     },
     "metadata": {},
     "output_type": "display_data"
    },
    {
     "data": {
      "text/plain": "121.37"
     },
     "execution_count": 283,
     "metadata": {},
     "output_type": "execute_result"
    }
   ],
   "source": [
    "\n",
    "# Выделите из каждой строки массива big_secret первые 5 элементов.\n",
    "# Чему равна сумма элементов главной диагонали получившейся матрицы?\n",
    "# Округлите ответ до двух цифр после запятой\n",
    "\n",
    "# ВАРИАНТ 1\n",
    "new_matrix = np.array(\n",
    "    [row[:6] for row in big_secret]\n",
    ")\n",
    "\n",
    "i = 0\n",
    "diagonal = []\n",
    "for row in new_matrix:\n",
    "    diagonal.append(row[i])\n",
    "    i+=1\n",
    "\n",
    "display(round(sum(diagonal), 2))\n",
    "# round(sum(diagonal)/len(diagonal), 2)\n",
    "\n",
    "\n",
    "# ВАРИАНТ 2\n",
    "matrix = big_secret[:5, :5]\n",
    "display(matrix.astype(float))\n",
    "round(sum(matrix[i][i] for i in range(5)), 2)\n",
    "\n"
   ],
   "metadata": {
    "collapsed": false,
    "pycharm": {
     "name": "#%%\n"
    }
   }
  },
  {
   "cell_type": "code",
   "execution_count": 284,
   "outputs": [
    {
     "data": {
      "text/plain": "array([[ 460,  276,  686,  490,  294],\n       [  33,   33,   33,   33,   33],\n       [2116, 2209, 2304, 2401, 2500],\n       [  33,   33,   33,   33,   33],\n       [ 460,  276,  686,  490,  294]])"
     },
     "metadata": {},
     "output_type": "display_data"
    },
    {
     "data": {
      "text/plain": "341505315559.2347"
     },
     "metadata": {},
     "output_type": "display_data"
    },
    {
     "data": {
      "text/plain": "341505315559.2347"
     },
     "metadata": {},
     "output_type": "display_data"
    }
   ],
   "source": [
    "\n",
    "# Выделите из каждой строке массива big-secret\n",
    "# первые пять элементов. Чему равна сумма элементов главной диагонали получившейся\n",
    "# матрицы ответ округлите до двух цифр после запятой\n",
    "\n",
    "# ВАРИАНТ 1\n",
    "from functools import reduce\n",
    "\n",
    "\n",
    "matrix = big_secret[:, -5:]\n",
    "display(matrix.astype(int))\n",
    "\n",
    "display(reduce(\n",
    "    lambda x, y: x*y,\n",
    "    [matrix[i][i] for i in range(5)]\n",
    "))\n",
    "\n",
    "\n",
    "# ВАРИАНТ 2\n",
    "from functools import reduce\n",
    "import numpy as np\n",
    "\n",
    "display(\n",
    "    reduce(np.multiply, np.diagonal(big_secret[:, -5:]))\n",
    ")\n"
   ],
   "metadata": {
    "collapsed": false,
    "pycharm": {
     "name": "#%%\n"
    }
   }
  },
  {
   "cell_type": "code",
   "execution_count": 285,
   "outputs": [
    {
     "data": {
      "text/plain": "array([[46, 84, 92, 10,  2, 45],\n       [54, 35, 67, 26, 30, 45],\n       [52, 73, 74, 70, 15,  5],\n       [85, 33, 45, 33, 15, 61]])"
     },
     "metadata": {},
     "output_type": "display_data"
    },
    {
     "data": {
      "text/plain": "array([[67, 26],\n       [74, 70]])"
     },
     "metadata": {},
     "output_type": "display_data"
    },
    {
     "data": {
      "text/plain": "array([[46, 84, 92, 10,  2, 45],\n       [54, 35,  0,  0, 30, 45],\n       [52, 73,  0,  0, 15,  5],\n       [85, 33, 45, 33, 15, 61]])"
     },
     "metadata": {},
     "output_type": "display_data"
    },
    {
     "data": {
      "text/plain": "array([[0, 0],\n       [0, 0]])"
     },
     "metadata": {},
     "output_type": "display_data"
    }
   ],
   "source": [
    "\n",
    "my_array = np.random.randint(1, 100, (4, 6))\n",
    "display(my_array)\n",
    "my_slice = my_array[1:3, 2:4]\n",
    "display(my_slice)\n",
    "\n",
    "my_slice[:] = 0\n",
    "display(my_array)\n",
    "display(my_slice)\n"
   ],
   "metadata": {
    "collapsed": false,
    "pycharm": {
     "name": "#%%\n"
    }
   }
  },
  {
   "cell_type": "code",
   "execution_count": 286,
   "outputs": [
    {
     "data": {
      "text/plain": "array([[-1,  1, -1,  1, -1,  1, -1,  1, -1,  1, -1,  1, -1,  1, -1,  1,\n        -1,  1, -1,  1, -1,  1, -1,  1, -1,  1, -1,  1, -1,  1, -1,  1,\n        -1,  1, -1,  1, -1,  1, -1,  1, -1,  1, -1,  1, -1,  1, -1,  1,\n        -1,  1, -1],\n       [-1,  1, -1,  1, -1,  1, -1,  1, -1,  1, -1,  1, -1,  1, -1,  1,\n        -1,  1, -1,  1, -1,  1, -1,  1, -1,  1, -1,  1, -1,  1, -1,  1,\n        -1,  1, -1,  1, -1,  1, -1,  1, -1,  1, -1,  1, -1,  1, -1,  1,\n        -1,  1, -1],\n       [-1,  1, -1,  1, -1,  1, -1,  1, -1,  1, -1,  1, -1,  1, -1,  1,\n        -1,  1, -1,  1, -1,  1, -1,  1, -1,  1, -1,  1, -1,  1, -1,  1,\n        -1,  1, -1,  1, -1,  1, -1,  1, -1,  1, -1,  1, -1,  1, -1,  1,\n        -1,  1, -1],\n       [-1,  1, -1,  1, -1,  1, -1,  1, -1,  1, -1,  1, -1,  1, -1,  1,\n        -1,  1, -1,  1, -1,  1, -1,  1, -1,  1, -1,  1, -1,  1, -1,  1,\n        -1,  1, -1,  1, -1,  1, -1,  1, -1,  1, -1,  1, -1,  1, -1,  1,\n        -1,  1, -1],\n       [-1,  1, -1,  1, -1,  1, -1,  1, -1,  1, -1,  1, -1,  1, -1,  1,\n        -1,  1, -1,  1, -1,  1, -1,  1, -1,  1, -1,  1, -1,  1, -1,  1,\n        -1,  1, -1,  1, -1,  1, -1,  1, -1,  1, -1,  1, -1,  1, -1,  1,\n        -1,  1, -1]])"
     },
     "execution_count": 286,
     "metadata": {},
     "output_type": "execute_result"
    }
   ],
   "source": [
    "\n",
    "# Проверим знания! Продолжим работать с массивом big_secret. Замените на 1 все элементы, у которых оба индекса\n",
    "# нечётные, и на -1 все элементы, у которых оба индекса чётные.\n",
    "big_secret[:, ::2] = -1\n",
    "big_secret[:, 1::2] = 1\n",
    "big_secret.astype(int)\n"
   ],
   "metadata": {
    "collapsed": false,
    "pycharm": {
     "name": "#%%\n"
    }
   }
  },
  {
   "cell_type": "code",
   "execution_count": 287,
   "outputs": [
    {
     "data": {
      "text/plain": "-1.0"
     },
     "execution_count": 287,
     "metadata": {},
     "output_type": "execute_result"
    }
   ],
   "source": [
    "\n",
    "# Выделите из каждой строке обновлённого массива Биг секрет первые пять элементов. Чему равна сумма элементов главной\n",
    "# диагонали получившийся матрицы!? Видите полученный ответ без изменений и округлений.\n",
    "\n",
    "np.sum(np.diagonal(big_secret[:, :5]))\n",
    "\n"
   ],
   "metadata": {
    "collapsed": false,
    "pycharm": {
     "name": "#%%\n"
    }
   }
  },
  {
   "cell_type": "code",
   "execution_count": 288,
   "outputs": [
    {
     "data": {
      "text/plain": "-1.0"
     },
     "execution_count": 288,
     "metadata": {},
     "output_type": "execute_result"
    }
   ],
   "source": [
    "# Выделите из каждой строке обновлённого насиба Биг secret последние пять элементов. Чему равно произведение элементов\n",
    "# главной диагонали получившиеся матрицы воскли? Видите полученный результат без изменений и округлений.\n",
    "\n",
    "reduce(np.multiply, np.diagonal(big_secret[:, :-5]))\n",
    "\n"
   ],
   "metadata": {
    "collapsed": false,
    "pycharm": {
     "name": "#%%\n"
    }
   }
  },
  {
   "cell_type": "code",
   "execution_count": 289,
   "outputs": [
    {
     "name": "stdout",
     "output_type": "stream",
     "text": [
      "Сумма: [15 21 27]\n",
      "Разность: [9 9 9]\n",
      "Произведение: [ 36  90 162]\n",
      "Частное: [0.25 0.4  0.5 ]\n",
      "Умножение на число: [ 6 12 18]\n"
     ]
    }
   ],
   "source": [
    "a = np.array([3,6,9])\n",
    "b = np.array([12,15,18])\n",
    "\n",
    "result1 = a+b\n",
    "result2 = b-a\n",
    "result3 = a*b\n",
    "result4 = a/b\n",
    "result5 = a*2\n",
    "print(\n",
    "    'Сумма: {}\\nРазность: {}\\nПроизведение: '\n",
    "    '{}\\nЧастное: {}\\nУмножение на число: {}'\n",
    "    ''.format(\n",
    "        result1, result2, result3, result4, result5))\n"
   ],
   "metadata": {
    "collapsed": false,
    "pycharm": {
     "name": "#%%\n"
    }
   }
  },
  {
   "cell_type": "code",
   "execution_count": 290,
   "outputs": [
    {
     "data": {
      "text/plain": "array([[ 1,  6],\n       [ 2,  7],\n       [ 3,  8],\n       [ 4,  9],\n       [ 5, 10]])"
     },
     "execution_count": 290,
     "metadata": {},
     "output_type": "execute_result"
    }
   ],
   "source": [
    "\n",
    "my_array = np.array([[1,2,3,4,5], [6,7,8,9,10]])\n",
    "my_array.T\n"
   ],
   "metadata": {
    "collapsed": false,
    "pycharm": {
     "name": "#%%\n"
    }
   }
  },
  {
   "cell_type": "code",
   "execution_count": 291,
   "outputs": [
    {
     "data": {
      "text/plain": "array([7, 6, 4, 8, 9, 0, 6, 6, 7, 4, 4, 9, 9, 3, 8, 1, 1, 8, 5, 7])"
     },
     "metadata": {},
     "output_type": "display_data"
    },
    {
     "data": {
      "text/plain": "array([[7, 6, 4, 8, 9],\n       [0, 6, 6, 7, 4],\n       [4, 9, 9, 3, 8],\n       [1, 1, 8, 5, 7]])"
     },
     "execution_count": 291,
     "metadata": {},
     "output_type": "execute_result"
    }
   ],
   "source": [
    "my_array = np.random.randint(0, 10, 20)\n",
    "display(my_array)\n",
    "my_array.reshape((4,5))\n"
   ],
   "metadata": {
    "collapsed": false,
    "pycharm": {
     "name": "#%%\n"
    }
   }
  },
  {
   "cell_type": "code",
   "execution_count": 292,
   "outputs": [
    {
     "data": {
      "text/plain": "array([[  1,   2,   3],\n       [ 11,  22,  33],\n       [111, 222, 333]])"
     },
     "metadata": {},
     "output_type": "display_data"
    },
    {
     "data": {
      "text/plain": "array([  1,   2,   3,  11,  22,  33, 111, 222, 333])"
     },
     "execution_count": 292,
     "metadata": {},
     "output_type": "execute_result"
    }
   ],
   "source": [
    "my_array = np.array([[1,2,3], [11,22,33], [111,222,333]])\n",
    "display(my_array)\n",
    "my_array.flatten()\n",
    "\n"
   ],
   "metadata": {
    "collapsed": false,
    "pycharm": {
     "name": "#%%\n"
    }
   }
  },
  {
   "cell_type": "code",
   "execution_count": 293,
   "outputs": [
    {
     "data": {
      "text/plain": "array([[8, 1, 7, 1],\n       [5, 4, 1, 5],\n       [7, 0, 1, 5]])"
     },
     "metadata": {},
     "output_type": "display_data"
    },
    {
     "data": {
      "text/plain": "array([[False,  True, False,  True],\n       [False,  True,  True, False],\n       [False,  True,  True, False]])"
     },
     "metadata": {},
     "output_type": "display_data"
    },
    {
     "data": {
      "text/plain": "array([1, 1, 4, 1, 0, 1])"
     },
     "metadata": {},
     "output_type": "display_data"
    }
   ],
   "source": [
    "my_array = np.random.randint(0, 10, (3,4))\n",
    "display(\n",
    "    my_array,\n",
    "    my_array<5,\n",
    "    my_array[my_array<5],\n",
    ")\n"
   ],
   "metadata": {
    "collapsed": false,
    "pycharm": {
     "name": "#%%\n"
    }
   }
  },
  {
   "cell_type": "code",
   "execution_count": 294,
   "outputs": [
    {
     "data": {
      "text/plain": "array([ True, False,  True, False])"
     },
     "metadata": {},
     "output_type": "display_data"
    },
    {
     "data": {
      "text/plain": "array([[8, 1, 7, 1],\n       [5, 4, 1, 5],\n       [7, 0, 1, 5]])"
     },
     "metadata": {},
     "output_type": "display_data"
    },
    {
     "data": {
      "text/plain": "array([[8, 7],\n       [5, 1],\n       [7, 1]])"
     },
     "execution_count": 294,
     "metadata": {},
     "output_type": "execute_result"
    }
   ],
   "source": [
    "\n",
    "mask = np.array([1, 0, 1, 0], dtype=bool)\n",
    "display(mask, my_array)\n",
    "\n",
    "my_array[:, mask]\n",
    "\n"
   ],
   "metadata": {
    "collapsed": false,
    "pycharm": {
     "name": "#%%\n"
    }
   }
  },
  {
   "cell_type": "code",
   "execution_count": 295,
   "outputs": [
    {
     "data": {
      "text/plain": "array([[0, 8, 3, 8, 7, 4],\n       [9, 5, 3, 6, 9, 7],\n       [2, 2, 3, 8, 1, 1],\n       [3, 4, 1, 0, 5, 8]])"
     },
     "metadata": {},
     "output_type": "display_data"
    },
    {
     "data": {
      "text/plain": "array([[0, 3, 4, 7, 8, 8],\n       [3, 5, 6, 7, 9, 9],\n       [1, 1, 2, 2, 3, 8],\n       [0, 1, 3, 4, 5, 8]])"
     },
     "metadata": {},
     "output_type": "display_data"
    },
    {
     "data": {
      "text/plain": "array([[0, 2, 1, 0, 1, 1],\n       [2, 4, 3, 6, 5, 4],\n       [3, 5, 3, 8, 7, 7],\n       [9, 8, 3, 8, 9, 8]])"
     },
     "metadata": {},
     "output_type": "display_data"
    }
   ],
   "source": [
    "my_array = np.random.randint(0, 10, (4, 6))\n",
    "display(\n",
    "    my_array,\n",
    "    np.sort(my_array, axis=1),\n",
    "    np.sort(my_array, axis=0)\n",
    ")\n"
   ],
   "metadata": {
    "collapsed": false,
    "pycharm": {
     "name": "#%%\n"
    }
   }
  },
  {
   "cell_type": "code",
   "execution_count": 296,
   "outputs": [
    {
     "data": {
      "text/plain": "array([[ 0,  4, 66],\n       [ 1,  4, 40],\n       [ 1,  4, 67],\n       [ 1,  4, 40],\n       [ 2,  4, 68],\n       [ 2,  4, 40],\n       [ 2,  4, 68],\n       [ 2,  4, 41],\n       [ 2,  4, 69],\n       [ 3,  4, 41],\n       [ 3,  4, 70],\n       [ 3,  4, 42],\n       [ 3,  4, 70],\n       [ 3,  4, 42],\n       [ 3,  4, 71],\n       [ 3,  4, 42],\n       [ 4,  4, 72],\n       [ 4,  4, 43],\n       [ 4,  4, 72],\n       [ 4,  4, 43],\n       [ 4,  4, 73],\n       [ 4,  4, 44],\n       [ 4,  4, 74],\n       [ 4,  4, 44],\n       [ 4,  4, 74],\n       [ 5,  4, 44],\n       [ 5,  5, 75],\n       [ 5,  5, 45],\n       [ 5,  5, 76],\n       [ 5,  5, 45],\n       [ 5,  5, 76],\n       [ 5,  5, 46],\n       [ 5,  5, 77],\n       [ 5,  5, 46],\n       [ 5,  5, 78],\n       [ 5,  5, 46],\n       [ 6,  5, 78],\n       [ 6,  5, 47],\n       [ 6,  5, 79],\n       [ 6,  5, 47],\n       [ 6,  5, 80],\n       [ 6,  5, 48],\n       [ 6,  5, 80],\n       [ 6,  5, 48],\n       [ 6,  5, 81],\n       [ 6,  5, 48],\n       [ 6,  5, 82],\n       [ 6,  5, 49],\n       [ 6,  5, 82],\n       [ 7,  5, 49],\n       [ 7,  5, 83],\n       [ 7,  5, 50],\n       [ 7,  5, 84],\n       [ 7,  5, 50],\n       [ 7,  5, 84],\n       [ 7,  5, 50],\n       [ 7,  5, 85],\n       [ 7,  5, 51],\n       [ 7,  5, 86],\n       [ 7,  5, 51],\n       [ 7,  5, 86],\n       [ 7,  5, 52],\n       [ 7,  5, 87],\n       [ 7,  5, 52],\n       [ 8,  5, 88],\n       [ 8,  5, 52],\n       [ 8,  5, 88],\n       [ 8,  5, 53],\n       [ 8,  5, 89],\n       [ 8,  5, 53],\n       [ 8,  5, 90],\n       [ 8,  5, 54],\n       [ 8,  5, 90],\n       [ 8,  5, 54],\n       [ 8,  5, 91],\n       [ 8,  5, 54],\n       [ 8,  5, 92],\n       [ 8,  5, 55],\n       [ 8,  5, 92],\n       [ 8,  5, 55],\n       [ 8,  5, 93],\n       [ 9,  5, 56],\n       [ 9,  5, 94],\n       [ 9,  5, 56],\n       [ 9,  5, 94],\n       [ 9,  5, 56],\n       [ 9,  5, 95],\n       [ 9,  5, 57],\n       [ 9,  5, 96],\n       [ 9,  5, 57],\n       [ 9,  5, 96],\n       [ 9,  5, 58],\n       [ 9,  5, 97],\n       [ 9,  5, 58],\n       [ 9,  5, 98],\n       [ 9,  5, 58],\n       [ 9,  5, 98],\n       [ 9,  5, 59],\n       [ 9,  5, 99],\n       [ 9,  5, 59]])"
     },
     "execution_count": 296,
     "metadata": {},
     "output_type": "execute_result"
    }
   ],
   "source": [
    "first = [x**(1/2) for x in range(100)]\n",
    "second = [x**(1/3) for x in range(100, 200)]\n",
    "third = [x/y for x in range(200,300,2) for y in [3,5]]\n",
    "\n",
    "great_secret = np.array([first, second, third]).T\n",
    "great_secret.astype(int)\n"
   ],
   "metadata": {
    "collapsed": false,
    "pycharm": {
     "name": "#%%\n"
    }
   }
  },
  {
   "cell_type": "code",
   "execution_count": 297,
   "outputs": [
    {
     "data": {
      "text/plain": "(100, 3)"
     },
     "execution_count": 297,
     "metadata": {},
     "output_type": "execute_result"
    }
   ],
   "source": [
    "\n",
    "# Сколько столбцов содержит массив Грит секрет\n",
    "np.shape(great_secret)\n"
   ],
   "metadata": {
    "collapsed": false,
    "pycharm": {
     "name": "#%%\n"
    }
   }
  },
  {
   "cell_type": "code",
   "execution_count": 298,
   "outputs": [
    {
     "data": {
      "text/plain": "0.16"
     },
     "execution_count": 298,
     "metadata": {},
     "output_type": "execute_result"
    }
   ],
   "source": [
    "# Чему равна сумма косинус of элементов первой строке массива грудь секрет\n",
    "# ответ округлите до двух знаков после запитую\n",
    "\n",
    "round(np.sum(np.cos(great_secret[0, :])), 2)"
   ],
   "metadata": {
    "collapsed": false,
    "pycharm": {
     "name": "#%%\n"
    }
   }
  },
  {
   "cell_type": "code",
   "execution_count": 299,
   "outputs": [
    {
     "data": {
      "text/plain": "5470.0"
     },
     "execution_count": 299,
     "metadata": {},
     "output_type": "execute_result"
    }
   ],
   "source": [
    "\n",
    "# Чему равна сумма элементов массива Греция Крит, значение которых больше 50\n",
    "np.sum(great_secret[great_secret>50])\n"
   ],
   "metadata": {
    "collapsed": false,
    "pycharm": {
     "name": "#%%\n"
    }
   }
  },
  {
   "cell_type": "code",
   "execution_count": 300,
   "outputs": [],
   "source": [
    "# Переведите массив Греция Крит в одномерную форму.\n",
    "# Какое значение в получившимся массиве имеет элемент с индексом 150?\n",
    "# Скопируйте ответ из Jupiter ноутбук без изменений\n",
    "\n",
    "# great_secret.flatten()[150]\n"
   ],
   "metadata": {
    "collapsed": false,
    "pycharm": {
     "name": "#%%\n"
    }
   }
  },
  {
   "cell_type": "code",
   "execution_count": 323,
   "outputs": [
    {
     "data": {
      "text/plain": "115.12"
     },
     "execution_count": 323,
     "metadata": {},
     "output_type": "execute_result"
    }
   ],
   "source": [
    "\n",
    "# Отсортируйте значение столбцов массива крыть sacred по возрастанию. Чему равна сумма элементов последней строке\n",
    "# отсортированного массива? Ответ округлите до двух цифр после запитую.\n",
    "great_secret = np.array([first, second, third]).T\n",
    "round(np.sum(np.sort(great_secret, axis=0)[-1, :]), 2)\n"
   ],
   "metadata": {
    "collapsed": false,
    "pycharm": {
     "name": "#%%\n"
    }
   }
  },
  {
   "cell_type": "code",
   "execution_count": 326,
   "outputs": [
    {
     "data": {
      "text/plain": "array([[  1, 135,  34,   4],\n       [  2, 160,  43,   5],\n       [  3, 163,  40,   4],\n       [  4, 147,  44,   5],\n       [  5, 138,  41,   4],\n       [  6, 149,  54,   3],\n       [  7, 136,  39,   4],\n       [  8, 154,  48,   4],\n       [  9, 137,  35,   3],\n       [ 10, 165,  60,   4]])"
     },
     "execution_count": 326,
     "metadata": {},
     "output_type": "execute_result"
    }
   ],
   "source": [
    "students = np.array([\n",
    "    [1,135,34,4],\n",
    "    [2,160,43,5],\n",
    "    [3,163,40,4.3],\n",
    "    [4,147,44,5],\n",
    "    [5,138,41,4.7],\n",
    "    [6,149,54,3.9],\n",
    "    [7,136,39,4.2],\n",
    "    [8,154,48,4.9],\n",
    "    [9,137,35,3.7],\n",
    "    [10,165,60,4.6],\n",
    "])\n",
    "students.astype(int)"
   ],
   "metadata": {
    "collapsed": false,
    "pycharm": {
     "name": "#%%\n"
    }
   }
  },
  {
   "cell_type": "code",
   "execution_count": 327,
   "outputs": [
    {
     "data": {
      "text/plain": "4.430000000000001"
     },
     "execution_count": 327,
     "metadata": {},
     "output_type": "execute_result"
    }
   ],
   "source": [
    "\n",
    "mean = np.mean(students[:,-1])\n",
    "mean\n"
   ],
   "metadata": {
    "collapsed": false,
    "pycharm": {
     "name": "#%%\n"
    }
   }
  },
  {
   "cell_type": "code",
   "execution_count": 329,
   "outputs": [
    {
     "data": {
      "text/plain": "4.449999999999999"
     },
     "metadata": {},
     "output_type": "display_data"
    },
    {
     "data": {
      "text/plain": "4.449999999999999"
     },
     "execution_count": 329,
     "metadata": {},
     "output_type": "execute_result"
    }
   ],
   "source": [
    "median = np.median(students[:,-1])\n",
    "display(median)\n",
    "\n",
    "sort = np.sort(students[:,-1])\n",
    "(sort[4]+sort[5])/2\n"
   ],
   "metadata": {
    "collapsed": false,
    "pycharm": {
     "name": "#%%\n"
    }
   }
  },
  {
   "cell_type": "code",
   "execution_count": 331,
   "outputs": [
    {
     "data": {
      "text/plain": "42.0"
     },
     "execution_count": 331,
     "metadata": {},
     "output_type": "execute_result"
    }
   ],
   "source": [
    "# Чему равно медианное значение массы тела Школьников?\n",
    "\n",
    "np.median(students[:, 2])\n"
   ],
   "metadata": {
    "collapsed": false,
    "pycharm": {
     "name": "#%%\n"
    }
   }
  },
  {
   "cell_type": "code",
   "execution_count": 333,
   "outputs": [
    {
     "data": {
      "text/plain": "-1.8"
     },
     "execution_count": 333,
     "metadata": {},
     "output_type": "execute_result"
    }
   ],
   "source": [
    "# Насколько среднее арифметическое массы тела Школьников больше медианного значение для этого же показателя? Дайте\n",
    "# ответ в килограммах с точностью до одной десятой килограмма\n",
    "\n",
    "round(np.median(students[:, 2]) - np.mean(students[:, 2]), 1)\n"
   ],
   "metadata": {
    "collapsed": false,
    "pycharm": {
     "name": "#%%\n"
    }
   }
  },
  {
   "cell_type": "code",
   "execution_count": 334,
   "outputs": [
    {
     "data": {
      "text/plain": "array([[1.        , 0.64314431],\n       [0.64314431, 1.        ]])"
     },
     "execution_count": 334,
     "metadata": {},
     "output_type": "execute_result"
    }
   ],
   "source": [
    "\n",
    "corr = np.corrcoef(students[:, 1], students[:, 2])\n",
    "corr\n"
   ],
   "metadata": {
    "collapsed": false,
    "pycharm": {
     "name": "#%%\n"
    }
   }
  },
  {
   "cell_type": "code",
   "execution_count": 342,
   "outputs": [
    {
     "data": {
      "text/plain": "array([[1.        , 0.46293714],\n       [0.46293714, 1.        ]])"
     },
     "execution_count": 342,
     "metadata": {},
     "output_type": "execute_result"
    }
   ],
   "source": [
    "np.minimum(\n",
    "    np.corrcoef(students[:, 1], students[:, 2]),\n",
    "    np.corrcoef(students[:, 1], students[:, -1]),\n",
    "    np.corrcoef(students[:, 2], students[:, -1])\n",
    ")"
   ],
   "metadata": {
    "collapsed": false,
    "pycharm": {
     "name": "#%%\n"
    }
   }
  },
  {
   "cell_type": "code",
   "execution_count": 343,
   "outputs": [
    {
     "data": {
      "text/plain": "11.083320801997928"
     },
     "execution_count": 343,
     "metadata": {},
     "output_type": "execute_result"
    }
   ],
   "source": [
    "std = np.std(students[:,1])\n",
    "std"
   ],
   "metadata": {
    "collapsed": false,
    "pycharm": {
     "name": "#%%\n"
    }
   }
  },
  {
   "cell_type": "code",
   "execution_count": 344,
   "outputs": [
    {
     "data": {
      "text/plain": "0.4517742799230607"
     },
     "execution_count": 344,
     "metadata": {},
     "output_type": "execute_result"
    }
   ],
   "source": [
    "\n",
    "# Используя имеющиеся набор данных о школьниках найдите чему равно стандартно отклонение их средних баллов\n",
    "std = np.std(students[:,-1])\n",
    "std\n"
   ],
   "metadata": {
    "collapsed": false,
    "pycharm": {
     "name": "#%%\n"
    }
   }
  },
  {
   "cell_type": "code",
   "execution_count": 350,
   "outputs": [
    {
     "data": {
      "text/plain": "7.769169839822013"
     },
     "metadata": {},
     "output_type": "display_data"
    },
    {
     "data": {
      "text/plain": "60.36"
     },
     "execution_count": 350,
     "metadata": {},
     "output_type": "execute_result"
    }
   ],
   "source": [
    "# Посчитайте, чему равна дисперсия значений веса школьников.\n",
    "# Эту величину можно получить двумя способами:\n",
    "# математически - используя определение дисперсии и известную функцию в блоке,\n",
    "# или самостоятельно - используя подходящую функцию модуля NumPy.\n",
    "\n",
    "# Вариант 1\n",
    "std = np.std(students[:, 2])\n",
    "display(std)\n",
    "D = std ** 2\n",
    "D"
   ],
   "metadata": {
    "collapsed": false,
    "pycharm": {
     "name": "#%%\n"
    }
   }
  },
  {
   "cell_type": "code",
   "execution_count": 349,
   "outputs": [
    {
     "data": {
      "text/plain": "60.36"
     },
     "execution_count": 349,
     "metadata": {},
     "output_type": "execute_result"
    }
   ],
   "source": [
    "# Вариант 2\n",
    "np.var(students[:, 2])"
   ],
   "metadata": {
    "collapsed": false,
    "pycharm": {
     "name": "#%%\n"
    }
   }
  },
  {
   "cell_type": "code",
   "execution_count": 352,
   "outputs": [
    {
     "data": {
      "text/plain": "60.36"
     },
     "execution_count": 352,
     "metadata": {},
     "output_type": "execute_result"
    }
   ],
   "source": [
    "# Вариант 3\n",
    "mean = np.sum(students[:, 2]) / len(students[:, 2])\n",
    "var_res = (\n",
    "    sum(\n",
    "        [(xi - mean) ** 2 for xi in students[:, 2]]\n",
    "    ) / len(students[:, 2])\n",
    ")\n",
    "var_res\n"
   ],
   "metadata": {
    "collapsed": false,
    "pycharm": {
     "name": "#%%\n"
    }
   }
  },
  {
   "cell_type": "code",
   "execution_count": 354,
   "outputs": [
    {
     "data": {
      "text/plain": "array([[1, 1, 1, 1, 1],\n       [1, 1, 1, 1, 1],\n       [1, 1, 1, 1, 1],\n       [1, 1, 1, 1, 1],\n       [1, 1, 1, 1, 1],\n       [1, 1, 1, 1, 1],\n       [1, 1, 1, 1, 1],\n       [1, 1, 1, 1, 1],\n       [1, 1, 1, 1, 1],\n       [1, 1, 1, 1, 1]])"
     },
     "execution_count": 354,
     "metadata": {},
     "output_type": "execute_result"
    }
   ],
   "source": [
    "np.ones((5,10), dtype = int)\n",
    "np.full((10, 5), 1)\n"
   ],
   "metadata": {
    "collapsed": false,
    "pycharm": {
     "name": "#%%\n"
    }
   }
  },
  {
   "cell_type": "code",
   "execution_count": 358,
   "outputs": [
    {
     "data": {
      "text/plain": "array([[ 1,  2,  3,  4,  5],\n       [ 6,  7,  8,  9, 10],\n       [11, 12, 13, 14, 15],\n       [16, 17, 18, 19, 20],\n       [21, 22, 23, 24, 25]])"
     },
     "metadata": {},
     "output_type": "display_data"
    },
    {
     "data": {
      "text/plain": "array([[ 7,  8,  9],\n       [12, 13, 14],\n       [17, 18, 19]])"
     },
     "metadata": {},
     "output_type": "display_data"
    }
   ],
   "source": [
    "\n",
    "#Перед вами массив my_array, созданный с помощью кода выше. Напишите код, с помощью которого можно извлечь из него\n",
    "# центральный фрагмент размером 3 х 3, с числами 7, 8, 9, 12, 13, 14, 17, 18, 19.\n",
    "\n",
    "# Код должен содержать имя массива и набор индексов для получения нужного среза. В ответе использовать только\n",
    "# положительные значения индексов и введите ответ в одну строку без пробелов.\n",
    "\n",
    "my_array = np.array([[1,2,3,4,5],\n",
    "                     [6,7,8,9,10],\n",
    "                     [11,12,13,14,15],\n",
    "                     [16,17,18,19,20],\n",
    "                     [21,22,23,24,25]])\n",
    "\n",
    "display(my_array, my_array[1:4, 1:4])\n",
    "\n",
    "\n"
   ],
   "metadata": {
    "collapsed": false,
    "pycharm": {
     "name": "#%%\n"
    }
   }
  },
  {
   "cell_type": "code",
   "execution_count": 363,
   "outputs": [
    {
     "data": {
      "text/plain": "-0.058"
     },
     "execution_count": 363,
     "metadata": {},
     "output_type": "execute_result"
    }
   ],
   "source": [
    "# Создайте массив my_sin, состоящий из синусов элементов массива my_array. Посчитайте, чему равна сумма элементов\n",
    "# полученного массива. Ответ округлите до трёх цифр после запятой.\n",
    "\n",
    "my_sin = np.sin(my_array)\n",
    "round(np.sum(my_sin), 3)\n"
   ],
   "metadata": {
    "collapsed": false,
    "pycharm": {
     "name": "#%%\n"
    }
   }
  },
  {
   "cell_type": "code",
   "execution_count": 366,
   "outputs": [
    {
     "data": {
      "text/plain": "7.572"
     },
     "execution_count": 366,
     "metadata": {},
     "output_type": "execute_result"
    }
   ],
   "source": [
    "# Замените элементы в центральном фрагменте 3 х 3 массива my_sin на единицы.\n",
    "# Чему равна сумма элементов изменённого массива? Ответ округлите до трёх знаков после запятой.\n",
    "\n",
    "my_sin[1:4, 1:4] = 1\n",
    "round(np.sum(my_sin), 3)\n"
   ],
   "metadata": {
    "collapsed": false,
    "pycharm": {
     "name": "#%%\n"
    }
   }
  },
  {
   "cell_type": "code",
   "execution_count": 373,
   "outputs": [
    {
     "data": {
      "text/plain": "2.406"
     },
     "execution_count": 373,
     "metadata": {},
     "output_type": "execute_result"
    }
   ],
   "source": [
    "# Преобразуйте первые четыре столбца массива my_sin в массив из 10 строк и 2 столбцов. Чему равна сумма элементов\n",
    "# первого столбца получившегося массива? Ответ округлите до трёх заков после точки-разделителя. Используйте преобразованный в предыдущем задании массив my_sin.\n",
    "round(np.sum(np.reshape(my_sin[:, :4], (10, 2))[:, 0]), 3)\n"
   ],
   "metadata": {
    "collapsed": false,
    "pycharm": {
     "name": "#%%\n"
    }
   }
  },
  {
   "cell_type": "code",
   "execution_count": 384,
   "outputs": [
    {
     "data": {
      "text/plain": "array([ 10201,  10609,  11025,  11449,  11881,  12321,  12769,  13225,\n        13689,  14161,  14641,  15129,  15625,  16129,  16641,  17161,\n        17689,  18225,  18769,  19321,  19881,  20449,  21025,  21609,\n        22201,  22801,  23409,  24025,  24649,  25281,  25921,  26569,\n        27225,  27889,  28561,  29241,  29929,  30625,  31329,  32041,\n        32761,  33489,  34225,  34969,  35721,  36481,  37249,  38025,\n        38809,  39601,  40401,  41209,  42025,  42849,  43681,  44521,\n        45369,  46225,  47089,  47961,  48841,  49729,  50625,  51529,\n        52441,  53361,  54289,  55225,  56169,  57121,  58081,  59049,\n        60025,  61009,  62001,  63001,  64009,  65025,  66049,  67081,\n        68121,  69169,  70225,  71289,  72361,  73441,  74529,  75625,\n        76729,  77841,  78961,  80089,  81225,  82369,  83521,  84681,\n        85849,  87025,  88209,  89401,  90601,  91809,  93025,  94249,\n        95481,  96721,  97969,  99225, 100489, 101761, 103041, 104329,\n       105625, 106929, 108241, 109561, 110889, 112225, 113569, 114921,\n       116281, 117649, 119025, 120409, 121801, 123201, 124609, 126025,\n       127449, 128881, 130321, 131769, 133225, 134689, 136161, 137641,\n       139129, 140625, 142129, 143641, 145161, 146689, 148225, 149769,\n       151321, 152881, 154449, 156025, 157609, 159201, 160801, 162409,\n       164025, 165649, 167281, 168921, 170569, 172225, 173889, 175561,\n       177241, 178929, 180625, 182329, 184041, 185761, 187489, 189225,\n       190969, 192721, 194481, 196249, 198025, 199809, 201601, 203401,\n       205209, 207025, 208849, 210681, 212521, 214369, 216225, 218089,\n       219961, 221841, 223729, 225625, 227529, 229441, 231361, 233289,\n       235225, 237169, 239121, 241081, 243049, 245025, 247009, 249001,\n       251001, 253009, 255025, 257049, 259081, 261121, 263169, 265225,\n       267289, 269361, 271441, 273529, 275625, 277729, 279841, 281961,\n       284089, 286225, 288369, 290521, 292681, 294849, 297025, 299209,\n       301401, 303601, 305809, 308025, 310249, 312481, 314721, 316969,\n       319225, 321489, 323761, 326041, 328329, 330625, 332929, 335241,\n       337561, 339889, 342225, 344569, 346921, 349281, 351649, 354025,\n       356409, 358801, 361201, 363609, 366025, 368449, 370881, 373321,\n       375769, 378225, 380689, 383161, 385641, 388129, 390625, 393129,\n       395641, 398161, 400689, 403225, 405769, 408321, 410881, 413449,\n       416025, 418609, 421201, 423801, 426409, 429025, 431649, 434281,\n       436921, 439569, 442225, 444889, 447561, 450241, 452929, 455625,\n       458329, 461041, 463761, 466489, 469225, 471969, 474721, 477481,\n       480249, 483025, 485809, 488601, 491401, 494209, 497025, 499849,\n       502681, 505521, 508369, 511225, 514089, 516961, 519841, 522729,\n       525625, 528529, 531441, 534361, 537289, 540225, 543169, 546121,\n       549081, 552049, 555025, 558009, 561001, 564001, 567009, 570025,\n       573049, 576081, 579121, 582169, 585225, 588289, 591361, 594441,\n       597529, 600625, 603729, 606841, 609961, 613089, 616225, 619369,\n       622521, 625681, 628849, 632025, 635209, 638401, 641601, 644809,\n       648025, 651249, 654481, 657721, 660969, 664225, 667489, 670761,\n       674041, 677329, 680625, 683929, 687241, 690561, 693889, 697225,\n       700569, 703921, 707281, 710649, 714025, 717409, 720801, 724201,\n       727609, 731025, 734449, 737881, 741321, 744769, 748225, 751689,\n       755161, 758641, 762129, 765625, 769129, 772641, 776161, 779689,\n       783225, 786769, 790321, 793881, 797449, 801025, 804609, 808201,\n       811801, 815409, 819025, 822649, 826281, 829921, 833569, 837225,\n       840889, 844561, 848241, 851929, 855625, 859329, 863041, 866761,\n       870489, 874225, 877969, 881721, 885481, 889249, 893025, 896809,\n       900601, 904401, 908209, 912025, 915849, 919681, 923521, 927369,\n       931225, 935089, 938961, 942841, 946729, 950625, 954529, 958441,\n       962361, 966289, 970225, 974169, 978121, 982081, 986049, 990025,\n       994009, 998001])"
     },
     "execution_count": 384,
     "metadata": {},
     "output_type": "execute_result"
    }
   ],
   "source": [
    "# Создайте массив bigdata, содержащий квадраты всех нечётных чисел в диапазоне от 100 до 1000.\n",
    "bigdata = np.array([\n",
    "    x*x for x in range(100, 1000, 1)\n",
    "    if x%2\n",
    "])\n",
    "bigdata\n"
   ],
   "metadata": {
    "collapsed": false,
    "pycharm": {
     "name": "#%%\n"
    }
   }
  },
  {
   "cell_type": "code",
   "execution_count": 385,
   "outputs": [
    {
     "data": {
      "text/plain": "302501.0"
     },
     "execution_count": 385,
     "metadata": {},
     "output_type": "execute_result"
    }
   ],
   "source": [
    "# Чему равна медиана массива bigdata?\n",
    "np.median(bigdata)\n"
   ],
   "metadata": {
    "collapsed": false,
    "pycharm": {
     "name": "#%%\n"
    }
   }
  },
  {
   "cell_type": "code",
   "execution_count": 386,
   "outputs": [
    {
     "data": {
      "text/plain": "292095"
     },
     "execution_count": 386,
     "metadata": {},
     "output_type": "execute_result"
    }
   ],
   "source": [
    "# Чему равно стандартное отклонение для массива bigdata? Ответ округлите до целых:\n",
    "round(np.std(bigdata))\n"
   ],
   "metadata": {
    "collapsed": false,
    "pycharm": {
     "name": "#%%\n"
    }
   }
  },
  {
   "cell_type": "code",
   "execution_count": 388,
   "outputs": [
    {
     "data": {
      "text/plain": "array([[1.        , 0.99999973],\n       [0.99999973, 1.        ]])"
     },
     "execution_count": 388,
     "metadata": {},
     "output_type": "execute_result"
    }
   ],
   "source": [
    "# Чему равен коэффициент корреляции между элементами массива bigdata с чётными и нечётными индексами?\n",
    "# Введите полученный ответ без изменений и округлений.\n",
    "even_index = bigdata[::2]\n",
    "odd_index = bigdata[1::2]\n",
    "np.corrcoef(even_index, odd_index)\n",
    "\n"
   ],
   "metadata": {
    "collapsed": false,
    "pycharm": {
     "name": "#%%\n"
    }
   }
  },
  {
   "cell_type": "code",
   "execution_count": 373,
   "outputs": [],
   "source": [],
   "metadata": {
    "collapsed": false,
    "pycharm": {
     "name": "#%%\n"
    }
   }
  },
  {
   "cell_type": "code",
   "execution_count": null,
   "outputs": [],
   "source": [],
   "metadata": {
    "collapsed": false,
    "pycharm": {
     "name": "#%%\n"
    }
   }
  }
 ],
 "metadata": {
  "kernelspec": {
   "display_name": "Python 3",
   "language": "python",
   "name": "python3"
  },
  "language_info": {
   "codemirror_mode": {
    "name": "ipython",
    "version": 2
   },
   "file_extension": ".py",
   "mimetype": "text/x-python",
   "name": "python",
   "nbconvert_exporter": "python",
   "pygments_lexer": "ipython2",
   "version": "2.7.6"
  }
 },
 "nbformat": 4,
 "nbformat_minor": 0
}