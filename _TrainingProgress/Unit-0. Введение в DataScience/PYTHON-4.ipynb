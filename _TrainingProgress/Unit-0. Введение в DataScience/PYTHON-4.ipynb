{
 "cells": [
  {
   "cell_type": "code",
   "execution_count": null,
   "metadata": {},
   "outputs": [],
   "source": []
  },
  {
   "cell_type": "markdown",
   "metadata": {},
   "source": [
    "# PYTHON-4. Функции"
   ]
  },
  {
   "cell_type": "code",
   "execution_count": 57,
   "metadata": {
    "jupyter": {
     "outputs_hidden": false
    },
    "pycharm": {
     "name": "#%%\n"
    }
   },
   "outputs": [
    {
     "name": "stdout",
     "output_type": "stream",
     "text": [
      "3\n",
      "5.0\n",
      "29.5\n"
     ]
    }
   ],
   "source": [
    "def get_median(numbers):\n",
    "    sort_numbers = sorted(numbers)\n",
    "    len_numbers = len(numbers)\n",
    "\n",
    "    if len_numbers == 1:\n",
    "        return sort_numbers[0]\n",
    "    elif len_numbers == 0:\n",
    "        return 0\n",
    "    if len_numbers % 2 == 0:\n",
    "        half_sum = sort_numbers[len_numbers // 2] + sort_numbers[(len_numbers // 2) - 1 ]\n",
    "        median = half_sum / 2\n",
    "    else:\n",
    "        median = sort_numbers[len_numbers // 2]\n",
    "\n",
    "    return median\n",
    "\n",
    "print(get_median([5, 2, 1, 3, 4]))\n",
    "print(get_median([3, 3, 7, 9]))\n",
    "print(get_median([100, 3, 50, 9]))"
   ]
  },
  {
   "cell_type": "code",
   "execution_count": 63,
   "metadata": {
    "jupyter": {
     "outputs_hidden": false
    },
    "pycharm": {
     "name": "#%%\n"
    }
   },
   "outputs": [
    {
     "name": "stdout",
     "output_type": "stream",
     "text": [
      "3\n",
      "5\n",
      "29\n"
     ]
    }
   ],
   "source": []
  },
  {
   "cell_type": "code",
   "execution_count": 66,
   "metadata": {
    "jupyter": {
     "outputs_hidden": false
    },
    "pycharm": {
     "name": "#%%\n"
    }
   },
   "outputs": [
    {
     "name": "stdout",
     "output_type": "stream",
     "text": [
      "29.0\n"
     ]
    }
   ],
   "source": [
    "user_db = [{'orders': 12}, {'orders': 30}, {'orders': 45}]\n",
    "\n",
    "# перепишите эту часть\n",
    "\n",
    "def avg_orders(user_db):\n",
    "    order_sum = sum([user['orders'] for user in user_db])\n",
    "    orders_per_user = order_sum/len(user_db)\n",
    "    return orders_per_user\n",
    "\n",
    "print(avg_orders(user_db))"
   ]
  },
  {
   "cell_type": "code",
   "execution_count": 1,
   "metadata": {
    "jupyter": {
     "outputs_hidden": false
    },
    "pycharm": {
     "name": "#%%\n"
    }
   },
   "outputs": [
    {
     "name": "stdout",
     "output_type": "stream",
     "text": [
      "€1112.3\n"
     ]
    }
   ],
   "source": [
    "from  random import random\n",
    "\n",
    "# добавьте функцию get_euro_rate\n",
    "def get_euro_rate():\n",
    "    return random()\n",
    "\n",
    "# используйте get_euro_rate в следующей функции\n",
    "def to_euro(price):\n",
    "    exchange_rate =  get_euro_rate()\n",
    "    rounded = round(price/exchange_rate, 2)\n",
    "    return '€' + str(rounded)\n",
    "\n",
    "print(to_euro(1000))\n"
   ]
  },
  {
   "cell_type": "markdown",
   "metadata": {},
   "source": [
    "Определите функцию get_euro_rate, которая возвращает случайное число от 65 до 85. Перепишите to_euro из примера выше, чтобы вместо постоянного exchange_rate 70 она использовала get_euro_rate\n",
    "\n",
    "Для выполнения задания вам потребуется функция random() из модуля random, которая возвращает случайное число от 0 до 1\n",
    "\n",
    "\n",
    "```python\n",
    "from random import random\n",
    "print(random())\n",
    "# => 0.8594880558993951\n",
    "```"
   ]
  },
  {
   "cell_type": "code",
   "execution_count": 60,
   "metadata": {},
   "outputs": [
    {
     "name": "stdout",
     "output_type": "stream",
     "text": [
      "€1.3\n"
     ]
    }
   ],
   "source": [
    "from random import random\n",
    "\n",
    "# добавьте функцию get_euro_rate\n",
    "def get_euro_rate():\n",
    "    return random()*20+65\n",
    "\n",
    "# используйте get_euro_rate в следующей функции\n",
    "def to_euro(price):\n",
    "    exchange_rate =  get_euro_rate()\n",
    "    rounded = round(price/exchange_rate, 2)\n",
    "    return '€' + str(rounded)\n",
    "\n",
    "print(to_euro(100))"
   ]
  },
  {
   "cell_type": "markdown",
   "metadata": {},
   "source": [
    "#### Упражнение 2: Meany-map\n",
    "\n",
    "При анализе данных бывает полезно «подвинуть» числа так, чтобы среднее значение было нулевым: так удобнее анализировать их распределение.\n",
    "\n",
    "Напишите выражение c map, которое из каждого элемента values вычитает среднее значение mean. Результирующий список положите в переменную result."
   ]
  },
  {
   "cell_type": "code",
   "execution_count": 63,
   "metadata": {},
   "outputs": [
    {
     "name": "stdout",
     "output_type": "stream",
     "text": [
      "[-14, -10, -3, -2, 5, 24]\n"
     ]
    }
   ],
   "source": [
    "values = [4, 8, 15, 16, 23, 42]\n",
    "mean = 18\n",
    "\n",
    "result = list(map(lambda x: x - mean, values))\n",
    "\n",
    "print(result)"
   ]
  },
  {
   "cell_type": "markdown",
   "metadata": {},
   "source": [
    "Для заданных чисел values и среднего значения mean напишите такой filter, который оставляет только элементы больше среднего значения."
   ]
  },
  {
   "cell_type": "code",
   "execution_count": 66,
   "metadata": {},
   "outputs": [
    {
     "name": "stdout",
     "output_type": "stream",
     "text": [
      "[23, 42]\n"
     ]
    }
   ],
   "source": [
    "values = [4, 8, 15, 16, 23, 42]\n",
    "mean = 18\n",
    "\n",
    "result = list(filter(lambda x: x > mean, values))\n",
    "\n",
    "print(result)"
   ]
  },
  {
   "cell_type": "markdown",
   "metadata": {},
   "source": [
    "#### Fully normalized\n",
    "\n",
    "Если вы обратили внимание, в предыдущих частях модуля у вас было несколько заданий с функцией normalize. Нормализацию часто применяют в машинном обучении, приводят данные к виду, когда среднее значение равно 0, а стандартное отклонение — 1.\n",
    "\n",
    "Определите функцию normalize с тремя аргументами:\n",
    "\n",
    "numbers — список чисел;\n",
    "mean — число, необязательный аргумент, по умолчанию 0;\n",
    "std — число, необязательный аргумент, по умолчанию 1.\n",
    "Функция должна для каждого числа из numbers вычитать mean и полученный результат делить на std. На выходе ожидается список из этих новых чисел.\n",
    "normalize([10, 20])\n",
    "\n",
    "=> [10, 20]\n",
    "\n",
    "normalize([10, 20], std=2)\n",
    "\n",
    "=> [5, 10]\n",
    "\n",
    "normalize([10, 20], mean=15)\n",
    "\n",
    "=> [-5, 5]"
   ]
  },
  {
   "cell_type": "code",
   "execution_count": 79,
   "metadata": {},
   "outputs": [
    {
     "name": "stdout",
     "output_type": "stream",
     "text": [
      "[10, 20]\n",
      "[5, 10]\n",
      "[-5, 5]\n"
     ]
    }
   ],
   "source": [
    "def normalize(numbers, mean =0, std = 1):\n",
    "    result = list(map(lambda x: (x - mean)//std, numbers))\n",
    "\n",
    "    return result\n",
    "\n",
    "print(normalize([10, 20]))\n",
    "print(normalize([10, 20], std=2))\n",
    "print(normalize([10, 20], mean=15))"
   ]
  },
  {
   "cell_type": "markdown",
   "metadata": {},
   "source": [
    "#### Сумматор\n",
    "\n",
    "Теперь немного практики для закрепления. Определите функцию sum_args, которая суммирует все свои аргументы. Например, sum_args(10, 15, -4) должна возвращать 21"
   ]
  },
  {
   "cell_type": "code",
   "execution_count": 80,
   "metadata": {},
   "outputs": [
    {
     "name": "stdout",
     "output_type": "stream",
     "text": [
      "21\n"
     ]
    }
   ],
   "source": [
    "def sum_args(*args):\n",
    "    result = sum(x for x in args)\n",
    "\n",
    "    return result\n",
    "\n",
    "print(sum_args(10, 15, -4))"
   ]
  },
  {
   "cell_type": "markdown",
   "metadata": {},
   "source": [
    "#### Count letters\n",
    "\n",
    "Определите функцию count_letters(sentence, average), которая считает количество букв в строке без учёта пробелов. У функции должен быть необязательный булевый аргумент average, который по умолчанию равен False. Если он равен True, то функция должна возвращать количество букв в среднем на слово.\n",
    "\n",
    "```\n",
    "count_letters(\"Beep boop\") # => 8\n",
    "count_letters(\"Beep boop\", average=True) # => 4\n",
    "count_letters(\"I will build my own theme park\") # => 24\n",
    "count_letters(\"I will build my own theme park\", average=True) # => 3.429\n",
    "```\n",
    "\n",
    "Словом считается любая последовательность символов, отделённая пробелами или границами предложения. Cреднюю длину слова можно не округлять"
   ]
  },
  {
   "cell_type": "code",
   "execution_count": 84,
   "metadata": {},
   "outputs": [
    {
     "data": {
      "text/plain": [
       "4"
      ]
     },
     "execution_count": 84,
     "metadata": {},
     "output_type": "execute_result"
    }
   ],
   "source": [
    "def count_letters(sentence, average=False):\n",
    "    if average:\n",
    "        return len(sentence.replace(' ', '')) // 2\n",
    "    else:\n",
    "        return len(sentence.replace(' ', ''))\n",
    "\n",
    "# count_letters(\"Beep boop\")\n",
    "count_letters(\"Beep boop\", average=True)"
   ]
  },
  {
   "cell_type": "code",
   "execution_count": 96,
   "metadata": {},
   "outputs": [
    {
     "name": "stdout",
     "output_type": "stream",
     "text": [
      "'a'\n"
     ]
    }
   ],
   "source": [
    "from pprint import pprint\n",
    "\n",
    "\n",
    "words = [\"sofa\", \"suitcase\", \"valise\", \"picture\", \"basket\", \"carton\", \"doggie\"]\n",
    "# list(map(lambda w: sorted(w)[0], words))[5]\n",
    "# print(list(map(lambda w: sorted(w)[0], words)))\n",
    "\n",
    "pprint(list(map(lambda w: sorted(w)[0], words))[5])"
   ]
  },
  {
   "cell_type": "markdown",
   "metadata": {},
   "source": [
    "Напишите функцию always(n), которая возвращает функцию, которая в свою очередь возвращает n. Например,\n",
    "\n",
    "```python\n",
    "five = always(5)\n",
    "five() # должно вернуть 5\n",
    "\n",
    "```"
   ]
  },
  {
   "cell_type": "code",
   "execution_count": 99,
   "metadata": {},
   "outputs": [
    {
     "data": {
      "text/plain": [
       "5"
      ]
     },
     "execution_count": 99,
     "metadata": {},
     "output_type": "execute_result"
    }
   ],
   "source": [
    "def always(n):\n",
    "    def mapper():\n",
    "        return n\n",
    "    return mapper\n",
    "\n",
    "five = always(5)\n",
    "\n",
    "five()"
   ]
  },
  {
   "cell_type": "code",
   "execution_count": null,
   "metadata": {},
   "outputs": [],
   "source": []
  },
  {
   "cell_type": "code",
   "execution_count": null,
   "metadata": {},
   "outputs": [],
   "source": []
  }
 ],
 "metadata": {
  "kernelspec": {
   "display_name": "PyCharm (SkillFactory)",
   "language": "python",
   "name": "pycharm-654c38e"
  },
  "language_info": {
   "codemirror_mode": {
    "name": "ipython",
    "version": 3
   },
   "file_extension": ".py",
   "mimetype": "text/x-python",
   "name": "python",
   "nbconvert_exporter": "python",
   "pygments_lexer": "ipython3",
   "version": "3.8.5"
  }
 },
 "nbformat": 4,
 "nbformat_minor": 4
}