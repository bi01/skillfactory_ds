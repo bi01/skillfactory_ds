{
 "cells": [
  {
   "cell_type": "markdown",
   "metadata": {},
   "source": [
    "# Юнит 0. Введение в Data Science"
   ]
  },
  {
   "cell_type": "code",
   "execution_count": 7,
   "metadata": {},
   "outputs": [
    {
     "name": "stdout",
     "output_type": "stream",
     "text": [
      "Hello World!\n"
     ]
    }
   ],
   "source": [
    "print (\"Hello World!\")"
   ]
  },
  {
   "cell_type": "code",
   "execution_count": 61,
   "metadata": {},
   "outputs": [
    {
     "name": "stdout",
     "output_type": "stream",
     "text": [
      "Hello World!\n"
     ]
    }
   ],
   "source": [
    "print (\"Hello\", \"World!\")"
   ]
  },
  {
   "cell_type": "code",
   "execution_count": 3,
   "metadata": {},
   "outputs": [
    {
     "name": "stdout",
     "output_type": "stream",
     "text": [
      "HelloWorld!\n"
     ]
    }
   ],
   "source": [
    "print ('Hello' + 'World!')"
   ]
  },
  {
   "cell_type": "code",
   "execution_count": 4,
   "metadata": {},
   "outputs": [
    {
     "name": "stdout",
     "output_type": "stream",
     "text": [
      "20.0\n"
     ]
    }
   ],
   "source": [
    "x = ((67+33)/25) * (25-20)\n",
    "print(x)"
   ]
  },
  {
   "cell_type": "code",
   "execution_count": 5,
   "metadata": {},
   "outputs": [
    {
     "data": {
      "text/plain": [
       "17.414"
      ]
     },
     "execution_count": 5,
     "metadata": {},
     "output_type": "execute_result"
    }
   ],
   "source": [
    "round((4 + (5*60) - 17 + (65/4))**(1/2), 3)"
   ]
  },
  {
   "cell_type": "code",
   "execution_count": 6,
   "metadata": {
    "scrolled": false
   },
   "outputs": [
    {
     "data": {
      "text/plain": [
       "1916.731"
      ]
     },
     "execution_count": 6,
     "metadata": {},
     "output_type": "execute_result"
    }
   ],
   "source": [
    "round((6.996 + 45*((13/2)**2) + 2 * (18)**(1/2)), 3)"
   ]
  },
  {
   "cell_type": "code",
   "execution_count": 7,
   "metadata": {},
   "outputs": [
    {
     "data": {
      "text/plain": [
       "-0.391"
      ]
     },
     "execution_count": 7,
     "metadata": {},
     "output_type": "execute_result"
    }
   ],
   "source": [
    "round( (1267 - 20 * ((5**3/2)**2)) / ((8**5) * (36**(1/2))), 3)"
   ]
  },
  {
   "cell_type": "code",
   "execution_count": 8,
   "metadata": {},
   "outputs": [
    {
     "data": {
      "text/plain": [
       "-4251528.0"
      ]
     },
     "execution_count": 8,
     "metadata": {},
     "output_type": "execute_result"
    }
   ],
   "source": [
    "((((9**(1/2))**3)**2)**2) / ((-2)**(-3))"
   ]
  },
  {
   "cell_type": "markdown",
   "metadata": {},
   "source": [
    "\n",
    "# Задание 1\n",
    "\n",
    "0/1 point (graded)\n",
    "\n",
    "Напишите программу, которая просит пользователя ввести своё имя в переменную name, а затем выводит на экран фразу: \"Сегодня Вас зовут ...\", где вместо многоточия отображается имя пользователя. Вместо name = input() \n",
    "используйте name = 'Алексей' для проверки.\n",
    "\n",
    "**Пояснения:**\n",
    "\n",
    "Чтобы вывести строку в нужном формате, можно либо перечислять то, что нужно вывести на экран, внутри функции print(): print('Привет,', name), либо складывать строки, например: print('Привет, ' + name).\n",
    "\n",
    "Обратите внимание на использование пробелов в строке, которая будет выводиться на экран с помощью функции print(): между каждой парой слов должен быть только один пробел; в начале и в конце выводимой на экран строки пробелов быть не должно; перед запятой пробел не ставится, после — ставится один пробел."
   ]
  },
  {
   "cell_type": "code",
   "execution_count": 9,
   "metadata": {},
   "outputs": [
    {
     "name": "stdout",
     "output_type": "stream",
     "text": [
      "Сегодня Вас зовут Алексей\n"
     ]
    }
   ],
   "source": [
    "name = 'Алексей'\n",
    "print('Сегодня Вас зовут', name)"
   ]
  },
  {
   "cell_type": "code",
   "execution_count": 10,
   "metadata": {},
   "outputs": [
    {
     "name": "stdout",
     "output_type": "stream",
     "text": [
      "13\n"
     ]
    }
   ],
   "source": [
    "#word = input()\n",
    "word = 'Очаровательно'\n",
    "print(len(word))"
   ]
  },
  {
   "cell_type": "code",
   "execution_count": 11,
   "metadata": {},
   "outputs": [
    {
     "name": "stdout",
     "output_type": "stream",
     "text": [
      "2\n"
     ]
    }
   ],
   "source": [
    "#a = int(input())\n",
    "#b = int(input())\n",
    "\n",
    "a = 117\n",
    "b = 23\n",
    "\n",
    "print(a % b)"
   ]
  },
  {
   "cell_type": "code",
   "execution_count": 12,
   "metadata": {},
   "outputs": [
    {
     "name": "stdout",
     "output_type": "stream",
     "text": [
      "18.0\n",
      "17.213006207263156\n"
     ]
    }
   ],
   "source": [
    "a=12\n",
    "b=17\n",
    "c=25\n",
    "\n",
    "\n",
    "S = (a + b + c)/3\n",
    "print(S)\n",
    "\n",
    "S = (a * b * c)**(1/3)\n",
    "print(S)"
   ]
  },
  {
   "cell_type": "code",
   "execution_count": 13,
   "metadata": {},
   "outputs": [
    {
     "name": "stdout",
     "output_type": "stream",
     "text": [
      "37.62310047409742\n"
     ]
    }
   ],
   "source": [
    "from functools import reduce\n",
    "from typing import List\n",
    "\n",
    "\n",
    "def geometric_mean(items: List) -> int:\n",
    "    \"\"\"return geometic mean from all items of list\"\"\"\n",
    "    \n",
    "    # get product of numbers \n",
    "    product = reduce(lambda x, y: x * y,  items)\n",
    "    \n",
    "    # total of numbers\n",
    "    total = len(items)\n",
    "    \n",
    "    # get geometric mean\n",
    "    result = product**(1/total)\n",
    "\n",
    "    return result\n",
    "\n",
    "\n",
    "print(geometric_mean([x for x in range(1, 100)]))"
   ]
  },
  {
   "cell_type": "code",
   "execution_count": 14,
   "metadata": {},
   "outputs": [
    {
     "name": "stdout",
     "output_type": "stream",
     "text": [
      "113628013506.996\n"
     ]
    }
   ],
   "source": [
    "#x = float(input())\n",
    "\n",
    "x = 100500\n",
    "\n",
    "fx = 6.996 + (45 * ((x/2)**2)) + (2 * x) \n",
    "\n",
    "print(fx)"
   ]
  },
  {
   "cell_type": "code",
   "execution_count": 15,
   "metadata": {},
   "outputs": [
    {
     "name": "stdout",
     "output_type": "stream",
     "text": [
      "24.691358024691358\n"
     ]
    }
   ],
   "source": [
    "weight=80\n",
    "height = 1.8\n",
    "\n",
    "imt = weight / (height**2)\n",
    "print(imt)"
   ]
  },
  {
   "cell_type": "code",
   "execution_count": 16,
   "metadata": {},
   "outputs": [
    {
     "name": "stdout",
     "output_type": "stream",
     "text": [
      "5.2048278633942004\n"
     ]
    }
   ],
   "source": [
    "a = 270\n",
    "b = 12.8\n",
    "\n",
    "arifmetic_mean = (a + b) // 2\n",
    "result =  arifmetic_mean**(1/3)\n",
    "\n",
    "print(result)"
   ]
  },
  {
   "cell_type": "code",
   "execution_count": 17,
   "metadata": {},
   "outputs": [
    {
     "name": "stdout",
     "output_type": "stream",
     "text": [
      "Вы ввели число, которое при умножении на 3 даёт 69\n"
     ]
    }
   ],
   "source": [
    "a = 23\n",
    "print(f\"Вы ввели число, которое при умножении на 3 даёт {a * 3}\")"
   ]
  },
  {
   "cell_type": "code",
   "execution_count": 18,
   "metadata": {},
   "outputs": [
    {
     "name": "stdout",
     "output_type": "stream",
     "text": [
      "8.88748820522211\n"
     ]
    }
   ],
   "source": [
    "string_1 = 'Hello, world!'\n",
    "string_2 = 'Python <3'\n",
    "string_3 = 'qwerty'\n",
    "\n",
    "result = (len(string_1) * len(string_2) * len(string_3))**(1/3)\n",
    "\n",
    "print(result)"
   ]
  },
  {
   "cell_type": "code",
   "execution_count": 19,
   "metadata": {},
   "outputs": [
    {
     "name": "stdout",
     "output_type": "stream",
     "text": [
      "Привет! 7 16807\n"
     ]
    }
   ],
   "source": [
    "string = 'Привет!'\n",
    "power = 5\n",
    "\n",
    "print(string, len(string), len(string)**power)"
   ]
  },
  {
   "cell_type": "code",
   "execution_count": 20,
   "metadata": {},
   "outputs": [
    {
     "name": "stdout",
     "output_type": "stream",
     "text": [
      "Это слово длинное.\n"
     ]
    }
   ],
   "source": [
    "word = 'ОченьДлинноеСлово'\n",
    "\n",
    "print('Это слово длинное.' if len(word) >= 7 else 'Это слово короткое.')\n"
   ]
  },
  {
   "cell_type": "code",
   "execution_count": 10,
   "metadata": {},
   "outputs": [
    {
     "name": "stdout",
     "output_type": "stream",
     "text": [
      "Эх, это не очень редкое слово...\n"
     ]
    }
   ],
   "source": [
    "word = 'ОченьДлинноеСлово'\n",
    "print('Ого! Вы ввели редкое слово!' if 'ф' in word else 'Эх, это не очень редкое слово...')\n"
   ]
  },
  {
   "cell_type": "code",
   "execution_count": 22,
   "metadata": {},
   "outputs": [
    {
     "name": "stdout",
     "output_type": "stream",
     "text": [
      "Выбранная буква есть в введённом слове\n"
     ]
    }
   ],
   "source": [
    "word = 'ОченьДлинноеСлово'\n",
    "letter='и'\n",
    "\n",
    "print('Выбранная буква есть в введённом слове' \n",
    "      if letter in word else 'Выбранной буквы нет в введённом слове')\n"
   ]
  },
  {
   "cell_type": "code",
   "execution_count": 23,
   "metadata": {},
   "outputs": [
    {
     "name": "stdout",
     "output_type": "stream",
     "text": [
      "13\n"
     ]
    }
   ],
   "source": [
    "number = 169\n",
    "\n",
    "res = str(number ** 0.5).rsplit('.')\n",
    "\n",
    "if res[1] == '0':\n",
    "    print(res[0])\n",
    "else:\n",
    "     print(f\"Квадратный корень из {number} - не целое число\")"
   ]
  },
  {
   "cell_type": "code",
   "execution_count": 24,
   "metadata": {},
   "outputs": [
    {
     "name": "stdout",
     "output_type": "stream",
     "text": [
      "пятница\n"
     ]
    }
   ],
   "source": [
    "number = 5\n",
    "\n",
    "if number == 1:\n",
    "    print('понедельник')\n",
    "elif number == 2:\n",
    "    print('вторник')\n",
    "elif number == 3:\n",
    "    print('среда')\n",
    "elif number == 4:\n",
    "    print('четверг')\n",
    "elif number == 5:\n",
    "    print('пятница')\n",
    "elif number == 6:\n",
    "    print('суббота')\n",
    "elif number == 7:\n",
    "    print('воскресенье')\n",
    "else:\n",
    "    print('Такого дня недели нет')\n",
    "\n",
    "\n"
   ]
  },
  {
   "cell_type": "code",
   "execution_count": 25,
   "metadata": {},
   "outputs": [
    {
     "name": "stdout",
     "output_type": "stream",
     "text": [
      "Норма\n"
     ]
    }
   ],
   "source": [
    "weight = 80\n",
    "height=1.8\n",
    "\n",
    "imt = round(weight / height**2, 2)\n",
    "\n",
    "if 18.5 <= imt <= 24.99:\n",
    "    print('Норма')\n",
    "    \n",
    "elif  18.5 > imt:\n",
    "    print('Недостаточная масса тела')\n",
    "    \n",
    "elif  imt > 24.99:\n",
    "    print('Избыточная масса тела')\n",
    "    \n",
    "    \n",
    "    "
   ]
  },
  {
   "cell_type": "code",
   "execution_count": 26,
   "metadata": {},
   "outputs": [
    {
     "name": "stdout",
     "output_type": "stream",
     "text": [
      "хорошо\n"
     ]
    }
   ],
   "source": [
    "mark = 7\n",
    "\n",
    "if mark < 4:\n",
    "    print('неудовлетворительно')\n",
    "    \n",
    "elif 5 > mark >= 4:\n",
    "    print('удовлетворительно')\n",
    "    \n",
    "elif 7 >= mark >= 6:\n",
    "    print('хорошо')\n",
    "    \n",
    "elif mark >= 8 :\n",
    "    print('отлично')\n",
    "    "
   ]
  },
  {
   "cell_type": "code",
   "execution_count": 27,
   "metadata": {},
   "outputs": [
    {
     "name": "stdout",
     "output_type": "stream",
     "text": [
      "Придётся потерпеть!\n"
     ]
    }
   ],
   "source": [
    "balance = 455 \n",
    "\n",
    "if balance >= 5000:\n",
    "    print('Сегодня твой выбор - ресторан!')\n",
    "    \n",
    "if 2500 <= balance < 5000:\n",
    "    print('Эх, только фастфуд.')\n",
    "    \n",
    "if balance < 2500:\n",
    "    print('Придётся потерпеть!')\n",
    "    \n"
   ]
  },
  {
   "cell_type": "code",
   "execution_count": 28,
   "metadata": {},
   "outputs": [
    {
     "name": "stdout",
     "output_type": "stream",
     "text": [
      "Число делится на 2 без остатка.\n"
     ]
    }
   ],
   "source": [
    "number = 452\n",
    "\n",
    "\n",
    "\n",
    "if number % 2 == 0:\n",
    "    print('Число делится на 2 без остатка.')\n",
    "\n",
    "    \n",
    "elif number % 3 == 0:\n",
    "    print('Число делится на 3 без остатка.')\n",
    "\n",
    "elif number % 5 == 0:\n",
    "    print('Число делится на 5 без остатка.')\n",
    "\n",
    "else:\n",
    "    print(\"Число не делится ни на 2, ни на 3, ни на 5 без остатка!\")"
   ]
  },
  {
   "cell_type": "code",
   "execution_count": 29,
   "metadata": {},
   "outputs": [
    {
     "data": {
      "text/plain": [
       "False"
      ]
     },
     "execution_count": 29,
     "metadata": {},
     "output_type": "execute_result"
    }
   ],
   "source": [
    "a = True \n",
    "b = False\n",
    "a and b or not a and not b"
   ]
  },
  {
   "cell_type": "code",
   "execution_count": 30,
   "metadata": {},
   "outputs": [
    {
     "data": {
      "text/plain": [
       "False"
      ]
     },
     "execution_count": 30,
     "metadata": {},
     "output_type": "execute_result"
    }
   ],
   "source": [
    "5 < 3 or 6 > 7 or 4 > 9"
   ]
  },
  {
   "cell_type": "code",
   "execution_count": 31,
   "metadata": {},
   "outputs": [
    {
     "data": {
      "text/plain": [
       "False"
      ]
     },
     "execution_count": 31,
     "metadata": {},
     "output_type": "execute_result"
    }
   ],
   "source": [
    "False and True or 12<5**2 and \"Python\" > \"Ruby\""
   ]
  },
  {
   "cell_type": "code",
   "execution_count": 32,
   "metadata": {},
   "outputs": [
    {
     "data": {
      "text/plain": [
       "True"
      ]
     },
     "execution_count": 32,
     "metadata": {},
     "output_type": "execute_result"
    }
   ],
   "source": [
    "\"Android\" > \"Apple\" or \"Apple\" > \"Android\""
   ]
  },
  {
   "cell_type": "code",
   "execution_count": 33,
   "metadata": {},
   "outputs": [
    {
     "name": "stdout",
     "output_type": "stream",
     "text": [
      "Аня не фанат таких цветов\n"
     ]
    }
   ],
   "source": [
    "flower = 'роза'\n",
    "color = 'фиолетовый'\n",
    "\n",
    "if color in ('синий', 'белый') and flower == 'роза':\n",
    "    print('Ане понравятся эти цветы')\n",
    "else:\n",
    "    print('Аня не фанат таких цветов')\n"
   ]
  },
  {
   "cell_type": "code",
   "execution_count": 34,
   "metadata": {},
   "outputs": [
    {
     "name": "stdout",
     "output_type": "stream",
     "text": [
      "Попробуем поискать ещё...\n"
     ]
    }
   ],
   "source": [
    "height = 180 \n",
    "weight = 92 \n",
    "color = 'синий'\n",
    "\n",
    "if height >=170 and weight < 80 and color == 'красный':\n",
    "    print('Ваша половинка нашлась!')\n",
    "else: \n",
    "    print('Попробуем поискать ещё...')"
   ]
  },
  {
   "cell_type": "code",
   "execution_count": 35,
   "metadata": {},
   "outputs": [
    {
     "name": "stdout",
     "output_type": "stream",
     "text": [
      "Вова, это нужное число\n"
     ]
    }
   ],
   "source": [
    "number = 346\n",
    "\n",
    "if (number % 2 == 0 or\n",
    "    number % 5 == 0 or \n",
    "    number % 173 == 0 or\n",
    "    number % 821 == 0):\n",
    "    print('Вова, это нужное число')\n",
    "else: \n",
    "    print('Вова, в этот раз ты не попал')\n"
   ]
  },
  {
   "cell_type": "code",
   "execution_count": 36,
   "metadata": {},
   "outputs": [
    {
     "name": "stdout",
     "output_type": "stream",
     "text": [
      "Вова, это нужное число\n"
     ]
    }
   ],
   "source": [
    "number = 346 \n",
    "\n",
    "print('Вова, это нужное число'\n",
    "      if any(filter(lambda x: number % x == 0, (2,5,173,821)))\n",
    "      else 'Вова, в этот раз ты не попал')"
   ]
  },
  {
   "cell_type": "code",
   "execution_count": 37,
   "metadata": {},
   "outputs": [
    {
     "name": "stdout",
     "output_type": "stream",
     "text": [
      "Python\n"
     ]
    }
   ],
   "source": [
    "fav_word = 'Аппликация'\n",
    "\n",
    "# if (fav_word == 'рептилия' or fav_word == 'питон' or fav_word == 'змея'):\n",
    "#     print('Python')\n",
    "\n",
    "if (fav_word == 'плюс' or fav_word == 'плюсы'):\n",
    "    print('С++')\n",
    "\n",
    "elif (fav_word == 'рубин' or fav_word == 'кристалл'):\n",
    "    print('Ruby')\n",
    "    \n",
    "else:\n",
    "    print('Python')"
   ]
  },
  {
   "cell_type": "code",
   "execution_count": 38,
   "metadata": {},
   "outputs": [
    {
     "name": "stdout",
     "output_type": "stream",
     "text": [
      "Преподаватель занят.\n"
     ]
    }
   ],
   "source": [
    "hour = 18 \n",
    "minute = 47 \n",
    "\n",
    "\n",
    "if (  \n",
    "    ( # c 10.30 до 12.00\n",
    "        ((30 <= minute <= 59) and hour == 10) or \n",
    "        (0 <= minute <= 59) and hour == 11)\n",
    "    or \n",
    "\n",
    "    ( # c 13.40 до 15.00\n",
    "        ((40 <= minute <= 59) and hour == 13) or \n",
    "        (0 <= minute <= 59) and hour == 14) \n",
    "    or \n",
    "    \n",
    "    ( # c 18.00 до 19.30\n",
    "        ((0 <= minute <= 59) and hour == 18) or \n",
    "        (0 <= minute <= 30) and hour == 19) \n",
    "):\n",
    "    print('Преподаватель занят.')\n",
    "else:\n",
    "    print('Преподаватель свободен.')\n",
    "\n"
   ]
  },
  {
   "cell_type": "markdown",
   "metadata": {},
   "source": [
    "# fibonacci without recursion "
   ]
  },
  {
   "cell_type": "code",
   "execution_count": 39,
   "metadata": {},
   "outputs": [
    {
     "name": "stdout",
     "output_type": "stream",
     "text": [
      "1 => 1\n",
      "2 => 1\n"
     ]
    }
   ],
   "source": [
    "f = None\n",
    "f1, f2 = 1, 1\n",
    "n = int(input('n = '))\n",
    "print('1 =>', f1)\n",
    "print('2 =>', f2)\n",
    "for j in range(3, n + 1):\n",
    "    f  = f1 + f2\n",
    "    f1, f2 = f2, f\n",
    "    print(j, '=>', f)"
   ]
  },
  {
   "cell_type": "code",
   "execution_count": 40,
   "metadata": {},
   "outputs": [
    {
     "name": "stdout",
     "output_type": "stream",
     "text": [
      "п\n",
      "д\n",
      "и\n",
      "н\n",
      "к\n",
      "\n"
     ]
    }
   ],
   "source": [
    "# word = 'python'\n",
    "# print(''.join(x[1] for x in  enumerate(word, start=1) if x[0] % 2 == 1))\n",
    "\n",
    "\n",
    "word = 'подшипник'\n",
    "\n",
    "res = ''\n",
    "for i in enumerate(word, start = 1):\n",
    "    if i[0] % 2 == 1:\n",
    "        print(i[1])\n",
    "\n",
    "print(res)"
   ]
  },
  {
   "cell_type": "code",
   "execution_count": 41,
   "metadata": {},
   "outputs": [
    {
     "name": "stdout",
     "output_type": "stream",
     "text": [
      "2013 год невисокосный\n",
      "2014 год невисокосный\n",
      "2015 год невисокосный\n",
      "2016 год високосный\n",
      "2017 год невисокосный\n",
      "2018 год невисокосный\n",
      "2019 год невисокосный\n",
      "2020 год високосный\n"
     ]
    }
   ],
   "source": [
    "year_1 = 2013\n",
    "year_2 = 2020\n",
    "\n",
    "for y in range(year_1, year_2+1):\n",
    "    if y % 4 == 0:\n",
    "        print(y, 'год високосный')\n",
    "    else:\n",
    "        print(y, 'год невисокосный')"
   ]
  },
  {
   "cell_type": "code",
   "execution_count": 42,
   "metadata": {},
   "outputs": [
    {
     "name": "stdout",
     "output_type": "stream",
     "text": [
      "и\n",
      "у\n",
      "а\n",
      "и\n",
      "а\n"
     ]
    }
   ],
   "source": [
    "word = 'Зимушка-зима'\n",
    "\n",
    "for c in word:\n",
    "    if c in (\"о\",  \"а\", \"и\", \"е\", \"у\", \"й\", \"ы\", \"э\", \"ё\", \"я\", \"ю\"):\n",
    "        print(c)"
   ]
  },
  {
   "cell_type": "code",
   "execution_count": 43,
   "metadata": {},
   "outputs": [
    {
     "name": "stdout",
     "output_type": "stream",
     "text": [
      "Буква 1 в этом имени - С\n",
      "Буква 2 в этом имени - е\n",
      "Буква 3 в этом имени - р\n",
      "Буква 4 в этом имени - г\n",
      "Буква 5 в этом имени - е\n",
      "Буква 6 в этом имени - й\n"
     ]
    }
   ],
   "source": [
    "name = 'Сергей'\n",
    "\n",
    "for position, char in enumerate(name, start = 1):\n",
    "    print('Буква', position, 'в этом имени -', char)"
   ]
  },
  {
   "cell_type": "code",
   "execution_count": 44,
   "metadata": {},
   "outputs": [
    {
     "name": "stdout",
     "output_type": "stream",
     "text": [
      "25\n",
      "27\n",
      "33\n",
      "35\n",
      "39\n",
      "45\n"
     ]
    }
   ],
   "source": [
    "num_1 = 25\n",
    "num_2 = 45\n",
    "\n",
    "if num_1 < 0 or num_2 < num_1:\n",
    "    print(\"Введён неверный диапазон чисел\")\n",
    "    exit(1)\n",
    "\n",
    "for n in range(num_1, num_2 + 1):\n",
    "    if (n % 2 == 1) and (n % 3 == 0 or n % 5 == 0):\n",
    "        print(n)\n",
    " \n",
    "\n",
    "# print(' '.join(\n",
    "#     str(x) for x in range(num_1, num_2 + 1)\n",
    "#     if (x % 2 == 1) and (x % 3 == 0 or x % 5 == 0)\n",
    "# ))"
   ]
  },
  {
   "cell_type": "code",
   "execution_count": 45,
   "metadata": {},
   "outputs": [
    {
     "name": "stdout",
     "output_type": "stream",
     "text": [
      "1 1 1\n",
      "2 4 8\n",
      "3 9 27\n",
      "4 16 64\n",
      "5 25 125\n",
      "6 36 216\n",
      "7 49 343\n",
      "8 64 512\n",
      "9 81 729\n",
      "10 100 1000\n"
     ]
    }
   ],
   "source": [
    "for n in range(1,11):\n",
    "    print(n, n**2, n**3)"
   ]
  },
  {
   "cell_type": "code",
   "execution_count": 46,
   "metadata": {},
   "outputs": [
    {
     "name": "stdout",
     "output_type": "stream",
     "text": [
      "1\n",
      "2\n",
      "3\n",
      "4\n",
      "6\n",
      "7\n",
      "12\n",
      "14\n",
      "21\n",
      "28\n",
      "42\n",
      "84\n"
     ]
    }
   ],
   "source": [
    "number = 84\n",
    "\n",
    "for n in range(1, number + 1):\n",
    "    if number % n == 0:\n",
    "        print(n)"
   ]
  },
  {
   "cell_type": "code",
   "execution_count": 47,
   "metadata": {},
   "outputs": [
    {
     "name": "stdout",
     "output_type": "stream",
     "text": [
      "2\n",
      "5\n",
      "10\n"
     ]
    }
   ],
   "source": [
    "num_1 = 10\n",
    "num_2 = 100\n",
    "\n",
    "min_number = min(num_1, num_2)\n",
    "max_number = max(num_1, num_2)\n",
    "\n",
    "for n in range(2, min_number + 1):\n",
    "    if (min_number % n == 0) and (max_number % n == 0):\n",
    "        print(n)"
   ]
  },
  {
   "cell_type": "code",
   "execution_count": 48,
   "metadata": {},
   "outputs": [
    {
     "name": "stdout",
     "output_type": "stream",
     "text": [
      "55\n"
     ]
    }
   ],
   "source": [
    "n = 10 \n",
    "\n",
    "f1, f2 = 1, 1\n",
    "# print(f1)\n",
    "# print(f2)\n",
    "\n",
    "for n in range(3, n+1):\n",
    "    sum_f = f1 + f2\n",
    "#     print(sum_f)\n",
    "    f1, f2 = f2, sum_f\n",
    "\n",
    "print(sum_f)"
   ]
  },
  {
   "cell_type": "code",
   "execution_count": 49,
   "metadata": {},
   "outputs": [
    {
     "name": "stdout",
     "output_type": "stream",
     "text": [
      "15 X 1 = 15\n",
      "15 X 2 = 30\n",
      "15 X 3 = 45\n",
      "15 X 4 = 60\n",
      "15 X 5 = 75\n",
      "15 X 6 = 90\n",
      "15 X 7 = 105\n",
      "15 X 8 = 120\n",
      "15 X 9 = 135\n",
      "15 X 10 = 150\n"
     ]
    }
   ],
   "source": [
    "number = 15\n",
    "\n",
    "for m in range(1, 11):\n",
    "    print(number, 'X', m, '=', number * m)\n",
    "\n"
   ]
  },
  {
   "cell_type": "code",
   "execution_count": 50,
   "metadata": {},
   "outputs": [
    {
     "name": "stdout",
     "output_type": "stream",
     "text": [
      "4\n"
     ]
    }
   ],
   "source": [
    "num_1 = 1812\n",
    "num_2 = 2500\n",
    "\n",
    "min_number = min(num_1, num_2)\n",
    "max_number = max(num_1, num_2)\n",
    "\n",
    "for n in range(min_number, 1, -1):\n",
    "    if (min_number % n == 0) and (max_number % n == 0):\n",
    "        print(n)\n",
    "        break\n",
    "else:\n",
    "    print('Общих делителей не найдено')\n"
   ]
  },
  {
   "cell_type": "code",
   "execution_count": 51,
   "metadata": {},
   "outputs": [
    {
     "name": "stdout",
     "output_type": "stream",
     "text": [
      "стркция"
     ]
    }
   ],
   "source": [
    "string = 'абстракция'\n",
    "\n",
    "for c in string:\n",
    "    if c in ('а', 'б', 'в'):\n",
    "        continue\n",
    "    else:\n",
    "        print(c, end='')\n"
   ]
  },
  {
   "cell_type": "code",
   "execution_count": 52,
   "metadata": {},
   "outputs": [
    {
     "name": "stdout",
     "output_type": "stream",
     "text": [
      "Увы, это неправильный ответ\n",
      "Увы, это неправильный ответ\n",
      "Увы, это неправильный ответ\n",
      "Увы, это неправильный ответ\n",
      "Увы, это неправильный ответ\n",
      "Это безнадёжно!\n"
     ]
    }
   ],
   "source": [
    "string = 'Нет'\n",
    "\n",
    "for _ in range( 5):\n",
    "    #    string = input('Любите ли вы Python?\\n')\n",
    "\n",
    "    if string == 'Нет':\n",
    "        print('Увы, это неправильный ответ')\n",
    "    elif string == 'Да':\n",
    "        print('Это отлично!')\n",
    "        break\n",
    "else:\n",
    "    print('Это безнадёжно!')\n",
    "\n"
   ]
  },
  {
   "cell_type": "code",
   "execution_count": 53,
   "metadata": {},
   "outputs": [
    {
     "name": "stdout",
     "output_type": "stream",
     "text": [
      "Простое\n"
     ]
    }
   ],
   "source": [
    "number = 173 \n",
    "\n",
    "for x in range(2, number):\n",
    "    if number % x == 0:\n",
    "        print('Не является простым')\n",
    "        break\n",
    "else:\n",
    "    print('Простое')\n"
   ]
  },
  {
   "cell_type": "code",
   "execution_count": 54,
   "metadata": {},
   "outputs": [
    {
     "name": "stdout",
     "output_type": "stream",
     "text": [
      "Строка мне не нравится!\n"
     ]
    }
   ],
   "source": [
    "string = 'прелестная строка'\n",
    "    \n",
    "for p, c in enumerate(string):\n",
    "    if (p % 2 == 0 and \n",
    "        c in (\"о\", \"а\", \"и\", \"е\", \"у\", \"й\", \"ы\", \"э\", \"ё\", \"я\", \"ю\")\n",
    "       ):\n",
    "        print('Строка мне не нравится!')\n",
    "        break\n",
    "else:\n",
    "    print('Какая хорошая строка!')\n",
    "    "
   ]
  },
  {
   "cell_type": "code",
   "execution_count": 55,
   "metadata": {},
   "outputs": [
    {
     "name": "stdout",
     "output_type": "stream",
     "text": [
      "19\n"
     ]
    }
   ],
   "source": [
    "Y = 170000\n",
    "Z = 1000000\n",
    "\n",
    "procent_rate = 10\n",
    "\n",
    "counter_year = 0\n",
    "while Y <= Z:\n",
    "    counter_year += 1\n",
    "    year_margin = Y * procent_rate/100\n",
    "    Y += year_margin\n",
    "#     print(counter_year, round(Y,2))\n",
    "else:\n",
    "    print(counter_year)"
   ]
  },
  {
   "cell_type": "code",
   "execution_count": 14,
   "metadata": {},
   "outputs": [
    {
     "name": "stdout",
     "output_type": "stream",
     "text": [
      "Перевес 62 кг\n"
     ]
    }
   ],
   "source": [
    "weight = 77\n",
    "\n",
    "limit_weight = 400\n",
    "current_weight = 0 \n",
    "\n",
    "while current_weight < limit_weight:\n",
    "    current_weight += weight\n",
    "else:\n",
    "    print('Перевес', current_weight - limit_weight, 'кг')\n"
   ]
  },
  {
   "cell_type": "code",
   "execution_count": 57,
   "metadata": {},
   "outputs": [
    {
     "name": "stdout",
     "output_type": "stream",
     "text": [
      "7\n"
     ]
    }
   ],
   "source": [
    "current_health = 500 \n",
    "attack = 80 \n",
    "seconds = 0\n",
    "\n",
    "while current_health > 0:\n",
    "    seconds += 1\n",
    "    current_health -= attack\n",
    "else:\n",
    "    print(seconds)\n",
    "\n",
    "\n"
   ]
  },
  {
   "cell_type": "code",
   "execution_count": 2,
   "metadata": {},
   "outputs": [
    {
     "name": "stdout",
     "output_type": "stream",
     "text": [
      "10000\n",
      "7200\n",
      "4400\n",
      "1600\n",
      "Слишком большие расходы\n"
     ]
    }
   ],
   "source": [
    "spent = 2800\n",
    "balance = 10000\n",
    "\n",
    "while balance > 0:\n",
    "    print(balance)\n",
    "    balance -= spent\n",
    "else:\n",
    "    print('Слишком большие расходы')"
   ]
  },
  {
   "cell_type": "code",
   "execution_count": 59,
   "metadata": {},
   "outputs": [
    {
     "name": "stdout",
     "output_type": "stream",
     "text": [
      "20\n"
     ]
    }
   ],
   "source": [
    "counter = 0\n",
    "volume = 0\n",
    "current_volume = 0\n",
    "total_volume = 1000\n",
    "\n",
    "while current_volume <= total_volume:\n",
    "    volume += 5\n",
    "    current_volume += volume\n",
    "    counter +=1\n",
    "    \n",
    "else:\n",
    "    print(counter)\n"
   ]
  },
  {
   "cell_type": "code",
   "execution_count": null,
   "metadata": {
    "pycharm": {
     "is_executing": true
    }
   },
   "outputs": [],
   "source": [
    "counter = 0\n",
    "volume = 1000\n",
    "robot_volume = 0\n",
    "\n",
    "while volume > 0:\n",
    "    robot_volume += 5\n",
    "    volume -= robot_volume\n",
    "    counter +=1\n",
    "else:\n",
    "    print(counter)"
   ]
  }
 ],
 "metadata": {
  "kernelspec": {
   "display_name": "PyCharm (SkillFactory)",
   "language": "python",
   "name": "pycharm-654c38e"
  },
  "language_info": {
   "codemirror_mode": {
    "name": "ipython",
    "version": 3
   },
   "file_extension": ".py",
   "mimetype": "text/x-python",
   "name": "python",
   "nbconvert_exporter": "python",
   "pygments_lexer": "ipython3",
   "version": "3.8.5"
  }
 },
 "nbformat": 4,
 "nbformat_minor": 4
}