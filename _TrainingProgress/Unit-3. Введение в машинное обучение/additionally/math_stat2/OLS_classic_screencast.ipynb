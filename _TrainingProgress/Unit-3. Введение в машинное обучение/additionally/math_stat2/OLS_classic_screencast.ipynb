{
  "nbformat": 4,
  "nbformat_minor": 0,
  "metadata": {
    "kernelspec": {
      "display_name": "Python 3",
      "language": "python",
      "name": "python3"
    },
    "language_info": {
      "codemirror_mode": {
        "name": "ipython",
        "version": 3
      },
      "file_extension": ".py",
      "mimetype": "text/x-python",
      "name": "python",
      "nbconvert_exporter": "python",
      "pygments_lexer": "ipython3",
      "version": "3.7.3"
    },
    "colab": {
      "name": "OLS_classic_screencast.ipynb",
      "provenance": []
    }
  },
  "cells": [
    {
      "cell_type": "code",
      "metadata": {
        "id": "OBP-JbR-s00X",
        "colab_type": "code",
        "colab": {}
      },
      "source": [
        "# Загрузка библиотек\n",
        "import numpy as np # для работы с массивами\n",
        "import pandas as pd # для работы с DataFrame \n",
        "from sklearn import datasets # для импорта данных\n",
        "import seaborn as sns # библиотека для визуализации статистических данных\n",
        "import matplotlib.pyplot as plt # для построения графиков\n",
        "\n",
        "%matplotlib inline\n"
      ],
      "execution_count": 0,
      "outputs": []
    },
    {
      "cell_type": "code",
      "metadata": {
        "id": "kXAjM2H6s01j",
        "colab_type": "code",
        "colab": {}
      },
      "source": [
        "# загружаем датасет\n",
        "boston = datasets.load_boston()\n",
        "bostonDF=pd.DataFrame(boston.data, columns=boston.feature_names)\n",
        "bostonDF['PRICE']=boston.target\n",
        "bostonDF.head()"
      ],
      "execution_count": 0,
      "outputs": []
    },
    {
      "cell_type": "code",
      "metadata": {
        "scrolled": true,
        "id": "vF0xrPYhs03O",
        "colab_type": "code",
        "colab": {}
      },
      "source": [
        "# CRIM: Per capita crime rate by town\n",
        "# ZN: Proportion of residential land zoned for lots over 25,000 sq. ft\n",
        "# INDUS: Proportion of non-retail business acres per town\n",
        "# CHAS: Charles River dummy variable (= 1 if tract bounds river; 0 otherwise)\n",
        "# NOX: Nitric oxide concentration (parts per 10 million)\n",
        "# RM: Average number of rooms per dwelling\n",
        "# AGE: Proportion of owner-occupied units built prior to 1940\n",
        "# DIS: Weighted distances to five Boston employment centers\n",
        "# RAD: Index of accessibility to radial highways\n",
        "# TAX: Full-value property tax rate per $10,000\n",
        "# PTRATIO: Pupil-teacher ratio by town\n",
        "# B: 1000(Bk — 0.63)², where Bk is the proportion of [people of African American descent] by town\n",
        "# LSTAT: Percentage of lower status of the population\n",
        "# MEDV: Median value of owner-occupied homes in $1000s"
      ],
      "execution_count": 0,
      "outputs": []
    },
    {
      "cell_type": "code",
      "metadata": {
        "id": "q1DRX1Pms038",
        "colab_type": "code",
        "colab": {}
      },
      "source": [
        "# Хотим узнать, как обращаться к столбцам bostonDF\n",
        "bostonDF.columns"
      ],
      "execution_count": 0,
      "outputs": []
    },
    {
      "cell_type": "code",
      "metadata": {
        "id": "pVuzLNwNs04z",
        "colab_type": "code",
        "colab": {}
      },
      "source": [
        "# полная матрица корреляций\n",
        "# используем метод Pandas corr()\n",
        "C = bostonDF.corr(method='pearson')\n",
        "C"
      ],
      "execution_count": 0,
      "outputs": []
    },
    {
      "cell_type": "code",
      "metadata": {
        "id": "V_KsJ0SEs05-",
        "colab_type": "code",
        "colab": {}
      },
      "source": [
        "# представим корреляционную матрицу в виде \"тепловой карты\" с помощью функции heatmap из библиотеки seaborn\n",
        "plt.figure(figsize=(16,6)) # размер графика\n",
        "sns.heatmap(data=C, annot=True)"
      ],
      "execution_count": 0,
      "outputs": []
    },
    {
      "cell_type": "markdown",
      "metadata": {
        "collapsed": true,
        "id": "aRf3F6IHs06W",
        "colab_type": "text"
      },
      "source": [
        "Строим регрессию из видео"
      ]
    },
    {
      "cell_type": "code",
      "metadata": {
        "id": "nZLeejsBs07z",
        "colab_type": "code",
        "colab": {}
      },
      "source": [
        "Data=bostonDF[['CRIM','RM']]\n",
        "Data.head()"
      ],
      "execution_count": 0,
      "outputs": []
    },
    {
      "cell_type": "code",
      "metadata": {
        "id": "hlQK1ow9s08Q",
        "colab_type": "code",
        "colab": {}
      },
      "source": [
        "np.shape(Data)"
      ],
      "execution_count": 0,
      "outputs": []
    },
    {
      "cell_type": "code",
      "metadata": {
        "id": "YZjdiyfbs09r",
        "colab_type": "code",
        "colab": {}
      },
      "source": [
        "# Создаем вектор из единиц для коэффициента w_0 и записываем все векторы в СТОЛБЦЫ матрицы признаков А\n",
        "CRIM=Data['CRIM']\n",
        "RM= Data['RM']\n",
        "A= np.column_stack((np.ones(506), CRIM, RM))\n",
        "A"
      ],
      "execution_count": 0,
      "outputs": []
    },
    {
      "cell_type": "code",
      "metadata": {
        "id": "0YAVjH_Os0-C",
        "colab_type": "code",
        "colab": {}
      },
      "source": [
        "# Добавим настройку для удобного чтения значений А\n",
        "np.set_printoptions(suppress=True)\n",
        "A"
      ],
      "execution_count": 0,
      "outputs": []
    },
    {
      "cell_type": "code",
      "metadata": {
        "id": "5VOMIB-As0_B",
        "colab_type": "code",
        "colab": {}
      },
      "source": [
        "# Создаем целевой вектор\n",
        "y=bostonDF[['PRICE']] # объект типа dataframe - то, что нужно\n",
        "y_s = bostonDF['PRICE'] #  объект типа series - не подойдет"
      ],
      "execution_count": 0,
      "outputs": []
    },
    {
      "cell_type": "code",
      "metadata": {
        "id": "LrychO1Xs0_s",
        "colab_type": "code",
        "colab": {}
      },
      "source": [
        "type(y)"
      ],
      "execution_count": 0,
      "outputs": []
    },
    {
      "cell_type": "code",
      "metadata": {
        "id": "HS0RSpGvs1At",
        "colab_type": "code",
        "colab": {}
      },
      "source": [
        "type(y_s)"
      ],
      "execution_count": 0,
      "outputs": []
    },
    {
      "cell_type": "code",
      "metadata": {
        "id": "VrWaTdBas1BU",
        "colab_type": "code",
        "colab": {}
      },
      "source": [
        "# вычислим OLS оценку для коэффициентов\n",
        "w_hat=np.linalg.inv(A.T@A)@A.T@y\n",
        "w_hat"
      ],
      "execution_count": 0,
      "outputs": []
    },
    {
      "cell_type": "code",
      "metadata": {
        "id": "n2lyMBxws1Bk",
        "colab_type": "code",
        "colab": {}
      },
      "source": [
        "# прогноз\n",
        "# добавились данные по новому городку:\n",
        "CRIM_new=0.1\n",
        "RM_new=8\n",
        "# делаем прогноз типичной соимости дома\n",
        "PRICE_new=w_hat.iloc[0]+w_hat.iloc[1]*CRIM_new+w_hat.iloc[2]*RM_new\n",
        "PRICE_new"
      ],
      "execution_count": 0,
      "outputs": []
    },
    {
      "cell_type": "code",
      "metadata": {
        "id": "DC-NbrL3s1CA",
        "colab_type": "code",
        "colab": {}
      },
      "source": [
        "# короткий способ сделать прогноз\n",
        "new=np.array([1,CRIM_new,RM_new])\n",
        "new@w_hat"
      ],
      "execution_count": 0,
      "outputs": []
    },
    {
      "cell_type": "code",
      "metadata": {
        "id": "h55Xvqmfs1C1",
        "colab_type": "code",
        "colab": {}
      },
      "source": [
        "# классическая OLS регрессия в numpy одной командой\n",
        "np.linalg.lstsq(A,y,rcond=None)"
      ],
      "execution_count": 0,
      "outputs": []
    },
    {
      "cell_type": "markdown",
      "metadata": {
        "collapsed": true,
        "id": "8fOhMg0ns1DZ",
        "colab_type": "text"
      },
      "source": [
        "Стандартизация данных"
      ]
    },
    {
      "cell_type": "code",
      "metadata": {
        "id": "wJ3PpaYbs1Df",
        "colab_type": "code",
        "colab": {}
      },
      "source": [
        "Data.head()"
      ],
      "execution_count": 0,
      "outputs": []
    },
    {
      "cell_type": "code",
      "metadata": {
        "id": "N9Drcrd9s1D_",
        "colab_type": "code",
        "colab": {}
      },
      "source": [
        "# метод .mean() позволяет вычислить арифметическое среднее значение вектора\n",
        "meanCRIM = Data['CRIM'].mean()\n",
        "meanRM  = Data['RM'].mean()\n",
        "mean_y = y.mean()\n",
        "print('mean value of CRIME:', meanCRIM)\n",
        "print('mean value of RM:', meanRM)\n",
        "print('mean value of PRICE:', mean_y)"
      ],
      "execution_count": 0,
      "outputs": []
    },
    {
      "cell_type": "code",
      "metadata": {
        "id": "e860o4XFs1Ej",
        "colab_type": "code",
        "colab": {}
      },
      "source": [
        "# Центрирование\n",
        "CRIM_c = Data['CRIM'] - meanCRIM\n",
        "RM_c = Data['RM'] - meanRM\n",
        "y_c = y - mean_y\n",
        "print('CRIME до центрирования:\\n', CRIM.head(4))\n",
        "print('CRIME после центрирования:\\n', CRIM_c.head(4))\n"
      ],
      "execution_count": 0,
      "outputs": []
    },
    {
      "cell_type": "code",
      "metadata": {
        "id": "Ms_nT0CDs1FL",
        "colab_type": "code",
        "colab": {}
      },
      "source": [
        "print('среднее арифметическое вектора CRIM после центрирования:',CRIM_c.mean())"
      ],
      "execution_count": 0,
      "outputs": []
    },
    {
      "cell_type": "code",
      "metadata": {
        "id": "t2GCWzRgs1GN",
        "colab_type": "code",
        "colab": {}
      },
      "source": [
        "# вычисляем длины векторов для нормирования\n",
        "CRIM_c_norm = np.linalg.norm(CRIM_c)\n",
        "RM_c_norm = np.linalg.norm(RM_c)\n",
        "y_c_norm = np.linalg.norm(y_c)\n",
        "print('norm of CRIME:\\n', CRIM_c_norm)"
      ],
      "execution_count": 0,
      "outputs": []
    },
    {
      "cell_type": "code",
      "metadata": {
        "id": "WzUFGCEbs1Ge",
        "colab_type": "code",
        "colab": {}
      },
      "source": [
        "# Нормирование: делим каждый центрированный вектор на его длину\n",
        "CRIM_st=CRIM_c / CRIM_c_norm\n",
        "RM_st=RM_c / RM_c_norm\n",
        "y_st=y_c / y_c_norm\n",
        "print('CRIME до центрирования:\\n', CRIM.head(4))\n",
        "print('CRIME после центрирования:\\n', CRIM_c.head(4))\n",
        "print('CRIME после нормирования:\\n', CRIM_st.head(4))"
      ],
      "execution_count": 0,
      "outputs": []
    },
    {
      "cell_type": "code",
      "metadata": {
        "id": "dvqOiLKEs1G1",
        "colab_type": "code",
        "colab": {}
      },
      "source": [
        "# Матрица центрированных признаков - БЕЗ константы!\n",
        "A_st=np.column_stack(( CRIM_st, RM_st,))\n",
        "A_st"
      ],
      "execution_count": 0,
      "outputs": []
    },
    {
      "cell_type": "code",
      "metadata": {
        "id": "4Ipk6QmAs1IB",
        "colab_type": "code",
        "colab": {}
      },
      "source": [
        "# OLS оценка коэффициентов центрированной регрессии\n",
        "w_hat_st=np.linalg.inv(A_st.T@A_st)@A_st.T@y_st.values\n",
        "w_hat_st"
      ],
      "execution_count": 0,
      "outputs": []
    },
    {
      "cell_type": "code",
      "metadata": {
        "id": "VQ98KKRgs1IN",
        "colab_type": "code",
        "colab": {}
      },
      "source": [
        "# добавились данные по новому городку:\n",
        "CRIM_new=0.1\n",
        "RM_new=8\n",
        "# чтобы сделать прогноз по новым данным, их тоже нужно стандартизировать"
      ],
      "execution_count": 0,
      "outputs": []
    },
    {
      "cell_type": "code",
      "metadata": {
        "id": "YJ99mXE9s1I1",
        "colab_type": "code",
        "colab": {}
      },
      "source": [
        "# Стандартизация новых данных\n",
        "CRIM_new_st = (CRIM_new - meanCRIM) / CRIM_c_norm\n",
        "RM_new_st = (RM_new - meanRM) / RM_c_norm\n",
        "print('new CRIME st:', CRIM_new_st)\n",
        "print('new RM st:', RM_new_st)"
      ],
      "execution_count": 0,
      "outputs": []
    },
    {
      "cell_type": "code",
      "metadata": {
        "id": "e7FGiVXWs1I8",
        "colab_type": "code",
        "colab": {}
      },
      "source": [
        "# Прогноз стандартизированного y\n",
        "y_st_new = w_hat_st[0]*CRIM_new_st + w_hat_st[1]*RM_new_st\n",
        "print('new PRICE st predict:', y_st_new)"
      ],
      "execution_count": 0,
      "outputs": []
    },
    {
      "cell_type": "markdown",
      "metadata": {
        "id": "ynFUkO1Ys1JO",
        "colab_type": "text"
      },
      "source": [
        "Стандартизированный прогноз для нас может не иметь никакого смысла сам по себе, \n",
        "\n",
        "поэтому его необходимо пересчитать обратно.\n",
        "\n",
        "Для этого сделаем операции, обратные стандартизации - умножим на длину центрированного вектора y и прибавим среднее\n"
      ]
    },
    {
      "cell_type": "code",
      "metadata": {
        "scrolled": true,
        "id": "CZULrZ0Qs1JU",
        "colab_type": "code",
        "colab": {}
      },
      "source": [
        "# Пересчет стандартизированного прогноза в понятный\n",
        "y_new = y_st_new * y_c_norm + mean_y\n",
        "print('new PRICE predict:', y_new)"
      ],
      "execution_count": 0,
      "outputs": []
    },
    {
      "cell_type": "code",
      "metadata": {
        "id": "pdXywY2Fs1Jt",
        "colab_type": "code",
        "colab": {}
      },
      "source": [
        "# Пересчет стандартизированных коэффициентов в обычные\n",
        "# здесь создаем вектор из единиц, который далее заполним нужными значениями\n",
        "w_hat_not_st=np.ones((3,1))"
      ],
      "execution_count": 0,
      "outputs": []
    },
    {
      "cell_type": "code",
      "metadata": {
        "id": "bT7zgk0Ws1Kd",
        "colab_type": "code",
        "colab": {}
      },
      "source": [
        "# Пересчет стандартизированных  коэффициентов в обычные\n",
        "w_hat_not_st[0]= (- w_hat_st[0] * meanCRIM / CRIM_c_norm - w_hat_st[1] * meanRM / RM_c_norm) * y_c_norm  + y.mean()\n",
        "w_hat_not_st[1] = (w_hat_st[0] / CRIM_c_norm) * y_c_norm\n",
        "w_hat_not_st[2] = ( w_hat_st[1] / RM_c_norm )* y_c_norm\n",
        "w_hat_not_st"
      ],
      "execution_count": 0,
      "outputs": []
    },
    {
      "cell_type": "code",
      "metadata": {
        "id": "D8H32-1Ts1Kr",
        "colab_type": "code",
        "colab": {}
      },
      "source": [
        "# Сравнение с ранее полученными обычными коэффициентами\n",
        "w_hat"
      ],
      "execution_count": 0,
      "outputs": []
    },
    {
      "cell_type": "code",
      "metadata": {
        "id": "sqoZSTGVs1LP",
        "colab_type": "code",
        "colab": {}
      },
      "source": [
        "# Матрица Грама стандартизированных признаков\n",
        "A_st.T@A_st"
      ],
      "execution_count": 0,
      "outputs": []
    },
    {
      "cell_type": "code",
      "metadata": {
        "id": "afRFOtUbs1LY",
        "colab_type": "code",
        "colab": {}
      },
      "source": [
        "# Матрица корреляций обычных признаков\n",
        "Data.corr(method='pearson')"
      ],
      "execution_count": 0,
      "outputs": []
    },
    {
      "cell_type": "code",
      "metadata": {
        "id": "TEKX9Lkes1Lg",
        "colab_type": "code",
        "colab": {}
      },
      "source": [
        "# Стандартизированные признаки ортогональны вектору констант"
      ],
      "execution_count": 0,
      "outputs": []
    },
    {
      "cell_type": "code",
      "metadata": {
        "id": "kQdYlM1Is1Ln",
        "colab_type": "code",
        "colab": {}
      },
      "source": [
        "CRIM_st@np.ones(506)"
      ],
      "execution_count": 0,
      "outputs": []
    },
    {
      "cell_type": "code",
      "metadata": {
        "id": "ICQKPAgqs1MM",
        "colab_type": "code",
        "colab": {}
      },
      "source": [
        "RM_st@np.ones(506)"
      ],
      "execution_count": 0,
      "outputs": []
    },
    {
      "cell_type": "code",
      "metadata": {
        "id": "4Ow6Xez6s1MV",
        "colab_type": "code",
        "colab": {}
      },
      "source": [
        ""
      ],
      "execution_count": 0,
      "outputs": []
    }
  ]
}