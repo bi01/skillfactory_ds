{
 "cells": [
  {
   "cell_type": "markdown",
   "source": [
    "\n",
    "# PYTHON-11. Работа с датами"
   ],
   "metadata": {
    "collapsed": false,
    "pycharm": {
     "name": "#%% md\n"
    }
   }
  },
  {
   "cell_type": "code",
   "execution_count": 2,
   "outputs": [],
   "source": [
    "\n",
    "import time\n"
   ],
   "metadata": {
    "collapsed": false,
    "pycharm": {
     "name": "#%%\n"
    }
   }
  },
  {
   "cell_type": "code",
   "execution_count": 186,
   "outputs": [
    {
     "data": {
      "text/plain": "'08 May 2019 02:59'"
     },
     "execution_count": 186,
     "metadata": {},
     "output_type": "execute_result"
    }
   ],
   "source": [
    "from datetime import datetime\n",
    "\n",
    "s = '8 May 2019 02:59'\n",
    "datetime.strptime(s, '%d %B %Y %H:%M').strftime('%d %b %Y %H:%M')\n"
   ],
   "metadata": {
    "collapsed": false,
    "pycharm": {
     "name": "#%%\n"
    }
   }
  },
  {
   "cell_type": "code",
   "execution_count": 14,
   "outputs": [
    {
     "data": {
      "text/plain": "1546290000.0"
     },
     "execution_count": 14,
     "metadata": {},
     "output_type": "execute_result"
    }
   ],
   "source": [
    "# Переведите дату 1 января 2019 года (полночь по UTC) в формат unixtime\n",
    "time.mktime(\n",
    "    datetime.strptime('01012019 000000','%d%m%Y %H%M%S').timetuple()\n",
    ")"
   ],
   "metadata": {
    "collapsed": false,
    "pycharm": {
     "name": "#%%\n"
    }
   }
  },
  {
   "cell_type": "code",
   "execution_count": 88,
   "outputs": [
    {
     "data": {
      "text/plain": "'1546290000'"
     },
     "execution_count": 88,
     "metadata": {},
     "output_type": "execute_result"
    }
   ],
   "source": [
    "# Вариант 2\n",
    "datetime.strptime('01012019','%d%m%Y').strftime('%s')\n"
   ],
   "metadata": {
    "collapsed": false,
    "pycharm": {
     "name": "#%%\n"
    }
   }
  },
  {
   "cell_type": "code",
   "execution_count": 91,
   "outputs": [
    {
     "data": {
      "text/plain": "2592000.0"
     },
     "execution_count": 91,
     "metadata": {},
     "output_type": "execute_result"
    }
   ],
   "source": [
    "# Переведите 31 января 2019 года (по UTC) в формат unixtime и посчитайте\n",
    "# разницу в секундах между 1 и 31 января 2019 года.\n",
    "\n",
    "d1 = time.mktime(datetime.strptime('31012019','%d%m%Y').timetuple())\n",
    "d2 = time.mktime(datetime.strptime('01012019','%d%m%Y').timetuple())\n",
    "\n",
    "d1 - d2"
   ],
   "metadata": {
    "collapsed": false,
    "pycharm": {
     "name": "#%%\n"
    }
   }
  },
  {
   "cell_type": "code",
   "execution_count": 93,
   "outputs": [
    {
     "data": {
      "text/plain": "2592000"
     },
     "execution_count": 93,
     "metadata": {},
     "output_type": "execute_result"
    }
   ],
   "source": [
    "# Вариант 2\n",
    "d1 = int(datetime.strptime('31012019','%d%m%Y').strftime('%s'))\n",
    "d2 = int(datetime.strptime('01012019','%d%m%Y').strftime('%s'))\n",
    "\n",
    "d1 - d2"
   ],
   "metadata": {
    "collapsed": false,
    "pycharm": {
     "name": "#%%\n"
    }
   }
  },
  {
   "cell_type": "code",
   "execution_count": null,
   "outputs": [],
   "source": [
    "# Посчитайте количество секунд в сутках. Формат ответа — целое число:\n",
    "import datetime\n",
    "\n",
    "datetime.timedelta(hours=24).total_seconds()\n"
   ],
   "metadata": {
    "collapsed": false,
    "pycharm": {
     "name": "#%%\n"
    }
   }
  },
  {
   "cell_type": "code",
   "execution_count": 43,
   "outputs": [
    {
     "data": {
      "text/plain": "120.0"
     },
     "execution_count": 43,
     "metadata": {},
     "output_type": "execute_result"
    }
   ],
   "source": [
    "# Между двумя событиями прошло 7200 секунд.\n",
    "# Выразите этот период в минутах:\n",
    "7200/60"
   ],
   "metadata": {
    "collapsed": false,
    "pycharm": {
     "name": "#%%\n"
    }
   }
  },
  {
   "cell_type": "code",
   "execution_count": 46,
   "outputs": [
    {
     "data": {
      "text/plain": "'02:00:00'"
     },
     "execution_count": 46,
     "metadata": {},
     "output_type": "execute_result"
    }
   ],
   "source": [
    "# ВАРИАНТ 2\n",
    "time.strftime('%H:%M:%S', time.gmtime(7200))"
   ],
   "metadata": {
    "collapsed": false,
    "pycharm": {
     "name": "#%%\n"
    }
   }
  },
  {
   "cell_type": "code",
   "execution_count": 47,
   "outputs": [
    {
     "name": "stdout",
     "output_type": "stream",
     "text": [
      "2:00:00\n"
     ]
    }
   ],
   "source": [
    "# ВАРИАНТ 3\n",
    "print(datetime.timedelta(seconds = 7200))"
   ],
   "metadata": {
    "collapsed": false,
    "pycharm": {
     "name": "#%%\n"
    }
   }
  },
  {
   "cell_type": "code",
   "execution_count": 49,
   "outputs": [
    {
     "data": {
      "text/plain": "False"
     },
     "execution_count": 49,
     "metadata": {},
     "output_type": "execute_result"
    }
   ],
   "source": [
    "\n",
    "# Какой из указанных годов был високосным?\n",
    "\n",
    "2016 % 4 == 0"
   ],
   "metadata": {
    "collapsed": false,
    "pycharm": {
     "name": "#%%\n"
    }
   }
  },
  {
   "cell_type": "code",
   "execution_count": 159,
   "outputs": [
    {
     "data": {
      "text/plain": "'07.07.2019'"
     },
     "execution_count": 159,
     "metadata": {},
     "output_type": "execute_result"
    }
   ],
   "source": [
    "from datetime import datetime\n",
    "\n",
    "\n",
    "date_string = '2019-07-07T18:59:33'\n",
    "\n",
    "date_format = datetime.strptime(\n",
    "    date_string, '%Y-%m-%dT%H:%M:%S'\n",
    ").strftime('%d.%m.%Y')\n",
    "\n",
    "date_format\n"
   ],
   "metadata": {
    "collapsed": false,
    "pycharm": {
     "name": "#%%\n"
    }
   }
  },
  {
   "cell_type": "code",
   "execution_count": 161,
   "outputs": [
    {
     "data": {
      "text/plain": "[datetime.datetime(2019, 7, 7, 18, 59, 6),\n datetime.datetime(2019, 7, 7, 19, 0, 2),\n datetime.datetime(2019, 7, 7, 19, 1, 4)]"
     },
     "execution_count": 161,
     "metadata": {},
     "output_type": "execute_result"
    }
   ],
   "source": [
    "#У вас есть список запуска отчёта по расписанию:\n",
    "# Переведите эти значения из строк в формат datetime и запишите результат в переменную datetime_list. В переменной\n",
    "# datetime_list должен быть список элементов вида datetime(2019, 7, 7, 18, 59, 6)\n",
    "\n",
    "from datetime import datetime\n",
    "\n",
    "\n",
    "dt_list = [\n",
    "    '2019-07-07T18:59:06',\n",
    "    '2019-07-07T19:00:02',\n",
    "    '2019-07-07T19:01:04'\n",
    "]\n",
    "\n",
    "datetime_list = list(map(\n",
    "    lambda x: datetime.strptime(x, '%Y-%m-%dT%H:%M:%S'),\n",
    "    dt_list\n",
    "))\n",
    "\n",
    "datetime_list"
   ],
   "metadata": {
    "collapsed": false,
    "pycharm": {
     "name": "#%%\n"
    }
   }
  },
  {
   "cell_type": "code",
   "execution_count": 182,
   "outputs": [
    {
     "data": {
      "text/plain": "[6.0, 2.0, 4.0]"
     },
     "execution_count": 182,
     "metadata": {},
     "output_type": "execute_result"
    }
   ],
   "source": [
    "# В прошлом задании у вас получился список datetime_list с элементами типа datetime.\n",
    "\n",
    "# Наш отчёт запускался каждую минуту в 18:59:00, 19:00:00 и 19:01:00. Посчитайте для каждого элемента количество\n",
    "# секунд, которое работал скрипт. Результат запишите в список report_seconds (каждый элемент, соответственно, целое число).\n",
    "\n",
    "from datetime import datetime, timedelta\n",
    "datetime_list = [\n",
    "    datetime(2019, 7, 7, 18, 59, 6),\n",
    "    datetime(2019, 7, 7, 19, 0, 2),\n",
    "    datetime(2019, 7, 7, 19, 1, 4)\n",
    "]\n",
    "\n",
    "# введите код здесь\n",
    "\n",
    "# считаем, что скрипт выполнился в тот же день\n",
    "# поэтому преобразуем время до того же формата datetime\n",
    "datetime_list2 = list(map(\n",
    "    lambda x, year_prefix = '2019-07-07T': (\n",
    "        datetime.strptime(\n",
    "            year_prefix+x,\n",
    "            '%Y-%m-%dT%H:%M:%S'\n",
    "        )\n",
    "    ),\n",
    "    ['18:59:00', '19:00:00', '19:01:00']\n",
    "))\n",
    "\n",
    "\n",
    "report_seconds = list(map(\n",
    "    lambda x, y: (x-y).total_seconds(),\n",
    "    datetime_list, datetime_list2\n",
    "))\n",
    "report_seconds\n"
   ],
   "metadata": {
    "collapsed": false,
    "pycharm": {
     "name": "#%%\n"
    }
   }
  },
  {
   "cell_type": "code",
   "execution_count": 185,
   "outputs": [
    {
     "data": {
      "text/plain": "12.0"
     },
     "execution_count": 185,
     "metadata": {},
     "output_type": "execute_result"
    }
   ],
   "source": [
    "# Посчитайте суммарное время выполнения скрипта в секундах из списка report_seconds прошлого задания.\n",
    "# Результат запишите в переменную total_time (целое число секунд):\n",
    "\n",
    "total_time = sum(report_seconds)\n",
    "total_time"
   ],
   "metadata": {
    "collapsed": false,
    "pycharm": {
     "name": "#%%\n"
    }
   }
  },
  {
   "cell_type": "code",
   "execution_count": 185,
   "outputs": [],
   "source": [],
   "metadata": {
    "collapsed": false,
    "pycharm": {
     "name": "#%%\n"
    }
   }
  },
  {
   "cell_type": "code",
   "execution_count": 185,
   "outputs": [],
   "source": [],
   "metadata": {
    "collapsed": false,
    "pycharm": {
     "name": "#%%\n"
    }
   }
  },
  {
   "cell_type": "code",
   "execution_count": 185,
   "outputs": [],
   "source": [],
   "metadata": {
    "collapsed": false,
    "pycharm": {
     "name": "#%%\n"
    }
   }
  },
  {
   "cell_type": "code",
   "execution_count": 185,
   "outputs": [],
   "source": [],
   "metadata": {
    "collapsed": false,
    "pycharm": {
     "name": "#%%\n"
    }
   }
  },
  {
   "cell_type": "code",
   "execution_count": null,
   "outputs": [],
   "source": [],
   "metadata": {
    "collapsed": false,
    "pycharm": {
     "name": "#%%\n"
    }
   }
  }
 ],
 "metadata": {
  "kernelspec": {
   "display_name": "Python 3",
   "language": "python",
   "name": "python3"
  },
  "language_info": {
   "codemirror_mode": {
    "name": "ipython",
    "version": 2
   },
   "file_extension": ".py",
   "mimetype": "text/x-python",
   "name": "python",
   "nbconvert_exporter": "python",
   "pygments_lexer": "ipython2",
   "version": "2.7.6"
  }
 },
 "nbformat": 4,
 "nbformat_minor": 0
}