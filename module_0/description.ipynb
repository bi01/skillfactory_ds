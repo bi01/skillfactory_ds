{
 "cells": [
  {
   "cell_type": "markdown",
   "metadata": {},
   "source": [
    "# Project 0. Github.\n",
    "\n",
    "## Угадай число"
   ]
  },
  {
   "cell_type": "markdown",
   "metadata": {},
   "source": [
    "Итак, компьютер загадывает целое число от до, и нам его нужно угадать.\n",
    "Под «угадать», конечно, подразумевается «написать программу, которая угадывает число»."
   ]
  },
  {
   "cell_type": "code",
   "execution_count": 2,
   "metadata": {
    "pycharm": {
     "name": "#%%\n"
    }
   },
   "outputs": [
    {
     "name": "stdout",
     "output_type": "stream",
     "text": [
      "Ваш алгоритм угадывает число в среднем за 101 попыток\n",
      "Ваш алгоритм угадывает число в среднем за 33 попыток\n"
     ]
    },
    {
     "data": {
      "text/plain": "33"
     },
     "execution_count": 2,
     "metadata": {},
     "output_type": "execute_result"
    }
   ],
   "source": [
    "import numpy as np\n",
    "\n",
    "\n",
    "def game_core_v1(number):\n",
    "    \"\"\" Просто угадываем на random, никак не используя информацию о больше или меньше.\n",
    "        Функция принимает загаданное число и возвращает число попыток\n",
    "    \"\"\"\n",
    "\n",
    "    counter = 0\n",
    "    while True:\n",
    "        counter+=1\n",
    "        predict_number = np.random.randint(1,101) # предполагаемое число\n",
    "        if number == predict_number:\n",
    "            return counter # выход из цикла, если угадали\n",
    "\n",
    "\n",
    "def game_core_v2(number):\n",
    "    \"\"\" Сначала устанавливаем любое random число,\n",
    "        а потом уменьшаем или увеличиваем его в зависимости от того,\n",
    "        больше оно или меньше нужного.\n",
    "        Функция принимает загаданное число и возвращает число попыток\n",
    "    \"\"\"\n",
    "\n",
    "    counter = 1\n",
    "    predict = np.random.randint(1,101)\n",
    "\n",
    "    while number != predict:\n",
    "        counter+=1\n",
    "        if number > predict:\n",
    "            predict += 1\n",
    "        elif number < predict:\n",
    "            predict -= 1\n",
    "\n",
    "    return counter  # выход из цикла, если угадали\n",
    "\n",
    "\n",
    "def score_game(game_core):\n",
    "    \"\"\" Запускаем игру 1000 раз, чтобы узнать, как быстро игра угадывает число\n",
    "    \"\"\"\n",
    "\n",
    "    count_ls = []\n",
    "    np.random.seed(1)  # фиксируем RANDOM SEED, чтобы ваш эксперимент был воспроизводим!\n",
    "    random_array = np.random.randint(1, 101, size=1000)\n",
    "    for item in random_array:\n",
    "        count_ls.append(game_core(item))\n",
    "\n",
    "    score = int(np.mean(count_ls))\n",
    "    print(f\"Ваш алгоритм угадывает число в среднем за {score} попыток\")\n",
    "    return score\n",
    "\n",
    "\n",
    "# Проверяем\n",
    "score_game(game_core_v1)\n",
    "score_game(game_core_v2)"
   ]
  },
  {
   "cell_type": "code",
   "execution_count": 2,
   "metadata": {
    "collapsed": false,
    "jupyter": {
     "outputs_hidden": false
    },
    "pycharm": {
     "name": "#%%\n"
    }
   },
   "outputs": [],
   "source": []
  }
 ],
 "metadata": {
  "kernelspec": {
   "display_name": "PyCharm (SkillFactory)",
   "language": "python",
   "name": "pycharm-654c38e"
  },
  "language_info": {
   "codemirror_mode": {
    "name": "ipython",
    "version": 3
   },
   "file_extension": ".py",
   "mimetype": "text/x-python",
   "name": "python",
   "nbconvert_exporter": "python",
   "pygments_lexer": "ipython3",
   "version": "3.8.5"
  }
 },
 "nbformat": 4,
 "nbformat_minor": 4
}