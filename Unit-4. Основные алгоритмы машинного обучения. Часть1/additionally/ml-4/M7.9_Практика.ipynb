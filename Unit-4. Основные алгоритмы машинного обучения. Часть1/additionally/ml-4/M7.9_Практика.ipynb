{
 "cells": [
  {
   "cell_type": "markdown",
   "metadata": {
    "colab_type": "text",
    "id": "eS4yrdbpPDSl"
   },
   "source": [
    "## 4. Дисбаланс выборки"
   ]
  },
  {
   "cell_type": "markdown",
   "metadata": {
    "colab_type": "text",
    "id": "4ZkAnIjiPDSp"
   },
   "source": [
    "**Несбалансированная выборка (imbalanced dataset)** — выборка, в которой количество примеров каких-то классов сильно превалирует над количеством примеров других классов. Это определение также можно расширить на другие типы задач. Например, в задаче регрессии дисбалансом выборки будет ситуация, при которой распределение целевых значений будет сильно отличаться от равномерного."
   ]
  },
  {
   "cell_type": "markdown",
   "metadata": {
    "colab_type": "text",
    "id": "mepR8ouLPDSq"
   },
   "source": [
    "### 4.1. Когда считать выборку несбалансированной?"
   ]
  },
  {
   "cell_type": "code",
   "execution_count": 1,
   "metadata": {
    "ExecuteTime": {
     "end_time": "2021-05-09T10:09:45.536571Z",
     "start_time": "2021-05-09T10:09:43.743249Z"
    },
    "colab": {},
    "colab_type": "code",
    "id": "b1Ma8Cq0PDSs"
   },
   "outputs": [],
   "source": [
    "import numpy as np\n",
    "import pandas as pd\n",
    "from matplotlib import pyplot as plt\n",
    "import seaborn as sns\n",
    "%matplotlib inline"
   ]
  },
  {
   "cell_type": "code",
   "execution_count": 9,
   "metadata": {
    "ExecuteTime": {
     "end_time": "2021-05-09T10:22:57.845186Z",
     "start_time": "2021-05-09T10:22:02.529599Z"
    }
   },
   "outputs": [
    {
     "name": "stdout",
     "output_type": "stream",
     "text": [
      "Collecting package metadata (current_repodata.json): done\n",
      "Solving environment: done\n",
      "\n",
      "## Package Plan ##\n",
      "\n",
      "  environment location: /Users/Oleg/.conda/envs/SkillFactory\n",
      "\n",
      "\n",
      "The following packages will be downloaded:\n",
      "\n",
      "    package                    |            build\n",
      "    ---------------------------|-----------------\n",
      "    async_generator-1.10       |     pyhd3eb1b0_0          23 KB\n",
      "    cffi-1.14.5                |   py39h2125817_0         216 KB\n",
      "    cryptography-3.4.7         |   py39h2fd3fbb_0         693 KB\n",
      "    decorator-5.0.6            |     pyhd3eb1b0_0          12 KB\n",
      "    ecos-2.0.7.post1           |   py39he3068b8_0          90 KB\n",
      "    importlib-metadata-3.10.0  |   py39hecd8cb5_0          33 KB\n",
      "    ipyparallel-6.3.0          |   py39hecd8cb5_0         313 KB\n",
      "    ipython-7.22.0             |   py39h01d92e1_0         996 KB\n",
      "    jedi-0.17.2                |   py39hecd8cb5_1         921 KB\n",
      "    jupyter_core-4.7.1         |   py39hecd8cb5_0          68 KB\n",
      "    kiwisolver-1.3.1           |   py39h23ab428_0          53 KB\n",
      "    lxml-4.6.3                 |   py39h26b266a_0         1.2 MB\n",
      "    matplotlib-3.3.4           |   py39hecd8cb5_0          26 KB\n",
      "    matplotlib-base-3.3.4      |   py39h8b3ea08_0         5.1 MB\n",
      "    nbclient-0.5.3             |     pyhd3eb1b0_0          62 KB\n",
      "    nest-asyncio-1.5.1         |     pyhd3eb1b0_0          10 KB\n",
      "    notebook-6.3.0             |   py39hecd8cb5_0         4.1 MB\n",
      "    numpy-1.20.1               |   py39h43259c0_0          22 KB\n",
      "    numpy-base-1.20.1          |   py39h3a452eb_0         4.3 MB\n",
      "    pandas-1.2.4               |   py39h23ab428_0         8.5 MB\n",
      "    pillow-8.2.0               |   py39h5270095_0         587 KB\n",
      "    pip-21.0.1                 |   py39hecd8cb5_0         1.8 MB\n",
      "    pluggy-0.13.1              |   py39hecd8cb5_0          33 KB\n",
      "    pycodestyle-2.7.0          |     pyhd3eb1b0_0          41 KB\n",
      "    pytest-6.2.3               |   py39hecd8cb5_2         428 KB\n",
      "    python-3.9.4               |       h88f2d9e_0         9.8 MB\n",
      "    pyyaml-5.4.1               |   py39h9ed2024_1         170 KB\n",
      "    scikit-learn-0.24.1        |   py39hb2f4e1b_0         5.0 MB\n",
      "    scipy-1.6.2                |   py39h4420a3a_1        14.7 MB\n",
      "    setuptools-52.0.0          |   py39hecd8cb5_0         724 KB\n",
      "    terminado-0.9.4            |   py39hecd8cb5_0          25 KB\n",
      "    tzdata-2020f               |       h52ac0ba_0         113 KB\n",
      "    zstd-1.4.9                 |       h322a384_0         476 KB\n",
      "    ------------------------------------------------------------\n",
      "                                           Total:        60.4 MB\n",
      "\n",
      "The following NEW packages will be INSTALLED:\n",
      "\n",
      "  jupyterlab_widgets pkgs/main/noarch::jupyterlab_widgets-1.0.0-pyhd3eb1b0_1\n",
      "  numpy-base         pkgs/main/osx-64::numpy-base-1.20.1-py39h3a452eb_0\n",
      "\n",
      "The following packages will be REMOVED:\n",
      "\n",
      "  libcblas-3.8.0-17_openblas\n",
      "  libedit-3.1.20191231-h1de35cc_1\n",
      "\n",
      "The following packages will be UPDATED:\n",
      "\n",
      "  autopep8                                       1.5.4-py_0 --> 1.5.6-pyhd3eb1b0_0\n",
      "  bleach                                         3.2.1-py_0 --> 3.3.0-pyhd3eb1b0_0\n",
      "  ca-certificates                      2021.1.19-hecd8cb5_0 --> 2021.4.13-hecd8cb5_1\n",
      "  cffi                                1.14.4-py39h2125817_0 --> 1.14.5-py39h2125817_0\n",
      "  cryptography                         3.3.1-py39hbcfaee0_0 --> 3.4.7-py39h2fd3fbb_0\n",
      "  decorator                                      4.4.2-py_0 --> 5.0.6-pyhd3eb1b0_0\n",
      "  defusedxml                                     0.6.0-py_0 --> 0.7.1-pyhd3eb1b0_0\n",
      "  importlib-metadata pkgs/main/noarch::importlib-metadata-~ --> pkgs/main/osx-64::importlib-metadata-3.10.0-py39hecd8cb5_0\n",
      "  importlib_metadata                                2.0.0-1 --> 3.10.0-hd3eb1b0_0\n",
      "  ipython            conda-forge::ipython-7.20.0-py39h71a6~ --> pkgs/main::ipython-7.22.0-py39h01d92e1_0\n",
      "  ipywidgets                             7.6.0-pyhd3eb1b0_1 --> 7.6.3-pyhd3eb1b0_1\n",
      "  isort                                          5.6.4-py_0 --> 5.8.0-pyhd3eb1b0_0\n",
      "  jinja2                                        2.11.2-py_0 --> 2.11.3-pyhd3eb1b0_0\n",
      "  joblib                                 1.0.0-pyhd3eb1b0_0 --> 1.0.1-pyhd3eb1b0_0\n",
      "  jupyter_client                                 6.1.7-py_0 --> 6.1.12-pyhd3eb1b0_0\n",
      "  jupyter_console                                6.2.0-py_0 --> 6.4.0-pyhd3eb1b0_0\n",
      "  jupyter_core                         4.7.0-py39hecd8cb5_0 --> 4.7.1-py39hecd8cb5_0\n",
      "  kiwisolver                           1.3.0-py39h23ab428_0 --> 1.3.1-py39h23ab428_0\n",
      "  lcms2                                     2.11-h92f6f08_0 --> 2.12-hf1fd2bf_0\n",
      "  lxml                                 4.6.2-py39h26b266a_0 --> 4.6.3-py39h26b266a_0\n",
      "  lz4-c                                    1.9.2-h79c402e_3 --> 1.9.3-h23ab428_0\n",
      "  matplotlib                               3.3.2-hecd8cb5_0 --> 3.3.4-py39hecd8cb5_0\n",
      "  matplotlib-base                      3.3.2-py39h13cdb87_0 --> 3.3.4-py39h8b3ea08_0\n",
      "  more-itertools                         8.6.0-pyhd3eb1b0_0 --> 8.7.0-pyhd3eb1b0_0\n",
      "  nbclient                                       0.5.1-py_0 --> 0.5.3-pyhd3eb1b0_0\n",
      "  nbformat                                       5.0.8-py_0 --> 5.1.3-pyhd3eb1b0_0\n",
      "  nest-asyncio                           1.4.3-pyhd3eb1b0_0 --> 1.5.1-pyhd3eb1b0_0\n",
      "  notebook                             6.1.6-py39hecd8cb5_0 --> 6.3.0-py39hecd8cb5_0\n",
      "  openssl                                 1.1.1i-h9ed2024_0 --> 1.1.1k-h9ed2024_0\n",
      "  packaging                               20.8-pyhd3eb1b0_0 --> 20.9-pyhd3eb1b0_0\n",
      "  pandas                               1.2.0-py39hb2f4e1b_0 --> 1.2.4-py39h23ab428_0\n",
      "  pandoc                                    2.11-h0dc7051_0 --> 2.12-hecd8cb5_0\n",
      "  pillow                               8.1.0-py39h5270095_0 --> 8.2.0-py39h5270095_0\n",
      "  pip                                 20.3.3-py39hecd8cb5_0 --> 21.0.1-py39hecd8cb5_0\n",
      "  pluggy               pkgs/main/noarch::pluggy-0.12.0-py_0 --> pkgs/main/osx-64::pluggy-0.13.1-py39hecd8cb5_0\n",
      "  prometheus_client                      0.9.0-pyhd3eb1b0_0 --> 0.10.1-pyhd3eb1b0_0\n",
      "  prompt-toolkit                                 3.0.8-py_0 --> 3.0.17-pyh06a4308_0\n",
      "  prompt_toolkit                                    3.0.8-0 --> 3.0.17-hd3eb1b0_0\n",
      "  pycodestyle                                    2.6.0-py_0 --> 2.7.0-pyhd3eb1b0_0\n",
      "  pygments                               2.7.3-pyhd3eb1b0_0 --> 2.8.1-pyhd3eb1b0_0\n",
      "  pytest                               6.2.2-py39hecd8cb5_2 --> 6.2.3-py39hecd8cb5_2\n",
      "  python                                   3.9.1-h88f2d9e_2 --> 3.9.4-h88f2d9e_0\n",
      "  pytz                                  2020.5-pyhd3eb1b0_0 --> 2021.1-pyhd3eb1b0_0\n",
      "  pyyaml                               5.3.1-py39h9ed2024_1 --> 5.4.1-py39h9ed2024_1\n",
      "  qtconsole                                      4.7.7-py_0 --> 5.0.3-pyhd3eb1b0_0\n",
      "  readline                                   8.0-h1de35cc_0 --> 8.1-h9ed2024_0\n",
      "  scikit-learn                        0.23.2-py39hb2f4e1b_0 --> 0.24.1-py39hb2f4e1b_0\n",
      "  scipy                                1.5.2-py39h4420a3a_0 --> 1.6.2-py39h4420a3a_1\n",
      "  setuptools                          51.0.0-py39hecd8cb5_2 --> 52.0.0-py39hecd8cb5_0\n",
      "  sqlite                                  3.33.0-hffcf06c_0 --> 3.35.4-hce871da_0\n",
      "  terminado                            0.9.2-py39hecd8cb5_0 --> 0.9.4-py39hecd8cb5_0\n",
      "  toml                                          0.10.1-py_0 --> 0.10.2-pyhd3eb1b0_0\n",
      "  tzdata                                   2020d-h14c3975_0 --> 2020f-h52ac0ba_0\n",
      "  urllib3                               1.26.2-pyhd3eb1b0_0 --> 1.26.4-pyhd3eb1b0_0\n",
      "  yapf                                          0.30.0-py_0 --> 0.31.0-pyhd3eb1b0_0\n",
      "  zeromq                                   4.3.3-hb1e8313_3 --> 4.3.4-h23ab428_0\n",
      "  zipp                                   3.4.0-pyhd3eb1b0_0 --> 3.4.1-pyhd3eb1b0_0\n",
      "  zstd                                     1.4.5-h41d2c2f_0 --> 1.4.9-h322a384_0\n",
      "\n",
      "The following packages will be SUPERSEDED by a higher-priority channel:\n",
      "\n",
      "  ecos               conda-forge::ecos-2.0.7.post1-py39hae~ --> pkgs/main::ecos-2.0.7.post1-py39he3068b8_0\n",
      "  ipyparallel        conda-forge::ipyparallel-6.3.0-py39h6~ --> pkgs/main::ipyparallel-6.3.0-py39hecd8cb5_0\n",
      "  numpy              conda-forge::numpy-1.20.1-py39h3c955e~ --> pkgs/main::numpy-1.20.1-py39h43259c0_0\n",
      "\n",
      "The following packages will be DOWNGRADED:\n",
      "\n",
      "  async_generator                                 1.10-py_0 --> 1.10-pyhd3eb1b0_0\n",
      "  backcall                                       0.2.0-py_0 --> 0.2.0-pyhd3eb1b0_0\n",
      "  idna                                            2.10-py_0 --> 2.10-pyhd3eb1b0_0\n",
      "  jedi                                0.18.0-py39hecd8cb5_0 --> 0.17.2-py39hecd8cb5_1\n",
      "  pyparsing                                      2.4.7-py_0 --> 2.4.7-pyhd3eb1b0_0\n",
      "  python-dateutil                                2.8.1-py_0 --> 2.8.1-pyhd3eb1b0_0\n",
      "  testpath                                       0.4.4-py_0 --> 0.4.4-pyhd3eb1b0_0\n",
      "  traitlets                                      5.0.5-py_0 --> 5.0.5-pyhd3eb1b0_0\n",
      "\n",
      "\n",
      "\n",
      "Downloading and Extracting Packages\n"
     ]
    },
    {
     "name": "stdout",
     "output_type": "stream",
     "text": [
      "pluggy-0.13.1        | 33 KB     | ##################################### | 100% \n",
      "cffi-1.14.5          | 216 KB    | ##################################### | 100% \n",
      "kiwisolver-1.3.1     | 53 KB     | ##################################### | 100% \n",
      "nbclient-0.5.3       | 62 KB     | ##################################### | 100% \n",
      "cryptography-3.4.7   | 693 KB    | ##################################### | 100% \n",
      "lxml-4.6.3           | 1.2 MB    | ##################################### | 100% \n",
      "nest-asyncio-1.5.1   | 10 KB     | ##################################### | 100% \n",
      "pytest-6.2.3         | 428 KB    | ##################################### | 100% \n",
      "jedi-0.17.2          | 921 KB    | ##################################### | 100% \n",
      "pip-21.0.1           | 1.8 MB    | ##################################### | 100% \n",
      "ipython-7.22.0       | 996 KB    | ##################################### | 100% \n",
      "notebook-6.3.0       | 4.1 MB    | ##################################### | 100% \n",
      "scipy-1.6.2          | 14.7 MB   | ##################################### | 100% \n",
      "importlib-metadata-3 | 33 KB     | ##################################### | 100% \n",
      "tzdata-2020f         | 113 KB    | ##################################### | 100% \n",
      "ecos-2.0.7.post1     | 90 KB     | ##################################### | 100% \n",
      "jupyter_core-4.7.1   | 68 KB     | ##################################### | 100% \n",
      "numpy-1.20.1         | 22 KB     | ##################################### | 100% \n",
      "matplotlib-base-3.3. | 5.1 MB    | ##################################### | 100% \n",
      "pandas-1.2.4         | 8.5 MB    | ##################################### | 100% \n",
      "numpy-base-1.20.1    | 4.3 MB    | ##################################### | 100% \n",
      "pillow-8.2.0         | 587 KB    | ##################################### | 100% \n",
      "matplotlib-3.3.4     | 26 KB     | ##################################### | 100% \n",
      "scikit-learn-0.24.1  | 5.0 MB    | ##################################### | 100% \n",
      "pycodestyle-2.7.0    | 41 KB     | ##################################### | 100% \n",
      "python-3.9.4         | 9.8 MB    | ##################################### | 100% \n",
      "ipyparallel-6.3.0    | 313 KB    | ##################################### | 100% \n",
      "decorator-5.0.6      | 12 KB     | ##################################### | 100% \n",
      "async_generator-1.10 | 23 KB     | ##################################### | 100% \n",
      "setuptools-52.0.0    | 724 KB    | ##################################### | 100% \n",
      "terminado-0.9.4      | 25 KB     | ##################################### | 100% \n",
      "pyyaml-5.4.1         | 170 KB    | ##################################### | 100% \n",
      "zstd-1.4.9           | 476 KB    | ##################################### | 100% \n",
      "Preparing transaction: done\n",
      "Verifying transaction: done\n",
      "Executing transaction: done\n"
     ]
    }
   ],
   "source": [
    "!conda update -y --all\n"
   ]
  },
  {
   "cell_type": "code",
   "execution_count": 2,
   "metadata": {
    "ExecuteTime": {
     "end_time": "2021-05-09T10:10:10.496682Z",
     "start_time": "2021-05-09T10:10:10.363357Z"
    }
   },
   "outputs": [
    {
     "name": "stdout",
     "output_type": "stream",
     "text": [
      "total 264\r\n",
      "drwxr-xr-x  5 Oleg  staff     160 May  9 13:09 \u001b[34m.\u001b[m\u001b[m\r\n",
      "drwxr-xr-x  9 Oleg  staff     288 May  8 22:40 \u001b[34m..\u001b[m\u001b[m\r\n",
      "drwxr-xr-x  2 Oleg  staff      64 May  9 13:09 \u001b[34m.ipynb_checkpoints\u001b[m\u001b[m\r\n",
      "-rw-r--r--@ 1 Oleg  staff  107839 May  8 22:39 M7.7_Практика.ipynb\r\n",
      "-rw-r--r--@ 1 Oleg  staff   24418 May  9 13:08 M7.9_Практика.ipynb\r\n"
     ]
    }
   ],
   "source": [
    "!ls -la ../data"
   ]
  },
  {
   "cell_type": "code",
   "execution_count": 0,
   "metadata": {
    "colab": {},
    "colab_type": "code",
    "id": "V1sS6ecrPDSz",
    "outputId": "16f24d87-7bea-4dba-948e-b2258b3e19aa"
   },
   "outputs": [
    {
     "data": {
      "text/html": [
       "<div>\n",
       "<style scoped>\n",
       "    .dataframe tbody tr th:only-of-type {\n",
       "        vertical-align: middle;\n",
       "    }\n",
       "\n",
       "    .dataframe tbody tr th {\n",
       "        vertical-align: top;\n",
       "    }\n",
       "\n",
       "    .dataframe thead th {\n",
       "        text-align: right;\n",
       "    }\n",
       "</style>\n",
       "<table border=\"1\" class=\"dataframe\">\n",
       "  <thead>\n",
       "    <tr style=\"text-align: right;\">\n",
       "      <th></th>\n",
       "      <th>Survived</th>\n",
       "      <th>Pclass</th>\n",
       "      <th>Name</th>\n",
       "      <th>Sex</th>\n",
       "      <th>Age</th>\n",
       "      <th>Siblings/Spouses Aboard</th>\n",
       "      <th>Parents/Children Aboard</th>\n",
       "      <th>Fare</th>\n",
       "    </tr>\n",
       "  </thead>\n",
       "  <tbody>\n",
       "    <tr>\n",
       "      <th>0</th>\n",
       "      <td>0</td>\n",
       "      <td>3</td>\n",
       "      <td>Mr. Owen Harris Braund</td>\n",
       "      <td>male</td>\n",
       "      <td>22.0</td>\n",
       "      <td>1</td>\n",
       "      <td>0</td>\n",
       "      <td>7.2500</td>\n",
       "    </tr>\n",
       "    <tr>\n",
       "      <th>1</th>\n",
       "      <td>1</td>\n",
       "      <td>1</td>\n",
       "      <td>Mrs. John Bradley (Florence Briggs Thayer) Cum...</td>\n",
       "      <td>female</td>\n",
       "      <td>38.0</td>\n",
       "      <td>1</td>\n",
       "      <td>0</td>\n",
       "      <td>71.2833</td>\n",
       "    </tr>\n",
       "    <tr>\n",
       "      <th>2</th>\n",
       "      <td>1</td>\n",
       "      <td>3</td>\n",
       "      <td>Miss. Laina Heikkinen</td>\n",
       "      <td>female</td>\n",
       "      <td>26.0</td>\n",
       "      <td>0</td>\n",
       "      <td>0</td>\n",
       "      <td>7.9250</td>\n",
       "    </tr>\n",
       "    <tr>\n",
       "      <th>3</th>\n",
       "      <td>1</td>\n",
       "      <td>1</td>\n",
       "      <td>Mrs. Jacques Heath (Lily May Peel) Futrelle</td>\n",
       "      <td>female</td>\n",
       "      <td>35.0</td>\n",
       "      <td>1</td>\n",
       "      <td>0</td>\n",
       "      <td>53.1000</td>\n",
       "    </tr>\n",
       "    <tr>\n",
       "      <th>4</th>\n",
       "      <td>0</td>\n",
       "      <td>3</td>\n",
       "      <td>Mr. William Henry Allen</td>\n",
       "      <td>male</td>\n",
       "      <td>35.0</td>\n",
       "      <td>0</td>\n",
       "      <td>0</td>\n",
       "      <td>8.0500</td>\n",
       "    </tr>\n",
       "  </tbody>\n",
       "</table>\n",
       "</div>"
      ],
      "text/plain": [
       "   Survived  Pclass                                               Name  \\\n",
       "0         0       3                             Mr. Owen Harris Braund   \n",
       "1         1       1  Mrs. John Bradley (Florence Briggs Thayer) Cum...   \n",
       "2         1       3                              Miss. Laina Heikkinen   \n",
       "3         1       1        Mrs. Jacques Heath (Lily May Peel) Futrelle   \n",
       "4         0       3                            Mr. William Henry Allen   \n",
       "\n",
       "      Sex   Age  Siblings/Spouses Aboard  Parents/Children Aboard     Fare  \n",
       "0    male  22.0                        1                        0   7.2500  \n",
       "1  female  38.0                        1                        0  71.2833  \n",
       "2  female  26.0                        0                        0   7.9250  \n",
       "3  female  35.0                        1                        0  53.1000  \n",
       "4    male  35.0                        0                        0   8.0500  "
      ]
     },
     "execution_count": 2,
     "metadata": {
      "tags": []
     },
     "output_type": "execute_result"
    }
   ],
   "source": [
    "titanic = pd.read_csv('./data/titanic.csv')\n",
    "titanic.head()"
   ]
  },
  {
   "cell_type": "code",
   "execution_count": 0,
   "metadata": {
    "colab": {},
    "colab_type": "code",
    "id": "D8btCTQuPDS7",
    "outputId": "429c2217-54f4-4d21-f0da-86f7ad02a2c8"
   },
   "outputs": [
    {
     "data": {
      "image/png": "[encoded data removed]",
      "text/plain": [
       "<matplotlib.figure.Figure at 0x10e578d68>"
      ]
     },
     "metadata": {
      "tags": []
     },
     "output_type": "display_data"
    }
   ],
   "source": [
    "plt.hist(titanic['Fare'], bins=30);"
   ]
  },
  {
   "cell_type": "code",
   "execution_count": 0,
   "metadata": {
    "colab": {},
    "colab_type": "code",
    "id": "sC9Xq9GBPDTC",
    "outputId": "1271acf7-15d0-44e1-e674-657350130a53"
   },
   "outputs": [
    {
     "data": {
      "text/plain": [
       "<matplotlib.axes._subplots.AxesSubplot at 0x10e7178d0>"
      ]
     },
     "execution_count": 4,
     "metadata": {
      "tags": []
     },
     "output_type": "execute_result"
    },
    {
     "data": {
      "image/png": "[encoded data removed]",
      "text/plain": [
       "<matplotlib.figure.Figure at 0x10e5c0668>"
      ]
     },
     "metadata": {
      "tags": []
     },
     "output_type": "display_data"
    }
   ],
   "source": [
    "sns.countplot(x='Survived', data=titanic)"
   ]
  },
  {
   "cell_type": "markdown",
   "metadata": {
    "colab_type": "text",
    "id": "Ty7u0mvwPDTI"
   },
   "source": [
    "Нет точного определения, когда считать выборку несбалансированной. Неформально считается, что выборка несбалансированна, когда отношение количества преобладающего и минорного классов составляет 10:1."
   ]
  },
  {
   "cell_type": "markdown",
   "metadata": {
    "colab_type": "text",
    "id": "INKLWy4oPDTK"
   },
   "source": [
    "### 4.2. Последствия дисбаланса данных"
   ]
  },
  {
   "cell_type": "markdown",
   "metadata": {
    "colab_type": "text",
    "id": "3snzo_V1PDTO"
   },
   "source": [
    "Что происходит при дисбалансе классов:\n",
    "1. У алгоритма появляется склонность к более популярным классам/значениям.\n",
    "1. Невозможность использования метрик, не учитывающих веса классов (базовая метрика accuracy, изученная выше, не может быть использована)."
   ]
  },
  {
   "cell_type": "markdown",
   "metadata": {
    "colab_type": "text",
    "id": "II0HeMXIPDTQ"
   },
   "source": [
    "### 4.3. Решение проблемы"
   ]
  },
  {
   "cell_type": "markdown",
   "metadata": {
    "colab_type": "text",
    "id": "Fc48qjC0PDTR"
   },
   "source": [
    "1. Изменить целевую метрику — в задачах классификации confusion matrix, precision, recall, F1-score, ROC-кривые будут намного корректнее описывать алгоритм, чем accuracy.\n",
    "1. Изменить выборку данных: 1) oversampling — увеличение кол-ва объектов классов-меньшинств; 2) undersampling — сокращение кол-ва объектов превалирующих классов.\n",
    "1. Добавить штраф в оптимизационный функционал, прямо пропорциональный кол-ву объектов каждого класса (веса классов).\n",
    "1. Возможно, есть смысл перейти к задачам [Anomaly detection](https://en.wikipedia.org/wiki/Anomaly_detection) и [Change detection](https://en.wikipedia.org/wiki/Change_detection)."
   ]
  },
  {
   "cell_type": "markdown",
   "metadata": {
    "colab_type": "text",
    "id": "B8AmNEggPDTS"
   },
   "source": [
    "Во 2-м способе решение проблемы oversampling может быть выполнено как простым дублированием примеров меньшего класса, так и и более сложной техникой, называемой \"аугментацией выборки\".\n",
    "\n",
    "**Аугментация выборки (data augmentation)** — процесс генерации примеров из исходных путем их модификации. Примерами аугментации данных могут служить: повороты, масштабирование изображений, применение фильтров; для текста может быть незначительно изменен контекст и изменено склонение/спряжение слов.\n",
    "\n",
    "Еще одна техника, которая может быть использована для oversampling это **обогащение данных**. При использовании этой техники данные находятся во внешних дополнительных источниках. Например, если банк решает свою скоринговую задачу, он может также расширить свой набор данных данными другого банка при их наличии."
   ]
  }
 ],
 "metadata": {
  "colab": {
   "name": "M7.9_Практика.ipynb",
   "provenance": []
  },
  "hide_input": false,
  "kernelspec": {
   "display_name": "Python 3",
   "language": "python",
   "name": "python3"
  },
  "language_info": {
   "codemirror_mode": {
    "name": "ipython",
    "version": 3
   },
   "file_extension": ".py",
   "mimetype": "text/x-python",
   "name": "python",
   "nbconvert_exporter": "python",
   "pygments_lexer": "ipython3",
   "version": "3.9.1"
  },
  "nbTranslate": {
   "displayLangs": [
    "*"
   ],
   "hotkey": "alt-t",
   "langInMainMenu": true,
   "sourceLang": "en",
   "targetLang": "fr",
   "useGoogleTranslate": true
  },
  "toc": {
   "base_numbering": 1,
   "nav_menu": {},
   "number_sections": true,
   "sideBar": true,
   "skip_h1_title": false,
   "title_cell": "Table of Contents",
   "title_sidebar": "Contents",
   "toc_cell": false,
   "toc_position": {},
   "toc_section_display": true,
   "toc_window_display": false
  },
  "varInspector": {
   "cols": {
    "lenName": 16,
    "lenType": 16,
    "lenVar": 40
   },
   "kernels_config": {
    "python": {
     "delete_cmd_postfix": "",
     "delete_cmd_prefix": "del ",
     "library": "var_list.py",
     "varRefreshCmd": "print(var_dic_list())"
    },
    "r": {
     "delete_cmd_postfix": ") ",
     "delete_cmd_prefix": "rm(",
     "library": "var_list.r",
     "varRefreshCmd": "cat(var_dic_list()) "
    }
   },
   "types_to_exclude": [
    "module",
    "function",
    "builtin_function_or_method",
    "instance",
    "_Feature"
   ],
   "window_display": false
  }
 },
 "nbformat": 4,
 "nbformat_minor": 1
}
