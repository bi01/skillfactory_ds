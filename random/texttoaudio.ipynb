{
 "cells": [
  {
   "cell_type": "code",
   "execution_count": 10,
   "metadata": {
    "collapsed": true
   },
   "outputs": [],
   "source": [
    "from gtts import gTTS\n",
    "\n",
    "audio = \"DS_en.mp3\"\n",
    "language = \"en\"\n",
    "text_data = \"\"\"\n",
    "Data Science is the science of working with big data:\n",
    "collecting and processing it, analyzing and identifying relationships\n",
    "using machine learning or neural networks.\n",
    "Based on the relationships found, predictive models are\n",
    "then built to predict the target.\n",
    "The insights obtained as a result of the work\n",
    "of a data scientist are then applied in a\n",
    "wide variety of areas: business, medicine, industry,\n",
    "science, and so on.\n",
    "\"\"\"\n",
    "sp = gTTS(text=text_data, lang=language, slow=False)\n",
    "sp.save(audio)\n"
   ]
  },
  {
   "cell_type": "code",
   "execution_count": 12,
   "outputs": [
    {
     "ename": "ValueError",
     "evalue": "Language not supported: rus",
     "output_type": "error",
     "traceback": [
      "\u001B[0;31m---------------------------------------------------------------------------\u001B[0m",
      "\u001B[0;31mValueError\u001B[0m                                Traceback (most recent call last)",
      "\u001B[0;32m<ipython-input-12-54e95ca2e710>\u001B[0m in \u001B[0;36m<module>\u001B[0;34m\u001B[0m\n\u001B[1;32m     10\u001B[0m \"\"\"\n\u001B[1;32m     11\u001B[0m \u001B[0;34m\u001B[0m\u001B[0m\n\u001B[0;32m---> 12\u001B[0;31m \u001B[0msp\u001B[0m \u001B[0;34m=\u001B[0m \u001B[0mgTTS\u001B[0m\u001B[0;34m(\u001B[0m\u001B[0mtext\u001B[0m\u001B[0;34m=\u001B[0m\u001B[0mtext_data\u001B[0m\u001B[0;34m,\u001B[0m \u001B[0mlang\u001B[0m\u001B[0;34m=\u001B[0m\u001B[0mlanguage\u001B[0m\u001B[0;34m,\u001B[0m \u001B[0mslow\u001B[0m\u001B[0;34m=\u001B[0m\u001B[0;32mFalse\u001B[0m\u001B[0;34m)\u001B[0m\u001B[0;34m\u001B[0m\u001B[0;34m\u001B[0m\u001B[0m\n\u001B[0m\u001B[1;32m     13\u001B[0m \u001B[0msp\u001B[0m\u001B[0;34m.\u001B[0m\u001B[0msave\u001B[0m\u001B[0;34m(\u001B[0m\u001B[0maudio\u001B[0m\u001B[0;34m)\u001B[0m\u001B[0;34m\u001B[0m\u001B[0;34m\u001B[0m\u001B[0m\n\u001B[1;32m     14\u001B[0m \u001B[0;34m\u001B[0m\u001B[0m\n",
      "\u001B[0;32m~/.conda/envs/SkillFactory/lib/python3.8/site-packages/gtts/tts.py\u001B[0m in \u001B[0;36m__init__\u001B[0;34m(self, text, tld, lang, slow, lang_check, pre_processor_funcs, tokenizer_func)\u001B[0m\n\u001B[1;32m    129\u001B[0m                 \u001B[0mlangs\u001B[0m \u001B[0;34m=\u001B[0m \u001B[0mtts_langs\u001B[0m\u001B[0;34m(\u001B[0m\u001B[0mself\u001B[0m\u001B[0;34m.\u001B[0m\u001B[0mtld\u001B[0m\u001B[0;34m)\u001B[0m\u001B[0;34m\u001B[0m\u001B[0;34m\u001B[0m\u001B[0m\n\u001B[1;32m    130\u001B[0m                 \u001B[0;32mif\u001B[0m \u001B[0mlang\u001B[0m\u001B[0;34m.\u001B[0m\u001B[0mlower\u001B[0m\u001B[0;34m(\u001B[0m\u001B[0;34m)\u001B[0m \u001B[0;32mnot\u001B[0m \u001B[0;32min\u001B[0m \u001B[0mlangs\u001B[0m\u001B[0;34m:\u001B[0m\u001B[0;34m\u001B[0m\u001B[0;34m\u001B[0m\u001B[0m\n\u001B[0;32m--> 131\u001B[0;31m                     \u001B[0;32mraise\u001B[0m \u001B[0mValueError\u001B[0m\u001B[0;34m(\u001B[0m\u001B[0;34m\"Language not supported: %s\"\u001B[0m \u001B[0;34m%\u001B[0m \u001B[0mlang\u001B[0m\u001B[0;34m)\u001B[0m\u001B[0;34m\u001B[0m\u001B[0;34m\u001B[0m\u001B[0m\n\u001B[0m\u001B[1;32m    132\u001B[0m             \u001B[0;32mexcept\u001B[0m \u001B[0mRuntimeError\u001B[0m \u001B[0;32mas\u001B[0m \u001B[0me\u001B[0m\u001B[0;34m:\u001B[0m\u001B[0;34m\u001B[0m\u001B[0;34m\u001B[0m\u001B[0m\n\u001B[1;32m    133\u001B[0m                 \u001B[0mlog\u001B[0m\u001B[0;34m.\u001B[0m\u001B[0mdebug\u001B[0m\u001B[0;34m(\u001B[0m\u001B[0mstr\u001B[0m\u001B[0;34m(\u001B[0m\u001B[0me\u001B[0m\u001B[0;34m)\u001B[0m\u001B[0;34m,\u001B[0m \u001B[0mexc_info\u001B[0m\u001B[0;34m=\u001B[0m\u001B[0;32mTrue\u001B[0m\u001B[0;34m)\u001B[0m\u001B[0;34m\u001B[0m\u001B[0;34m\u001B[0m\u001B[0m\n",
      "\u001B[0;31mValueError\u001B[0m: Language not supported: rus"
     ]
    }
   ],
   "source": [
    "\n",
    "audio = \"DS_rus.mp3\"\n",
    "language = \"rus\"\n",
    "text_data = \"\"\"\n",
    "Data Science — это наука о работе с большими данными: их сборе и обработке,\n",
    "анализе и выявлении взаимосвязей с помощью машинного обучения или нейронных сетей.\n",
    "На основе найденных взаимосвязей затем строятся прогнозные модели, предсказывающие\n",
    "целевой показатель. Инсайты, полученные в результате работы дата-сайентиста,\n",
    "затем применяются в самых разнообразных областях: бизнесе, медицине, промышленности,\n",
    "науке и так далее.\n",
    "\"\"\"\n",
    "\n",
    "sp = gTTS(text=text_data, lang=language, slow=False)\n",
    "sp.save(audio)\n",
    "\n"
   ],
   "metadata": {
    "collapsed": false,
    "pycharm": {
     "name": "#%%\n"
    }
   }
  }
 ],
 "metadata": {
  "kernelspec": {
   "display_name": "Python 3",
   "language": "python",
   "name": "python3"
  },
  "language_info": {
   "codemirror_mode": {
    "name": "ipython",
    "version": 2
   },
   "file_extension": ".py",
   "mimetype": "text/x-python",
   "name": "python",
   "nbconvert_exporter": "python",
   "pygments_lexer": "ipython2",
   "version": "2.7.6"
  }
 },
 "nbformat": 4,
 "nbformat_minor": 0
}