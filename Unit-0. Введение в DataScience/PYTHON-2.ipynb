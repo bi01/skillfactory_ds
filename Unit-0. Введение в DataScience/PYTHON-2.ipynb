{
 "cells": [
  {
   "cell_type": "markdown",
   "metadata": {},
   "source": [
    "# Python-2. Структуры данных Pxcython\n",
    "\n",
    "---"
   ]
  },
  {
   "cell_type": "markdown",
   "metadata": {},
   "source": [
    "Какой код из представленных ниже позволит создать список, содержащий натуральные числа от 10 до 19 включительно, расположенные по возрастанию?"
   ]
  },
  {
   "cell_type": "code",
   "execution_count": 1,
   "metadata": {
    "pycharm": {
     "name": "#%%\n"
    }
   },
   "outputs": [
    {
     "name": "stdout",
     "output_type": "stream",
     "text": [
      "[10, 11, 12, 13, 14, 15, 16, 17, 18, 19]\n"
     ]
    }
   ],
   "source": [
    "my_list = [10, 11, 12, 13, 14, 15, 16, 17, 18, 19] # верно\n",
    "print(my_list)"
   ]
  },
  {
   "cell_type": "code",
   "execution_count": 67,
   "metadata": {
    "pycharm": {
     "name": "#%%\n"
    }
   },
   "outputs": [
    {
     "name": "stdout",
     "output_type": "stream",
     "text": [
      "['кошка,собака,хомяк,морская', 'свинка,попугай,лошадь']\n"
     ]
    }
   ],
   "source": [
    "animals = 'кошка,собака,хомяк,морская свинка,попугай,лошадь'.split()\n",
    "print(animals)\n",
    "\n"
   ]
  },
  {
   "cell_type": "code",
   "execution_count": 68,
   "metadata": {
    "pycharm": {
     "name": "#%%\n"
    }
   },
   "outputs": [
    {
     "name": "stdout",
     "output_type": "stream",
     "text": [
      "1 Константин\n",
      "2 Мария\n",
      "3 Диана\n",
      "5 Максим\n",
      "6 Светлана\n",
      "8 Серафим\n",
      "10 Павел\n",
      "11 Виктория\n",
      "13 Галина\n",
      "14 Вячеслав\n"
     ]
    },
    {
     "ename": "TypeError",
     "evalue": "'list' object is not callable",
     "output_type": "error",
     "traceback": [
      "\u001B[0;31m---------------------------------------------------------------------------\u001B[0m",
      "\u001B[0;31mTypeError\u001B[0m                                 Traceback (most recent call last)",
      "\u001B[0;32m<ipython-input-68-e8645090111a>\u001B[0m in \u001B[0;36m<module>\u001B[0;34m\u001B[0m\n\u001B[1;32m     14\u001B[0m         \u001B[0mprint\u001B[0m\u001B[0;34m(\u001B[0m\u001B[0mc\u001B[0m\u001B[0;34m,\u001B[0m \u001B[0mx\u001B[0m\u001B[0;34m)\u001B[0m\u001B[0;34m\u001B[0m\u001B[0;34m\u001B[0m\u001B[0m\n\u001B[1;32m     15\u001B[0m \u001B[0;34m\u001B[0m\u001B[0m\n\u001B[0;32m---> 16\u001B[0;31m \u001B[0mprint\u001B[0m\u001B[0;34m(\u001B[0m\u001B[0mOurBestStudents\u001B[0m\u001B[0;34m(\u001B[0m\u001B[0;36m14\u001B[0m\u001B[0;34m)\u001B[0m\u001B[0;34m)\u001B[0m\u001B[0;34m\u001B[0m\u001B[0;34m\u001B[0m\u001B[0m\n\u001B[0m",
      "\u001B[0;31mTypeError\u001B[0m: 'list' object is not callable"
     ]
    }
   ],
   "source": [
    "OurBestStudents = ['Александр', 'Константин', 'Мария', 'Диана', 'Алексей',\n",
    "                   'Максим', 'Светлана', 'Арина', 'Серафим', 'Doomer',\n",
    "                   'Павел', 'Виктория', 'Елена', 'Галина', 'Вячеслав']\n",
    "\n",
    "# print(OurBestStudents[-8])\n",
    "\n",
    "# for c, x in enumerate(OurBestStudents):\n",
    "#     print(c, x)\n",
    "\n",
    "vowels = 'А О У Ы Э Я Ё Ю И Е'.split()\n",
    "consonants = 'Б, В, Г, Д, Ж, З, Й, К, Л, М, Н, П, Р, С, Т, Ф, Х, Ц, Ч, Ш, Щ'.split(', ')\n",
    "for c, x in enumerate(OurBestStudents):\n",
    "    if x[0] in consonants: # and c % 2 ==0:\n",
    "        print(c, x)\n",
    "\n",
    "# print(OurBestStudents(14))"
   ]
  },
  {
   "cell_type": "code",
   "execution_count": null,
   "metadata": {
    "pycharm": {
     "name": "#%%\n"
    }
   },
   "outputs": [],
   "source": [
    "body = ['голова', 'руки', 'ноги', 'глаза', 'уши', 'рот', 'нос', 'туловище']\n",
    "\n",
    "print(body[3:7])\n",
    "print(body[-5:-1])\n",
    "print(body[-5:7])\n"
   ]
  },
  {
   "cell_type": "code",
   "execution_count": null,
   "metadata": {
    "pycharm": {
     "name": "#%%\n"
    }
   },
   "outputs": [],
   "source": [
    "sparta = ['Иванов', 'Петров', 'Сидоров', 'Зайцев', 'Дятлов',\n",
    "          'Козлов', 'Лисичкин', 'Огурцов', 'Капустин', 'Арбузов']\n",
    "\n",
    "print(sparta[0:10:2])\n",
    "print(sparta[1:10:3])\n",
    "print(sparta[0:10:5])\n",
    "print(sparta[::-3])"
   ]
  },
  {
   "cell_type": "code",
   "execution_count": 3,
   "metadata": {
    "pycharm": {
     "name": "#%%\n"
    }
   },
   "outputs": [
    {
     "name": "stdout",
     "output_type": "stream",
     "text": [
      "6\n"
     ]
    }
   ],
   "source": [
    "l = [1,1,1,1,1,2,3,4,5,1]\n",
    "\n",
    "print(l.count(1))"
   ]
  },
  {
   "cell_type": "code",
   "execution_count": 6,
   "outputs": [
    {
     "name": "stdout",
     "output_type": "stream",
     "text": [
      "2\n"
     ]
    }
   ],
   "source": [
    "names = ['Андрей', 'Илья', 'Александр', 'Ипполит', 'Анна', 'Константин', 'Елена', 'Мария']\n",
    "my_list = []\n",
    "for name in names:\n",
    "    my_list.append(len(name))\n",
    "\n",
    "name_length = min(my_list)\n",
    "result = my_list.count(name_length)\n",
    "print(result)"
   ],
   "metadata": {
    "collapsed": false,
    "pycharm": {
     "name": "#%%\n"
    }
   }
  },
  {
   "cell_type": "code",
   "execution_count": 8,
   "outputs": [
    {
     "name": "stdout",
     "output_type": "stream",
     "text": [
      "590\n"
     ]
    }
   ],
   "source": [
    "my_list = [1, 10, 45, 31, 12, 54, 111, 398, 97, 63]\n",
    "my_list.sort(reverse = True)\n",
    "my_list = my_list[::2]\n",
    "result = 0\n",
    "for number in new_list:\n",
    "    result += number\n",
    "print(result)"
   ],
   "metadata": {
    "collapsed": false,
    "pycharm": {
     "name": "#%%\n"
    }
   }
  },
  {
   "cell_type": "code",
   "execution_count": 10,
   "outputs": [],
   "source": [
    "my_list = [1]\n",
    "for i in range(10):\n",
    "    my_list.append(my_list[i] * 2)\n",
    "my_list.sort(reverse = True)"
   ],
   "metadata": {
    "collapsed": false,
    "pycharm": {
     "name": "#%%\n"
    }
   }
  },
  {
   "cell_type": "code",
   "execution_count": 16,
   "outputs": [
    {
     "name": "stdout",
     "output_type": "stream",
     "text": [
      "['я', 'б', 'а', 'б', 'п', 'п', 'а', 'а']\n",
      "['а', 'а', 'а', 'б', 'б', 'п', 'п', 'я']\n"
     ]
    }
   ],
   "source": [
    "fruits = 'яблоко банан апельсин баклажан перец помидор арбуз ананас'.split()\n",
    "my_list = []\n",
    "\n",
    "for fruit in fruits:\n",
    "    my_list.append(fruit[0])\n",
    "\n",
    "print(my_list)\n",
    "my_list.sort()\n",
    "\n",
    "my_list.count(my_list[0]) == 3\n",
    "print(my_list)"
   ],
   "metadata": {
    "collapsed": false,
    "pycharm": {
     "name": "#%%\n"
    }
   }
  },
  {
   "cell_type": "markdown",
   "source": [
    "### Задание 8\n",
    "*1 point possible (graded)*\n",
    "\n",
    "Напишите программу, которая создаёт список, содержащий целые, кратные трём числа в интервале от 1 до 50. Найдите сумму элементов этого списка. Результат вычислений сохраните в переменной с именем result."
   ],
   "metadata": {
    "collapsed": false,
    "pycharm": {
     "name": "#%% md\n"
    }
   }
  },
  {
   "cell_type": "code",
   "execution_count": 22,
   "outputs": [
    {
     "name": "stdout",
     "output_type": "stream",
     "text": [
      "408\n"
     ]
    }
   ],
   "source": [
    "result = 0\n",
    "for n in range(1, 51):\n",
    "    if n % 3 == 0:\n",
    "        result += n\n",
    "\n",
    "print(result)\n",
    "\n",
    "#\n",
    "# result  = sum([n for n in range(1, 51) if n % 3 == 0])\n",
    "# print(result)"
   ],
   "metadata": {
    "collapsed": false,
    "pycharm": {
     "name": "#%%\n"
    }
   }
  },
  {
   "cell_type": "markdown",
   "source": [
    "### Задание 9\n",
    "Напишите программу, которая создаёт список my_list, содержащий длины слов из списка raw_list (дан в начале кода), и находит сумму минимального и максимального элементов нового списка (my_list). Результат вычислений (сумма минимального и максимального элементов списка my_list) присвойте переменной result."
   ],
   "metadata": {
    "collapsed": false,
    "pycharm": {
     "name": "#%% md\n"
    }
   }
  },
  {
   "cell_type": "code",
   "execution_count": 27,
   "outputs": [
    {
     "name": "stdout",
     "output_type": "stream",
     "text": [
      "15\n"
     ]
    }
   ],
   "source": [
    "raw_list = ['переменные', 'циклы', 'условия', 'списки', 'словари', 'файлы', 'функции']\n",
    "\n",
    "# Введите свое решение здесь\n",
    "\n",
    "my_list = []\n",
    "for word in raw_list:\n",
    "    my_list.append(len(word))\n",
    "\n",
    "result = max(my_list) + min(my_list)\n",
    "print(result)"
   ],
   "metadata": {
    "collapsed": false,
    "pycharm": {
     "name": "#%%\n"
    }
   }
  },
  {
   "cell_type": "markdown",
   "source": [
    "### Задание 10*\n",
    "Дан список raw_list (содержимое списка приведено в начале кода). Найдите минимальное (x_min) и максимальное (x_max) значения элементов данного списка.\n",
    "\n",
    "Создайте новый список my_list, состоящий из элементов списка raw_list, умноженных на x_min, если элемент является чётным числом, и на x_max, в случае если элемент нечётный.\n",
    "\n",
    "Найдите максимальное значение списка my_list. Результат присвойте переменной result."
   ],
   "metadata": {
    "collapsed": false,
    "pycharm": {
     "name": "#%% md\n"
    }
   }
  },
  {
   "cell_type": "code",
   "source": [
    "raw_list = [2, 8, 10, 23, 64, 49, 11, 52, 71, 14]\n",
    "\n",
    "# Введите свое решение здесь\n",
    "\n",
    "\n",
    "x_min = min(raw_list)\n",
    "x_max = max(raw_list)\n",
    "\n",
    "my_list = list()\n",
    "\n",
    "for n in raw_list:\n",
    "    if n % 2 == 0:\n",
    "        my_list.append(n * x_min)\n",
    "    else:\n",
    "        my_list.append(n * x_max)\n",
    "\n",
    "result = max(my_list)\n",
    "print(result)"
   ],
   "metadata": {
    "collapsed": false,
    "pycharm": {
     "name": "#%%\n"
    }
   },
   "execution_count": 31,
   "outputs": [
    {
     "name": "stdout",
     "output_type": "stream",
     "text": [
      "5041\n"
     ]
    }
   ]
  },
  {
   "cell_type": "markdown",
   "source": [
    "#### все простые числа в интервале от 3 до 100"
   ],
   "metadata": {
    "collapsed": false,
    "pycharm": {
     "name": "#%% md\n"
    }
   }
  },
  {
   "cell_type": "code",
   "execution_count": 52,
   "outputs": [
    {
     "name": "stdout",
     "output_type": "stream",
     "text": [
      "[3,\n",
      " 5,\n",
      " 7,\n",
      " 11,\n",
      " 13,\n",
      " 17,\n",
      " 19,\n",
      " 23,\n",
      " 29,\n",
      " 31,\n",
      " 37,\n",
      " 41,\n",
      " 43,\n",
      " 47,\n",
      " 53,\n",
      " 59,\n",
      " 61,\n",
      " 67,\n",
      " 71,\n",
      " 73,\n",
      " 79,\n",
      " 83,\n",
      " 89,\n",
      " 97]\n"
     ]
    }
   ],
   "source": [
    "import pprint\n",
    "\n",
    "numbers = [\n",
    "    x for x in range(3,100)\n",
    "    if [x%y\n",
    "        for y in range(2,x)\n",
    "       ].count(0) == 0\n",
    "    ]\n",
    "print(pprint.pformat(numbers, width=3))\n"
   ],
   "metadata": {
    "collapsed": false,
    "pycharm": {
     "name": "#%%\n"
    }
   }
  },
  {
   "cell_type": "markdown",
   "source": [
    "Перепишите привёденный ниже код, используя генератор списков. Полученный в результате работы генератора список должен иметь имя my_list.\n",
    "\n",
    "```python\n",
    "my_list = []\n",
    "for x in range(1, 50):\n",
    "    if x%7 == 0:\n",
    "        my_list.append(x**0.5)\n",
    "```"
   ],
   "metadata": {
    "collapsed": false,
    "pycharm": {
     "name": "#%% md\n"
    }
   }
  },
  {
   "cell_type": "code",
   "execution_count": 53,
   "outputs": [],
   "source": [
    "my_list = [x**0.5 for x in range(1, 50) if x%7 == 0]"
   ],
   "metadata": {
    "collapsed": false,
    "pycharm": {
     "name": "#%%\n"
    }
   }
  },
  {
   "cell_type": "markdown",
   "source": [
    "Перепишите привёденный ниже код, используя генератор списков. Полученный в результате работы генератора список должен иметь имя my_list.\n",
    "\n",
    "```python\n",
    "my_list = []\n",
    "for x in range(90, 100):\n",
    "    first_digit = x//10\n",
    "    last_digit = x%10\n",
    "    my_list.append(first_digit + last_digit)\n",
    "```\n"
   ],
   "metadata": {
    "collapsed": false,
    "pycharm": {
     "name": "#%% md\n"
    }
   }
  },
  {
   "cell_type": "code",
   "execution_count": 54,
   "outputs": [],
   "source": [
    "\n",
    "my_list = [x//10 + x%10 for x in range(90, 100)]"
   ],
   "metadata": {
    "collapsed": false,
    "pycharm": {
     "name": "#%%\n"
    }
   }
  },
  {
   "cell_type": "code",
   "execution_count": 57,
   "outputs": [
    {
     "name": "stdout",
     "output_type": "stream",
     "text": [
      "+79033923029\n",
      "+79265748370\n"
     ]
    }
   ],
   "source": [
    "\n",
    "# Мария Никитина\t+79033923029\n",
    "# Егор Савичев\t+78125849204\n",
    "# Александр Пахомов\t+79053049385\n",
    "# Алина Егорова\t+79265748370\n",
    "# Руслан Башаров\t+79030598495\n",
    "\n",
    "# добавьте номера телефонов в список phones\n",
    "phones = [\n",
    "    '+79033923029',\n",
    "    '+78125849204',\n",
    "    '+79053049385',\n",
    "    '+79265748370',\n",
    "    '+79030598495',\n",
    "]\n",
    "\n",
    "employee_base= {\n",
    "    'Мария Никитина': '+79033923029',\n",
    "    'Егор Савичев':  '+78125849204',\n",
    "    'Александр Пахомов':  '+79053049385',\n",
    "    'Алина Егорова': '+79265748370',\n",
    "    'Руслан Башаров': '+79030598495'\n",
    "}\n",
    "print(employee_base['Мария Никитина'])\n",
    "print(employee_base['Алина Егорова'])"
   ],
   "metadata": {
    "collapsed": false,
    "pycharm": {
     "name": "#%%\n"
    }
   }
  },
  {
   "cell_type": "markdown",
   "source": [
    "#### Жеребьевка Чемпионата мира-2018\n",
    "\n",
    "Дан словарь с результатами жеребьевки Чемпионата мира по футболу-2018 пяти стран по группам:\n",
    "\n",
    "```python\n",
    "draw_dict = {\n",
    "\t'Россия': 'A',\n",
    "\t'Португалия': 'B',\n",
    "\t'Франция': 'C',\n",
    "\t'Дания': 'C',\n",
    "\t'Египет': 'A'\n",
    "}\n",
    "```\n",
    "Напишите код, который по названию страны country присваивает переменной group название группы по результатам жеребьевки. Если страны нет в словаре draw_dict, то переменной group присваивается значение 'unknown'. Выполните код для значения country = 'Италия'."
   ],
   "metadata": {
    "collapsed": false,
    "pycharm": {
     "name": "#%% md\n"
    }
   }
  },
  {
   "cell_type": "code",
   "execution_count": 60,
   "outputs": [],
   "source": [
    "draw_dict = {\n",
    "\t'Россия': 'A',\n",
    "\t'Португалия': 'B',\n",
    "\t'Франция': 'C',\n",
    "\t'Дания': 'C',\n",
    "\t'Египет': 'A'\n",
    "}\n",
    "country = 'Италия'\n",
    "group = ''\n",
    "if country in draw_dict:\n",
    "    group = draw_dict[country]\n",
    "else:\n",
    "    group = 'unknown'\n",
    "\n"
   ],
   "metadata": {
    "collapsed": false,
    "pycharm": {
     "name": "#%%\n"
    }
   }
  },
  {
   "cell_type": "markdown",
   "source": [
    "Решите предыдущую задачу, используя метод setdefault. Вместо проверки на наличие ключа вы можете сразу назначить значение по умолчанию 'unknown'. Проверьте работу кода для country = 'Италия'. Результат запишите в переменную group"
   ],
   "metadata": {
    "collapsed": false,
    "pycharm": {
     "name": "#%% md\n"
    }
   }
  },
  {
   "cell_type": "code",
   "execution_count": 62,
   "outputs": [],
   "source": [
    "draw_dict = {\n",
    "\t'Россия': 'A',\n",
    "\t'Португалия': 'B',\n",
    "\t'Франция': 'C',\n",
    "\t'Дания': 'C',\n",
    "\t'Египет': 'A'\n",
    "}\n",
    "\n",
    "country = 'Италия'\n",
    "draw_dict.setdefault(country, 'unknown')\n",
    "group = draw_dict[country]"
   ],
   "metadata": {
    "collapsed": false,
    "pycharm": {
     "name": "#%%\n"
    }
   }
  },
  {
   "cell_type": "code",
   "execution_count": 66,
   "outputs": [],
   "source": [
    "draw_dict = {\n",
    "\t'Россия': 'A',\n",
    "\t'Португалия': 'B',\n",
    "\t'Франция': 'C',\n",
    "\t'Дания': 'C',\n",
    "\t'Египет': 'A'\n",
    "}\n",
    "\n",
    "draw_new = {\n",
    "    c: draw_dict[c]\n",
    "    for c in draw_dict\n",
    "    if draw_dict[c] == 'A'\n",
    "}"
   ],
   "metadata": {
    "collapsed": false,
    "pycharm": {
     "name": "#%%\n"
    }
   }
  },
  {
   "cell_type": "markdown",
   "source": [
    "Отфильтруйте словарь draw_dict с помощью метода items, оставив в нем только страны группы A. Отфильтрованный результат запишите в новый словарь draw_new\n",
    "\n",
    "```python\n",
    "draw_dict = {\n",
    "\t'Россия': 'A',\n",
    "\t'Португалия': 'B',\n",
    "\t'Франция': 'C',\n",
    "\t'Дания': 'C',\n",
    "\t'Египет': 'A'\n",
    "}\n",
    "```"
   ],
   "metadata": {
    "collapsed": false,
    "pycharm": {
     "name": "#%% md\n"
    }
   }
  },
  {
   "cell_type": "code",
   "execution_count": 71,
   "outputs": [
    {
     "name": "stdout",
     "output_type": "stream",
     "text": [
      "{'Россия': 'A', 'Египет': 'A'}\n"
     ]
    }
   ],
   "source": [
    "draw_dict = {\n",
    "\t'Россия': 'A',\n",
    "\t'Португалия': 'B',\n",
    "\t'Франция': 'C',\n",
    "\t'Дания': 'C',\n",
    "\t'Египет': 'A'\n",
    "}\n",
    "\n",
    "draw_new = {k: v for k, v in draw_dict.items() if v == 'A'}\n",
    "print(draw_new)"
   ],
   "metadata": {
    "collapsed": false,
    "pycharm": {
     "name": "#%%\n"
    }
   }
  },
  {
   "cell_type": "markdown",
   "source": [
    "Сотрудник ведет запись ежедневных расходов по партнерам. Он мог бы записывать суммы за 1-3 апреля в знакомые нам списки, но это не очень удобно: [2504, 4994, 6343]. Оформите расходы в словарь, в котором ключами являются даты ('2019-04-01', '2019-04-02', '2019-04-03' апреля), а значениями — суммы расходов (2504, 4994 и 6343 рублей соответственно)."
   ],
   "metadata": {
    "collapsed": false,
    "pycharm": {
     "name": "#%% md\n"
    }
   }
  },
  {
   "cell_type": "code",
   "execution_count": 73,
   "outputs": [
    {
     "name": "stdout",
     "output_type": "stream",
     "text": [
      "13841\n"
     ]
    }
   ],
   "source": [
    "spents = {'2019-04-01': 2504,\n",
    "          '2019-04-02': 4994,\n",
    "          '2019-04-03': 6343}\n",
    "\n",
    "# summary spents\n",
    "\n",
    "print(sum(list(spents.values())))"
   ],
   "metadata": {
    "collapsed": false,
    "pycharm": {
     "name": "#%%\n"
    }
   }
  },
  {
   "cell_type": "code",
   "execution_count": 81,
   "outputs": [
    {
     "name": "stdout",
     "output_type": "stream",
     "text": [
      "100934\n"
     ]
    }
   ],
   "source": [
    "csv_file = [\n",
    "    ['100412', 'Ботинки для горных лыж ATOMIC Hawx Prime 100', 9],\n",
    "    ['100728', 'Скейтборд Jdbug RT03', 32],\n",
    "    ['100732', 'Роллерсерф Razor RipStik Bright', 11],\n",
    "    ['100803', 'Ботинки для сноуборда DC Tucknee', 20],\n",
    "    ['100898', 'Шагомер Omron HJA-306', 2],\n",
    "    ['100934', 'Пульсометр Beurer PM62', 17],\n",
    "]\n",
    "pulsometer_id = csv_file[5][0]\n",
    "print(pulsometer_id)"
   ],
   "metadata": {
    "collapsed": false,
    "pycharm": {
     "name": "#%%\n"
    }
   }
  },
  {
   "cell_type": "markdown",
   "source": [
    "Отфильтруйте список товарных позиций csv_file, оставив только те позиции, у которых количество штук на складе больше 10. Результат запишите в переменную csv_file_filtered"
   ],
   "metadata": {
    "collapsed": false,
    "pycharm": {
     "name": "#%% md\n"
    }
   }
  },
  {
   "cell_type": "code",
   "execution_count": 84,
   "outputs": [
    {
     "name": "stdout",
     "output_type": "stream",
     "text": [
      "['100728', 'Скейтборд Jdbug RT03', 32]\n",
      "['100732', 'Роллерсерф Razor RipStik Bright', 11]\n",
      "['100803', 'Ботинки для сноуборда DC Tucknee', 20]\n",
      "['100934', 'Пульсометр Beurer PM62', 17]\n"
     ]
    }
   ],
   "source": [
    "csv_file = [\n",
    "    ['100412', 'Ботинки для горных лыж ATOMIC Hawx Prime 100', 9],\n",
    "    ['100728', 'Скейтборд Jdbug RT03', 32],\n",
    "    ['100732', 'Роллерсерф Razor RipStik Bright', 11],\n",
    "    ['100803', 'Ботинки для сноуборда DC Tucknee', 20],\n",
    "    ['100898', 'Шагомер Omron HJA-306', 2],\n",
    "    ['100934', 'Пульсометр Beurer PM62', 17],\n",
    "]\n",
    "\n",
    "\n",
    "csv_file_filtered = []\n",
    "for x in csv_file:\n",
    "    if x[2] > 10:\n",
    "        csv_file_filtered.append(x)\n",
    "\n",
    "for x in csv_file_filtered:\n",
    "    print(x)"
   ],
   "metadata": {
    "collapsed": false,
    "pycharm": {
     "name": "#%%\n"
    }
   }
  },
  {
   "cell_type": "markdown",
   "source": [],
   "metadata": {
    "collapsed": false,
    "pycharm": {
     "name": "#%% md\n"
    }
   }
  },
  {
   "cell_type": "code",
   "execution_count": 86,
   "outputs": [
    {
     "name": "stdout",
     "output_type": "stream",
     "text": [
      "[{'id': '100412', 'position': 'Ботинки для горных лыж ATOMIC Hawx Prime 100', 'count': 9}, {'id': '100803', 'position': 'Ботинки для сноуборда DC Tucknee', 'count': 20}]\n"
     ]
    }
   ],
   "source": [
    "csv_dict = [\n",
    "    {'id': '100412', 'position': 'Ботинки для горных лыж ATOMIC Hawx Prime 100', 'count': 9},\n",
    "    {'id': '100728', 'position': 'Скейтборд Jdbug RT03', 'count': 32},\n",
    "    {'id': '100732', 'position': 'Роллерсерф Razor RipStik Bright', 'count': 11},\n",
    "    {'id': '100803', 'position': 'Ботинки для сноуборда DC Tucknee', 'count': 20},\n",
    "    {'id': '100898', 'position': 'Шагомер Omron HJA-306', 'count': 2},\n",
    "    {'id': '100934', 'position': 'Пульсометр Beurer PM62', 'count': 17},\n",
    "]\n",
    "csv_dict_boots = []\n",
    "\n",
    "for x in csv_dict:\n",
    "    if 'Ботинки' in x['position']:\n",
    "        csv_dict_boots.append(x)\n",
    "\n",
    "print(csv_dict_boots)\n"
   ],
   "metadata": {
    "collapsed": false,
    "pycharm": {
     "name": "#%%\n"
    }
   }
  },
  {
   "cell_type": "code",
   "execution_count": 92,
   "outputs": [
    {
     "name": "stdout",
     "output_type": "stream",
     "text": [
      "98\n"
     ]
    }
   ],
   "source": [
    "results = [\n",
    "\t{'cost': 98, 'source': 'vk'},\n",
    "\t{'cost': 153, 'source': 'yandex'},\n",
    "\t{'cost': 110, 'source': 'facebook'},\n",
    "]\n",
    "\n",
    "print(min(x['cost'] for x in results))\n",
    "\n",
    "min_value = min(x['cost'] for x in results)"
   ],
   "metadata": {
    "collapsed": false,
    "pycharm": {
     "name": "#%%\n"
    }
   }
  },
  {
   "cell_type": "markdown",
   "source": [
    "На каждом этапе производственной линии закладываются отклонения от исходных размеров, ведущие к деформации, т. е. после каждого этапа размер детали умножается на значение ключа damage:\n",
    "\n",
    "Если исходный размер детали принять за 100%, то на каком шаге повреждения приведут к размеру менее 90%?"
   ],
   "metadata": {
    "collapsed": false,
    "pycharm": {
     "name": "#%% md\n"
    }
   }
  },
  {
   "cell_type": "code",
   "execution_count": 2,
   "outputs": [
    {
     "name": "stdout",
     "output_type": "stream",
     "text": [
      "5\n"
     ]
    }
   ],
   "source": [
    "defect_stats = [\n",
    "\t{'step number': 1, 'damage': 0.98},\n",
    "\t{'step number': 2, 'damage': 0.99},\n",
    "\t{'step number': 3, 'damage': 0.99},\n",
    "\t{'step number': 4, 'damage': 0.96},\n",
    "\t{'step number': 5, 'damage': 0.97},\n",
    "\t{'step number': 6, 'damage': 0.97},\n",
    "]\n",
    "\n",
    "\n",
    "detail_size = 100\n",
    "for x in defect_stats:\n",
    "    detail_size *= x['damage']\n",
    "    if detail_size <= 90:\n",
    "        print(x['step number'])\n",
    "        break"
   ],
   "metadata": {
    "collapsed": false,
    "pycharm": {
     "name": "#%%\n"
    }
   }
  },
  {
   "cell_type": "markdown",
   "source": [
    "Имеется статистика курсов валют. Какая валюта имеет минимальный курс по отношению к рублю за 1 единицу? Для определения курса валюты необходимо значение ключа 'Value' разделить на значение ключа 'Nominal'. В качестве ответа укажите код валюты (например, AUD)\n"
   ],
   "metadata": {
    "collapsed": false,
    "pycharm": {
     "name": "#%% md\n"
    }
   }
  },
  {
   "cell_type": "code",
   "execution_count": 9,
   "outputs": [
    {
     "name": "stdout",
     "output_type": "stream",
     "text": [
      "AMD\n"
     ]
    }
   ],
   "source": [
    "currency = {\n",
    "\t'AMD': {\n",
    "\t\t'Name': 'Армянских драмов',\n",
    "\t\t'Nominal': 100,\n",
    "\t\t'Value': 13.121\n",
    "\t},\n",
    "\n",
    "\t'AUD': {\n",
    "\t\t'Name': 'Австралийский доллар',\n",
    "\t\t'Nominal': 1,\n",
    "\t\t'Value': 45.5309\n",
    "\t},\n",
    "\n",
    "\t'INR': {\n",
    "\t\t'Name': 'Индийских рупий',\n",
    "\t\t'Nominal': 100,\n",
    "\t\t'Value': 92.9658\n",
    "\t},\n",
    "\n",
    "\t'MDL': {\n",
    "\t\t'Name': 'Молдавских леев',\n",
    "\t\t'Nominal': 10,\n",
    "\t\t'Value': 36.9305\n",
    "\t},\n",
    "}\n",
    "\n",
    "sort_currency = {}\n",
    "for k, v in currency.items():\n",
    "    value = v['Value']\n",
    "    nominal = v['Nominal']\n",
    "    res = round(value / nominal, 2)\n",
    "    sort_currency.update({res: k})\n",
    "\n",
    "min_value = min(sort_currency)\n",
    "print(sort_currency[min_value])\n",
    "\n",
    "\n"
   ],
   "metadata": {
    "collapsed": false,
    "pycharm": {
     "name": "#%%\n"
    }
   }
  },
  {
   "cell_type": "markdown",
   "source": [
    "Согласно сайту www.bodycounters.com в четырех частях фильма “Пираты Карибского моря” было довольно много погибших. Вот их статистика:\n",
    "\n",
    "```python\n",
    "bodycount = {\n",
    "\t'Проклятие Черной жемчужины': {\n",
    "\t\t'человек': 17\n",
    "\t},\n",
    "\n",
    "\t'Сундук мертвеца': {\n",
    "\t\t'человек': 56,\n",
    "\t\t'раков-отшельников': 1\n",
    "\t},\n",
    "\n",
    "\t'На краю света': {\n",
    "\t\t'человек': 88\n",
    "\t},\n",
    "\n",
    "\t'На странных берегах': {\n",
    "\t\t'человек': 56,\n",
    "\t\t'русалок': 2,\n",
    "\t\t'ядовитых жаб': 3,\n",
    "\t\t'пиратов зомби': 2\n",
    "\t}\n",
    "}\n",
    "```\n",
    "Напишите скрипт, который считает общее число погибших живых существ во всех сериях. Укажите итоговое число в качестве ответа. Пиратов-зомби в последней части тоже считайте живыми.\n"
   ],
   "metadata": {
    "collapsed": false,
    "pycharm": {
     "name": "#%% md\n"
    }
   }
  },
  {
   "cell_type": "code",
   "execution_count": 14,
   "outputs": [
    {
     "name": "stdout",
     "output_type": "stream",
     "text": [
      "225\n"
     ]
    }
   ],
   "source": [
    "bodycount = {\n",
    "\t'Проклятие Черной жемчужины': {\n",
    "\t\t'человек': 17\n",
    "\t},\n",
    "\n",
    "\t'Сундук мертвеца': {\n",
    "\t\t'человек': 56,\n",
    "\t\t'раков-отшельников': 1\n",
    "\t},\n",
    "\n",
    "\t'На краю света': {\n",
    "\t\t'человек': 88\n",
    "\t},\n",
    "\n",
    "\t'На странных берегах': {\n",
    "\t\t'человек': 56,\n",
    "\t\t'русалок': 2,\n",
    "\t\t'ядовитых жаб': 3,\n",
    "\t\t'пиратов зомби': 2\n",
    "\t}\n",
    "}\n",
    "\n",
    "\n",
    "total_bodies = 0\n",
    "for name_film, stats  in bodycount.items():\n",
    "    for body, count in stats.items():\n",
    "        total_bodies += count\n",
    "\n",
    "print(total_bodies)"
   ],
   "metadata": {
    "collapsed": false,
    "pycharm": {
     "name": "#%%\n"
    }
   }
  },
  {
   "cell_type": "code",
   "execution_count": 19,
   "outputs": [
    {
     "name": "stdout",
     "output_type": "stream",
     "text": [
      "{'events_data': [{'id': 47946124, 'client_id': 62526, 'user_id': 110777, 'category': 'page', 'action': 'enter', 'options': {'name': 'landing'}}, {'id': 47947076, 'client_id': 61944, 'user_id': 108565, 'category': 'page', 'action': 'enter', 'options': {'name': 'landing'}}, {'id': 47962056, 'client_id': 27115, 'user_id': 49440, 'category': 'page', 'action': 'enter', 'options': {'name': 'page'}}, {'id': 47962120, 'client_id': 27115, 'user_id': 49440, 'category': 'datepicker', 'action': 'apply', 'options': {'endDate': '2019-03-31 23:59:59', 'startDate': '2019-03-25 00:00:00'}}, {'id': 47962218, 'client_id': 27115, 'user_id': 49440, 'category': 'table', 'action': 'sort', 'options': {'dir': 'ASC', 'name': 'deal_date'}}, {'id': 47962238, 'client_id': 27115, 'user_id': 49440, 'category': 'table', 'action': 'sort', 'options': {'dir': 'DESC', 'name': 'deal_date'}}, {'id': 47962532, 'client_id': 27115, 'user_id': 49440, 'category': 'table', 'action': 'sort', 'options': {'dir': 'ASC', 'name': 'deal_date'}}, {'id': 47962534, 'client_id': 27115, 'user_id': 49440, 'category': 'table', 'action': 'sort', 'options': {'dir': 'DESC', 'name': 'deal_date'}}, {'id': 47962696, 'client_id': 27115, 'user_id': 49440, 'category': 'datepicker', 'action': 'apply', 'options': {'endDate': '2019-03-10 23:59:59', 'startDate': '2019-03-04 00:00:00'}}, {'id': 47962748, 'client_id': 27115, 'user_id': 49440, 'category': 'datepicker', 'action': 'apply', 'options': {'endDate': '2019-02-24 23:59:59', 'startDate': '2019-02-18 00:00:00'}}, {'id': 47962830, 'client_id': 27115, 'user_id': 49440, 'category': 'datepicker', 'action': 'apply', 'options': {'endDate': '2019-03-31 23:59:59', 'startDate': '2019-03-25 00:00:00'}}, {'id': 47962860, 'client_id': 27115, 'user_id': 49440, 'category': 'datepicker', 'action': 'apply', 'options': {'endDate': '2019-03-31 23:59:59', 'startDate': '2019-03-28 00:00:00'}}, {'id': 47962952, 'client_id': 27115, 'user_id': 49440, 'category': 'datepicker', 'action': 'apply', 'options': {'endDate': '2019-03-31 23:59:59', 'startDate': '2019-03-29 00:00:00'}}, {'id': 47964366, 'client_id': 62017, 'user_id': 108835, 'category': 'page', 'action': 'enter', 'options': {'name': 'landing'}}, {'id': 47989384, 'client_id': 63120, 'user_id': 113069, 'category': 'page', 'action': 'enter', 'options': {'name': 'landing'}}, {'id': 48010418, 'client_id': 59883, 'user_id': 108493, 'category': 'page', 'action': 'enter', 'options': {'name': 'landing'}}, {'id': 48012170, 'client_id': 2913, 'user_id': 37412, 'category': 'page', 'action': 'enter', 'options': {'name': 'landing'}}, {'id': 48014430, 'client_id': 62940, 'user_id': 112351, 'category': 'page', 'action': 'enter', 'options': {'name': 'landing'}}, {'id': 48022684, 'client_id': 63149, 'user_id': 113143, 'category': 'page', 'action': 'enter', 'options': {'name': 'landing'}}, {'id': 48026886, 'client_id': 45391, 'user_id': 76047, 'category': 'page', 'action': 'enter', 'options': {'name': 'landing'}}, {'id': 48034878, 'client_id': 18923, 'user_id': 36488, 'category': 'page', 'action': 'enter', 'options': {'name': 'landing'}}, {'id': 48042052, 'client_id': 63019, 'user_id': 113169, 'category': 'page', 'action': 'enter', 'options': {'name': 'landing'}}, {'id': 48043326, 'client_id': 18923, 'user_id': 36488, 'category': 'page', 'action': 'enter', 'options': {'name': 'landing'}}, {'id': 48043640, 'client_id': 18923, 'user_id': 36488, 'category': 'page', 'action': 'enter', 'options': {'name': 'landing'}}, {'id': 48051248, 'client_id': 15759, 'user_id': 92681, 'category': 'page', 'action': 'enter', 'options': {'name': 'landing'}}, {'id': 48061250, 'client_id': 62007, 'user_id': 92681, 'category': 'page', 'action': 'enter', 'options': {'name': 'page'}}, {'id': 48066902, 'client_id': 62941, 'user_id': 112357, 'category': 'page', 'action': 'enter', 'options': {'name': 'landing'}}, {'id': 48081876, 'client_id': 51009, 'user_id': 87778, 'category': 'page', 'action': 'enter', 'options': {'name': 'landing'}}, {'id': 48106514, 'client_id': 62236, 'user_id': 109579, 'category': 'page', 'action': 'enter', 'options': {'name': 'landing'}}, {'id': 48110768, 'client_id': 44682, 'user_id': 74909, 'category': 'page', 'action': 'enter', 'options': {'name': 'landing'}}, {'id': 48114652, 'client_id': 39709, 'user_id': 67955, 'category': 'page', 'action': 'enter', 'options': {'name': 'landing'}}, {'id': 48118216, 'client_id': 60459, 'user_id': 32532, 'category': 'page', 'action': 'enter', 'options': {'name': 'page'}}, {'id': 48118370, 'client_id': 62144, 'user_id': 109283, 'category': 'page', 'action': 'enter', 'options': {'name': 'landing'}}, {'id': 48118516, 'client_id': 60459, 'user_id': 32532, 'category': 'report', 'action': 'change_mode', 'options': {'mode': 'deals'}}, {'id': 48118564, 'client_id': 60459, 'user_id': 32532, 'category': 'report', 'action': 'change_mode', 'options': {'mode': 'summary'}}, {'id': 48118590, 'client_id': 60459, 'user_id': 32532, 'category': 'report', 'action': 'change_mode', 'options': {'mode': 'deals'}}, {'id': 48118920, 'client_id': 60459, 'user_id': 32532, 'category': 'report', 'action': 'change_mode', 'options': {'mode': 'summary'}}, {'id': 48120374, 'client_id': 60459, 'user_id': 32532, 'category': 'page', 'action': 'enter', 'options': {'name': 'page'}}, {'id': 48120386, 'client_id': 60459, 'user_id': 32532, 'category': 'report', 'action': 'change_mode', 'options': {'mode': 'deals'}}, {'id': 48120602, 'client_id': 52492, 'user_id': 91178, 'category': 'page', 'action': 'enter', 'options': {'name': 'page'}}, {'id': 48120604, 'client_id': 52492, 'user_id': 105477, 'category': 'page', 'action': 'enter', 'options': {'name': 'page'}}, {'id': 48120770, 'client_id': 60459, 'user_id': 32532, 'category': 'page', 'action': 'enter', 'options': {'name': 'page'}}, {'id': 48120876, 'client_id': 60459, 'user_id': 32532, 'category': 'table', 'action': 'sort', 'options': {'dir': 'ASC', 'name': 'visitor_id'}}, {'id': 48120896, 'client_id': 60459, 'user_id': 32532, 'category': 'table', 'action': 'sort', 'options': {'dir': 'DESC', 'name': 'visitor_id'}}, {'id': 48121006, 'client_id': 60459, 'user_id': 32532, 'category': 'table', 'action': 'sort', 'options': {'dir': 'ASC', 'name': 'visitor_id'}}, {'id': 48121008, 'client_id': 60459, 'user_id': 32532, 'category': 'table', 'action': 'sort', 'options': {'dir': 'DESC', 'name': 'visitor_id'}}, {'id': 48125372, 'client_id': 52492, 'user_id': 91178, 'category': 'page', 'action': 'enter', 'options': {'name': 'page'}}, {'id': 48130434, 'client_id': 18923, 'user_id': 36488, 'category': 'page', 'action': 'enter', 'options': {'name': 'landing'}}, {'id': 48135712, 'client_id': 25301, 'user_id': 54229, 'category': 'page', 'action': 'enter', 'options': {'name': 'landing'}}, {'id': 48136376, 'client_id': 18923, 'user_id': 36488, 'category': 'page', 'action': 'enter', 'options': {'name': 'landing'}}, {'id': 48136890, 'client_id': 33645, 'user_id': 61378, 'category': 'page', 'action': 'enter', 'options': {'name': 'landing'}}, {'id': 48145332, 'client_id': 62089, 'user_id': 109095, 'category': 'page', 'action': 'enter', 'options': {'name': 'landing'}}, {'id': 48155244, 'client_id': 26705, 'user_id': 48880, 'category': 'page', 'action': 'enter', 'options': {'name': 'landing'}}, {'id': 48160942, 'client_id': 1103, 'user_id': 109501, 'category': 'page', 'action': 'enter', 'options': {'name': 'page'}}, {'id': 48166190, 'client_id': 62439, 'user_id': 110397, 'category': 'page', 'action': 'enter', 'options': {'name': 'landing'}}, {'id': 48167428, 'client_id': 44196, 'user_id': 74136, 'category': 'page', 'action': 'enter', 'options': {'name': 'landing'}}, {'id': 48171114, 'client_id': 62602, 'user_id': 111069, 'category': 'page', 'action': 'enter', 'options': {'name': 'page'}}, {'id': 48173426, 'client_id': 62602, 'user_id': 111069, 'category': 'page', 'action': 'enter', 'options': {'name': 'page'}}, {'id': 48173444, 'client_id': 62602, 'user_id': 111069, 'category': 'report', 'action': 'link_click', 'options': {'url': 'javascript:void(0);', 'name': 'deal_count', 'value': '1'}}, {'id': 48173446, 'client_id': 62602, 'user_id': 111069, 'category': 'page', 'action': 'enter', 'options': {'name': 'page'}}, {'id': 48173640, 'client_id': 62602, 'user_id': 111069, 'category': 'page', 'action': 'enter', 'options': {'name': 'page'}}, {'id': 48173686, 'client_id': 62602, 'user_id': 111069, 'category': 'page', 'action': 'enter', 'options': {'name': 'page'}}, {'id': 48173698, 'client_id': 62602, 'user_id': 111069, 'category': 'page', 'action': 'enter', 'options': {'name': 'page'}}, {'id': 48174302, 'client_id': 62602, 'user_id': 111069, 'category': 'page', 'action': 'enter', 'options': {'name': 'page'}}, {'id': 48174312, 'client_id': 62602, 'user_id': 111069, 'category': 'report', 'action': 'link_click', 'options': {'url': 'javascript:void(0);', 'name': 'deal_count', 'value': '1'}}, {'id': 48174314, 'client_id': 62602, 'user_id': 111069, 'category': 'page', 'action': 'enter', 'options': {'name': 'page'}}, {'id': 48174338, 'client_id': 62602, 'user_id': 111069, 'category': 'page', 'action': 'enter', 'options': {'name': 'page'}}, {'id': 48179988, 'client_id': 50149, 'user_id': 86073, 'category': 'page', 'action': 'enter', 'options': {'name': 'landing'}}, {'id': 57301281, 'client_id': 57009, 'user_id': 107244, 'category': 'page', 'action': 'enter', 'options': {'name': 'landing'}}, {'id': 57326589, 'client_id': 57207, 'user_id': 107968, 'category': 'page', 'action': 'enter', 'options': {'name': 'landing'}}, {'id': 57328781, 'client_id': 32792, 'user_id': 57997, 'category': 'page', 'action': 'enter', 'options': {'name': 'landing'}}, {'id': 57335607, 'client_id': 27323, 'user_id': 92681, 'category': 'page', 'action': 'enter', 'options': {'name': 'landing'}}, {'id': 57355249, 'client_id': 24500, 'user_id': 45371, 'category': 'page', 'action': 'enter', 'options': {'name': 'landing'}}, {'id': 57357969, 'client_id': 24500, 'user_id': 45371, 'category': 'page', 'action': 'enter', 'options': {'name': 'page'}}, {'id': 57364085, 'client_id': 58330, 'user_id': 122756, 'category': 'page', 'action': 'enter', 'options': {'name': 'landing'}}, {'id': 57368897, 'client_id': 61245, 'user_id': 122796, 'category': 'page', 'action': 'enter', 'options': {'name': 'landing'}}, {'id': 57380235, 'client_id': 19799, 'user_id': 108493, 'category': 'page', 'action': 'enter', 'options': {'name': 'landing'}}, {'id': 57397813, 'client_id': 56544, 'user_id': 105404, 'category': 'page', 'action': 'enter', 'options': {'name': 'page'}}, {'id': 57397881, 'client_id': 56544, 'user_id': 105404, 'category': 'datepicker', 'action': 'apply', 'options': {'endDate': '2019-03-31 23:59:59', 'startDate': '2019-03-31 00:00:00'}}, {'id': 57397923, 'client_id': 56544, 'user_id': 105404, 'category': 'datepicker', 'action': 'apply', 'options': {'endDate': '2019-03-30 23:59:59', 'startDate': '2019-03-30 00:00:00'}}, {'id': 57397987, 'client_id': 56544, 'user_id': 105404, 'category': 'datepicker', 'action': 'apply', 'options': {'endDate': '2019-03-29 23:59:59', 'startDate': '2019-03-29 00:00:00'}}, {'id': 57398079, 'client_id': 56544, 'user_id': 105404, 'category': 'datepicker', 'action': 'apply', 'options': {'endDate': '2019-03-28 23:59:59', 'startDate': '2019-03-28 00:00:00'}}, {'id': 57398119, 'client_id': 56544, 'user_id': 105404, 'category': 'datepicker', 'action': 'apply', 'options': {'endDate': '2019-03-27 23:59:59', 'startDate': '2019-03-27 00:00:00'}}, {'id': 57398165, 'client_id': 56544, 'user_id': 105404, 'category': 'datepicker', 'action': 'apply', 'options': {'endDate': '2019-03-26 23:59:59', 'startDate': '2019-03-26 00:00:00'}}, {'id': 57398203, 'client_id': 56544, 'user_id': 105404, 'category': 'datepicker', 'action': 'apply', 'options': {'endDate': '2019-03-25 23:59:59', 'startDate': '2019-03-25 00:00:00'}}, {'id': 57414209, 'client_id': 23207, 'user_id': 43300, 'category': 'page', 'action': 'enter', 'options': {'name': 'landing'}}, {'id': 57414633, 'client_id': 23207, 'user_id': 43300, 'category': 'page', 'action': 'enter', 'options': {'name': 'landing'}}, {'id': 57414663, 'client_id': 23207, 'user_id': 85282, 'category': 'page', 'action': 'enter', 'options': {'name': 'landing'}}, {'id': 57414851, 'client_id': 23207, 'user_id': 43300, 'category': 'page', 'action': 'enter', 'options': {'name': 'landing'}}, {'id': 57420219, 'client_id': 48128, 'user_id': 121686, 'category': 'page', 'action': 'enter', 'options': {'name': 'landing'}}, {'id': 57424709, 'client_id': 58113, 'user_id': 120952, 'category': 'page', 'action': 'enter', 'options': {'name': 'page'}}, {'id': 57424757, 'client_id': 58113, 'user_id': 120952, 'category': 'report', 'action': 'change_mode', 'options': {'mode': 'deals'}}, {'id': 57425399, 'client_id': 58113, 'user_id': 120952, 'category': 'table', 'action': 'sort', 'options': {'dir': 'ASC', 'name': 'ac'}}, {'id': 57425421, 'client_id': 58113, 'user_id': 120952, 'category': 'table', 'action': 'sort', 'options': {'dir': 'DESC', 'name': 'ac'}}, {'id': 57426007, 'client_id': 58113, 'user_id': 120952, 'category': 'datepicker', 'action': 'apply', 'options': {'endDate': '2019-03-24 23:59:59', 'startDate': '2019-03-18 00:00:00'}}, {'id': 57426303, 'client_id': 58113, 'user_id': 120952, 'category': 'datepicker', 'action': 'apply', 'options': {'endDate': '2019-03-17 23:59:59', 'startDate': '2019-03-11 00:00:00'}}, {'id': 57431787, 'client_id': 58113, 'user_id': 120952, 'category': 'page', 'action': 'enter', 'options': {'name': 'page'}}, {'id': 57444593, 'client_id': 57613, 'user_id': 110958, 'category': 'page', 'action': 'enter', 'options': {'name': 'landing'}}, {'id': 57453741, 'client_id': 61244, 'user_id': 120170, 'category': 'page', 'action': 'enter', 'options': {'name': 'landing'}}, {'id': 57467371, 'client_id': 53666, 'user_id': 122224, 'category': 'page', 'action': 'enter', 'options': {'name': 'landing'}}, {'id': 57473917, 'client_id': 53018, 'user_id': 92402, 'category': 'page', 'action': 'enter', 'options': {'name': 'landing'}}, {'id': 57475785, 'client_id': 53666, 'user_id': 122224, 'category': 'page', 'action': 'enter', 'options': {'name': 'landing'}}, {'id': 57492477, 'client_id': 41737, 'user_id': 122874, 'category': 'page', 'action': 'enter', 'options': {'name': 'landing'}}, {'id': 57493427, 'client_id': 61078, 'user_id': 119662, 'category': 'page', 'action': 'enter', 'options': {'name': 'landing'}}, {'id': 57515935, 'client_id': 20820, 'user_id': 116898, 'category': 'page', 'action': 'enter', 'options': {'name': 'landing'}}, {'id': 57517657, 'client_id': 41737, 'user_id': 122874, 'category': 'page', 'action': 'enter', 'options': {'name': 'landing'}}, {'id': 57540495, 'client_id': 49700, 'user_id': 84946, 'category': 'page', 'action': 'enter', 'options': {'name': 'landing'}}]}\n"
     ]
    },
    {
     "data": {
      "text/plain": "dict_keys(['events_data'])"
     },
     "execution_count": 19,
     "metadata": {},
     "output_type": "execute_result"
    }
   ],
   "source": [
    "import json\n",
    "with open('data.json', 'rb') as infile:\n",
    "    data = json.load(infile)\n",
    "\n",
    "print(data)\n",
    "type(data)\n",
    "data.keys()"
   ],
   "metadata": {
    "collapsed": false,
    "pycharm": {
     "name": "#%%\n"
    }
   }
  },
  {
   "cell_type": "code",
   "execution_count": 21,
   "outputs": [
    {
     "name": "stdout",
     "output_type": "stream",
     "text": [
      "[{'action': 'enter',\n",
      "  'category': 'page',\n",
      "  'client_id': 62526,\n",
      "  'id': 47946124,\n",
      "  'options': {'name': 'landing'},\n",
      "  'user_id': 110777},\n",
      " {'action': 'enter',\n",
      "  'category': 'page',\n",
      "  'client_id': 61944,\n",
      "  'id': 47947076,\n",
      "  'options': {'name': 'landing'},\n",
      "  'user_id': 108565},\n",
      " {'action': 'enter',\n",
      "  'category': 'page',\n",
      "  'client_id': 27115,\n",
      "  'id': 47962056,\n",
      "  'options': {'name': 'page'},\n",
      "  'user_id': 49440},\n",
      " {'action': 'apply',\n",
      "  'category': 'datepicker',\n",
      "  'client_id': 27115,\n",
      "  'id': 47962120,\n",
      "  'options': {'endDate': '2019-03-31 23:59:59',\n",
      "              'startDate': '2019-03-25 00:00:00'},\n",
      "  'user_id': 49440},\n",
      " {'action': 'sort',\n",
      "  'category': 'table',\n",
      "  'client_id': 27115,\n",
      "  'id': 47962218,\n",
      "  'options': {'dir': 'ASC', 'name': 'deal_date'},\n",
      "  'user_id': 49440},\n",
      " {'action': 'sort',\n",
      "  'category': 'table',\n",
      "  'client_id': 27115,\n",
      "  'id': 47962238,\n",
      "  'options': {'dir': 'DESC', 'name': 'deal_date'},\n",
      "  'user_id': 49440},\n",
      " {'action': 'sort',\n",
      "  'category': 'table',\n",
      "  'client_id': 27115,\n",
      "  'id': 47962532,\n",
      "  'options': {'dir': 'ASC', 'name': 'deal_date'},\n",
      "  'user_id': 49440},\n",
      " {'action': 'sort',\n",
      "  'category': 'table',\n",
      "  'client_id': 27115,\n",
      "  'id': 47962534,\n",
      "  'options': {'dir': 'DESC', 'name': 'deal_date'},\n",
      "  'user_id': 49440},\n",
      " {'action': 'apply',\n",
      "  'category': 'datepicker',\n",
      "  'client_id': 27115,\n",
      "  'id': 47962696,\n",
      "  'options': {'endDate': '2019-03-10 23:59:59',\n",
      "              'startDate': '2019-03-04 00:00:00'},\n",
      "  'user_id': 49440},\n",
      " {'action': 'apply',\n",
      "  'category': 'datepicker',\n",
      "  'client_id': 27115,\n",
      "  'id': 47962748,\n",
      "  'options': {'endDate': '2019-02-24 23:59:59',\n",
      "              'startDate': '2019-02-18 00:00:00'},\n",
      "  'user_id': 49440},\n",
      " {'action': 'apply',\n",
      "  'category': 'datepicker',\n",
      "  'client_id': 27115,\n",
      "  'id': 47962830,\n",
      "  'options': {'endDate': '2019-03-31 23:59:59',\n",
      "              'startDate': '2019-03-25 00:00:00'},\n",
      "  'user_id': 49440},\n",
      " {'action': 'apply',\n",
      "  'category': 'datepicker',\n",
      "  'client_id': 27115,\n",
      "  'id': 47962860,\n",
      "  'options': {'endDate': '2019-03-31 23:59:59',\n",
      "              'startDate': '2019-03-28 00:00:00'},\n",
      "  'user_id': 49440},\n",
      " {'action': 'apply',\n",
      "  'category': 'datepicker',\n",
      "  'client_id': 27115,\n",
      "  'id': 47962952,\n",
      "  'options': {'endDate': '2019-03-31 23:59:59',\n",
      "              'startDate': '2019-03-29 00:00:00'},\n",
      "  'user_id': 49440},\n",
      " {'action': 'enter',\n",
      "  'category': 'page',\n",
      "  'client_id': 62017,\n",
      "  'id': 47964366,\n",
      "  'options': {'name': 'landing'},\n",
      "  'user_id': 108835},\n",
      " {'action': 'enter',\n",
      "  'category': 'page',\n",
      "  'client_id': 63120,\n",
      "  'id': 47989384,\n",
      "  'options': {'name': 'landing'},\n",
      "  'user_id': 113069},\n",
      " {'action': 'enter',\n",
      "  'category': 'page',\n",
      "  'client_id': 59883,\n",
      "  'id': 48010418,\n",
      "  'options': {'name': 'landing'},\n",
      "  'user_id': 108493},\n",
      " {'action': 'enter',\n",
      "  'category': 'page',\n",
      "  'client_id': 2913,\n",
      "  'id': 48012170,\n",
      "  'options': {'name': 'landing'},\n",
      "  'user_id': 37412},\n",
      " {'action': 'enter',\n",
      "  'category': 'page',\n",
      "  'client_id': 62940,\n",
      "  'id': 48014430,\n",
      "  'options': {'name': 'landing'},\n",
      "  'user_id': 112351},\n",
      " {'action': 'enter',\n",
      "  'category': 'page',\n",
      "  'client_id': 63149,\n",
      "  'id': 48022684,\n",
      "  'options': {'name': 'landing'},\n",
      "  'user_id': 113143},\n",
      " {'action': 'enter',\n",
      "  'category': 'page',\n",
      "  'client_id': 45391,\n",
      "  'id': 48026886,\n",
      "  'options': {'name': 'landing'},\n",
      "  'user_id': 76047},\n",
      " {'action': 'enter',\n",
      "  'category': 'page',\n",
      "  'client_id': 18923,\n",
      "  'id': 48034878,\n",
      "  'options': {'name': 'landing'},\n",
      "  'user_id': 36488},\n",
      " {'action': 'enter',\n",
      "  'category': 'page',\n",
      "  'client_id': 63019,\n",
      "  'id': 48042052,\n",
      "  'options': {'name': 'landing'},\n",
      "  'user_id': 113169},\n",
      " {'action': 'enter',\n",
      "  'category': 'page',\n",
      "  'client_id': 18923,\n",
      "  'id': 48043326,\n",
      "  'options': {'name': 'landing'},\n",
      "  'user_id': 36488},\n",
      " {'action': 'enter',\n",
      "  'category': 'page',\n",
      "  'client_id': 18923,\n",
      "  'id': 48043640,\n",
      "  'options': {'name': 'landing'},\n",
      "  'user_id': 36488},\n",
      " {'action': 'enter',\n",
      "  'category': 'page',\n",
      "  'client_id': 15759,\n",
      "  'id': 48051248,\n",
      "  'options': {'name': 'landing'},\n",
      "  'user_id': 92681},\n",
      " {'action': 'enter',\n",
      "  'category': 'page',\n",
      "  'client_id': 62007,\n",
      "  'id': 48061250,\n",
      "  'options': {'name': 'page'},\n",
      "  'user_id': 92681},\n",
      " {'action': 'enter',\n",
      "  'category': 'page',\n",
      "  'client_id': 62941,\n",
      "  'id': 48066902,\n",
      "  'options': {'name': 'landing'},\n",
      "  'user_id': 112357},\n",
      " {'action': 'enter',\n",
      "  'category': 'page',\n",
      "  'client_id': 51009,\n",
      "  'id': 48081876,\n",
      "  'options': {'name': 'landing'},\n",
      "  'user_id': 87778},\n",
      " {'action': 'enter',\n",
      "  'category': 'page',\n",
      "  'client_id': 62236,\n",
      "  'id': 48106514,\n",
      "  'options': {'name': 'landing'},\n",
      "  'user_id': 109579},\n",
      " {'action': 'enter',\n",
      "  'category': 'page',\n",
      "  'client_id': 44682,\n",
      "  'id': 48110768,\n",
      "  'options': {'name': 'landing'},\n",
      "  'user_id': 74909},\n",
      " {'action': 'enter',\n",
      "  'category': 'page',\n",
      "  'client_id': 39709,\n",
      "  'id': 48114652,\n",
      "  'options': {'name': 'landing'},\n",
      "  'user_id': 67955},\n",
      " {'action': 'enter',\n",
      "  'category': 'page',\n",
      "  'client_id': 60459,\n",
      "  'id': 48118216,\n",
      "  'options': {'name': 'page'},\n",
      "  'user_id': 32532},\n",
      " {'action': 'enter',\n",
      "  'category': 'page',\n",
      "  'client_id': 62144,\n",
      "  'id': 48118370,\n",
      "  'options': {'name': 'landing'},\n",
      "  'user_id': 109283},\n",
      " {'action': 'change_mode',\n",
      "  'category': 'report',\n",
      "  'client_id': 60459,\n",
      "  'id': 48118516,\n",
      "  'options': {'mode': 'deals'},\n",
      "  'user_id': 32532},\n",
      " {'action': 'change_mode',\n",
      "  'category': 'report',\n",
      "  'client_id': 60459,\n",
      "  'id': 48118564,\n",
      "  'options': {'mode': 'summary'},\n",
      "  'user_id': 32532},\n",
      " {'action': 'change_mode',\n",
      "  'category': 'report',\n",
      "  'client_id': 60459,\n",
      "  'id': 48118590,\n",
      "  'options': {'mode': 'deals'},\n",
      "  'user_id': 32532},\n",
      " {'action': 'change_mode',\n",
      "  'category': 'report',\n",
      "  'client_id': 60459,\n",
      "  'id': 48118920,\n",
      "  'options': {'mode': 'summary'},\n",
      "  'user_id': 32532},\n",
      " {'action': 'enter',\n",
      "  'category': 'page',\n",
      "  'client_id': 60459,\n",
      "  'id': 48120374,\n",
      "  'options': {'name': 'page'},\n",
      "  'user_id': 32532},\n",
      " {'action': 'change_mode',\n",
      "  'category': 'report',\n",
      "  'client_id': 60459,\n",
      "  'id': 48120386,\n",
      "  'options': {'mode': 'deals'},\n",
      "  'user_id': 32532},\n",
      " {'action': 'enter',\n",
      "  'category': 'page',\n",
      "  'client_id': 52492,\n",
      "  'id': 48120602,\n",
      "  'options': {'name': 'page'},\n",
      "  'user_id': 91178},\n",
      " {'action': 'enter',\n",
      "  'category': 'page',\n",
      "  'client_id': 52492,\n",
      "  'id': 48120604,\n",
      "  'options': {'name': 'page'},\n",
      "  'user_id': 105477},\n",
      " {'action': 'enter',\n",
      "  'category': 'page',\n",
      "  'client_id': 60459,\n",
      "  'id': 48120770,\n",
      "  'options': {'name': 'page'},\n",
      "  'user_id': 32532},\n",
      " {'action': 'sort',\n",
      "  'category': 'table',\n",
      "  'client_id': 60459,\n",
      "  'id': 48120876,\n",
      "  'options': {'dir': 'ASC', 'name': 'visitor_id'},\n",
      "  'user_id': 32532},\n",
      " {'action': 'sort',\n",
      "  'category': 'table',\n",
      "  'client_id': 60459,\n",
      "  'id': 48120896,\n",
      "  'options': {'dir': 'DESC', 'name': 'visitor_id'},\n",
      "  'user_id': 32532},\n",
      " {'action': 'sort',\n",
      "  'category': 'table',\n",
      "  'client_id': 60459,\n",
      "  'id': 48121006,\n",
      "  'options': {'dir': 'ASC', 'name': 'visitor_id'},\n",
      "  'user_id': 32532},\n",
      " {'action': 'sort',\n",
      "  'category': 'table',\n",
      "  'client_id': 60459,\n",
      "  'id': 48121008,\n",
      "  'options': {'dir': 'DESC', 'name': 'visitor_id'},\n",
      "  'user_id': 32532},\n",
      " {'action': 'enter',\n",
      "  'category': 'page',\n",
      "  'client_id': 52492,\n",
      "  'id': 48125372,\n",
      "  'options': {'name': 'page'},\n",
      "  'user_id': 91178},\n",
      " {'action': 'enter',\n",
      "  'category': 'page',\n",
      "  'client_id': 18923,\n",
      "  'id': 48130434,\n",
      "  'options': {'name': 'landing'},\n",
      "  'user_id': 36488},\n",
      " {'action': 'enter',\n",
      "  'category': 'page',\n",
      "  'client_id': 25301,\n",
      "  'id': 48135712,\n",
      "  'options': {'name': 'landing'},\n",
      "  'user_id': 54229},\n",
      " {'action': 'enter',\n",
      "  'category': 'page',\n",
      "  'client_id': 18923,\n",
      "  'id': 48136376,\n",
      "  'options': {'name': 'landing'},\n",
      "  'user_id': 36488},\n",
      " {'action': 'enter',\n",
      "  'category': 'page',\n",
      "  'client_id': 33645,\n",
      "  'id': 48136890,\n",
      "  'options': {'name': 'landing'},\n",
      "  'user_id': 61378},\n",
      " {'action': 'enter',\n",
      "  'category': 'page',\n",
      "  'client_id': 62089,\n",
      "  'id': 48145332,\n",
      "  'options': {'name': 'landing'},\n",
      "  'user_id': 109095},\n",
      " {'action': 'enter',\n",
      "  'category': 'page',\n",
      "  'client_id': 26705,\n",
      "  'id': 48155244,\n",
      "  'options': {'name': 'landing'},\n",
      "  'user_id': 48880},\n",
      " {'action': 'enter',\n",
      "  'category': 'page',\n",
      "  'client_id': 1103,\n",
      "  'id': 48160942,\n",
      "  'options': {'name': 'page'},\n",
      "  'user_id': 109501},\n",
      " {'action': 'enter',\n",
      "  'category': 'page',\n",
      "  'client_id': 62439,\n",
      "  'id': 48166190,\n",
      "  'options': {'name': 'landing'},\n",
      "  'user_id': 110397},\n",
      " {'action': 'enter',\n",
      "  'category': 'page',\n",
      "  'client_id': 44196,\n",
      "  'id': 48167428,\n",
      "  'options': {'name': 'landing'},\n",
      "  'user_id': 74136},\n",
      " {'action': 'enter',\n",
      "  'category': 'page',\n",
      "  'client_id': 62602,\n",
      "  'id': 48171114,\n",
      "  'options': {'name': 'page'},\n",
      "  'user_id': 111069},\n",
      " {'action': 'enter',\n",
      "  'category': 'page',\n",
      "  'client_id': 62602,\n",
      "  'id': 48173426,\n",
      "  'options': {'name': 'page'},\n",
      "  'user_id': 111069},\n",
      " {'action': 'link_click',\n",
      "  'category': 'report',\n",
      "  'client_id': 62602,\n",
      "  'id': 48173444,\n",
      "  'options': {'name': 'deal_count', 'url': 'javascript:void(0);', 'value': '1'},\n",
      "  'user_id': 111069},\n",
      " {'action': 'enter',\n",
      "  'category': 'page',\n",
      "  'client_id': 62602,\n",
      "  'id': 48173446,\n",
      "  'options': {'name': 'page'},\n",
      "  'user_id': 111069},\n",
      " {'action': 'enter',\n",
      "  'category': 'page',\n",
      "  'client_id': 62602,\n",
      "  'id': 48173640,\n",
      "  'options': {'name': 'page'},\n",
      "  'user_id': 111069},\n",
      " {'action': 'enter',\n",
      "  'category': 'page',\n",
      "  'client_id': 62602,\n",
      "  'id': 48173686,\n",
      "  'options': {'name': 'page'},\n",
      "  'user_id': 111069},\n",
      " {'action': 'enter',\n",
      "  'category': 'page',\n",
      "  'client_id': 62602,\n",
      "  'id': 48173698,\n",
      "  'options': {'name': 'page'},\n",
      "  'user_id': 111069},\n",
      " {'action': 'enter',\n",
      "  'category': 'page',\n",
      "  'client_id': 62602,\n",
      "  'id': 48174302,\n",
      "  'options': {'name': 'page'},\n",
      "  'user_id': 111069},\n",
      " {'action': 'link_click',\n",
      "  'category': 'report',\n",
      "  'client_id': 62602,\n",
      "  'id': 48174312,\n",
      "  'options': {'name': 'deal_count', 'url': 'javascript:void(0);', 'value': '1'},\n",
      "  'user_id': 111069},\n",
      " {'action': 'enter',\n",
      "  'category': 'page',\n",
      "  'client_id': 62602,\n",
      "  'id': 48174314,\n",
      "  'options': {'name': 'page'},\n",
      "  'user_id': 111069},\n",
      " {'action': 'enter',\n",
      "  'category': 'page',\n",
      "  'client_id': 62602,\n",
      "  'id': 48174338,\n",
      "  'options': {'name': 'page'},\n",
      "  'user_id': 111069},\n",
      " {'action': 'enter',\n",
      "  'category': 'page',\n",
      "  'client_id': 50149,\n",
      "  'id': 48179988,\n",
      "  'options': {'name': 'landing'},\n",
      "  'user_id': 86073},\n",
      " {'action': 'enter',\n",
      "  'category': 'page',\n",
      "  'client_id': 57009,\n",
      "  'id': 57301281,\n",
      "  'options': {'name': 'landing'},\n",
      "  'user_id': 107244},\n",
      " {'action': 'enter',\n",
      "  'category': 'page',\n",
      "  'client_id': 57207,\n",
      "  'id': 57326589,\n",
      "  'options': {'name': 'landing'},\n",
      "  'user_id': 107968},\n",
      " {'action': 'enter',\n",
      "  'category': 'page',\n",
      "  'client_id': 32792,\n",
      "  'id': 57328781,\n",
      "  'options': {'name': 'landing'},\n",
      "  'user_id': 57997},\n",
      " {'action': 'enter',\n",
      "  'category': 'page',\n",
      "  'client_id': 27323,\n",
      "  'id': 57335607,\n",
      "  'options': {'name': 'landing'},\n",
      "  'user_id': 92681},\n",
      " {'action': 'enter',\n",
      "  'category': 'page',\n",
      "  'client_id': 24500,\n",
      "  'id': 57355249,\n",
      "  'options': {'name': 'landing'},\n",
      "  'user_id': 45371},\n",
      " {'action': 'enter',\n",
      "  'category': 'page',\n",
      "  'client_id': 24500,\n",
      "  'id': 57357969,\n",
      "  'options': {'name': 'page'},\n",
      "  'user_id': 45371},\n",
      " {'action': 'enter',\n",
      "  'category': 'page',\n",
      "  'client_id': 58330,\n",
      "  'id': 57364085,\n",
      "  'options': {'name': 'landing'},\n",
      "  'user_id': 122756},\n",
      " {'action': 'enter',\n",
      "  'category': 'page',\n",
      "  'client_id': 61245,\n",
      "  'id': 57368897,\n",
      "  'options': {'name': 'landing'},\n",
      "  'user_id': 122796},\n",
      " {'action': 'enter',\n",
      "  'category': 'page',\n",
      "  'client_id': 19799,\n",
      "  'id': 57380235,\n",
      "  'options': {'name': 'landing'},\n",
      "  'user_id': 108493},\n",
      " {'action': 'enter',\n",
      "  'category': 'page',\n",
      "  'client_id': 56544,\n",
      "  'id': 57397813,\n",
      "  'options': {'name': 'page'},\n",
      "  'user_id': 105404},\n",
      " {'action': 'apply',\n",
      "  'category': 'datepicker',\n",
      "  'client_id': 56544,\n",
      "  'id': 57397881,\n",
      "  'options': {'endDate': '2019-03-31 23:59:59',\n",
      "              'startDate': '2019-03-31 00:00:00'},\n",
      "  'user_id': 105404},\n",
      " {'action': 'apply',\n",
      "  'category': 'datepicker',\n",
      "  'client_id': 56544,\n",
      "  'id': 57397923,\n",
      "  'options': {'endDate': '2019-03-30 23:59:59',\n",
      "              'startDate': '2019-03-30 00:00:00'},\n",
      "  'user_id': 105404},\n",
      " {'action': 'apply',\n",
      "  'category': 'datepicker',\n",
      "  'client_id': 56544,\n",
      "  'id': 57397987,\n",
      "  'options': {'endDate': '2019-03-29 23:59:59',\n",
      "              'startDate': '2019-03-29 00:00:00'},\n",
      "  'user_id': 105404},\n",
      " {'action': 'apply',\n",
      "  'category': 'datepicker',\n",
      "  'client_id': 56544,\n",
      "  'id': 57398079,\n",
      "  'options': {'endDate': '2019-03-28 23:59:59',\n",
      "              'startDate': '2019-03-28 00:00:00'},\n",
      "  'user_id': 105404},\n",
      " {'action': 'apply',\n",
      "  'category': 'datepicker',\n",
      "  'client_id': 56544,\n",
      "  'id': 57398119,\n",
      "  'options': {'endDate': '2019-03-27 23:59:59',\n",
      "              'startDate': '2019-03-27 00:00:00'},\n",
      "  'user_id': 105404},\n",
      " {'action': 'apply',\n",
      "  'category': 'datepicker',\n",
      "  'client_id': 56544,\n",
      "  'id': 57398165,\n",
      "  'options': {'endDate': '2019-03-26 23:59:59',\n",
      "              'startDate': '2019-03-26 00:00:00'},\n",
      "  'user_id': 105404},\n",
      " {'action': 'apply',\n",
      "  'category': 'datepicker',\n",
      "  'client_id': 56544,\n",
      "  'id': 57398203,\n",
      "  'options': {'endDate': '2019-03-25 23:59:59',\n",
      "              'startDate': '2019-03-25 00:00:00'},\n",
      "  'user_id': 105404},\n",
      " {'action': 'enter',\n",
      "  'category': 'page',\n",
      "  'client_id': 23207,\n",
      "  'id': 57414209,\n",
      "  'options': {'name': 'landing'},\n",
      "  'user_id': 43300},\n",
      " {'action': 'enter',\n",
      "  'category': 'page',\n",
      "  'client_id': 23207,\n",
      "  'id': 57414633,\n",
      "  'options': {'name': 'landing'},\n",
      "  'user_id': 43300},\n",
      " {'action': 'enter',\n",
      "  'category': 'page',\n",
      "  'client_id': 23207,\n",
      "  'id': 57414663,\n",
      "  'options': {'name': 'landing'},\n",
      "  'user_id': 85282},\n",
      " {'action': 'enter',\n",
      "  'category': 'page',\n",
      "  'client_id': 23207,\n",
      "  'id': 57414851,\n",
      "  'options': {'name': 'landing'},\n",
      "  'user_id': 43300},\n",
      " {'action': 'enter',\n",
      "  'category': 'page',\n",
      "  'client_id': 48128,\n",
      "  'id': 57420219,\n",
      "  'options': {'name': 'landing'},\n",
      "  'user_id': 121686},\n",
      " {'action': 'enter',\n",
      "  'category': 'page',\n",
      "  'client_id': 58113,\n",
      "  'id': 57424709,\n",
      "  'options': {'name': 'page'},\n",
      "  'user_id': 120952},\n",
      " {'action': 'change_mode',\n",
      "  'category': 'report',\n",
      "  'client_id': 58113,\n",
      "  'id': 57424757,\n",
      "  'options': {'mode': 'deals'},\n",
      "  'user_id': 120952},\n",
      " {'action': 'sort',\n",
      "  'category': 'table',\n",
      "  'client_id': 58113,\n",
      "  'id': 57425399,\n",
      "  'options': {'dir': 'ASC', 'name': 'ac'},\n",
      "  'user_id': 120952},\n",
      " {'action': 'sort',\n",
      "  'category': 'table',\n",
      "  'client_id': 58113,\n",
      "  'id': 57425421,\n",
      "  'options': {'dir': 'DESC', 'name': 'ac'},\n",
      "  'user_id': 120952},\n",
      " {'action': 'apply',\n",
      "  'category': 'datepicker',\n",
      "  'client_id': 58113,\n",
      "  'id': 57426007,\n",
      "  'options': {'endDate': '2019-03-24 23:59:59',\n",
      "              'startDate': '2019-03-18 00:00:00'},\n",
      "  'user_id': 120952},\n",
      " {'action': 'apply',\n",
      "  'category': 'datepicker',\n",
      "  'client_id': 58113,\n",
      "  'id': 57426303,\n",
      "  'options': {'endDate': '2019-03-17 23:59:59',\n",
      "              'startDate': '2019-03-11 00:00:00'},\n",
      "  'user_id': 120952},\n",
      " {'action': 'enter',\n",
      "  'category': 'page',\n",
      "  'client_id': 58113,\n",
      "  'id': 57431787,\n",
      "  'options': {'name': 'page'},\n",
      "  'user_id': 120952},\n",
      " {'action': 'enter',\n",
      "  'category': 'page',\n",
      "  'client_id': 57613,\n",
      "  'id': 57444593,\n",
      "  'options': {'name': 'landing'},\n",
      "  'user_id': 110958},\n",
      " {'action': 'enter',\n",
      "  'category': 'page',\n",
      "  'client_id': 61244,\n",
      "  'id': 57453741,\n",
      "  'options': {'name': 'landing'},\n",
      "  'user_id': 120170},\n",
      " {'action': 'enter',\n",
      "  'category': 'page',\n",
      "  'client_id': 53666,\n",
      "  'id': 57467371,\n",
      "  'options': {'name': 'landing'},\n",
      "  'user_id': 122224},\n",
      " {'action': 'enter',\n",
      "  'category': 'page',\n",
      "  'client_id': 53018,\n",
      "  'id': 57473917,\n",
      "  'options': {'name': 'landing'},\n",
      "  'user_id': 92402},\n",
      " {'action': 'enter',\n",
      "  'category': 'page',\n",
      "  'client_id': 53666,\n",
      "  'id': 57475785,\n",
      "  'options': {'name': 'landing'},\n",
      "  'user_id': 122224},\n",
      " {'action': 'enter',\n",
      "  'category': 'page',\n",
      "  'client_id': 41737,\n",
      "  'id': 57492477,\n",
      "  'options': {'name': 'landing'},\n",
      "  'user_id': 122874},\n",
      " {'action': 'enter',\n",
      "  'category': 'page',\n",
      "  'client_id': 61078,\n",
      "  'id': 57493427,\n",
      "  'options': {'name': 'landing'},\n",
      "  'user_id': 119662},\n",
      " {'action': 'enter',\n",
      "  'category': 'page',\n",
      "  'client_id': 20820,\n",
      "  'id': 57515935,\n",
      "  'options': {'name': 'landing'},\n",
      "  'user_id': 116898},\n",
      " {'action': 'enter',\n",
      "  'category': 'page',\n",
      "  'client_id': 41737,\n",
      "  'id': 57517657,\n",
      "  'options': {'name': 'landing'},\n",
      "  'user_id': 122874},\n",
      " {'action': 'enter',\n",
      "  'category': 'page',\n",
      "  'client_id': 49700,\n",
      "  'id': 57540495,\n",
      "  'options': {'name': 'landing'},\n",
      "  'user_id': 84946}]\n"
     ]
    }
   ],
   "source": [
    "import pprint\n",
    "pprint.pprint(data['events_data'])"
   ],
   "metadata": {
    "collapsed": false,
    "pycharm": {
     "name": "#%%\n"
    }
   }
  },
  {
   "cell_type": "code",
   "execution_count": 31,
   "outputs": [
    {
     "name": "stdout",
     "output_type": "stream",
     "text": [
      "107\n",
      "Counter({'page': 74, 'datepicker': 15, 'table': 10, 'report': 8})\n",
      "[27115, 27115, 27115, 27115, 60459, 60459, 60459, 60459, 58113, 58113]\n",
      "Counter({27115: 4, 60459: 4, 58113: 2})\n"
     ]
    }
   ],
   "source": [
    "data_list = data['events_data']\n",
    "print(len(data_list))\n",
    "\n",
    "\n",
    "categories = []\n",
    "for item in data_list:\n",
    "    category = item['category']\n",
    "    categories.append(category)\n",
    "# pprint.pprint (categories)\n",
    "\n",
    "import collections\n",
    "c = collections.Counter()\n",
    "for category in categories:\n",
    "    c[category] += 1\n",
    "print(c)\n",
    "\n",
    "table_clients = []\n",
    "for item in data_list:\n",
    "    client_id = item['client_id']\n",
    "    category = item['category']\n",
    "    if category == 'table':\n",
    "        table_clients.append(client_id)\n",
    "print (table_clients)\n",
    "\n",
    "\n",
    "c = collections.Counter()\n",
    "for table_client in table_clients:\n",
    "    c[table_client] += 1\n",
    "print (c)"
   ],
   "metadata": {
    "collapsed": false,
    "pycharm": {
     "name": "#%%\n"
    }
   }
  },
  {
   "cell_type": "code",
   "execution_count": 45,
   "outputs": [
    {
     "name": "stdout",
     "output_type": "stream",
     "text": [
      "Total client was making events: 107\n",
      "Counter({'enter': 74,\n",
      "         'apply': 15,\n",
      "         'sort': 10,\n",
      "         'change_mode': 6,\n",
      "         'link_click': 2})\n",
      "12\n"
     ]
    }
   ],
   "source": [
    "import json\n",
    "import collections\n",
    "import pprint\n",
    "\n",
    "with open('data.json', 'rb') as infile:\n",
    "    data = json.load(infile)\n",
    "\n",
    "total_clients = len([x['client_id'] for x in data['events_data']])\n",
    "print('Total client was making events:', total_clients)\n",
    "\n",
    "c_actions = collections.Counter()\n",
    "c_clients = collections.Counter()\n",
    "for event in data['events_data']:\n",
    "    action = event['action']\n",
    "    client_id = event['client_id']\n",
    "    c_actions[action] += 1\n",
    "    c_clients[client_id] += 1\n",
    "\n",
    "pprint.pprint(c_actions)\n",
    "pprint.pprint(c_clients[60459])"
   ],
   "metadata": {
    "collapsed": false,
    "pycharm": {
     "name": "#%%\n"
    }
   }
  },
  {
   "cell_type": "code",
   "execution_count": 48,
   "outputs": [
    {
     "name": "stdout",
     "output_type": "stream",
     "text": [
      "9\n"
     ]
    }
   ],
   "source": [
    "import json\n",
    "import collections\n",
    "from pprint import pprint\n",
    "\n",
    "with open('data.json', 'rb') as infile:\n",
    "    data = json.load(infile)\n",
    "\n",
    "cc = 0\n",
    "for event in data['events_data']:\n",
    "    if event['client_id'] == 62602 and event['category'] == 'page':\n",
    "        cc += 1\n",
    "pprint(cc)"
   ],
   "metadata": {
    "collapsed": false,
    "pycharm": {
     "name": "#%%\n"
    }
   }
  },
  {
   "cell_type": "code",
   "execution_count": 56,
   "outputs": [
    {
     "name": "stdout",
     "output_type": "stream",
     "text": [
      "3\n",
      "[58113, 60459, 62602]\n"
     ]
    }
   ],
   "source": [
    "import json\n",
    "import collections\n",
    "from pprint import pprint\n",
    "\n",
    "with open('data.json', 'rb') as infile:\n",
    "    data = json.load(infile)\n",
    "\n",
    "c_uniq_clients = collections.Counter()\n",
    "for event in data['events_data']:\n",
    "    if event['category'] == 'report':\n",
    "        c_uniq_clients[event['client_id']] += 1\n",
    "\n",
    "pprint(len(c_uniq_clients))\n",
    "\n",
    "pprint(sorted(c_uniq_clients))\n"
   ],
   "metadata": {
    "collapsed": false,
    "pycharm": {
     "name": "#%%\n"
    }
   }
  }
 ],
 "metadata": {
  "kernelspec": {
   "display_name": "PyCharm (SkillFactory)",
   "language": "python",
   "name": "pycharm-654c38e"
  },
  "language_info": {
   "codemirror_mode": {
    "name": "ipython",
    "version": 3
   },
   "file_extension": ".py",
   "mimetype": "text/x-python",
   "name": "python",
   "nbconvert_exporter": "python",
   "pygments_lexer": "ipython3",
   "version": "3.8.5"
  }
 },
 "nbformat": 4,
 "nbformat_minor": 1
}