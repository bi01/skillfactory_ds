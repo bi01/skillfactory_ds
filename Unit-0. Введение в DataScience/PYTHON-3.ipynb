{
 "cells": [
  {
   "cell_type": "markdown",
   "source": [
    "# PYTHON-3. Строковые величины"
   ],
   "metadata": {
    "collapsed": false,
    "pycharm": {
     "name": "#%% md\n"
    }
   }
  },
  {
   "cell_type": "code",
   "execution_count": 40,
   "outputs": [
    {
     "name": "stdout",
     "output_type": "stream",
     "text": [
      "Программист\n",
      "кофе\n",
      "устройство устройство\n"
     ]
    }
   ],
   "source": [
    "from pprint import pprint\n",
    "proverb = 'Программисты - это устройства, преобразующие кофеин в код.'\n",
    "\n",
    "# Программист\n",
    "print(proverb[0:len('Программист')])\n",
    "\n",
    "# кофе\n",
    "print(proverb[-13:-9])\n",
    "\n",
    "print(\n",
    "    proverb[19:28]+'о',\n",
    "    proverb.split()[3][:-2]+'о')"
   ],
   "metadata": {
    "collapsed": false,
    "pycharm": {
     "name": "#%%\n"
    }
   }
  },
  {
   "cell_type": "markdown",
   "source": [
    "Напишите программу, которая \"зашифровывает\" текст, хранящийся в переменной proverb, меняя местами символы, стоящие на нечётных и чётных позициях. Результат шифрования нужно вывести на экран с помощью функции print\n",
    "\n",
    "Используйте переменную proverb для хранения исходной фразы и переменную new_proverb для хранения \"зашифрованной\" фразы.\n",
    "\n",
    "Пример: после шифровки начало фразы должно выглядеть так: рПгоарммсиыт"
   ],
   "metadata": {
    "collapsed": false,
    "pycharm": {
     "name": "#%% md\n"
    }
   }
  },
  {
   "cell_type": "code",
   "execution_count": 67,
   "outputs": [
    {
     "name": "stdout",
     "output_type": "stream",
     "text": [
      "рПгоарммсиыт- э оту тсорсйвт,ап ербоарузщюеик фоие н вок.д\n"
     ]
    }
   ],
   "source": [
    "proverb = 'Программисты - это устройства, преобразующие кофеин в код.'\n",
    "new_proverb = ''.join(proverb[x] + proverb[x-1]\n",
    "                      for x in range(1, len(proverb) + 1, 2))\n",
    "\n",
    "print(new_proverb)"
   ],
   "metadata": {
    "collapsed": false,
    "pycharm": {
     "name": "#%%\n"
    }
   }
  },
  {
   "cell_type": "markdown",
   "source": [
    "Некоторые слова одинаково читаются как слева направо, так и справа налево. Такие слова называются палиндромами.\n",
    "\n",
    "Напишите программу, которая оценивает слово, заданное в переменной basic_word, и выдаёт сообщение: 'Слово \"...\" является палиндромом' в случае, если заданное слово одинаково читается слева направо и справа налево, и сообщение: 'Слово \"...\" - это не палиндром' в противном случае.\n",
    "\n",
    "Вместо многоточия в каждой из фраз должно стоять слово, заданное в переменной basic_word. Обратите внимание на то, что заданное слово должно быть взято в кавычки.\n",
    "\n",
    "При написании кода используйте две обязательные переменные: basic_word —для хранения заданного слова и inverted_word— для хранения перевёрнутого варианта заданного слова. Во время проверки кода на платформе используйте значение basic_word = 'программирование'."
   ],
   "metadata": {
    "collapsed": false,
    "pycharm": {
     "name": "#%% md\n"
    }
   }
  },
  {
   "cell_type": "code",
   "execution_count": 71,
   "outputs": [
    {
     "name": "stdout",
     "output_type": "stream",
     "text": [
      "Слово \"программирование\" - это не палиндром\n"
     ]
    }
   ],
   "source": [
    "basic_word = 'программирование'\n",
    "inverted_word = basic_word[::-1]\n",
    "\n",
    "if basic_word != inverted_word:\n",
    "    print(f'Слово \"{basic_word}\" - это не палиндром')\n",
    "else:\n",
    "    print(f'Слово \"{basic_word}\" - это не палиндром')\n",
    "\n",
    "\n"
   ],
   "metadata": {
    "collapsed": false,
    "pycharm": {
     "name": "#%%\n"
    }
   }
  },
  {
   "cell_type": "markdown",
   "source": [
    "Изучите код, представленный выше. Что хранится в переменной secret?"
   ],
   "metadata": {
    "collapsed": false,
    "pycharm": {
     "name": "#%% md\n"
    }
   }
  },
  {
   "cell_type": "code",
   "execution_count": 4,
   "outputs": [
    {
     "name": "stdout",
     "output_type": "stream",
     "text": [
      "написанная\n",
      " - это программа, написанная 2 раза\n",
      "------------------------------\n",
      "это\n",
      ", написанная 2 раза\n",
      "------------------------------\n"
     ]
    }
   ],
   "source": [
    "proverb = 'Хорошо написанная программа - это программа, написанная 2 раза'\n",
    "\n",
    "while True:\n",
    "    index = proverb.find('программа')\n",
    "    if index == -1:\n",
    "        break\n",
    "    secret = proverb[:index].split()[-1]\n",
    "    print(secret)\n",
    "    proverb = proverb[index+9:]\n",
    "    print(proverb)\n",
    "    print('-'*30)"
   ],
   "metadata": {
    "collapsed": false,
    "pycharm": {
     "name": "#%%\n"
    }
   }
  },
  {
   "cell_type": "markdown",
   "source": [
    "Дана переменная email, содержащая произвольный адрес электронной почты. Напишите универсальный код, с помощью которого можно извлечь из этого адреса адрес домена.\n",
    "\n",
    "Пояснения:\n",
    "Код должен быть написан в одну строку без пробелов.\n",
    "Не используйте никаких дополнительных имён переменных, кроме переменной email.\n",
    "Не присваивайте результат извлечения никакой другой переменной.\n",
    "Используйте апострофы (не кавычки!) для обозначения символа, позицию которого нужно найти в строке."
   ],
   "metadata": {
    "collapsed": false,
    "pycharm": {
     "name": "#%% md\n",
     "is_executing": true
    }
   },
   "outputs": [
    {
     "ename": "SyntaxError",
     "evalue": "invalid syntax (<ipython-input-5-1c441ef9c6d7>, line 1)",
     "output_type": "error",
     "traceback": [
      "\u001B[0;36m  File \u001B[0;32m\"<ipython-input-5-1c441ef9c6d7>\"\u001B[0;36m, line \u001B[0;32m1\u001B[0m\n\u001B[0;31m    Дана переменная email, содержащая произвольный адрес электронной почты. Напишите универсальный код, с помощью которого можно извлечь из этого адреса адрес домена.\u001B[0m\n\u001B[0m         ^\u001B[0m\n\u001B[0;31mSyntaxError\u001B[0m\u001B[0;31m:\u001B[0m invalid syntax\n"
     ]
    }
   ]
  },
  {
   "cell_type": "code",
   "execution_count": 8,
   "outputs": [
    {
     "name": "stdout",
     "output_type": "stream",
     "text": [
      "example.com\n"
     ]
    }
   ],
   "source": [
    "email = 'blabla@example.com'\n",
    "print(email[email.find('@')+1:])"
   ],
   "metadata": {
    "collapsed": false,
    "pycharm": {
     "name": "#%%\n"
    }
   }
  },
  {
   "cell_type": "markdown",
   "source": [
    "Дано вещественное число. Напишите программу, которая считает сумму цифр дробной части числа. Результат вычислений нужно вывести на экран с помощью функции print\n",
    "\n",
    "Используйте переменную number = 56.257 для хранения заданного числа и не меняйте её в процессе выполнения кода."
   ],
   "metadata": {
    "collapsed": false,
    "pycharm": {
     "name": "#%% md\n"
    }
   }
  },
  {
   "cell_type": "code",
   "execution_count": 27,
   "outputs": [
    {
     "name": "stdout",
     "output_type": "stream",
     "text": [
      "14\n"
     ]
    }
   ],
   "source": [
    "number = 56.257\n",
    "# str_num = str(number)\n",
    "# fractional_part = str_num[str_num.find('.')+1:]\n",
    "# print(sum([int(x) for x in fractional_part]))\n",
    "\n",
    "\n",
    "### OR\n",
    "print(sum([int(x) for x in str(number).split('.')[1]]))\n",
    "\n",
    "\n",
    "### Dummy methods\n",
    "# print(number%1)\n",
    "# print(number - int(number))"
   ],
   "metadata": {
    "collapsed": false,
    "pycharm": {
     "name": "#%%\n"
    }
   }
  },
  {
   "cell_type": "markdown",
   "source": [
    "Дан список emails_list, содержащий электронные адреса десяти человек. Вам нужно написать программу, которая создаёт словарь emails_dict .Ключами словаря должны быть адреса доменов, а значениями — количество электронных адресов из списка emails_list, зарегистрированных на каждом домене.\n",
    "\n",
    "Внимание! На данном этапе обучения это задание по-настоящему сложное, поэтому если у вас нет никаких идей о том, как его выполнить, — пропустите этот шаг. В блоке А3.4 будет рассмотрен алгоритм, который можно использовать при создании словаря. После изучения данного блока вы можете вернуться к этому заданию и повторить попытку."
   ],
   "metadata": {
    "collapsed": false,
    "pycharm": {
     "name": "#%% md\n"
    }
   }
  },
  {
   "cell_type": "code",
   "execution_count": 1,
   "outputs": [
    {
     "name": "stdout",
     "output_type": "stream",
     "text": [
      "{'mail.ru': 3, 'yandex.ru': 5, 'gmail.com': 2}\n"
     ]
    }
   ],
   "source": [
    "from collections import Counter\n",
    "\n",
    "c = Counter()\n",
    "\n",
    "emails_list = ['vasya@mail.ru',\n",
    "          'akakiy@yandex.ru',\n",
    "          'spyderman@yandex.ru',\n",
    "          'XFiles@gmail.com',\n",
    "          'hello@mail.ru',\n",
    "          'noname@gmail.com',\n",
    "          'DonaldTrump@mail.ru',\n",
    "          'a768#af@yandex.ru',\n",
    "          'Ivan_Ivanovich@yandex.ru',\n",
    "          'thebestmail@yandex.ru']\n",
    "\n",
    "for x in emails_list:\n",
    "    domain = x[x.find('@')+1:]\n",
    "    c[domain] += 1\n",
    "\n",
    "emails_dict = dict(c)\n",
    "print(emails_dict)\n"
   ],
   "metadata": {
    "collapsed": false,
    "pycharm": {
     "name": "#%%\n"
    }
   }
  },
  {
   "cell_type": "code",
   "source": [
    "string = 'Интернет-открытки - это лучшее средство для мужчины сказать женщине о своих чувствах прямо в глаза.'\n",
    "secret = string[24:30]\n",
    "new_string = string.replace(secret.lower(), secret.upper())"
   ],
   "metadata": {
    "collapsed": false,
    "pycharm": {
     "name": "#%%\n"
    }
   },
   "execution_count": 3,
   "outputs": []
  },
  {
   "cell_type": "markdown",
   "source": [
    "Дана переменная string, в которой нужно заменить все знаки препинания на смайлики (':)'). Знаками препинания считайте символы: точка, запятая, двоеточие, тире (дефис), восклицательный и вопросительный знаки. Значение переменной string должно измениться в процессе выполнения программы.\n",
    "\n",
    "Решите задачу для string = 'Тяжёлая интернет-зависимость - это когда ты выходишь из интернета, а он из тебя нет.'\n",
    "\n",
    "Пример:\n",
    "исходное значение переменной: string = 'Привет, Андрей!'\n",
    "итоговое значение переменной: string = 'Привет:) Андрей:)'\n"
   ],
   "metadata": {
    "collapsed": false,
    "pycharm": {
     "name": "#%% md\n"
    }
   }
  },
  {
   "cell_type": "code",
   "execution_count": 17,
   "outputs": [
    {
     "name": "stdout",
     "output_type": "stream",
     "text": [
      "Тяжёлая интернет:)зависимость :) это когда ты выходишь из интернета:) а он из тебя нет:)\n"
     ]
    }
   ],
   "source": [
    "string = 'Тяжёлая интернет-зависимость - это когда ты выходишь из интернета, а он из тебя нет.'\n",
    "\n",
    "# ### variant 1 with 're' module\n",
    "# import re\n",
    "#\n",
    "# string = re.sub(r'[^\\d\\w\\s]+', ':)' ,string)\n",
    "# print(string)\n",
    "\n",
    "### variant 1 without 're' module\n",
    "punctuation_chars = ['.', ',', '-', '_', '!', '?']\n",
    "\n",
    "new_string = ''\n",
    "for c in string:\n",
    "    new_string += ':)' if c in punctuation_chars else c\n",
    "\n",
    "string = new_string\n",
    "print(string)"
   ],
   "metadata": {
    "collapsed": false,
    "pycharm": {
     "name": "#%%\n"
    }
   }
  },
  {
   "cell_type": "markdown",
   "source": [
    "Дана переменная name, в которой хранится имя пользователя, записанное русскими буквами. Напишите программу, которая перебирает имя по буквам и для каждой буквы выводит сообщение: \"... - гласная буква\" или \"... - согласная буква\", где вместо многоточия нужно подставить букву из имени пользователя.\n",
    "\n",
    "Значение переменной name не должно меняться в ходе выполнения программы. В сообщениях, выводимых на экран, буквы из имени пользователя должны выводиться в том же регистре, в котором они присутствуют в переменной name.\n",
    "\n",
    "Решите задачу для name = 'Севастиан'\n",
    "\n",
    "Пример работы программы для имени Анна:\n",
    "А - гласная буква\n",
    "н - согласная буква\n",
    "н - согласная буква\n",
    "а - гласная буква\n",
    "Подсказка: чтобы избавить себя от необходимости выполнять проверку сложного составного условия, вы можете создать два списка с буквами: в одном хранить гласные буквы, а в другом — согласные.\n",
    "\n"
   ],
   "metadata": {
    "collapsed": false,
    "pycharm": {
     "name": "#%% md\n"
    }
   }
  },
  {
   "cell_type": "code",
   "execution_count": 21,
   "outputs": [
    {
     "name": "stdout",
     "output_type": "stream",
     "text": [
      "С - согласная буква\n",
      "е - гласная буква\n",
      "в - согласная буква\n",
      "а - гласная буква\n",
      "с - согласная буква\n",
      "т - согласная буква\n",
      "и - гласная буква\n",
      "а - гласная буква\n",
      "н - согласная буква\n"
     ]
    }
   ],
   "source": [
    "name = 'Севастиан'\n",
    "vowels = 'А О У Ы Э Я Ё Ю И Е'.split()\n",
    "consonants = 'Б, В, Г, Д, Ж, З, Й, К, Л, М, Н, П, Р, С, Т, Ф, Х, Ц, Ч, Ш, Щ'.split(', ')\n",
    "\n",
    "for c in name:\n",
    "    print(c, ('- гласная буква' if c.upper() in vowels else '- согласная буква'))"
   ],
   "metadata": {
    "collapsed": false,
    "pycharm": {
     "name": "#%%\n"
    }
   }
  },
  {
   "cell_type": "code",
   "execution_count": 34,
   "outputs": [
    {
     "name": "stdout",
     "output_type": "stream",
     "text": [
      "['асши', 'амми', 'ающи', 'ающи']\n"
     ]
    }
   ],
   "source": [
    "import re\n",
    "\n",
    "text = 'Разработка языка Python была начата в конце 1980-х годов сотрудником голландского института CWI Гвидо ван Россумом. Для распределённой ОС Amoeba требовался расширяемый скриптовый язык, и Гвидо начал писать Python на досуге, позаимствовав некоторые наработки для языка ABC (Гвидо участвовал в разработке этого языка, ориентированного на обучение программированию). В феврале 1991 года Гвидо опубликовал исходный текст в группе новостей alt.sources. Название языка произошло вовсе не от вида пресмыкающихся. Автор назвал язык в честь популярного британского комедийного телешоу 1970-х \"Летающий цирк Монти Пайтона\".'\n",
    "\n",
    "# pattern = re.compile('\\d+')\n",
    "# pattern = re.compile('[A-Za-z]+')\n",
    "# pattern = re.compile('[А-Яа-я]+ка')\n",
    "pattern = re.compile('а\\w\\wи')\n",
    "print(pattern.findall(text))"
   ],
   "metadata": {
    "collapsed": false,
    "pycharm": {
     "name": "#%%\n"
    }
   }
  },
  {
   "cell_type": "code",
   "execution_count": 97,
   "outputs": [
    {
     "name": "stdout",
     "output_type": "stream",
     "text": [
      "total 22\n",
      "1  - языка python\n",
      "2  - была начата\n",
      "3  - института cwi\n",
      "4  - гвидо ван\n",
      "5  - для распределённой\n",
      "6  - amoeba требовался\n",
      "7  - расширяемый скриптовый\n",
      "8  - и гвидо\n",
      "9  - на досуге\n",
      "10  - некоторые наработки\n",
      "11  - ориентированного на\n",
      "12  - обучение программированию\n",
      "13  - года гвидо\n",
      "14  - исходный текст\n",
      "15  - группе новостей\n",
      "16  - языка произошло\n",
      "17  - вовсе не\n",
      "18  - вида пресмыкающихся\n",
      "19  - популярного британского\n",
      "20  - комедийного телешоу\n",
      "21  - летающий цирк\n",
      "22  - монти пайтона\n"
     ]
    }
   ],
   "source": [
    "import re\n",
    "\n",
    "text = '''Разработка языка Python была начата в конце 1980-х годов сотрудником голландского института CWI Гвидо ван Россумом. Для распределённой ОС Amoeba требовался расширяемый скриптовый язык, и Гвидо начал писать Python на досуге, позаимствовав некоторые наработки для языка ABC (Гвидо участвовал в разработке этого языка, ориентированного на обучение программированию). В феврале 1991 года Гвидо опубликовал исходный текст в группе новостей alt.sources. Название языка произошло вовсе не от вида пресмыкающихся. Автор назвал язык в честь популярного британского комедийного телешоу 1970-х \"Летающий цирк Монти Пайтона\".'''\n",
    "lower_case_text = text.lower()\n",
    "\n",
    "pattern = re.compile(\n",
    "    r'\\b\\w*[аеёийоуэюя|eyuioaj]\\s[бвгджзклмнпрстфхцчъь|qwrtpsdfghklzxcvbnm]\\w*\\b'\n",
    ")\n",
    "result = pattern.findall(lower_case_text)\n",
    "\n",
    "print('total', len(result))\n",
    "\n",
    "for x in enumerate(result, start=1):\n",
    "    print(x[0], ' -',  x[1])\n"
   ],
   "metadata": {
    "collapsed": false,
    "pycharm": {
     "name": "#%%\n"
    }
   }
  },
  {
   "cell_type": "code",
   "execution_count": 108,
   "outputs": [
    {
     "name": "stdout",
     "output_type": "stream",
     "text": [
      "483 518\n"
     ]
    }
   ],
   "source": [
    "from collections import Counter\n",
    "\n",
    "c_male = Counter()\n",
    "c_female = Counter()\n",
    "\n",
    "with open('StudentsPerformance.csv') as f:\n",
    "    genders = [row.split(',')[0][1:-1] for row in f]\n",
    "    c_female = ' '.join(genders).count('female')\n",
    "    c_male = len(genders) - c_female\n",
    "\n",
    "    print(c_male, c_female)\n",
    "\n",
    "    # for line in f:\n",
    "    #          print(line)"
   ],
   "metadata": {
    "collapsed": false,
    "pycharm": {
     "name": "#%%\n"
    }
   }
  },
  {
   "cell_type": "markdown",
   "source": [
    "У скольких абитуриентов родители имеют диплом бакалавра (bachelor's degree)?\n",
    "\n",
    "Введите ответ в виде целого числа. При написании кода обратите внимание на использование кавычек/апострофов"
   ],
   "metadata": {
    "collapsed": false,
    "pycharm": {
     "name": "#%% md\n"
    }
   }
  },
  {
   "cell_type": "code",
   "execution_count": 114,
   "outputs": [
    {
     "data": {
      "text/plain": "118"
     },
     "execution_count": 114,
     "metadata": {},
     "output_type": "execute_result"
    }
   ],
   "source": [
    "with open('StudentsPerformance.csv') as f:\n",
    "    bachelor_degrees = [row.split(',')[2][1:-1] for row in f]\n",
    "\n",
    "sum(1 for x in bachelor_degrees if 'bachelor' in x)"
   ],
   "metadata": {
    "collapsed": false,
    "pycharm": {
     "name": "#%%\n"
    }
   }
  },
  {
   "cell_type": "markdown",
   "source": [
    "Сколько разных вариантов значений встречается в столбце \"parental level of education\"?\n",
    "\n",
    "Введите ответ в виде целого числа.\n",
    "\n",
    "Подсказка 1: для хранения уникальных вариантов вы можете использовать список.\n",
    "\n",
    "Подсказка 2: не забудьте, что первая строка файла содержит заголовки столбцов и не должна учитываться при обработке"
   ],
   "metadata": {
    "collapsed": false,
    "pycharm": {
     "name": "#%% md\n"
    }
   }
  },
  {
   "cell_type": "code",
   "execution_count": 133,
   "outputs": [
    {
     "name": "stdout",
     "output_type": "stream",
     "text": [
      "[]\n"
     ]
    }
   ],
   "source": [
    "from collections import Counter\n",
    "\n",
    "with open('StudentsPerformance.csv') as f:\n",
    "    # diffs = [row.split(',')[2][1:-1] for row in f]\n",
    "    result = Counter(\n",
    "        row.split(',')[2][1:-1]\n",
    "        for row in f\n",
    "        if 'parental level of education' not in row.split(',')[2][1:-1]\n",
    "    )\n",
    "\n",
    "    lunch_total = list(\n",
    "        row.split(',')[2]\n",
    "        for row in f\n",
    "    )\n",
    "# print(len(result))\n",
    "# pprint(result)\n",
    "pprint(lunch_total)"
   ],
   "metadata": {
    "collapsed": false,
    "pycharm": {
     "name": "#%%\n"
    }
   }
  },
  {
   "cell_type": "code",
   "execution_count": null,
   "outputs": [],
   "source": [
    "from collections import Counter\n",
    "\n",
    "with open('StudentsPerformance.csv') as f:\n",
    "    f.readline()\n",
    "    lunch_total = Counter(\n",
    "        row.split(',')[3][1:-1]\n",
    "        for row in f\n",
    "    )\n",
    "\n",
    "result_percent = lunch_total['standard']/sum(lunch_total.values()) * 100\n",
    "print(result_percent)\n"
   ],
   "metadata": {
    "collapsed": false,
    "pycharm": {
     "name": "#%%\n"
    }
   }
  },
  {
   "cell_type": "code",
   "execution_count": null,
   "outputs": [],
   "source": [
    "from collections import Counter\n",
    "\n",
    "with open('StudentsPerformance.csv') as f:\n",
    "    f.readline()\n",
    "    groups  = Counter(\n",
    "        row.split(',')[1].strip('\\\"\\'\\n\\t ')\n",
    "        for row in f\n",
    "    )\n",
    "\n",
    "print(groups['group C'])\n",
    "print(len(groups))"
   ],
   "metadata": {
    "collapsed": false,
    "pycharm": {
     "name": "#%%\n"
    }
   }
  },
  {
   "cell_type": "code",
   "execution_count": null,
   "outputs": [],
   "source": [
    "from collections import Counter\n",
    "\n",
    "with open('StudentsPerformance.csv') as f:\n",
    "    f.readline()\n",
    "    reading_balls  = Counter(\n",
    "        row.split(',')[6].strip('\\\"\\'\\n\\t ')\n",
    "        for row in f\n",
    "    )\n",
    "\n",
    "total_balls = sum(reading_balls.values())\n",
    "total_amount = sum(int(ball) * int(total) for ball, total in reading_balls.items())\n",
    "\n",
    "avg_reading = total_amount/total_balls\n",
    "print(avg_reading)\n",
    "\n",
    "\n",
    "less_avg_reading = sum( int(total)\n",
    "    for ball, total in reading_balls.items()\n",
    "    if int(ball) < avg_reading\n",
    ")\n",
    "print(less_avg_reading)"
   ],
   "metadata": {
    "collapsed": false,
    "pycharm": {
     "name": "#%%\n"
    }
   }
  },
  {
   "cell_type": "code",
   "execution_count": 173,
   "outputs": [
    {
     "name": "stdout",
     "output_type": "stream",
     "text": [
      "72.608\n"
     ]
    }
   ],
   "source": [
    "from collections import Counter\n",
    "\n",
    "with open('StudentsPerformance.csv') as f:\n",
    "    f.readline()\n",
    "    girl_reading_balls  = Counter(\n",
    "        row.split(',')[6].strip('\\\"\\'\\n\\t ')\n",
    "        for row in f\n",
    "        if row.split(',')[0].strip('\\\"\\'\\n\\t ') == 'female'\n",
    "    )\n",
    "\n",
    "total_balls = sum(girl_reading_balls.values())\n",
    "total_amount = sum(int(ball) * int(total) for ball, total in girl_reading_balls.items())\n",
    "\n",
    "avg_reading = total_amount/total_balls\n",
    "print(round(avg_reading, 3))\n",
    "\n"
   ],
   "metadata": {
    "collapsed": false,
    "pycharm": {
     "name": "#%%\n"
    }
   }
  },
  {
   "cell_type": "code",
   "execution_count": 12,
   "outputs": [
    {
     "name": "stdout",
     "output_type": "stream",
     "text": [
      "645\n"
     ]
    }
   ],
   "source": [
    "import re\n",
    "\n",
    "with open('StudentsPerformance.csv') as f:\n",
    "    # skip first line\n",
    "    f.readline()\n",
    "\n",
    "    pattern = re.compile('\\d+')\n",
    "\n",
    "    balls  = [        int(pattern.findall(row)[2])\n",
    "        for row in f\n",
    "        if 'standard' in row.split(',')[3]\n",
    "    ]\n",
    "\n",
    "# result: int = sum(1 for x in balls if x > 90)\n",
    "\n",
    "print(len(balls))"
   ],
   "metadata": {
    "collapsed": false,
    "pycharm": {
     "name": "#%%\n"
    }
   }
  },
  {
   "cell_type": "code",
   "execution_count": null,
   "outputs": [],
   "source": [],
   "metadata": {
    "collapsed": false,
    "pycharm": {
     "name": "#%%\n"
    }
   }
  }
 ],
 "metadata": {
  "kernelspec": {
   "display_name": "PyCharm (SkillFactory)",
   "language": "python",
   "name": "pycharm-654c38e"
  },
  "language_info": {
   "codemirror_mode": {
    "name": "ipython",
    "version": 3
   },
   "file_extension": ".py",
   "mimetype": "text/x-python",
   "name": "python",
   "nbconvert_exporter": "python",
   "pygments_lexer": "ipython3",
   "version": "3.8.5"
  }
 },
 "nbformat": 4,
 "nbformat_minor": 1
}