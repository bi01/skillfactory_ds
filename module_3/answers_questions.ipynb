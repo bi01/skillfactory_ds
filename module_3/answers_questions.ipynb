{
 "cells": [
  {
   "cell_type": "markdown",
   "metadata": {},
   "source": [
    "# Ответы на вопросы в заданиях"
   ]
  },
  {
   "cell_type": "code",
   "execution_count": 1,
   "metadata": {},
   "outputs": [],
   "source": [
    "import numpy as np\n",
    "import pandas as pd\n",
    "from IPython.core.display import display\n",
    "from pandas.api.types import CategoricalDtype\n",
    "\n",
    "# in order not to overload we will \n",
    "# put all the auxiliary scripts in a separate file\n",
    "import helpers\n"
   ]
  },
  {
   "cell_type": "code",
   "execution_count": 2,
   "metadata": {},
   "outputs": [
    {
     "name": "stdout",
     "output_type": "stream",
     "text": [
      "<class 'pandas.core.frame.DataFrame'>\n",
      "RangeIndex: 40000 entries, 0 to 39999\n",
      "Data columns (total 10 columns):\n",
      " #   Column             Non-Null Count  Dtype  \n",
      "---  ------             --------------  -----  \n",
      " 0   Restaurant_id      40000 non-null  object \n",
      " 1   City               40000 non-null  object \n",
      " 2   Cuisine Style      30717 non-null  object \n",
      " 3   Ranking            40000 non-null  float64\n",
      " 4   Rating             40000 non-null  float64\n",
      " 5   Price Range        26114 non-null  object \n",
      " 6   Number of Reviews  37457 non-null  float64\n",
      " 7   Reviews            40000 non-null  object \n",
      " 8   URL_TA             40000 non-null  object \n",
      " 9   ID_TA              40000 non-null  object \n",
      "dtypes: float64(3), object(7)\n",
      "memory usage: 3.1+ MB\n"
     ]
    },
    {
     "data": {
      "text/plain": [
       "None"
      ]
     },
     "metadata": {},
     "output_type": "display_data"
    }
   ],
   "source": [
    "# df = pd.read_csv('https://cms.skillfactory.ru/assets/courseware/v1/c00e440dce1926e20bcf7b959cbeebbb/asset-v1:Skillfactory+DST-WEEKLY-2.0+08JULY2020+type@asset+block/main_task.csv')\n",
    "df = pd.read_csv('./datasets/main_task.csv')\n",
    "\n",
    "display(\n",
    "    df.info()\n",
    ")\n"
   ]
  },
  {
   "cell_type": "code",
   "execution_count": 3,
   "metadata": {},
   "outputs": [
    {
     "data": {
      "text/html": [
       "<div>\n",
       "<style scoped>\n",
       "    .dataframe tbody tr th:only-of-type {\n",
       "        vertical-align: middle;\n",
       "    }\n",
       "\n",
       "    .dataframe tbody tr th {\n",
       "        vertical-align: top;\n",
       "    }\n",
       "\n",
       "    .dataframe thead th {\n",
       "        text-align: right;\n",
       "    }\n",
       "</style>\n",
       "<table border=\"1\" class=\"dataframe\">\n",
       "  <thead>\n",
       "    <tr style=\"text-align: right;\">\n",
       "      <th></th>\n",
       "      <th>restaurant_id</th>\n",
       "      <th>city</th>\n",
       "      <th>cuisine_style</th>\n",
       "      <th>ranking</th>\n",
       "      <th>rating</th>\n",
       "      <th>price_range</th>\n",
       "      <th>number_of_reviews</th>\n",
       "      <th>reviews</th>\n",
       "      <th>url_ta</th>\n",
       "      <th>id_ta</th>\n",
       "    </tr>\n",
       "  </thead>\n",
       "  <tbody>\n",
       "    <tr>\n",
       "      <th>0</th>\n",
       "      <td>id_5569</td>\n",
       "      <td>Paris</td>\n",
       "      <td>['European', 'French', 'International']</td>\n",
       "      <td>5570.0</td>\n",
       "      <td>3.5</td>\n",
       "      <td>$$ - $$$</td>\n",
       "      <td>194.0</td>\n",
       "      <td>[['Good food at your doorstep', 'A good hotel ...</td>\n",
       "      <td>/Restaurant_Review-g187147-d1912643-Reviews-R_...</td>\n",
       "      <td>d1912643</td>\n",
       "    </tr>\n",
       "    <tr>\n",
       "      <th>1</th>\n",
       "      <td>id_1535</td>\n",
       "      <td>Stockholm</td>\n",
       "      <td>NaN</td>\n",
       "      <td>1537.0</td>\n",
       "      <td>4.0</td>\n",
       "      <td>NaN</td>\n",
       "      <td>10.0</td>\n",
       "      <td>[['Unique cuisine', 'Delicious Nepalese food']...</td>\n",
       "      <td>/Restaurant_Review-g189852-d7992032-Reviews-Bu...</td>\n",
       "      <td>d7992032</td>\n",
       "    </tr>\n",
       "    <tr>\n",
       "      <th>2</th>\n",
       "      <td>id_352</td>\n",
       "      <td>London</td>\n",
       "      <td>['Japanese', 'Sushi', 'Asian', 'Grill', 'Veget...</td>\n",
       "      <td>353.0</td>\n",
       "      <td>4.5</td>\n",
       "      <td>$$$$</td>\n",
       "      <td>688.0</td>\n",
       "      <td>[['Catch up with friends', 'Not exceptional'],...</td>\n",
       "      <td>/Restaurant_Review-g186338-d8632781-Reviews-RO...</td>\n",
       "      <td>d8632781</td>\n",
       "    </tr>\n",
       "  </tbody>\n",
       "</table>\n",
       "</div>"
      ],
      "text/plain": [
       "  restaurant_id       city                                      cuisine_style  \\\n",
       "0       id_5569      Paris            ['European', 'French', 'International']   \n",
       "1       id_1535  Stockholm                                                NaN   \n",
       "2        id_352     London  ['Japanese', 'Sushi', 'Asian', 'Grill', 'Veget...   \n",
       "\n",
       "   ranking  rating price_range  number_of_reviews  \\\n",
       "0   5570.0     3.5    $$ - $$$              194.0   \n",
       "1   1537.0     4.0         NaN               10.0   \n",
       "2    353.0     4.5        $$$$              688.0   \n",
       "\n",
       "                                             reviews  \\\n",
       "0  [['Good food at your doorstep', 'A good hotel ...   \n",
       "1  [['Unique cuisine', 'Delicious Nepalese food']...   \n",
       "2  [['Catch up with friends', 'Not exceptional'],...   \n",
       "\n",
       "                                              url_ta     id_ta  \n",
       "0  /Restaurant_Review-g187147-d1912643-Reviews-R_...  d1912643  \n",
       "1  /Restaurant_Review-g189852-d7992032-Reviews-Bu...  d7992032  \n",
       "2  /Restaurant_Review-g186338-d8632781-Reviews-RO...  d8632781  "
      ]
     },
     "execution_count": 3,
     "metadata": {},
     "output_type": "execute_result"
    }
   ],
   "source": [
    "df.columns = [\n",
    "    'restaurant_id',\n",
    "    'city',\n",
    "    'cuisine_style',\n",
    "    'ranking',\n",
    "    'rating',\n",
    "    'price_range',\n",
    "    'number_of_reviews',\n",
    "    'reviews',\n",
    "    'url_ta',\n",
    "    'id_ta'\n",
    "]\n",
    "df.head(3)"
   ]
  },
  {
   "cell_type": "markdown",
   "metadata": {},
   "source": [
    "## `price_range` —  диапазон цен в ресторане"
   ]
  },
  {
   "cell_type": "markdown",
   "metadata": {},
   "source": [
    "###   4.1 Вопросы о ценах"
   ]
  },
  {
   "cell_type": "markdown",
   "metadata": {},
   "source": [
    "- Сколько вариантов непустых значений встречается в столбце Price Range?\n",
    "- Сколько ресторанов относятся к среднему ценовому сегменту?"
   ]
  },
  {
   "cell_type": "code",
   "execution_count": 4,
   "metadata": {
    "ExecuteTime": {
     "end_time": "2021-01-06T11:16:57.838549Z",
     "start_time": "2021-01-06T11:16:57.832779Z"
    }
   },
   "outputs": [
    {
     "data": {
      "text/plain": [
       "$$ - $$$    18412\n",
       "NaN         13886\n",
       "$            6279\n",
       "$$$$         1423\n",
       "Name: price_range, dtype: int64"
      ]
     },
     "execution_count": 4,
     "metadata": {},
     "output_type": "execute_result"
    }
   ],
   "source": [
    "df.price_range.value_counts(dropna=False)"
   ]
  },
  {
   "cell_type": "markdown",
   "metadata": {},
   "source": [
    "Преобразуем данные в колонках в числовую категорию и избавимся от знаков \\$ (служебный символ). Пропущенные значения обозначим как среднюю категорию (самое часто встречающееся значение)"
   ]
  },
  {
   "cell_type": "code",
   "execution_count": 5,
   "metadata": {},
   "outputs": [
    {
     "data": {
      "text/plain": [
       "2    32298\n",
       "1     6279\n",
       "3     1423\n",
       "Name: price_range, dtype: int64"
      ]
     },
     "execution_count": 5,
     "metadata": {},
     "output_type": "execute_result"
    }
   ],
   "source": [
    "price_range_map = {\n",
    "    np.NaN: 2,\n",
    "    '$': 1,\n",
    "    '$$ - $$$': 2,\n",
    "    '$$$$': 3\n",
    "}\n",
    "\n",
    "df.price_range = df.price_range.replace(to_replace=price_range_map)\n",
    "\n",
    "df['price_range'] = df.price_range.astype(\n",
    "    CategoricalDtype(categories=[1, 2, 3], ordered=True)\n",
    ")\n",
    "\n",
    "df.price_range.value_counts(dropna=False)"
   ]
  },
  {
   "cell_type": "markdown",
   "metadata": {},
   "source": [
    "## `city` —  город, в котором находится ресторан"
   ]
  },
  {
   "cell_type": "markdown",
   "metadata": {},
   "source": [
    "### 4.2 Вопрос о городах"
   ]
  },
  {
   "cell_type": "markdown",
   "metadata": {},
   "source": [
    "- Сколько городов представлено в наборе данных?"
   ]
  },
  {
   "cell_type": "code",
   "execution_count": 6,
   "metadata": {},
   "outputs": [
    {
     "data": {
      "text/plain": [
       "False"
      ]
     },
     "execution_count": 6,
     "metadata": {},
     "output_type": "execute_result"
    }
   ],
   "source": [
    "df.city.isnull().any()"
   ]
  },
  {
   "cell_type": "code",
   "execution_count": 7,
   "metadata": {},
   "outputs": [
    {
     "data": {
      "text/plain": [
       "31"
      ]
     },
     "execution_count": 7,
     "metadata": {},
     "output_type": "execute_result"
    }
   ],
   "source": [
    "len(df.city.value_counts())"
   ]
  },
  {
   "cell_type": "markdown",
   "metadata": {},
   "source": [
    "### `Cuisine Style` — кухня или кухни, к которым можно отнести блюда, предлагаемые в ресторане;"
   ]
  },
  {
   "cell_type": "markdown",
   "metadata": {},
   "source": [
    "### 4.3 Вопросы о кухнях"
   ]
  },
  {
   "cell_type": "markdown",
   "metadata": {},
   "source": [
    " - Сколько типов кухонь представлено в наборе данных?"
   ]
  },
  {
   "cell_type": "code",
   "execution_count": 8,
   "metadata": {},
   "outputs": [
    {
     "data": {
      "text/plain": [
       "125"
      ]
     },
     "execution_count": 8,
     "metadata": {},
     "output_type": "execute_result"
    }
   ],
   "source": [
    "# Преобразуем в список (list) строку с типами кухонь\n",
    "\n",
    "df['cuisine_style'] = df.cuisine_style.apply(helpers.convert_cuisine)\n",
    "total_cuisine = df['cuisine_style'].explode('cuisine_style')\n",
    "len(total_cuisine.value_counts())\n"
   ]
  },
  {
   "cell_type": "markdown",
   "metadata": {
    "ExecuteTime": {
     "end_time": "2021-01-06T11:22:19.607873Z",
     "start_time": "2021-01-06T11:22:19.595654Z"
    }
   },
   "source": [
    "- Какая кухня представлена в наибольшем количестве ресторанов? Введите название кухни без кавычек или апострофов."
   ]
  },
  {
   "cell_type": "code",
   "execution_count": 9,
   "metadata": {
    "ExecuteTime": {
     "end_time": "2021-01-06T11:22:19.607873Z",
     "start_time": "2021-01-06T11:22:19.595654Z"
    }
   },
   "outputs": [
    {
     "data": {
      "text/plain": [
       "'Vegetarian Friendly'"
      ]
     },
     "execution_count": 9,
     "metadata": {},
     "output_type": "execute_result"
    }
   ],
   "source": [
    "total_cuisine.value_counts().head(1).index[0]"
   ]
  },
  {
   "cell_type": "markdown",
   "metadata": {
    "ExecuteTime": {
     "end_time": "2021-01-06T11:22:37.518201Z",
     "start_time": "2021-01-06T11:22:37.506547Z"
    }
   },
   "source": [
    "- Какое среднее количество кухонь предлагается в одном ресторане? Если в данных отсутствует информация о типах кухонь, то считайте, что в этом ресторане предлагается только один тип кухни. Ответ округлите до одного знака после запятой."
   ]
  },
  {
   "cell_type": "code",
   "execution_count": 10,
   "metadata": {
    "ExecuteTime": {
     "end_time": "2021-01-06T12:10:50.852638Z",
     "start_time": "2021-01-06T12:10:49.297852Z"
    }
   },
   "outputs": [
    {
     "data": {
      "text/plain": [
       "2.6"
      ]
     },
     "execution_count": 10,
     "metadata": {},
     "output_type": "execute_result"
    }
   ],
   "source": [
    "# создадим новую колонку (feature engeniring)\n",
    "df['total_types_cuisine'] = df.cuisine_style.fillna(1).apply(lambda x: 1 if isinstance(x, int) else len(x))\n",
    "df['total_types_cuisine'].mean().round(1)"
   ]
  },
  {
   "cell_type": "markdown",
   "metadata": {},
   "source": [
    "###  `Reviews` — данные о двух отзывах, которые отображаются на сайте ресторана;"
   ]
  },
  {
   "cell_type": "markdown",
   "metadata": {},
   "source": [
    "### 4.4 Вопросы об отзывах"
   ]
  },
  {
   "cell_type": "markdown",
   "metadata": {},
   "source": [
    "- Когда был оставлен самый свежий отзыв? Введите ответ в формате yyyy-mm-dd."
   ]
  },
  {
   "cell_type": "code",
   "execution_count": 11,
   "metadata": {},
   "outputs": [],
   "source": [
    "reviews_df = pd.DataFrame(\n",
    "    data=list(df.reviews.apply(helpers.convert_reviews)), \n",
    "    columns=['review1', 'review_date1', 'review2', 'review_date2']\n",
    ")\n",
    "reviews_df['review_date1'] = reviews_df.review_date1.apply(helpers.convert_datetime)\n",
    "reviews_df['review_date2'] = reviews_df.review_date2.apply(helpers.convert_datetime)\n",
    "\n",
    "df = pd.concat([df, reviews_df], axis=1)\n",
    "df.drop(['reviews'], axis=1, inplace=True) "
   ]
  },
  {
   "cell_type": "code",
   "execution_count": 12,
   "metadata": {},
   "outputs": [
    {
     "data": {
      "text/html": [
       "<div>\n",
       "<style scoped>\n",
       "    .dataframe tbody tr th:only-of-type {\n",
       "        vertical-align: middle;\n",
       "    }\n",
       "\n",
       "    .dataframe tbody tr th {\n",
       "        vertical-align: top;\n",
       "    }\n",
       "\n",
       "    .dataframe thead th {\n",
       "        text-align: right;\n",
       "    }\n",
       "</style>\n",
       "<table border=\"1\" class=\"dataframe\">\n",
       "  <thead>\n",
       "    <tr style=\"text-align: right;\">\n",
       "      <th></th>\n",
       "      <th>restaurant_id</th>\n",
       "      <th>city</th>\n",
       "      <th>cuisine_style</th>\n",
       "      <th>ranking</th>\n",
       "      <th>rating</th>\n",
       "      <th>price_range</th>\n",
       "      <th>number_of_reviews</th>\n",
       "      <th>url_ta</th>\n",
       "      <th>id_ta</th>\n",
       "      <th>total_types_cuisine</th>\n",
       "      <th>review1</th>\n",
       "      <th>review_date1</th>\n",
       "      <th>review2</th>\n",
       "      <th>review_date2</th>\n",
       "    </tr>\n",
       "  </thead>\n",
       "  <tbody>\n",
       "    <tr>\n",
       "      <th>0</th>\n",
       "      <td>id_5569</td>\n",
       "      <td>Paris</td>\n",
       "      <td>[European, French, International]</td>\n",
       "      <td>5570.0</td>\n",
       "      <td>3.5</td>\n",
       "      <td>2</td>\n",
       "      <td>194.0</td>\n",
       "      <td>/Restaurant_Review-g187147-d1912643-Reviews-R_...</td>\n",
       "      <td>d1912643</td>\n",
       "      <td>3</td>\n",
       "      <td>Good food at your doorstep</td>\n",
       "      <td>2017-12-31</td>\n",
       "      <td>A good hotel restaurant</td>\n",
       "      <td>2017-11-20</td>\n",
       "    </tr>\n",
       "    <tr>\n",
       "      <th>1</th>\n",
       "      <td>id_1535</td>\n",
       "      <td>Stockholm</td>\n",
       "      <td>NaN</td>\n",
       "      <td>1537.0</td>\n",
       "      <td>4.0</td>\n",
       "      <td>2</td>\n",
       "      <td>10.0</td>\n",
       "      <td>/Restaurant_Review-g189852-d7992032-Reviews-Bu...</td>\n",
       "      <td>d7992032</td>\n",
       "      <td>1</td>\n",
       "      <td>Unique cuisine</td>\n",
       "      <td>2017-07-06</td>\n",
       "      <td>Delicious Nepalese food</td>\n",
       "      <td>2016-06-19</td>\n",
       "    </tr>\n",
       "    <tr>\n",
       "      <th>2</th>\n",
       "      <td>id_352</td>\n",
       "      <td>London</td>\n",
       "      <td>[Japanese, Sushi, Asian, Grill, Vegetarian Fri...</td>\n",
       "      <td>353.0</td>\n",
       "      <td>4.5</td>\n",
       "      <td>3</td>\n",
       "      <td>688.0</td>\n",
       "      <td>/Restaurant_Review-g186338-d8632781-Reviews-RO...</td>\n",
       "      <td>d8632781</td>\n",
       "      <td>7</td>\n",
       "      <td>Catch up with friends</td>\n",
       "      <td>2018-01-08</td>\n",
       "      <td>Not exceptional</td>\n",
       "      <td>2018-01-06</td>\n",
       "    </tr>\n",
       "  </tbody>\n",
       "</table>\n",
       "</div>"
      ],
      "text/plain": [
       "  restaurant_id       city                                      cuisine_style  \\\n",
       "0       id_5569      Paris                  [European, French, International]   \n",
       "1       id_1535  Stockholm                                                NaN   \n",
       "2        id_352     London  [Japanese, Sushi, Asian, Grill, Vegetarian Fri...   \n",
       "\n",
       "   ranking  rating price_range  number_of_reviews  \\\n",
       "0   5570.0     3.5           2              194.0   \n",
       "1   1537.0     4.0           2               10.0   \n",
       "2    353.0     4.5           3              688.0   \n",
       "\n",
       "                                              url_ta     id_ta  \\\n",
       "0  /Restaurant_Review-g187147-d1912643-Reviews-R_...  d1912643   \n",
       "1  /Restaurant_Review-g189852-d7992032-Reviews-Bu...  d7992032   \n",
       "2  /Restaurant_Review-g186338-d8632781-Reviews-RO...  d8632781   \n",
       "\n",
       "   total_types_cuisine                     review1 review_date1  \\\n",
       "0                    3  Good food at your doorstep   2017-12-31   \n",
       "1                    1              Unique cuisine   2017-07-06   \n",
       "2                    7       Catch up with friends   2018-01-08   \n",
       "\n",
       "                   review2 review_date2  \n",
       "0  A good hotel restaurant   2017-11-20  \n",
       "1  Delicious Nepalese food   2016-06-19  \n",
       "2          Not exceptional   2018-01-06  "
      ]
     },
     "execution_count": 12,
     "metadata": {},
     "output_type": "execute_result"
    }
   ],
   "source": [
    "df.head(3)"
   ]
  },
  {
   "cell_type": "code",
   "execution_count": 13,
   "metadata": {},
   "outputs": [
    {
     "data": {
      "text/plain": [
       "(Timestamp('2018-02-26 00:00:00'), Timestamp('2018-02-26 00:00:00'))"
      ]
     },
     "execution_count": 13,
     "metadata": {},
     "output_type": "execute_result"
    }
   ],
   "source": [
    "df.review_date1.max(), df.review_date2.max()"
   ]
  },
  {
   "cell_type": "code",
   "execution_count": 16,
   "metadata": {},
   "outputs": [
    {
     "data": {
      "text/html": [
       "<div>\n",
       "<style scoped>\n",
       "    .dataframe tbody tr th:only-of-type {\n",
       "        vertical-align: middle;\n",
       "    }\n",
       "\n",
       "    .dataframe tbody tr th {\n",
       "        vertical-align: top;\n",
       "    }\n",
       "\n",
       "    .dataframe thead th {\n",
       "        text-align: right;\n",
       "    }\n",
       "</style>\n",
       "<table border=\"1\" class=\"dataframe\">\n",
       "  <thead>\n",
       "    <tr style=\"text-align: right;\">\n",
       "      <th></th>\n",
       "      <th>restaurant_id</th>\n",
       "      <th>city</th>\n",
       "      <th>cuisine_style</th>\n",
       "      <th>ranking</th>\n",
       "      <th>rating</th>\n",
       "      <th>price_range</th>\n",
       "      <th>number_of_reviews</th>\n",
       "      <th>url_ta</th>\n",
       "      <th>id_ta</th>\n",
       "      <th>total_types_cuisine</th>\n",
       "      <th>review1</th>\n",
       "      <th>review_date1</th>\n",
       "      <th>review2</th>\n",
       "      <th>review_date2</th>\n",
       "      <th>timedelta_reviews</th>\n",
       "    </tr>\n",
       "  </thead>\n",
       "  <tbody>\n",
       "    <tr>\n",
       "      <th>0</th>\n",
       "      <td>id_5569</td>\n",
       "      <td>Paris</td>\n",
       "      <td>[European, French, International]</td>\n",
       "      <td>5570.0</td>\n",
       "      <td>3.5</td>\n",
       "      <td>2</td>\n",
       "      <td>194.0</td>\n",
       "      <td>/Restaurant_Review-g187147-d1912643-Reviews-R_...</td>\n",
       "      <td>d1912643</td>\n",
       "      <td>3</td>\n",
       "      <td>Good food at your doorstep</td>\n",
       "      <td>2017-12-31</td>\n",
       "      <td>A good hotel restaurant</td>\n",
       "      <td>2017-11-20</td>\n",
       "      <td>41 days</td>\n",
       "    </tr>\n",
       "    <tr>\n",
       "      <th>1</th>\n",
       "      <td>id_1535</td>\n",
       "      <td>Stockholm</td>\n",
       "      <td>NaN</td>\n",
       "      <td>1537.0</td>\n",
       "      <td>4.0</td>\n",
       "      <td>2</td>\n",
       "      <td>10.0</td>\n",
       "      <td>/Restaurant_Review-g189852-d7992032-Reviews-Bu...</td>\n",
       "      <td>d7992032</td>\n",
       "      <td>1</td>\n",
       "      <td>Unique cuisine</td>\n",
       "      <td>2017-07-06</td>\n",
       "      <td>Delicious Nepalese food</td>\n",
       "      <td>2016-06-19</td>\n",
       "      <td>382 days</td>\n",
       "    </tr>\n",
       "    <tr>\n",
       "      <th>2</th>\n",
       "      <td>id_352</td>\n",
       "      <td>London</td>\n",
       "      <td>[Japanese, Sushi, Asian, Grill, Vegetarian Fri...</td>\n",
       "      <td>353.0</td>\n",
       "      <td>4.5</td>\n",
       "      <td>3</td>\n",
       "      <td>688.0</td>\n",
       "      <td>/Restaurant_Review-g186338-d8632781-Reviews-RO...</td>\n",
       "      <td>d8632781</td>\n",
       "      <td>7</td>\n",
       "      <td>Catch up with friends</td>\n",
       "      <td>2018-01-08</td>\n",
       "      <td>Not exceptional</td>\n",
       "      <td>2018-01-06</td>\n",
       "      <td>2 days</td>\n",
       "    </tr>\n",
       "  </tbody>\n",
       "</table>\n",
       "</div>"
      ],
      "text/plain": [
       "  restaurant_id       city                                      cuisine_style  \\\n",
       "0       id_5569      Paris                  [European, French, International]   \n",
       "1       id_1535  Stockholm                                                NaN   \n",
       "2        id_352     London  [Japanese, Sushi, Asian, Grill, Vegetarian Fri...   \n",
       "\n",
       "   ranking  rating price_range  number_of_reviews  \\\n",
       "0   5570.0     3.5           2              194.0   \n",
       "1   1537.0     4.0           2               10.0   \n",
       "2    353.0     4.5           3              688.0   \n",
       "\n",
       "                                              url_ta     id_ta  \\\n",
       "0  /Restaurant_Review-g187147-d1912643-Reviews-R_...  d1912643   \n",
       "1  /Restaurant_Review-g189852-d7992032-Reviews-Bu...  d7992032   \n",
       "2  /Restaurant_Review-g186338-d8632781-Reviews-RO...  d8632781   \n",
       "\n",
       "   total_types_cuisine                     review1 review_date1  \\\n",
       "0                    3  Good food at your doorstep   2017-12-31   \n",
       "1                    1              Unique cuisine   2017-07-06   \n",
       "2                    7       Catch up with friends   2018-01-08   \n",
       "\n",
       "                   review2 review_date2 timedelta_reviews  \n",
       "0  A good hotel restaurant   2017-11-20           41 days  \n",
       "1  Delicious Nepalese food   2016-06-19          382 days  \n",
       "2          Not exceptional   2018-01-06            2 days  "
      ]
     },
     "execution_count": 16,
     "metadata": {},
     "output_type": "execute_result"
    }
   ],
   "source": [
    "df['timedelta_reviews'] = df.review_date1 - df.review_date2\n",
    "\n",
    "df.head(3)"
   ]
  },
  {
   "cell_type": "code",
   "execution_count": 18,
   "metadata": {},
   "outputs": [
    {
     "data": {
      "text/plain": [
       "Timedelta('3207 days 00:00:00')"
      ]
     },
     "execution_count": 18,
     "metadata": {},
     "output_type": "execute_result"
    }
   ],
   "source": [
    "df.timedelta_reviews.max()"
   ]
  },
  {
   "cell_type": "code",
   "execution_count": 19,
   "metadata": {},
   "outputs": [
    {
     "name": "stdout",
     "output_type": "stream",
     "text": [
      "<class 'pandas.core.frame.DataFrame'>\n",
      "RangeIndex: 40000 entries, 0 to 39999\n",
      "Data columns (total 15 columns):\n",
      " #   Column               Non-Null Count  Dtype          \n",
      "---  ------               --------------  -----          \n",
      " 0   restaurant_id        40000 non-null  object         \n",
      " 1   city                 40000 non-null  object         \n",
      " 2   cuisine_style        30717 non-null  object         \n",
      " 3   ranking              40000 non-null  float64        \n",
      " 4   rating               40000 non-null  float64        \n",
      " 5   price_range          40000 non-null  category       \n",
      " 6   number_of_reviews    37457 non-null  float64        \n",
      " 7   url_ta               40000 non-null  object         \n",
      " 8   id_ta                40000 non-null  object         \n",
      " 9   total_types_cuisine  40000 non-null  int64          \n",
      " 10  review1              33528 non-null  object         \n",
      " 11  review_date1         33529 non-null  datetime64[ns] \n",
      " 12  review2              28972 non-null  object         \n",
      " 13  review_date2         28973 non-null  datetime64[ns] \n",
      " 14  timedelta_reviews    28973 non-null  timedelta64[ns]\n",
      "dtypes: category(1), datetime64[ns](2), float64(3), int64(1), object(7), timedelta64[ns](1)\n",
      "memory usage: 4.3+ MB\n"
     ]
    }
   ],
   "source": [
    "df.info()"
   ]
  },
  {
   "cell_type": "code",
   "execution_count": null,
   "metadata": {},
   "outputs": [],
   "source": []
  }
 ],
 "metadata": {
  "kernelspec": {
   "display_name": "PyCharm (SkillFactory)",
   "language": "python",
   "name": "pycharm-654c38e"
  },
  "language_info": {
   "codemirror_mode": {
    "name": "ipython",
    "version": 3
   },
   "file_extension": ".py",
   "mimetype": "text/x-python",
   "name": "python",
   "nbconvert_exporter": "python",
   "pygments_lexer": "ipython3",
   "version": "3.9.1"
  }
 },
 "nbformat": 4,
 "nbformat_minor": 4
}
