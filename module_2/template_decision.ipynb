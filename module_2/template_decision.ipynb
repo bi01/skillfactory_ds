{
 "cells": [
  {
   "cell_type": "markdown",
   "source": [
    "# Проект 2. Разведывательный анализ данных\n",
    "\n",
    "Вы работаете в крупной корпорации в сфере FMCG (Fast-Moving Consumer Goods) на позиции Junior Data Scientist.\n",
    "\n",
    "Рынок бурлит новыми идеями и продуктами: даже Mars экспериментируют со второй палочкой Twix. Ваша компания не можете отставать, поэтому руководство решило запустить новую линейку продуктов. Было подготовлено несколько новых вариантов шоколадных батончиков, которые по прогнозам создателей должны взорвать рынок. Но насколько верны их предсказания?\n",
    "\n",
    "Итак, перед вами поставили задачу создать модель, которая бы предсказывала оценку нового продукта конечными пользователями.\n",
    "\n",
    "Данные о тестировании батончиков конкурентов собраны, можно приступать к задаче!\n"
   ],
   "metadata": {
    "collapsed": false,
    "pycharm": {
     "name": "#%% md\n"
    }
   }
  },
  {
   "cell_type": "markdown",
   "source": [
    "\n",
    "### Разведывательный анализ данных (EDA)\n",
    "\n",
    "Основные цели EDA:\n",
    "\n",
    "- Сформулировать предположения и гипотезы для дальнейшего построения модели.\n",
    "- Проверить качество данных и очистить их, если это необходимо.\n",
    "- Определиться с параметрами модели.\n",
    "\n",
    "\n",
    "Можно выделить **основные шаги**:\n",
    "\n",
    "1. Посмотреть на данные.\n",
    "2. Проверить данные на пустые значения.\n",
    "3. Проверить данные на дублированные/полностью скоррелированные значения.\n",
    "4. Проверить данные на наличие выбросов.\n",
    "5. Отобрать данные, пригодные для дальнейшего построения модели.\n",
    "6. Снова и снова возвращаться к предыдущим пунктам, пока модель не заработает как надо.\n"
   ],
   "metadata": {
    "collapsed": false,
    "pycharm": {
     "name": "#%% md\n"
    }
   }
  },
  {
   "cell_type": "code",
   "execution_count": 286,
   "outputs": [],
   "source": [
    "\n",
    "import pandas as pd\n",
    "import matplotlib.pyplot as plt\n",
    "import seaborn as sns\n",
    "from itertools import combinations\n",
    "from IPython.core.display import display\n",
    "from scipy.stats import ttest_ind\n",
    "\n",
    "pd.set_option('display.max_rows', 50) # показывать больше строк\n",
    "pd.set_option('display.max_columns', 50) # показывать больше колонок\n",
    "\n",
    "cacao = pd.read_csv('cacao_flavors.csv')"
   ],
   "metadata": {
    "collapsed": false,
    "pycharm": {
     "name": "#%%\n"
    }
   }
  },
  {
   "cell_type": "markdown",
   "source": [
    "- Bar id — ID батончика в базе данных\n",
    "- Company (Maker-if known) — название компании, изготовившей батончик.\n",
    "- Specific Bean Origin or Bar Name — точное место происхождения какао-бобов.\n",
    "- Broad Bean Origin — название региона, где были выращены какао-бобы.\n",
    "- Company Location — страна, в которой произведён шоколадный батончик.\n",
    "- Bean Type — вид какао-бобов, используемых в батончике.\n",
    "- REF — числовое значение, показывающее, как давно ревью было добавлено в базу. Чем выше значение, тем более свежее\n",
    "ревью.\n",
    "- Review Date — год публикации рецензии.\n",
    "- Cocoa Percent — процент какао в шоколаде.\n",
    "- Rating — оценка батончика фокус-группой.\n"
   ],
   "metadata": {
    "collapsed": false,
    "pycharm": {
     "name": "#%% md\n"
    }
   }
  },
  {
   "cell_type": "code",
   "execution_count": 287,
   "outputs": [
    {
     "data": {
      "text/plain": "   Bar id Company \\n(Maker-if known) Specific Bean Origin\\nor Bar Name   REF  \\\n0       1                   A. Morin                       Agua Grande  1876   \n1       2                   A. Morin                             Kpime  1676   \n2       3                   A. Morin                            Atsane  1676   \n3       4                   A. Morin                             Akata  1680   \n4       5                   A. Morin                            Quilla  1704   \n5       6                   A. Morin                          Carenero  1315   \n6       7                   A. Morin                              Cuba  1315   \n7       8                   A. Morin                      Sur del Lago  1315   \n8       9                                               Puerto Cabello  1319   \n9      10                   A. Morin                           Pablino  1319   \n\n   Review\\nDate Cocoa\\nPercent Company\\nLocation  Rating Bean\\nType  \\\n0          2016            63%            France   11.50              \n1          2015            70%            France    2.75              \n2          2015           670%            France    3.00              \n3          2015            70%            France    3.50              \n4          2015            70%            France    3.50              \n5          2014            70%            France    2.75    Criollo   \n6          2014            70%            France    3.50              \n7          2014            70%            France   11.50    Criollo   \n8          2014            70%            France    3.75    Criollo   \n9          2014            70%            France    4.00              \n\n  Broad Bean\\nOrigin  \n0           Sao Tome  \n1               Togo  \n2               Togo  \n3               Togo  \n4               Peru  \n5          Venezuela  \n6               Cuba  \n7          Venezuela  \n8          Venezuela  \n9               Peru  ",
      "text/html": "<div>\n<style scoped>\n    .dataframe tbody tr th:only-of-type {\n        vertical-align: middle;\n    }\n\n    .dataframe tbody tr th {\n        vertical-align: top;\n    }\n\n    .dataframe thead th {\n        text-align: right;\n    }\n</style>\n<table border=\"1\" class=\"dataframe\">\n  <thead>\n    <tr style=\"text-align: right;\">\n      <th></th>\n      <th>Bar id</th>\n      <th>Company \\n(Maker-if known)</th>\n      <th>Specific Bean Origin\\nor Bar Name</th>\n      <th>REF</th>\n      <th>Review\\nDate</th>\n      <th>Cocoa\\nPercent</th>\n      <th>Company\\nLocation</th>\n      <th>Rating</th>\n      <th>Bean\\nType</th>\n      <th>Broad Bean\\nOrigin</th>\n    </tr>\n  </thead>\n  <tbody>\n    <tr>\n      <th>0</th>\n      <td>1</td>\n      <td>A. Morin</td>\n      <td>Agua Grande</td>\n      <td>1876</td>\n      <td>2016</td>\n      <td>63%</td>\n      <td>France</td>\n      <td>11.50</td>\n      <td></td>\n      <td>Sao Tome</td>\n    </tr>\n    <tr>\n      <th>1</th>\n      <td>2</td>\n      <td>A. Morin</td>\n      <td>Kpime</td>\n      <td>1676</td>\n      <td>2015</td>\n      <td>70%</td>\n      <td>France</td>\n      <td>2.75</td>\n      <td></td>\n      <td>Togo</td>\n    </tr>\n    <tr>\n      <th>2</th>\n      <td>3</td>\n      <td>A. Morin</td>\n      <td>Atsane</td>\n      <td>1676</td>\n      <td>2015</td>\n      <td>670%</td>\n      <td>France</td>\n      <td>3.00</td>\n      <td></td>\n      <td>Togo</td>\n    </tr>\n    <tr>\n      <th>3</th>\n      <td>4</td>\n      <td>A. Morin</td>\n      <td>Akata</td>\n      <td>1680</td>\n      <td>2015</td>\n      <td>70%</td>\n      <td>France</td>\n      <td>3.50</td>\n      <td></td>\n      <td>Togo</td>\n    </tr>\n    <tr>\n      <th>4</th>\n      <td>5</td>\n      <td>A. Morin</td>\n      <td>Quilla</td>\n      <td>1704</td>\n      <td>2015</td>\n      <td>70%</td>\n      <td>France</td>\n      <td>3.50</td>\n      <td></td>\n      <td>Peru</td>\n    </tr>\n    <tr>\n      <th>5</th>\n      <td>6</td>\n      <td>A. Morin</td>\n      <td>Carenero</td>\n      <td>1315</td>\n      <td>2014</td>\n      <td>70%</td>\n      <td>France</td>\n      <td>2.75</td>\n      <td>Criollo</td>\n      <td>Venezuela</td>\n    </tr>\n    <tr>\n      <th>6</th>\n      <td>7</td>\n      <td>A. Morin</td>\n      <td>Cuba</td>\n      <td>1315</td>\n      <td>2014</td>\n      <td>70%</td>\n      <td>France</td>\n      <td>3.50</td>\n      <td></td>\n      <td>Cuba</td>\n    </tr>\n    <tr>\n      <th>7</th>\n      <td>8</td>\n      <td>A. Morin</td>\n      <td>Sur del Lago</td>\n      <td>1315</td>\n      <td>2014</td>\n      <td>70%</td>\n      <td>France</td>\n      <td>11.50</td>\n      <td>Criollo</td>\n      <td>Venezuela</td>\n    </tr>\n    <tr>\n      <th>8</th>\n      <td>9</td>\n      <td></td>\n      <td>Puerto Cabello</td>\n      <td>1319</td>\n      <td>2014</td>\n      <td>70%</td>\n      <td>France</td>\n      <td>3.75</td>\n      <td>Criollo</td>\n      <td>Venezuela</td>\n    </tr>\n    <tr>\n      <th>9</th>\n      <td>10</td>\n      <td>A. Morin</td>\n      <td>Pablino</td>\n      <td>1319</td>\n      <td>2014</td>\n      <td>70%</td>\n      <td>France</td>\n      <td>4.00</td>\n      <td></td>\n      <td>Peru</td>\n    </tr>\n  </tbody>\n</table>\n</div>"
     },
     "metadata": {},
     "output_type": "display_data"
    },
    {
     "name": "stdout",
     "output_type": "stream",
     "text": [
      "<class 'pandas.core.frame.DataFrame'>\n",
      "RangeIndex: 1795 entries, 0 to 1794\n",
      "Data columns (total 10 columns):\n",
      " #   Column                            Non-Null Count  Dtype  \n",
      "---  ------                            --------------  -----  \n",
      " 0   Bar id                            1795 non-null   int64  \n",
      " 1   Company \n",
      "(Maker-if known)         1795 non-null   object \n",
      " 2   Specific Bean Origin\n",
      "or Bar Name  1795 non-null   object \n",
      " 3   REF                               1795 non-null   int64  \n",
      " 4   Review\n",
      "Date                       1795 non-null   int64  \n",
      " 5   Cocoa\n",
      "Percent                     1795 non-null   object \n",
      " 6   Company\n",
      "Location                  1795 non-null   object \n",
      " 7   Rating                            1795 non-null   float64\n",
      " 8   Bean\n",
      "Type                         1794 non-null   object \n",
      " 9   Broad Bean\n",
      "Origin                 1794 non-null   object \n",
      "dtypes: float64(1), int64(3), object(6)\n",
      "memory usage: 140.4+ KB\n"
     ]
    }
   ],
   "source": [
    "display(cacao.head(10))\n",
    "cacao.info()"
   ],
   "metadata": {
    "collapsed": false,
    "pycharm": {
     "name": "#%%\n"
    }
   }
  },
  {
   "cell_type": "code",
   "execution_count": 288,
   "outputs": [
    {
     "name": "stdout",
     "output_type": "stream",
     "text": [
      "<class 'pandas.core.frame.DataFrame'>\n",
      "RangeIndex: 1795 entries, 0 to 1794\n",
      "Data columns (total 10 columns):\n",
      " #   Column                            Non-Null Count  Dtype  \n",
      "---  ------                            --------------  -----  \n",
      " 0   Bar id                            1795 non-null   int64  \n",
      " 1   Company \n",
      "(Maker-if known)         1795 non-null   object \n",
      " 2   Specific Bean Origin\n",
      "or Bar Name  1795 non-null   object \n",
      " 3   REF                               1795 non-null   int64  \n",
      " 4   Review\n",
      "Date                       1795 non-null   int64  \n",
      " 5   Cocoa\n",
      "Percent                     1795 non-null   object \n",
      " 6   Company\n",
      "Location                  1795 non-null   object \n",
      " 7   Rating                            1795 non-null   float64\n",
      " 8   Bean\n",
      "Type                         1794 non-null   object \n",
      " 9   Broad Bean\n",
      "Origin                 1794 non-null   object \n",
      "dtypes: float64(1), int64(3), object(6)\n",
      "memory usage: 140.4+ KB\n"
     ]
    }
   ],
   "source": [
    "# Сколько в датасете числовых столбцов?\n",
    "# Сколько в датасете строковых столбцов?\n",
    "\n",
    "# dtypes: float64(1), int64(3), object(6)\n",
    "cacao.info()"
   ],
   "metadata": {
    "collapsed": false,
    "pycharm": {
     "name": "#%%\n"
    }
   }
  },
  {
   "cell_type": "markdown",
   "source": [
    "\n",
    "## исправление названий колонок в датафрейме"
   ],
   "metadata": {
    "collapsed": false,
    "pycharm": {
     "name": "#%% md\n",
     "is_executing": true
    }
   }
  },
  {
   "cell_type": "code",
   "execution_count": 289,
   "outputs": [
    {
     "data": {
      "text/plain": "Index(['bar_id', 'company', 'specific_origin', 'ref', 'review_date',\n       'cocoa_percent', 'company_location', 'rating', 'bean_type',\n       'broad_origin'],\n      dtype='object')"
     },
     "execution_count": 289,
     "metadata": {},
     "output_type": "execute_result"
    }
   ],
   "source": [
    "cacao.columns\n",
    "cacao.columns = [\n",
    "    'bar_id',\n",
    "    'company',\n",
    "    'specific_origin',\n",
    "    'ref',\n",
    "    'review_date',\n",
    "    'cocoa_percent',\n",
    "    'company_location',\n",
    "    'rating',\n",
    "    'bean_type',\n",
    "    'broad_origin'\n",
    "]\n",
    "cacao.columns"
   ],
   "metadata": {
    "collapsed": false,
    "pycharm": {
     "name": "#%%\n"
    }
   }
  },
  {
   "cell_type": "markdown",
   "source": [
    "\n",
    "## Bar_id - ID батончика в базе данных"
   ],
   "metadata": {
    "collapsed": false
   }
  },
  {
   "cell_type": "code",
   "execution_count": 290,
   "outputs": [
    {
     "name": "stdout",
     "output_type": "stream",
     "text": [
      "1795\n"
     ]
    },
    {
     "data": {
      "text/plain": "<Figure size 432x288 with 1 Axes>",
      "image/png": "[encoded data removed]"
     },
     "metadata": {
      "needs_background": "light"
     },
     "output_type": "display_data"
    }
   ],
   "source": [
    "if 'bar_id' in cacao.columns:\n",
    "    print(cacao.bar_id.nunique())\n",
    "    plt.plot(cacao.bar_id)\n",
    "\n",
    "    # удаляем как ненужные данные в анализе\n",
    "    cacao.drop(['bar_id'], inplace = True, axis = 1)"
   ],
   "metadata": {
    "collapsed": false,
    "pycharm": {
     "name": "#%%\n"
    }
   }
  },
  {
   "cell_type": "code",
   "execution_count": 290,
   "outputs": [],
   "source": [],
   "metadata": {
    "collapsed": false,
    "pycharm": {
     "name": "#%%\n"
    }
   }
  },
  {
   "cell_type": "markdown",
   "source": [
    "\n",
    "## company - название компании, изготовившей батончик."
   ],
   "metadata": {
    "collapsed": false
   }
  },
  {
   "cell_type": "code",
   "execution_count": 291,
   "outputs": [
    {
     "data": {
      "text/plain": "                        company\n                             99\nSoma                         45\nBonnat                       26\nFresco                       26\nPralus                       25\n...                         ...\nPinellas                      1\nChoocsol                      1\nCacao Market                  1\nGreen & Black's (ICAM)        1\nCote d' Or (Kraft)            1\n\n[408 rows x 1 columns]",
      "text/html": "<div>\n<style scoped>\n    .dataframe tbody tr th:only-of-type {\n        vertical-align: middle;\n    }\n\n    .dataframe tbody tr th {\n        vertical-align: top;\n    }\n\n    .dataframe thead th {\n        text-align: right;\n    }\n</style>\n<table border=\"1\" class=\"dataframe\">\n  <thead>\n    <tr style=\"text-align: right;\">\n      <th></th>\n      <th>company</th>\n    </tr>\n  </thead>\n  <tbody>\n    <tr>\n      <th></th>\n      <td>99</td>\n    </tr>\n    <tr>\n      <th>Soma</th>\n      <td>45</td>\n    </tr>\n    <tr>\n      <th>Bonnat</th>\n      <td>26</td>\n    </tr>\n    <tr>\n      <th>Fresco</th>\n      <td>26</td>\n    </tr>\n    <tr>\n      <th>Pralus</th>\n      <td>25</td>\n    </tr>\n    <tr>\n      <th>...</th>\n      <td>...</td>\n    </tr>\n    <tr>\n      <th>Pinellas</th>\n      <td>1</td>\n    </tr>\n    <tr>\n      <th>Choocsol</th>\n      <td>1</td>\n    </tr>\n    <tr>\n      <th>Cacao Market</th>\n      <td>1</td>\n    </tr>\n    <tr>\n      <th>Green &amp; Black's (ICAM)</th>\n      <td>1</td>\n    </tr>\n    <tr>\n      <th>Cote d' Or (Kraft)</th>\n      <td>1</td>\n    </tr>\n  </tbody>\n</table>\n<p>408 rows × 1 columns</p>\n</div>"
     },
     "metadata": {},
     "output_type": "display_data"
    }
   ],
   "source": [
    "companies = pd.DataFrame(cacao.company.value_counts())\n",
    "display(companies)"
   ],
   "metadata": {
    "collapsed": false,
    "pycharm": {
     "name": "#%%\n"
    }
   }
  },
  {
   "cell_type": "code",
   "execution_count": 292,
   "outputs": [
    {
     "data": {
      "text/plain": "                                company\nSoma                                 45\nBonnat                               26\nFresco                               26\nPralus                               25\nDomori                               22\n...                                 ...\nMita                                  1\nLove Bar                              1\nMalagasy (Chocolaterie Robert)        1\nFearless (AMMA)                       1\nPangea                                1\n\n[407 rows x 1 columns]",
      "text/html": "<div>\n<style scoped>\n    .dataframe tbody tr th:only-of-type {\n        vertical-align: middle;\n    }\n\n    .dataframe tbody tr th {\n        vertical-align: top;\n    }\n\n    .dataframe thead th {\n        text-align: right;\n    }\n</style>\n<table border=\"1\" class=\"dataframe\">\n  <thead>\n    <tr style=\"text-align: right;\">\n      <th></th>\n      <th>company</th>\n    </tr>\n  </thead>\n  <tbody>\n    <tr>\n      <th>Soma</th>\n      <td>45</td>\n    </tr>\n    <tr>\n      <th>Bonnat</th>\n      <td>26</td>\n    </tr>\n    <tr>\n      <th>Fresco</th>\n      <td>26</td>\n    </tr>\n    <tr>\n      <th>Pralus</th>\n      <td>25</td>\n    </tr>\n    <tr>\n      <th>Domori</th>\n      <td>22</td>\n    </tr>\n    <tr>\n      <th>...</th>\n      <td>...</td>\n    </tr>\n    <tr>\n      <th>Mita</th>\n      <td>1</td>\n    </tr>\n    <tr>\n      <th>Love Bar</th>\n      <td>1</td>\n    </tr>\n    <tr>\n      <th>Malagasy (Chocolaterie Robert)</th>\n      <td>1</td>\n    </tr>\n    <tr>\n      <th>Fearless (AMMA)</th>\n      <td>1</td>\n    </tr>\n    <tr>\n      <th>Pangea</th>\n      <td>1</td>\n    </tr>\n  </tbody>\n</table>\n<p>407 rows × 1 columns</p>\n</div>"
     },
     "metadata": {},
     "output_type": "display_data"
    },
    {
     "name": "stdout",
     "output_type": "stream",
     "text": [
      "Значений, встретившихся в столбце более 10 раз: 30\n",
      "<class 'pandas.core.frame.DataFrame'>\n",
      "RangeIndex: 1795 entries, 0 to 1794\n",
      "Data columns (total 1 columns):\n",
      " #   Column   Non-Null Count  Dtype \n",
      "---  ------   --------------  ----- \n",
      " 0   company  1696 non-null   object\n",
      "dtypes: object(1)\n",
      "memory usage: 14.1+ KB\n"
     ]
    }
   ],
   "source": [
    "cacao.company = cacao.company.apply(\n",
    "    lambda x: None if (x is None) or (x.strip() == '') else x)\n",
    "\n",
    "display(pd.DataFrame(cacao.company.value_counts()))\n",
    "\n",
    "print(\n",
    "    \"Значений, встретившихся в столбце более 10 раз:\", #Число 10 взято для ориентира, можно брать другое\n",
    "    (cacao.company.value_counts()>10).sum()\n",
    ")\n",
    "\n",
    "cacao.loc[:, ['company']].info()"
   ],
   "metadata": {
    "collapsed": false,
    "pycharm": {
     "name": "#%%\n"
    }
   }
  },
  {
   "cell_type": "code",
   "execution_count": 293,
   "outputs": [
    {
     "name": "stdout",
     "output_type": "stream",
     "text": [
      "\n",
      "    407 - уникальных значений\n",
      "    99 - производитель неизвестен\n",
      "    30 - компаний у которых в рейтинге больше 10 батончиков\n",
      "\n"
     ]
    }
   ],
   "source": [
    "print('''\n",
    "    407 - уникальных значений\n",
    "    99 - производитель неизвестен\n",
    "    30 - компаний у которых в рейтинге больше 10 батончиков\n",
    "''')"
   ],
   "metadata": {
    "collapsed": false,
    "pycharm": {
     "name": "#%%\n"
    }
   }
  },
  {
   "cell_type": "markdown",
   "source": [
    "\n",
    "## specific_origin - точное место происхождения какао-бобов."
   ],
   "metadata": {
    "collapsed": false,
    "pycharm": {
     "name": "#%% md\n"
    }
   }
  },
  {
   "cell_type": "code",
   "execution_count": 294,
   "outputs": [
    {
     "data": {
      "text/plain": "                                               specific_origin\nMadagascar                                                  55\nPeru                                                        44\nEcuador                                                     39\nDominican Republic                                          33\nVenezuela                                                   21\n...                                                        ...\nMid Mountain, 2014                                           1\nTanzania, Party Bar                                          1\nGrand 'Anse                                                  1\nLa Dalia, Matagalpa,cacao Bisesto,green label                1\nTrinitario                                                   1\n\n[1012 rows x 1 columns]",
      "text/html": "<div>\n<style scoped>\n    .dataframe tbody tr th:only-of-type {\n        vertical-align: middle;\n    }\n\n    .dataframe tbody tr th {\n        vertical-align: top;\n    }\n\n    .dataframe thead th {\n        text-align: right;\n    }\n</style>\n<table border=\"1\" class=\"dataframe\">\n  <thead>\n    <tr style=\"text-align: right;\">\n      <th></th>\n      <th>specific_origin</th>\n    </tr>\n  </thead>\n  <tbody>\n    <tr>\n      <th>Madagascar</th>\n      <td>55</td>\n    </tr>\n    <tr>\n      <th>Peru</th>\n      <td>44</td>\n    </tr>\n    <tr>\n      <th>Ecuador</th>\n      <td>39</td>\n    </tr>\n    <tr>\n      <th>Dominican Republic</th>\n      <td>33</td>\n    </tr>\n    <tr>\n      <th>Venezuela</th>\n      <td>21</td>\n    </tr>\n    <tr>\n      <th>...</th>\n      <td>...</td>\n    </tr>\n    <tr>\n      <th>Mid Mountain, 2014</th>\n      <td>1</td>\n    </tr>\n    <tr>\n      <th>Tanzania, Party Bar</th>\n      <td>1</td>\n    </tr>\n    <tr>\n      <th>Grand 'Anse</th>\n      <td>1</td>\n    </tr>\n    <tr>\n      <th>La Dalia, Matagalpa,cacao Bisesto,green label</th>\n      <td>1</td>\n    </tr>\n    <tr>\n      <th>Trinitario</th>\n      <td>1</td>\n    </tr>\n  </tbody>\n</table>\n<p>1012 rows × 1 columns</p>\n</div>"
     },
     "execution_count": 294,
     "metadata": {},
     "output_type": "execute_result"
    }
   ],
   "source": [
    "cacao.specific_origin = cacao.specific_origin.apply(\n",
    "    lambda x: None if (x is None) or (x.strip() == '') else x)\n",
    "pd.DataFrame(cacao.specific_origin.value_counts())"
   ],
   "metadata": {
    "collapsed": false,
    "pycharm": {
     "name": "#%%\n"
    }
   }
  },
  {
   "cell_type": "code",
   "execution_count": 295,
   "outputs": [
    {
     "name": "stdout",
     "output_type": "stream",
     "text": [
      "Значений, встретившихся в столбце более 10 раз: 15\n",
      "<class 'pandas.core.frame.DataFrame'>\n",
      "RangeIndex: 1795 entries, 0 to 1794\n",
      "Data columns (total 1 columns):\n",
      " #   Column           Non-Null Count  Dtype \n",
      "---  ------           --------------  ----- \n",
      " 0   specific_origin  1737 non-null   object\n",
      "dtypes: object(1)\n",
      "memory usage: 14.1+ KB\n"
     ]
    }
   ],
   "source": [
    "print(\n",
    "    \"Значений, встретившихся в столбце более 10 раз:\", #Число 10 взято для ориентира, можно брать другое\n",
    "    (cacao.specific_origin.value_counts()>10).sum()\n",
    ")\n",
    "cacao.loc[:, ['specific_origin']].info()"
   ],
   "metadata": {
    "collapsed": false,
    "pycharm": {
     "name": "#%%\n"
    }
   }
  },
  {
   "cell_type": "code",
   "execution_count": 296,
   "outputs": [
    {
     "name": "stdout",
     "output_type": "stream",
     "text": [
      "\n",
      "    1012 - уникальных значений\n",
      "    58 - производитель неизвестен\n",
      "    15 - компаний у которых в рейтинге больше 10 батончиков\n",
      "\n"
     ]
    }
   ],
   "source": [
    "print('''\n",
    "    1012 - уникальных значений\n",
    "    58 - производитель неизвестен\n",
    "    15 - компаний у которых в рейтинге больше 10 батончиков\n",
    "''')"
   ],
   "metadata": {
    "collapsed": false,
    "pycharm": {
     "name": "#%%\n"
    }
   }
  },
  {
   "cell_type": "markdown",
   "source": [
    "\n",
    "## ref — числовое значение, показывающее, как давно ревью было добавлено в базу. Чем выше значение, тем более свежее\n",
    "ревью."
   ],
   "metadata": {
    "collapsed": false
   }
  },
  {
   "cell_type": "code",
   "execution_count": 297,
   "outputs": [
    {
     "data": {
      "text/plain": "count    1795.000000\nmean     1035.904735\nstd       552.886365\nmin         5.000000\n25%       576.000000\n50%      1069.000000\n75%      1502.000000\nmax      1952.000000\nName: ref, dtype: float64"
     },
     "execution_count": 297,
     "metadata": {},
     "output_type": "execute_result"
    },
    {
     "data": {
      "text/plain": "<Figure size 432x288 with 1 Axes>",
      "image/png": "[encoded data removed]"
     },
     "metadata": {
      "needs_background": "light"
     },
     "output_type": "display_data"
    }
   ],
   "source": [
    "cacao.ref.hist()\n",
    "cacao.ref.describe()"
   ],
   "metadata": {
    "collapsed": false,
    "pycharm": {
     "name": "#%%\n"
    }
   }
  },
  {
   "cell_type": "code",
   "execution_count": 298,
   "outputs": [
    {
     "data": {
      "text/plain": "Empty DataFrame\nColumns: [company, specific_origin, ref, review_date, cocoa_percent, company_location, rating, bean_type, broad_origin]\nIndex: []",
      "text/html": "<div>\n<style scoped>\n    .dataframe tbody tr th:only-of-type {\n        vertical-align: middle;\n    }\n\n    .dataframe tbody tr th {\n        vertical-align: top;\n    }\n\n    .dataframe thead th {\n        text-align: right;\n    }\n</style>\n<table border=\"1\" class=\"dataframe\">\n  <thead>\n    <tr style=\"text-align: right;\">\n      <th></th>\n      <th>company</th>\n      <th>specific_origin</th>\n      <th>ref</th>\n      <th>review_date</th>\n      <th>cocoa_percent</th>\n      <th>company_location</th>\n      <th>rating</th>\n      <th>bean_type</th>\n      <th>broad_origin</th>\n    </tr>\n  </thead>\n  <tbody>\n  </tbody>\n</table>\n</div>"
     },
     "execution_count": 298,
     "metadata": {},
     "output_type": "execute_result"
    }
   ],
   "source": [
    "# Содержит ли этот столбец выбросы?\n",
    "\n",
    "Q1 = cacao.ref.quantile(0.25, interpolation='midpoint')\n",
    "Q3 = cacao.ref.quantile(0.75, interpolation='midpoint')\n",
    "IQR = Q3 - Q1\n",
    "#              down limit                 up limit\n",
    "cacao.query('(@Q1 - 1.5*@IQR) > ref | ref > (@Q3 + 1.5*@IQR)')"
   ],
   "metadata": {
    "collapsed": false,
    "pycharm": {
     "name": "#%%\n"
    }
   }
  },
  {
   "cell_type": "markdown",
   "source": [
    "\n",
    "## cocoa_percent — процент какао в шоколаде"
   ],
   "metadata": {
    "collapsed": false
   }
  },
  {
   "cell_type": "code",
   "execution_count": 299,
   "outputs": [
    {
     "data": {
      "text/plain": "0        63.0\n1        70.0\n2       670.0\n3        70.0\n4        70.0\n        ...  \n1790     70.0\n1791     65.0\n1792     65.0\n1793     62.0\n1794     65.0\nName: cocoa_percent, Length: 1795, dtype: float64"
     },
     "metadata": {},
     "output_type": "display_data"
    }
   ],
   "source": [
    "cacao.cocoa_percent = cacao.cocoa_percent.apply(\n",
    "    lambda x: float(x.replace('%', '') if type(x) != float else x))\n",
    "display(cacao.cocoa_percent)"
   ],
   "metadata": {
    "collapsed": false,
    "pycharm": {
     "name": "#%%\n"
    }
   }
  },
  {
   "cell_type": "code",
   "execution_count": 300,
   "outputs": [
    {
     "data": {
      "text/plain": "count    1795.000000\nmean       75.932312\nstd        44.475981\nmin        42.000000\n25%        70.000000\n50%        70.000000\n75%        75.000000\nmax       682.000000\nName: cocoa_percent, dtype: float64"
     },
     "execution_count": 300,
     "metadata": {},
     "output_type": "execute_result"
    },
    {
     "data": {
      "text/plain": "<Figure size 432x288 with 1 Axes>",
      "image/png": "[encoded data removed]"
     },
     "metadata": {
      "needs_background": "light"
     },
     "output_type": "display_data"
    }
   ],
   "source": [
    "cacao.cocoa_percent.hist()\n",
    "cacao.cocoa_percent.describe()"
   ],
   "metadata": {
    "collapsed": false,
    "pycharm": {
     "name": "#%%\n"
    }
   }
  },
  {
   "cell_type": "code",
   "execution_count": 301,
   "outputs": [
    {
     "name": "stdout",
     "output_type": "stream",
     "text": [
      "25-й перцентиль: 70.0, 75-й перцентиль: 75.0, IQR: 5.0,  Границы выбросов: [62.5, 82.5].\n"
     ]
    },
    {
     "data": {
      "text/plain": "<matplotlib.legend.Legend at 0x7f7fbdf5dee0>"
     },
     "execution_count": 301,
     "metadata": {},
     "output_type": "execute_result"
    },
    {
     "data": {
      "text/plain": "<Figure size 432x288 with 1 Axes>",
      "image/png": "[encoded data removed]"
     },
     "metadata": {
      "needs_background": "light"
     },
     "output_type": "display_data"
    }
   ],
   "source": [
    "median = cacao.cocoa_percent.median()\n",
    "Q1 = cacao.cocoa_percent.quantile(0.25)\n",
    "Q3 = cacao.cocoa_percent.quantile(0.75)\n",
    "# Q1 = cacao.cocoa_percent.quantile(0.25, interpolation='midpoint')\n",
    "# Q3 = cacao.cocoa_percent.quantile(0.75, interpolation='midpoint')\n",
    "IQR = Q3 - Q1\n",
    "DL = Q1 - 1.5*IQR\n",
    "UL = Q3 + 1.5*IQR\n",
    "print(\n",
    "    '25-й перцентиль: {},'.format(Q1),\n",
    "    '75-й перцентиль: {},'.format(Q3),\n",
    "    \"IQR: {}, \".format(IQR),\n",
    "    \"Границы выбросов: [{f}, {l}].\".format(f=DL, l=UL)\n",
    ")\n",
    "\n",
    "cacao.cocoa_percent.loc[cacao.cocoa_percent.between(DL, UL)].hist(\n",
    "    bins=16, range=(40,100), label='IQR')\n",
    "\n",
    "cacao.cocoa_percent.loc[cacao.cocoa_percent <= 100].hist(\n",
    "    alpha =0.5, bins = 16, range=(40, 100), label='Здравый смысл')\n",
    "\n",
    "plt.legend()"
   ],
   "metadata": {
    "collapsed": false,
    "pycharm": {
     "name": "#%%\n"
    }
   }
  },
  {
   "cell_type": "code",
   "execution_count": 302,
   "outputs": [
    {
     "data": {
      "text/plain": "       company     specific_origin   ref  review_date  cocoa_percent  \\\n0     A. Morin         Agua Grande  1876         2016           63.0   \n1     A. Morin               Kpime  1676         2015           70.0   \n3     A. Morin               Akata  1680         2015           70.0   \n4     A. Morin              Quilla  1704         2015           70.0   \n5     A. Morin            Carenero  1315         2014           70.0   \n...        ...                 ...   ...          ...            ...   \n1790    Zotter                Peru   647         2011           70.0   \n1791    Zotter               Congo   749         2011           65.0   \n1792    Zotter        Kerala State   749         2011           65.0   \n1793    Zotter        Kerala State   781         2011           62.0   \n1794    Zotter  Brazil, Mitzi Blue   486         2010           65.0   \n\n     company_location  rating  bean_type broad_origin  \n0              France   11.50                Sao Tome  \n1              France    2.75                    Togo  \n3              France    3.50                    Togo  \n4              France    3.50                    Peru  \n5              France    2.75    Criollo    Venezuela  \n...               ...     ...        ...          ...  \n1790          Austria    3.75                    Peru  \n1791          Austria    3.00  Forastero        Congo  \n1792          Austria    3.50  Forastero        India  \n1793          Austria    3.25                   India  \n1794          Austria    3.00                  Brazil  \n\n[1776 rows x 9 columns]",
      "text/html": "<div>\n<style scoped>\n    .dataframe tbody tr th:only-of-type {\n        vertical-align: middle;\n    }\n\n    .dataframe tbody tr th {\n        vertical-align: top;\n    }\n\n    .dataframe thead th {\n        text-align: right;\n    }\n</style>\n<table border=\"1\" class=\"dataframe\">\n  <thead>\n    <tr style=\"text-align: right;\">\n      <th></th>\n      <th>company</th>\n      <th>specific_origin</th>\n      <th>ref</th>\n      <th>review_date</th>\n      <th>cocoa_percent</th>\n      <th>company_location</th>\n      <th>rating</th>\n      <th>bean_type</th>\n      <th>broad_origin</th>\n    </tr>\n  </thead>\n  <tbody>\n    <tr>\n      <th>0</th>\n      <td>A. Morin</td>\n      <td>Agua Grande</td>\n      <td>1876</td>\n      <td>2016</td>\n      <td>63.0</td>\n      <td>France</td>\n      <td>11.50</td>\n      <td></td>\n      <td>Sao Tome</td>\n    </tr>\n    <tr>\n      <th>1</th>\n      <td>A. Morin</td>\n      <td>Kpime</td>\n      <td>1676</td>\n      <td>2015</td>\n      <td>70.0</td>\n      <td>France</td>\n      <td>2.75</td>\n      <td></td>\n      <td>Togo</td>\n    </tr>\n    <tr>\n      <th>3</th>\n      <td>A. Morin</td>\n      <td>Akata</td>\n      <td>1680</td>\n      <td>2015</td>\n      <td>70.0</td>\n      <td>France</td>\n      <td>3.50</td>\n      <td></td>\n      <td>Togo</td>\n    </tr>\n    <tr>\n      <th>4</th>\n      <td>A. Morin</td>\n      <td>Quilla</td>\n      <td>1704</td>\n      <td>2015</td>\n      <td>70.0</td>\n      <td>France</td>\n      <td>3.50</td>\n      <td></td>\n      <td>Peru</td>\n    </tr>\n    <tr>\n      <th>5</th>\n      <td>A. Morin</td>\n      <td>Carenero</td>\n      <td>1315</td>\n      <td>2014</td>\n      <td>70.0</td>\n      <td>France</td>\n      <td>2.75</td>\n      <td>Criollo</td>\n      <td>Venezuela</td>\n    </tr>\n    <tr>\n      <th>...</th>\n      <td>...</td>\n      <td>...</td>\n      <td>...</td>\n      <td>...</td>\n      <td>...</td>\n      <td>...</td>\n      <td>...</td>\n      <td>...</td>\n      <td>...</td>\n    </tr>\n    <tr>\n      <th>1790</th>\n      <td>Zotter</td>\n      <td>Peru</td>\n      <td>647</td>\n      <td>2011</td>\n      <td>70.0</td>\n      <td>Austria</td>\n      <td>3.75</td>\n      <td></td>\n      <td>Peru</td>\n    </tr>\n    <tr>\n      <th>1791</th>\n      <td>Zotter</td>\n      <td>Congo</td>\n      <td>749</td>\n      <td>2011</td>\n      <td>65.0</td>\n      <td>Austria</td>\n      <td>3.00</td>\n      <td>Forastero</td>\n      <td>Congo</td>\n    </tr>\n    <tr>\n      <th>1792</th>\n      <td>Zotter</td>\n      <td>Kerala State</td>\n      <td>749</td>\n      <td>2011</td>\n      <td>65.0</td>\n      <td>Austria</td>\n      <td>3.50</td>\n      <td>Forastero</td>\n      <td>India</td>\n    </tr>\n    <tr>\n      <th>1793</th>\n      <td>Zotter</td>\n      <td>Kerala State</td>\n      <td>781</td>\n      <td>2011</td>\n      <td>62.0</td>\n      <td>Austria</td>\n      <td>3.25</td>\n      <td></td>\n      <td>India</td>\n    </tr>\n    <tr>\n      <th>1794</th>\n      <td>Zotter</td>\n      <td>Brazil, Mitzi Blue</td>\n      <td>486</td>\n      <td>2010</td>\n      <td>65.0</td>\n      <td>Austria</td>\n      <td>3.00</td>\n      <td></td>\n      <td>Brazil</td>\n    </tr>\n  </tbody>\n</table>\n<p>1776 rows × 9 columns</p>\n</div>"
     },
     "execution_count": 302,
     "metadata": {},
     "output_type": "execute_result"
    }
   ],
   "source": [
    "cacao = cacao.loc[cacao.cocoa_percent <= 100]\n",
    "cacao"
   ],
   "metadata": {
    "collapsed": false,
    "pycharm": {
     "name": "#%%\n"
    }
   }
  },
  {
   "cell_type": "markdown",
   "source": [
    "\n",
    "## company_location - страна, в которой произведён шоколадный батончик."
   ],
   "metadata": {
    "collapsed": false,
    "pycharm": {
     "name": "#%% md\n"
    }
   }
  },
  {
   "cell_type": "code",
   "execution_count": 303,
   "outputs": [
    {
     "data": {
      "text/plain": "0        France\n1        France\n3        France\n4        France\n5        France\n         ...   \n1790    Austria\n1791    Austria\n1792    Austria\n1793    Austria\n1794    Austria\nName: company_location, Length: 1776, dtype: object"
     },
     "execution_count": 303,
     "metadata": {},
     "output_type": "execute_result"
    }
   ],
   "source": [
    "cacao.company_location"
   ],
   "metadata": {
    "collapsed": false,
    "pycharm": {
     "name": "#%%\n"
    }
   }
  },
  {
   "cell_type": "code",
   "execution_count": 304,
   "outputs": [
    {
     "data": {
      "text/plain": "             company_location\nU.S.A.                    756\nFrance                    155\nCanada                    124\nU.K.                       94\nItaly                      63\n...                       ...\nIndia                       1\nWales                       1\nPhilippines                 1\nRussia                      1\nMartinique                  1\n\n[60 rows x 1 columns]",
      "text/html": "<div>\n<style scoped>\n    .dataframe tbody tr th:only-of-type {\n        vertical-align: middle;\n    }\n\n    .dataframe tbody tr th {\n        vertical-align: top;\n    }\n\n    .dataframe thead th {\n        text-align: right;\n    }\n</style>\n<table border=\"1\" class=\"dataframe\">\n  <thead>\n    <tr style=\"text-align: right;\">\n      <th></th>\n      <th>company_location</th>\n    </tr>\n  </thead>\n  <tbody>\n    <tr>\n      <th>U.S.A.</th>\n      <td>756</td>\n    </tr>\n    <tr>\n      <th>France</th>\n      <td>155</td>\n    </tr>\n    <tr>\n      <th>Canada</th>\n      <td>124</td>\n    </tr>\n    <tr>\n      <th>U.K.</th>\n      <td>94</td>\n    </tr>\n    <tr>\n      <th>Italy</th>\n      <td>63</td>\n    </tr>\n    <tr>\n      <th>...</th>\n      <td>...</td>\n    </tr>\n    <tr>\n      <th>India</th>\n      <td>1</td>\n    </tr>\n    <tr>\n      <th>Wales</th>\n      <td>1</td>\n    </tr>\n    <tr>\n      <th>Philippines</th>\n      <td>1</td>\n    </tr>\n    <tr>\n      <th>Russia</th>\n      <td>1</td>\n    </tr>\n    <tr>\n      <th>Martinique</th>\n      <td>1</td>\n    </tr>\n  </tbody>\n</table>\n<p>60 rows × 1 columns</p>\n</div>"
     },
     "metadata": {},
     "output_type": "display_data"
    },
    {
     "name": "stdout",
     "output_type": "stream",
     "text": [
      "Значений, встретившихся в столбце более 10 раз: 22\n",
      "<class 'pandas.core.frame.DataFrame'>\n",
      "Int64Index: 1776 entries, 0 to 1794\n",
      "Data columns (total 1 columns):\n",
      " #   Column            Non-Null Count  Dtype \n",
      "---  ------            --------------  ----- \n",
      " 0   company_location  1776 non-null   object\n",
      "dtypes: object(1)\n",
      "memory usage: 27.8+ KB\n"
     ]
    }
   ],
   "source": [
    "display(pd.DataFrame(cacao.company_location.value_counts()))\n",
    "print(\"Значений, встретившихся в столбце более 10 раз:\", (cacao.company_location.value_counts()>10).sum())\n",
    "cacao.loc[:, ['company_location']].info()"
   ],
   "metadata": {
    "collapsed": false,
    "pycharm": {
     "name": "#%%\n"
    }
   }
  },
  {
   "cell_type": "markdown",
   "source": [
    "\n",
    "## rating - оценка батончика фокус-группой."
   ],
   "metadata": {
    "collapsed": false
   }
  },
  {
   "cell_type": "code",
   "execution_count": 305,
   "outputs": [
    {
     "data": {
      "text/plain": "0       11.50\n1        2.75\n3        3.50\n4        3.50\n5        2.75\n        ...  \n1790     3.75\n1791     3.00\n1792     3.50\n1793     3.25\n1794     3.00\nName: rating, Length: 1776, dtype: float64"
     },
     "execution_count": 305,
     "metadata": {},
     "output_type": "execute_result"
    }
   ],
   "source": [
    "cacao.rating"
   ],
   "metadata": {
    "collapsed": false,
    "pycharm": {
     "name": "#%%\n"
    }
   }
  },
  {
   "cell_type": "code",
   "execution_count": 306,
   "outputs": [
    {
     "data": {
      "text/plain": "count    1776.000000\nmean        3.425816\nstd         1.759007\nmin         1.000000\n25%         3.000000\n50%         3.250000\n75%         3.500000\nmax        19.750000\nName: rating, dtype: float64"
     },
     "execution_count": 306,
     "metadata": {},
     "output_type": "execute_result"
    },
    {
     "data": {
      "text/plain": "<Figure size 432x288 with 1 Axes>",
      "image/png": "[encoded data removed]"
     },
     "metadata": {
      "needs_background": "light"
     },
     "output_type": "display_data"
    }
   ],
   "source": [
    "cacao.rating.hist()\n",
    "cacao.rating.describe()"
   ],
   "metadata": {
    "collapsed": false,
    "pycharm": {
     "name": "#%%\n"
    }
   }
  },
  {
   "cell_type": "code",
   "execution_count": 307,
   "outputs": [
    {
     "name": "stdout",
     "output_type": "stream",
     "text": [
      "25-й перцентиль: 3.0, 75-й перцентиль: 3.5, IQR: 0.5,  Границы выбросов: [2.25, 4.25].\n"
     ]
    },
    {
     "data": {
      "text/plain": "<Figure size 432x288 with 1 Axes>",
      "image/png": "[encoded data removed]"
     },
     "metadata": {
      "needs_background": "light"
     },
     "output_type": "display_data"
    }
   ],
   "source": [
    "median = cacao.rating.median()\n",
    "IQR = cacao.rating.quantile(0.75) - cacao.rating.quantile(0.25)\n",
    "perc25 = cacao.rating.quantile(0.25)\n",
    "perc75 = cacao.rating.quantile(0.75)\n",
    "# perc25 = cacao.rating.quantile(0.25, interpolation='midpoint')\n",
    "# perc75 = cacao.rating.quantile(0.75, interpolation='midpoint')\n",
    "print(\n",
    "    '25-й перцентиль: {},'.format(perc25),\n",
    "    '75-й перцентиль: {},'.format(perc75),\n",
    "    \"IQR: {}, \".format(IQR),\n",
    "    \"Границы выбросов: [{f}, {l}].\".format(\n",
    "        f=perc25 - 1.5*IQR, l=perc75 + 1.5*IQR))\n",
    "\n",
    "cacao.rating.loc[cacao.rating.between(perc25 - 1.5*IQR, perc75 + 1.5*IQR)].hist(\n",
    "    bins = 10, range = (0, 10), label = 'IQR')\n",
    "\n",
    "plt.legend();"
   ],
   "metadata": {
    "collapsed": false,
    "pycharm": {
     "name": "#%%\n"
    }
   }
  },
  {
   "cell_type": "code",
   "execution_count": 308,
   "outputs": [],
   "source": [
    "cacao = cacao.loc[\n",
    "    cacao.rating.between(perc25 - 1.5*IQR, perc75 + 1.5*IQR)\n",
    "]"
   ],
   "metadata": {
    "collapsed": false,
    "pycharm": {
     "name": "#%%\n"
    }
   }
  },
  {
   "cell_type": "markdown",
   "source": [
    "\n",
    "# bean_type - вид какао-бобов, используемых в батончике.\n"
   ],
   "metadata": {
    "collapsed": false,
    "pycharm": {
     "name": "#%% md\n"
    }
   }
  },
  {
   "cell_type": "code",
   "execution_count": 309,
   "outputs": [
    {
     "name": "stderr",
     "output_type": "stream",
     "text": [
      "/Users/Oleg/.conda/envs/SkillFactory/lib/python3.8/site-packages/pandas/core/generic.py:5168: SettingWithCopyWarning: \n",
      "A value is trying to be set on a copy of a slice from a DataFrame.\n",
      "Try using .loc[row_indexer,col_indexer] = value instead\n",
      "\n",
      "See the caveats in the documentation: https://pandas.pydata.org/pandas-docs/stable/user_guide/indexing.html#returning-a-view-versus-a-copy\n",
      "  self[name] = value\n"
     ]
    }
   ],
   "source": [
    "cacao.bean_type = cacao.bean_type.astype(str).apply(\n",
    "    lambda x: None if x is None or x.strip() == '' else x\n",
    ")"
   ],
   "metadata": {
    "collapsed": false,
    "pycharm": {
     "name": "#%%\n"
    }
   }
  },
  {
   "cell_type": "code",
   "execution_count": 310,
   "outputs": [
    {
     "data": {
      "text/plain": "                          bean_type\nTrinitario                      401\nCriollo                         147\nForastero                        81\nForastero (Nacional)             50\nCriollo, Trinitario              37\nBlend                            36\nForastero (Arriba)               30\nCriollo (Porcelana)              10\nTrinitario, Criollo               9\nForastero (Parazinho)             8\nForastero (Arriba) ASS            5\nBeniano                           3\nEET                               3\nMatina                            3\nNacional (Arriba)                 3\nTrinitario, Forastero             2\nTrinitario (85% Criollo)          2\nCriollo, Forastero                2\nCriollo (Ocumare 61)              2\nNacional                          2\nAmazon, ICS                       2\nForastero (Catongo)               2\nAmazon mix                        2\nCriollo (Amarru)                  2\nForastero(Arriba, CCN)            1\nForastero (Arriba) ASSS           1\nBlend-Forastero,Criollo           1\nAmazon                            1\nCriollo, +                        1\nCriollo (Ocumare 67)              1\nTrinitario (Amelonado)            1\nTrinitario, TCGA                  1\nCriollo (Ocumare 77)              1\nForastero (Amelonado)             1\nTrinitario, Nacional              1\nForastero, Trinitario             1\nCCN51                             1\nCriollo (Wild)                    1\nTrinitario (Scavina)              1\nCriollo (Ocumare)                 1\nnan                               1",
      "text/html": "<div>\n<style scoped>\n    .dataframe tbody tr th:only-of-type {\n        vertical-align: middle;\n    }\n\n    .dataframe tbody tr th {\n        vertical-align: top;\n    }\n\n    .dataframe thead th {\n        text-align: right;\n    }\n</style>\n<table border=\"1\" class=\"dataframe\">\n  <thead>\n    <tr style=\"text-align: right;\">\n      <th></th>\n      <th>bean_type</th>\n    </tr>\n  </thead>\n  <tbody>\n    <tr>\n      <th>Trinitario</th>\n      <td>401</td>\n    </tr>\n    <tr>\n      <th>Criollo</th>\n      <td>147</td>\n    </tr>\n    <tr>\n      <th>Forastero</th>\n      <td>81</td>\n    </tr>\n    <tr>\n      <th>Forastero (Nacional)</th>\n      <td>50</td>\n    </tr>\n    <tr>\n      <th>Criollo, Trinitario</th>\n      <td>37</td>\n    </tr>\n    <tr>\n      <th>Blend</th>\n      <td>36</td>\n    </tr>\n    <tr>\n      <th>Forastero (Arriba)</th>\n      <td>30</td>\n    </tr>\n    <tr>\n      <th>Criollo (Porcelana)</th>\n      <td>10</td>\n    </tr>\n    <tr>\n      <th>Trinitario, Criollo</th>\n      <td>9</td>\n    </tr>\n    <tr>\n      <th>Forastero (Parazinho)</th>\n      <td>8</td>\n    </tr>\n    <tr>\n      <th>Forastero (Arriba) ASS</th>\n      <td>5</td>\n    </tr>\n    <tr>\n      <th>Beniano</th>\n      <td>3</td>\n    </tr>\n    <tr>\n      <th>EET</th>\n      <td>3</td>\n    </tr>\n    <tr>\n      <th>Matina</th>\n      <td>3</td>\n    </tr>\n    <tr>\n      <th>Nacional (Arriba)</th>\n      <td>3</td>\n    </tr>\n    <tr>\n      <th>Trinitario, Forastero</th>\n      <td>2</td>\n    </tr>\n    <tr>\n      <th>Trinitario (85% Criollo)</th>\n      <td>2</td>\n    </tr>\n    <tr>\n      <th>Criollo, Forastero</th>\n      <td>2</td>\n    </tr>\n    <tr>\n      <th>Criollo (Ocumare 61)</th>\n      <td>2</td>\n    </tr>\n    <tr>\n      <th>Nacional</th>\n      <td>2</td>\n    </tr>\n    <tr>\n      <th>Amazon, ICS</th>\n      <td>2</td>\n    </tr>\n    <tr>\n      <th>Forastero (Catongo)</th>\n      <td>2</td>\n    </tr>\n    <tr>\n      <th>Amazon mix</th>\n      <td>2</td>\n    </tr>\n    <tr>\n      <th>Criollo (Amarru)</th>\n      <td>2</td>\n    </tr>\n    <tr>\n      <th>Forastero(Arriba, CCN)</th>\n      <td>1</td>\n    </tr>\n    <tr>\n      <th>Forastero (Arriba) ASSS</th>\n      <td>1</td>\n    </tr>\n    <tr>\n      <th>Blend-Forastero,Criollo</th>\n      <td>1</td>\n    </tr>\n    <tr>\n      <th>Amazon</th>\n      <td>1</td>\n    </tr>\n    <tr>\n      <th>Criollo, +</th>\n      <td>1</td>\n    </tr>\n    <tr>\n      <th>Criollo (Ocumare 67)</th>\n      <td>1</td>\n    </tr>\n    <tr>\n      <th>Trinitario (Amelonado)</th>\n      <td>1</td>\n    </tr>\n    <tr>\n      <th>Trinitario, TCGA</th>\n      <td>1</td>\n    </tr>\n    <tr>\n      <th>Criollo (Ocumare 77)</th>\n      <td>1</td>\n    </tr>\n    <tr>\n      <th>Forastero (Amelonado)</th>\n      <td>1</td>\n    </tr>\n    <tr>\n      <th>Trinitario, Nacional</th>\n      <td>1</td>\n    </tr>\n    <tr>\n      <th>Forastero, Trinitario</th>\n      <td>1</td>\n    </tr>\n    <tr>\n      <th>CCN51</th>\n      <td>1</td>\n    </tr>\n    <tr>\n      <th>Criollo (Wild)</th>\n      <td>1</td>\n    </tr>\n    <tr>\n      <th>Trinitario (Scavina)</th>\n      <td>1</td>\n    </tr>\n    <tr>\n      <th>Criollo (Ocumare)</th>\n      <td>1</td>\n    </tr>\n    <tr>\n      <th>nan</th>\n      <td>1</td>\n    </tr>\n  </tbody>\n</table>\n</div>"
     },
     "metadata": {},
     "output_type": "display_data"
    },
    {
     "name": "stdout",
     "output_type": "stream",
     "text": [
      "Значений, встретившихся в столбце более 10 раз: 7\n",
      "Уникальных значений: 41\n",
      "<class 'pandas.core.frame.DataFrame'>\n",
      "Int64Index: 1690 entries, 1 to 1794\n",
      "Data columns (total 1 columns):\n",
      " #   Column     Non-Null Count  Dtype \n",
      "---  ------     --------------  ----- \n",
      " 0   bean_type  861 non-null    object\n",
      "dtypes: object(1)\n",
      "memory usage: 26.4+ KB\n"
     ]
    }
   ],
   "source": [
    "display(pd.DataFrame(cacao.bean_type.value_counts()))\n",
    "print(\"Значений, встретившихся в столбце более 10 раз:\", (cacao.bean_type.value_counts()>10).sum())\n",
    "print(\"Уникальных значений:\", cacao.bean_type.nunique())\n",
    "cacao.loc[:, ['bean_type']].info()"
   ],
   "metadata": {
    "collapsed": false,
    "pycharm": {
     "name": "#%%\n"
    }
   }
  },
  {
   "cell_type": "code",
   "execution_count": 311,
   "outputs": [
    {
     "name": "stderr",
     "output_type": "stream",
     "text": [
      "/Users/Oleg/.conda/envs/SkillFactory/lib/python3.8/site-packages/pandas/core/generic.py:5168: SettingWithCopyWarning: \n",
      "A value is trying to be set on a copy of a slice from a DataFrame.\n",
      "Try using .loc[row_indexer,col_indexer] = value instead\n",
      "\n",
      "See the caveats in the documentation: https://pandas.pydata.org/pandas-docs/stable/user_guide/indexing.html#returning-a-view-versus-a-copy\n",
      "  self[name] = value\n"
     ]
    }
   ],
   "source": [
    "cacao.bean_type = cacao.bean_type.apply(\n",
    "    lambda x: None\n",
    "        if pd.isnull(x)\n",
    "        else None if x == 'nan'\n",
    "        else x if '(' not in x\n",
    "        else x[:x.find('(')].strip()\n",
    ")"
   ],
   "metadata": {
    "collapsed": false,
    "pycharm": {
     "name": "#%%\n"
    }
   }
  },
  {
   "cell_type": "code",
   "execution_count": 312,
   "outputs": [
    {
     "data": {
      "text/plain": "                         bean_type\nTrinitario                     405\nForastero                      179\nCriollo                        165\nCriollo, Trinitario             37\nBlend                           36\nTrinitario, Criollo              9\nNacional                         5\nBeniano                          3\nMatina                           3\nEET                              3\nCriollo, Forastero               2\nAmazon mix                       2\nAmazon, ICS                      2\nTrinitario, Forastero            2\nBlend-Forastero,Criollo          1\nCCN51                            1\nAmazon                           1\nCriollo, +                       1\nTrinitario, TCGA                 1\nTrinitario, Nacional             1\nForastero, Trinitario            1",
      "text/html": "<div>\n<style scoped>\n    .dataframe tbody tr th:only-of-type {\n        vertical-align: middle;\n    }\n\n    .dataframe tbody tr th {\n        vertical-align: top;\n    }\n\n    .dataframe thead th {\n        text-align: right;\n    }\n</style>\n<table border=\"1\" class=\"dataframe\">\n  <thead>\n    <tr style=\"text-align: right;\">\n      <th></th>\n      <th>bean_type</th>\n    </tr>\n  </thead>\n  <tbody>\n    <tr>\n      <th>Trinitario</th>\n      <td>405</td>\n    </tr>\n    <tr>\n      <th>Forastero</th>\n      <td>179</td>\n    </tr>\n    <tr>\n      <th>Criollo</th>\n      <td>165</td>\n    </tr>\n    <tr>\n      <th>Criollo, Trinitario</th>\n      <td>37</td>\n    </tr>\n    <tr>\n      <th>Blend</th>\n      <td>36</td>\n    </tr>\n    <tr>\n      <th>Trinitario, Criollo</th>\n      <td>9</td>\n    </tr>\n    <tr>\n      <th>Nacional</th>\n      <td>5</td>\n    </tr>\n    <tr>\n      <th>Beniano</th>\n      <td>3</td>\n    </tr>\n    <tr>\n      <th>Matina</th>\n      <td>3</td>\n    </tr>\n    <tr>\n      <th>EET</th>\n      <td>3</td>\n    </tr>\n    <tr>\n      <th>Criollo, Forastero</th>\n      <td>2</td>\n    </tr>\n    <tr>\n      <th>Amazon mix</th>\n      <td>2</td>\n    </tr>\n    <tr>\n      <th>Amazon, ICS</th>\n      <td>2</td>\n    </tr>\n    <tr>\n      <th>Trinitario, Forastero</th>\n      <td>2</td>\n    </tr>\n    <tr>\n      <th>Blend-Forastero,Criollo</th>\n      <td>1</td>\n    </tr>\n    <tr>\n      <th>CCN51</th>\n      <td>1</td>\n    </tr>\n    <tr>\n      <th>Amazon</th>\n      <td>1</td>\n    </tr>\n    <tr>\n      <th>Criollo, +</th>\n      <td>1</td>\n    </tr>\n    <tr>\n      <th>Trinitario, TCGA</th>\n      <td>1</td>\n    </tr>\n    <tr>\n      <th>Trinitario, Nacional</th>\n      <td>1</td>\n    </tr>\n    <tr>\n      <th>Forastero, Trinitario</th>\n      <td>1</td>\n    </tr>\n  </tbody>\n</table>\n</div>"
     },
     "metadata": {},
     "output_type": "display_data"
    },
    {
     "name": "stdout",
     "output_type": "stream",
     "text": [
      "Значений, встретившихся в столбце более 10 раз: 5\n",
      "Уникальных значений: 21\n",
      "<class 'pandas.core.frame.DataFrame'>\n",
      "Int64Index: 1690 entries, 1 to 1794\n",
      "Data columns (total 1 columns):\n",
      " #   Column     Non-Null Count  Dtype \n",
      "---  ------     --------------  ----- \n",
      " 0   bean_type  860 non-null    object\n",
      "dtypes: object(1)\n",
      "memory usage: 26.4+ KB\n"
     ]
    }
   ],
   "source": [
    "display(pd.DataFrame(cacao.bean_type.value_counts()))\n",
    "print(\"Значений, встретившихся в столбце более 10 раз:\", (cacao.bean_type.value_counts()>10).sum())\n",
    "print(\"Уникальных значений:\", cacao.bean_type.nunique())\n",
    "cacao.loc[:, ['bean_type']].info()"
   ],
   "metadata": {
    "collapsed": false,
    "pycharm": {
     "name": "#%%\n"
    }
   }
  },
  {
   "cell_type": "markdown",
   "source": [
    "\n",
    "# broad_origin - название региона, где были выращены какао-бобы.\n"
   ],
   "metadata": {
    "collapsed": false,
    "pycharm": {
     "name": "#%% md\n"
    }
   }
  },
  {
   "cell_type": "code",
   "execution_count": 313,
   "outputs": [
    {
     "name": "stderr",
     "output_type": "stream",
     "text": [
      "/Users/Oleg/.conda/envs/SkillFactory/lib/python3.8/site-packages/pandas/core/generic.py:5168: SettingWithCopyWarning: \n",
      "A value is trying to be set on a copy of a slice from a DataFrame.\n",
      "Try using .loc[row_indexer,col_indexer] = value instead\n",
      "\n",
      "See the caveats in the documentation: https://pandas.pydata.org/pandas-docs/stable/user_guide/indexing.html#returning-a-view-versus-a-copy\n",
      "  self[name] = value\n"
     ]
    }
   ],
   "source": [
    "def fix_countries(x):\n",
    "    if pd.isnull(x):\n",
    "        return x\n",
    "\n",
    "    if x == 'nan':\n",
    "        return None\n",
    "\n",
    "    x = x.replace(' ', '')\n",
    "    x = x.replace('/', ',') # Venezuela/ Ghana\n",
    "    x = x.replace('&', ',')\n",
    "\n",
    "    if '(' in x:\n",
    "        x = x[:x.find('(')] #Peru(SMartin,Pangoa,nacional)\n",
    "\n",
    "    x = x.replace('Guat.', 'Guatemala')\n",
    "\n",
    "    if 'Ven' in x and 'Venezuela' not in x:\n",
    "        x = x.replace('Venez', 'Venezuela') #Venez,Africa,Brasil,Peru,Mex\n",
    "        x = x.replace('Ven,', 'Venezuela,') #Ven, Trinidad, Ecuador\n",
    "        x = x.replace('Ven.', 'Venezuela') #Ven., Trinidad, Mad.\n",
    "        if 'Ven' in x and 'Venezuela' not in x:\n",
    "            x = x.replace('Ven', 'Venezuela')\n",
    "\n",
    "    x = x.replace('Dom.Rep.', 'DomincanRepublic')\n",
    "    x = x.replace('DR', 'DomincanRepublic')\n",
    "    x = x.replace('Dom.Rep', 'DomincanRepublic')\n",
    "    x = x.replace('D.R.', 'DomincanRepublic')\n",
    "    x = x.replace('DominicanRep.', 'DomincanRepublic')\n",
    "    x = x.replace('Domin.Rep', 'DomincanRepublic')\n",
    "    x = x.replace('Domin.Re', 'DomincanRepublic')\n",
    "\n",
    "    if 'Jam' in x and 'Jamaica' not in x:\n",
    "        x = x.replace('Jam', 'Jamaica')\n",
    "\n",
    "    if 'Mad.' in x and 'Madagascar' not in x:\n",
    "        x = x.replace('Mad.', 'Madagascar')\n",
    "    elif 'Mad' in x and 'Madagascar' not in x:\n",
    "        x = x.replace('Mad', 'Madagascar')\n",
    "    elif 'Ma' in x and 'Madagascar' not in x:\n",
    "        x = x.replace('Ma', 'Madagascar')\n",
    "\n",
    "    if 'Hait' in x and 'Haiti' not in x:\n",
    "        x = x.replace('Hait', 'Haiti')\n",
    "\n",
    "    if 'Per' in x and 'Peru'  not in x:\n",
    "        x = x.replace('Per', 'Peru')\n",
    "\n",
    "    x = x.replace('Nic.', 'Nicaragua')\n",
    "\n",
    "    x = x.replace('Gre.', 'Grenada')\n",
    "\n",
    "    x = x.replace('PNG', 'PapuaNewGuinea')\n",
    "\n",
    "    if 'Mex' in x and 'Mexico' not in x:\n",
    "        x = x.replace('Mex', 'Mexico')\n",
    "\n",
    "    x = x.replace('Haw.', 'Hawaii')\n",
    "\n",
    "    x = x.replace('Ecuad.', 'Ecuador')\n",
    "    x = x.replace('Ecu.', 'Ecuador')\n",
    "\n",
    "    return x\n",
    "\n",
    "cacao.broad_origin = cacao.broad_origin.apply(fix_countries).sort_values()"
   ],
   "metadata": {
    "collapsed": false,
    "pycharm": {
     "name": "#%%\n"
    }
   }
  },
  {
   "cell_type": "code",
   "execution_count": 1,
   "outputs": [
    {
     "ename": "NameError",
     "evalue": "name 'pd' is not defined",
     "output_type": "error",
     "traceback": [
      "\u001B[0;31m---------------------------------------------------------------------------\u001B[0m",
      "\u001B[0;31mNameError\u001B[0m                                 Traceback (most recent call last)",
      "\u001B[0;32m<ipython-input-1-6830a846c141>\u001B[0m in \u001B[0;36m<module>\u001B[0;34m\u001B[0m\n\u001B[0;32m----> 1\u001B[0;31m \u001B[0mdisplay\u001B[0m\u001B[0;34m(\u001B[0m\u001B[0mpd\u001B[0m\u001B[0;34m.\u001B[0m\u001B[0mDataFrame\u001B[0m\u001B[0;34m(\u001B[0m\u001B[0mcacao\u001B[0m\u001B[0;34m.\u001B[0m\u001B[0mbroad_origin\u001B[0m\u001B[0;34m.\u001B[0m\u001B[0mvalue_counts\u001B[0m\u001B[0;34m(\u001B[0m\u001B[0;34m)\u001B[0m\u001B[0;34m)\u001B[0m\u001B[0;34m)\u001B[0m\u001B[0;34m\u001B[0m\u001B[0;34m\u001B[0m\u001B[0m\n\u001B[0m\u001B[1;32m      2\u001B[0m \u001B[0mprint\u001B[0m\u001B[0;34m(\u001B[0m\u001B[0;34m'Значений, упомянутых более 10 раз:'\u001B[0m\u001B[0;34m,\u001B[0m \u001B[0;34m(\u001B[0m\u001B[0mcacao\u001B[0m\u001B[0;34m.\u001B[0m\u001B[0mbroad_origin\u001B[0m\u001B[0;34m.\u001B[0m\u001B[0mvalue_counts\u001B[0m\u001B[0;34m(\u001B[0m\u001B[0;34m)\u001B[0m\u001B[0;34m>\u001B[0m\u001B[0;36m10\u001B[0m\u001B[0;34m)\u001B[0m\u001B[0;34m.\u001B[0m\u001B[0msum\u001B[0m\u001B[0;34m(\u001B[0m\u001B[0;34m)\u001B[0m\u001B[0;34m)\u001B[0m\u001B[0;34m\u001B[0m\u001B[0;34m\u001B[0m\u001B[0m\n\u001B[1;32m      3\u001B[0m \u001B[0mprint\u001B[0m\u001B[0;34m(\u001B[0m\u001B[0;34m\"Уникальных значений:\"\u001B[0m\u001B[0;34m,\u001B[0m \u001B[0mcacao\u001B[0m\u001B[0;34m.\u001B[0m\u001B[0mbroad_origin\u001B[0m\u001B[0;34m.\u001B[0m\u001B[0mnunique\u001B[0m\u001B[0;34m(\u001B[0m\u001B[0;34m)\u001B[0m\u001B[0;34m)\u001B[0m\u001B[0;34m\u001B[0m\u001B[0;34m\u001B[0m\u001B[0m\n\u001B[1;32m      4\u001B[0m \u001B[0mcacao\u001B[0m\u001B[0;34m.\u001B[0m\u001B[0mloc\u001B[0m\u001B[0;34m[\u001B[0m\u001B[0;34m:\u001B[0m\u001B[0;34m,\u001B[0m \u001B[0;34m[\u001B[0m\u001B[0;34m'broad_origin'\u001B[0m\u001B[0;34m]\u001B[0m\u001B[0;34m]\u001B[0m\u001B[0;34m.\u001B[0m\u001B[0minfo\u001B[0m\u001B[0;34m(\u001B[0m\u001B[0;34m)\u001B[0m\u001B[0;34m\u001B[0m\u001B[0;34m\u001B[0m\u001B[0m\n\u001B[1;32m      5\u001B[0m \u001B[0;34m\u001B[0m\u001B[0m\n",
      "\u001B[0;31mNameError\u001B[0m: name 'pd' is not defined"
     ]
    }
   ],
   "source": [
    "display(pd.DataFrame(cacao.broad_origin.value_counts()))\n",
    "print('Значений, упомянутых более 10 раз:', (cacao.broad_origin.value_counts()>10).sum())\n",
    "print(\"Уникальных значений:\", cacao.broad_origin.nunique())\n",
    "cacao.loc[:, ['broad_origin']].info()\n"
   ],
   "metadata": {
    "collapsed": false,
    "pycharm": {
     "name": "#%%\n"
    }
   }
  },
  {
   "cell_type": "markdown",
   "source": [
    "\n",
    "# Корреляционный анализ\n"
   ],
   "metadata": {
    "collapsed": false,
    "pycharm": {
     "name": "#%% md\n"
    }
   }
  },
  {
   "cell_type": "code",
   "execution_count": 2,
   "outputs": [
    {
     "ename": "NameError",
     "evalue": "name 'sns' is not defined",
     "output_type": "error",
     "traceback": [
      "\u001B[0;31m---------------------------------------------------------------------------\u001B[0m",
      "\u001B[0;31mNameError\u001B[0m                                 Traceback (most recent call last)",
      "\u001B[0;32m<ipython-input-2-f769ad26fea4>\u001B[0m in \u001B[0;36m<module>\u001B[0;34m\u001B[0m\n\u001B[0;32m----> 1\u001B[0;31m \u001B[0msns\u001B[0m\u001B[0;34m.\u001B[0m\u001B[0mpairplot\u001B[0m\u001B[0;34m(\u001B[0m\u001B[0mcacao\u001B[0m\u001B[0;34m,\u001B[0m \u001B[0mkind\u001B[0m\u001B[0;34m=\u001B[0m\u001B[0;34m'reg'\u001B[0m\u001B[0;34m)\u001B[0m\u001B[0;34m\u001B[0m\u001B[0;34m\u001B[0m\u001B[0m\n\u001B[0m\u001B[1;32m      2\u001B[0m \u001B[0mcacao\u001B[0m\u001B[0;34m.\u001B[0m\u001B[0mcorr\u001B[0m\u001B[0;34m(\u001B[0m\u001B[0;34m)\u001B[0m\u001B[0;34m\u001B[0m\u001B[0;34m\u001B[0m\u001B[0m\n",
      "\u001B[0;31mNameError\u001B[0m: name 'sns' is not defined"
     ]
    }
   ],
   "source": [
    "sns.pairplot(cacao, kind='reg')\n",
    "cacao.corr()"
   ],
   "metadata": {
    "collapsed": false,
    "pycharm": {
     "name": "#%%\n"
    }
   }
  },
  {
   "cell_type": "markdown",
   "source": [
    "\n",
    "# Анализ номинативных переменных\n",
    "\n",
    "#### Номинативные переменные, которые осталось рассмотреть:\n",
    "- company\n",
    "- specific_origin\n",
    "- company_location\n",
    "- bean_type\n",
    "- broad_origin\n"
   ],
   "metadata": {
    "collapsed": false,
    "pycharm": {
     "name": "#%% md\n"
    }
   }
  },
  {
   "cell_type": "code",
   "execution_count": 317,
   "outputs": [
    {
     "data": {
      "text/plain": "<Figure size 1008x288 with 1 Axes>",
      "image/png": "[encoded data removed]"
     },
     "metadata": {
      "needs_background": "light"
     },
     "output_type": "display_data"
    },
    {
     "data": {
      "text/plain": "<Figure size 1008x288 with 1 Axes>",
      "image/png": "[encoded data removed]"
     },
     "metadata": {
      "needs_background": "light"
     },
     "output_type": "display_data"
    },
    {
     "data": {
      "text/plain": "<Figure size 1008x288 with 1 Axes>",
      "image/png": "[encoded data removed]"
     },
     "metadata": {
      "needs_background": "light"
     },
     "output_type": "display_data"
    },
    {
     "data": {
      "text/plain": "<Figure size 1008x288 with 1 Axes>",
      "image/png": "[encoded data removed]"
     },
     "metadata": {
      "needs_background": "light"
     },
     "output_type": "display_data"
    },
    {
     "data": {
      "text/plain": "<Figure size 1008x288 with 1 Axes>",
      "image/png": "[encoded data removed]"
     },
     "metadata": {
      "needs_background": "light"
     },
     "output_type": "display_data"
    }
   ],
   "source": [
    "def get_boxplot(column):\n",
    "    fig, ax = plt.subplots(figsize = (14, 4))\n",
    "    sns.boxplot(\n",
    "        x=column,\n",
    "        y='rating',\n",
    "        data=cacao.loc[\n",
    "            cacao.loc[:, column].isin(\n",
    "                cacao.loc[:, column].value_counts().index[:10]\n",
    "            )\n",
    "        ],\n",
    "        ax=ax\n",
    "    )\n",
    "    plt.xticks(rotation=45)\n",
    "    ax.set_title('Boxplot for ' + column)\n",
    "    plt.show()\n",
    "\n",
    "for col in ['company', 'specific_origin', 'company_location', 'bean_type', 'broad_origin']:\n",
    "    get_boxplot(col)\n"
   ],
   "metadata": {
    "collapsed": false,
    "pycharm": {
     "name": "#%%\n"
    }
   }
  },
  {
   "cell_type": "markdown",
   "source": [
    "\n",
    "###  тест Стьюдента (T-Test)\n"
   ],
   "metadata": {
    "collapsed": false,
    "pycharm": {
     "name": "#%% md\n"
    }
   }
  },
  {
   "cell_type": "code",
   "execution_count": 321,
   "outputs": [
    {
     "name": "stdout",
     "output_type": "stream",
     "text": [
      "Найдены статистически значимые различия для колонки company\n",
      "Найдены статистически значимые различия для колонки specific_origin\n",
      "Найдены статистически значимые различия для колонки company_location\n"
     ]
    }
   ],
   "source": [
    "def get_stat_dif(column):\n",
    "    cols = cacao.loc[:, column].value_counts().index[:10]\n",
    "    combinations_all = list(combinations(cols, 2))\n",
    "    for comb in combinations_all:\n",
    "        if ttest_ind(cacao.loc[cacao.loc[:, column] == comb[0], 'rating'],\n",
    "                        cacao.loc[cacao.loc[:, column] == comb[1], 'rating']).pvalue \\\n",
    "            <= 0.05/len(combinations_all): # Учли поправку Бонферони\n",
    "            print('Найдены статистически значимые различия для колонки', column)\n",
    "            break\n",
    "\n",
    "for col in ['company', 'specific_origin', 'company_location', 'bean_type', 'broad_origin']:\n",
    "    get_stat_dif(col)"
   ],
   "metadata": {
    "collapsed": false,
    "pycharm": {
     "name": "#%%\n"
    }
   }
  },
  {
   "cell_type": "code",
   "execution_count": 322,
   "outputs": [
    {
     "data": {
      "text/plain": "    company specific_origin company_location  review_date  cocoa_percent\n1  A. Morin           Kpime           France         2015           70.0\n3  A. Morin           Akata           France         2015           70.0\n4  A. Morin          Quilla           France         2015           70.0\n5  A. Morin        Carenero           France         2014           70.0\n6  A. Morin            Cuba           France         2014           70.0",
      "text/html": "<div>\n<style scoped>\n    .dataframe tbody tr th:only-of-type {\n        vertical-align: middle;\n    }\n\n    .dataframe tbody tr th {\n        vertical-align: top;\n    }\n\n    .dataframe thead th {\n        text-align: right;\n    }\n</style>\n<table border=\"1\" class=\"dataframe\">\n  <thead>\n    <tr style=\"text-align: right;\">\n      <th></th>\n      <th>company</th>\n      <th>specific_origin</th>\n      <th>company_location</th>\n      <th>review_date</th>\n      <th>cocoa_percent</th>\n    </tr>\n  </thead>\n  <tbody>\n    <tr>\n      <th>1</th>\n      <td>A. Morin</td>\n      <td>Kpime</td>\n      <td>France</td>\n      <td>2015</td>\n      <td>70.0</td>\n    </tr>\n    <tr>\n      <th>3</th>\n      <td>A. Morin</td>\n      <td>Akata</td>\n      <td>France</td>\n      <td>2015</td>\n      <td>70.0</td>\n    </tr>\n    <tr>\n      <th>4</th>\n      <td>A. Morin</td>\n      <td>Quilla</td>\n      <td>France</td>\n      <td>2015</td>\n      <td>70.0</td>\n    </tr>\n    <tr>\n      <th>5</th>\n      <td>A. Morin</td>\n      <td>Carenero</td>\n      <td>France</td>\n      <td>2014</td>\n      <td>70.0</td>\n    </tr>\n    <tr>\n      <th>6</th>\n      <td>A. Morin</td>\n      <td>Cuba</td>\n      <td>France</td>\n      <td>2014</td>\n      <td>70.0</td>\n    </tr>\n  </tbody>\n</table>\n</div>"
     },
     "execution_count": 322,
     "metadata": {},
     "output_type": "execute_result"
    }
   ],
   "source": [
    "cacao_for_model = cacao.loc[:,\n",
    "                   ['company',\n",
    "                    'specific_origin',\n",
    "                    'company_location',\n",
    "                    'review_date',\n",
    "                    'cocoa_percent']]\n",
    "\n",
    "cacao_for_model.head()"
   ],
   "metadata": {
    "collapsed": false,
    "pycharm": {
     "name": "#%%\n"
    }
   }
  },
  {
   "cell_type": "markdown",
   "source": [
    "\n",
    "\n",
    "# Выводы\n",
    "\n",
    "Настало время подвести выводы.\n",
    "\n",
    "Итак, в результате EDA для анализа влияния параметров шоколада на экспертную оценку шоколадных батончиков были получены следующие выводы:\n",
    "\n",
    "- В данных достаточно мало пустых значений, только столбец `bean_type` был заполнен в малом количестве случаев.\n",
    "- Выбросы найдены только в столбцах с рейтингом и содержанием какао в шоколаде батончиков, что позволяет сделать вывод\n",
    " о том, что данные достаточно чистые.\n",
    "- Положительная корреляция параметра `review_date` и `rating` может говорить о том, что с годами рейтинги потихоньку\n",
    "завышаются, либо батончики становятся лучше.\n",
    "- Самые важные параметры, которые предлагается использовать в дальнейшем для построения модели, это `company`,\n",
    "`specific_origin`, `company_location`, `review_date` и `cocoa_percent`.\n"
   ],
   "metadata": {
    "collapsed": false,
    "pycharm": {
     "name": "#%% md\n"
    }
   }
  },
  {
   "cell_type": "code",
   "execution_count": 319,
   "outputs": [],
   "source": [],
   "metadata": {
    "collapsed": false,
    "pycharm": {
     "name": "#%%\n"
    }
   }
  },
  {
   "cell_type": "code",
   "execution_count": null,
   "outputs": [],
   "source": [],
   "metadata": {
    "collapsed": false,
    "pycharm": {
     "name": "#%%\n"
    }
   }
  }
 ],
 "metadata": {
  "colab": {
   "name": "Copy of [SF-DST] Movies IMBD v4.1 TEMPLATE.ipynb",
   "provenance": []
  },
  "kernelspec": {
   "display_name": "PyCharm (SkillFactory)",
   "language": "python",
   "name": "pycharm-654c38e"
  },
  "language_info": {
   "codemirror_mode": {
    "name": "ipython",
    "version": 3
   },
   "file_extension": ".py",
   "mimetype": "text/x-python",
   "name": "python",
   "nbconvert_exporter": "python",
   "pygments_lexer": "ipython3",
   "version": "3.8.5"
  }
 },
 "nbformat": 4,
 "nbformat_minor": 4
}