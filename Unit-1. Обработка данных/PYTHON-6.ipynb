{
 "cells": [
  {
   "cell_type": "code",
   "execution_count": 1,
   "metadata": {},
   "outputs": [
    {
     "data": {
      "text/plain": [
       "Spain        4\n",
       "Argentina    3\n",
       "Belgium      3\n",
       "Germany      3\n",
       "Uruguay      3\n",
       "France       2\n",
       "Croatia      1\n",
       "Portugal     1\n",
       "Poland       1\n",
       "Slovenia     1\n",
       "England      1\n",
       "Italy        1\n",
       "Brazil       1\n",
       "Name: Nationality, dtype: int64"
      ]
     },
     "metadata": {},
     "output_type": "display_data"
    },
    {
     "data": {
      "text/plain": [
       "Index(['Spain', 'Argentina', 'Belgium', 'Germany', 'Uruguay', 'France',\n",
       "       'Croatia', 'Portugal', 'Poland', 'Slovenia', 'England', 'Italy',\n",
       "       'Brazil'],\n",
       "      dtype='object')"
      ]
     },
     "metadata": {},
     "output_type": "display_data"
    },
    {
     "data": {
      "text/plain": [
       "4"
      ]
     },
     "metadata": {},
     "output_type": "display_data"
    },
    {
     "data": {
      "text/plain": [
       "3"
      ]
     },
     "metadata": {},
     "output_type": "display_data"
    },
    {
     "data": {
      "text/plain": [
       "Spain        4\n",
       "Argentina    3\n",
       "Belgium      3\n",
       "Germany      3\n",
       "Uruguay      3\n",
       "France       2\n",
       "Name: Nationality, dtype: int64"
      ]
     },
     "metadata": {},
     "output_type": "display_data"
    }
   ],
   "source": [
    "import pandas as pd\n",
    "\n",
    "df = pd.read_csv('datasets/data_sf.csv')\n",
    "small_df = df[df.columns[1:8]].head(25)\n",
    "# display(small_df)\n",
    "\n",
    "s = small_df.Nationality.value_counts()\n",
    "display(\n",
    "    s,\n",
    "    s.index,\n",
    "    s.Spain,\n",
    "    s['Germany'],\n",
    "    s.loc[s > 1]\n",
    ")"
   ]
  },
  {
   "cell_type": "code",
   "execution_count": 70,
   "metadata": {},
   "outputs": [
    {
     "data": {
      "text/plain": [
       "'Atlético Mineiro'"
      ]
     },
     "metadata": {},
     "output_type": "display_data"
    },
    {
     "data": {
      "text/plain": [
       "6"
      ]
     },
     "metadata": {},
     "output_type": "display_data"
    }
   ],
   "source": [
    "import pandas as pd\n",
    "\n",
    "df = pd.read_csv('./data_sf.csv')\n",
    "small_df = df[df.columns[1:8]].head(25)\n",
    "# display(small_df)\n",
    "\n",
    "\n",
    "# Сколько футбольных клубов представлено в датасете?\n",
    "len(df.Club.value_counts())\n",
    "\n",
    "\n",
    "# Отметьте названия футбольных клубов, представленных в датасете наибольшим количеством игроков.\n",
    "df.Club.value_counts()[:10]\n",
    "                      \n",
    "# Как называется футбольный клуб, представленный наименьшим количеством игроков в датасете \n",
    "# (скопируйте ответ из Jupyter Notebook)?\n",
    "# df.Club.value_counts().tail(1).index[0]\n",
    "# df.Club.value_counts(ascending=True).head(1).index[0]\n",
    "# df.Club.value_counts(ascending=True).index[0]\n",
    "# df.Club.value_counts().index[-1]\n",
    "display(\n",
    "    df.Club.value_counts().index[-1], \n",
    "    df.Club.value_counts().min()\n",
    ")\n",
    "\n",
    "\n",
    "                       "
   ]
  },
  {
   "cell_type": "code",
   "execution_count": 83,
   "metadata": {},
   "outputs": [
    {
     "data": {
      "text/plain": [
       "Spain        0.16\n",
       "Belgium      0.12\n",
       "Germany      0.12\n",
       "Argentina    0.12\n",
       "Uruguay      0.12\n",
       "France       0.08\n",
       "Brazil       0.04\n",
       "England      0.04\n",
       "Slovenia     0.04\n",
       "Poland       0.04\n",
       "Italy        0.04\n",
       "Portugal     0.04\n",
       "Croatia      0.04\n",
       "Name: Nationality, dtype: float64"
      ]
     },
     "metadata": {},
     "output_type": "display_data"
    }
   ],
   "source": [
    "import pandas as pd\n",
    "\n",
    "df = pd.read_csv('./data_sf.csv')\n",
    "small_df = df[df.columns[1:8]].head(25)\n",
    "\n",
    "s = small_df['Nationality'].value_counts(normalize=True)\n",
    "display(s)"
   ]
  },
  {
   "cell_type": "code",
   "execution_count": 89,
   "metadata": {},
   "outputs": [
    {
     "data": {
      "text/plain": [
       "GK    0.127239\n",
       "ST    0.117237\n",
       "CB    0.108785\n",
       "Name: Position, dtype: float64"
      ]
     },
     "metadata": {},
     "output_type": "display_data"
    },
    {
     "data": {
      "text/plain": [
       "LS     0.009382\n",
       "RS     0.008839\n",
       "RWB    0.005428\n",
       "LWB    0.004652\n",
       "CF     0.003954\n",
       "LF     0.000620\n",
       "LAM    0.000465\n",
       "RF     0.000465\n",
       "RAM    0.000388\n",
       "Name: Position, dtype: float64"
      ]
     },
     "metadata": {},
     "output_type": "display_data"
    }
   ],
   "source": [
    "import pandas as pd\n",
    "\n",
    "df = pd.read_csv('./data_sf.csv')\n",
    "small_df = df[df.columns[1:8]].head(25)\n",
    "\n",
    "\n",
    "# Данные об игроках каких позиций (Position) занимают более 10% датасета?\n",
    "s = df.Position.value_counts(normalize=True)\n",
    "display(s[s > 0.1])\n",
    "\n",
    "\n",
    "# Данные об игроках каких позиций (Position) занимают менее 1% датасета?\n",
    "display(s[s < 0.01])"
   ]
  },
  {
   "cell_type": "code",
   "execution_count": 101,
   "metadata": {},
   "outputs": [
    {
     "data": {
      "text/plain": [
       "(211750.0, 329500.0]     9\n",
       "(93528.999, 211750.0]    8\n",
       "(329500.0, 447250.0]     6\n",
       "(447250.0, 565000.0]     2\n",
       "Name: Wage, dtype: int64"
      ]
     },
     "metadata": {},
     "output_type": "display_data"
    },
    {
     "data": {
      "text/plain": [
       "Interval(447250.0, 565000.0, closed='right')"
      ]
     },
     "metadata": {},
     "output_type": "display_data"
    },
    {
     "data": {
      "text/html": [
       "<div>\n",
       "<style scoped>\n",
       "    .dataframe tbody tr th:only-of-type {\n",
       "        vertical-align: middle;\n",
       "    }\n",
       "\n",
       "    .dataframe tbody tr th {\n",
       "        vertical-align: top;\n",
       "    }\n",
       "\n",
       "    .dataframe thead th {\n",
       "        text-align: right;\n",
       "    }\n",
       "</style>\n",
       "<table border=\"1\" class=\"dataframe\">\n",
       "  <thead>\n",
       "    <tr style=\"text-align: right;\">\n",
       "      <th></th>\n",
       "      <th>Name</th>\n",
       "      <th>Age</th>\n",
       "      <th>Nationality</th>\n",
       "      <th>Club</th>\n",
       "      <th>Value</th>\n",
       "      <th>Wage</th>\n",
       "      <th>Position</th>\n",
       "    </tr>\n",
       "  </thead>\n",
       "  <tbody>\n",
       "    <tr>\n",
       "      <th>0</th>\n",
       "      <td>L. Messi</td>\n",
       "      <td>31</td>\n",
       "      <td>Argentina</td>\n",
       "      <td>FC Barcelona</td>\n",
       "      <td>110500000</td>\n",
       "      <td>565000</td>\n",
       "      <td>RF</td>\n",
       "    </tr>\n",
       "    <tr>\n",
       "      <th>7</th>\n",
       "      <td>L. Suárez</td>\n",
       "      <td>31</td>\n",
       "      <td>Uruguay</td>\n",
       "      <td>FC Barcelona</td>\n",
       "      <td>80000000</td>\n",
       "      <td>455000</td>\n",
       "      <td>RS</td>\n",
       "    </tr>\n",
       "  </tbody>\n",
       "</table>\n",
       "</div>"
      ],
      "text/plain": [
       "        Name  Age Nationality          Club      Value    Wage Position\n",
       "0   L. Messi   31   Argentina  FC Barcelona  110500000  565000       RF\n",
       "7  L. Suárez   31     Uruguay  FC Barcelona   80000000  455000       RS"
      ]
     },
     "execution_count": 101,
     "metadata": {},
     "output_type": "execute_result"
    }
   ],
   "source": [
    "# s = small_df['Age'].value_counts()\n",
    "# display(s)\n",
    "\n",
    "# s = small_df['Wage'].value_counts()\n",
    "# display(s)\n",
    "\n",
    "s = small_df['Wage'].value_counts(bins=4)\n",
    "display(s)\n",
    "display(s.index[3])\n",
    "small_df.loc[(small_df['Wage'] > s.index[3].left) & (small_df['Wage'] <= s.index[3].right)]"
   ]
  },
  {
   "cell_type": "code",
   "execution_count": 118,
   "metadata": {},
   "outputs": [
    {
     "data": {
      "text/plain": [
       "Interval(2.908, 21.2, closed='right')"
      ]
     },
     "metadata": {},
     "output_type": "display_data"
    },
    {
     "data": {
      "text/plain": [
       "(21.2, 39.4]    4859\n",
       "Name: FKAccuracy, dtype: int64"
      ]
     },
     "metadata": {},
     "output_type": "display_data"
    }
   ],
   "source": [
    "import pandas as pd\n",
    "\n",
    "df = pd.read_csv('./data_sf.csv')\n",
    "small_df = df[df.columns[1:8]].head(25)\n",
    "\n",
    "# В каких пределах находятся худшие 20% показателей точности ударов ногой (FKAccuracy)?\n",
    "s = df.FKAccuracy.value_counts(bins=5)\n",
    "display(s.index.min())\n",
    "display(s.loc[s == s.max()])\n"
   ]
  },
  {
   "cell_type": "code",
   "execution_count": 128,
   "metadata": {},
   "outputs": [
    {
     "name": "stdout",
     "output_type": "stream",
     "text": [
      "Index(['Spain', 'Belgium', 'Germany', 'Argentina', 'Uruguay', 'France',\n",
      "       'Brazil', 'England', 'Slovenia', 'Poland', 'Italy', 'Portugal',\n",
      "       'Croatia'],\n",
      "      dtype='object')\n",
      "13\n"
     ]
    },
    {
     "data": {
      "text/plain": [
       "array(['Argentina', 'Portugal', 'Brazil', 'Spain', 'Belgium', 'Croatia',\n",
       "       'Uruguay', 'Slovenia', 'Poland', 'Germany', 'France', 'England',\n",
       "       'Italy'], dtype=object)"
      ]
     },
     "metadata": {},
     "output_type": "display_data"
    },
    {
     "data": {
      "text/plain": [
       "13"
      ]
     },
     "metadata": {},
     "output_type": "display_data"
    },
    {
     "data": {
      "text/plain": [
       "13"
      ]
     },
     "metadata": {},
     "output_type": "display_data"
    },
    {
     "data": {
      "text/plain": [
       "12897"
      ]
     },
     "execution_count": 128,
     "metadata": {},
     "output_type": "execute_result"
    }
   ],
   "source": [
    "s = small_df['Nationality'].value_counts()\n",
    "print(s.index)\n",
    "print(len(s.index))\n",
    "\n",
    "display(small_df.Nationality.unique())\n",
    "display(len(small_df.Nationality.unique()))\n",
    "display(small_df.Nationality.nunique())\n",
    "\n",
    "\n"
   ]
  },
  {
   "cell_type": "markdown",
   "metadata": {},
   "source": [
    "### Преобразование серии value_counts в датафрейм"
   ]
  },
  {
   "cell_type": "code",
   "execution_count": 135,
   "metadata": {},
   "outputs": [
    {
     "data": {
      "text/html": [
       "<div>\n",
       "<style scoped>\n",
       "    .dataframe tbody tr th:only-of-type {\n",
       "        vertical-align: middle;\n",
       "    }\n",
       "\n",
       "    .dataframe tbody tr th {\n",
       "        vertical-align: top;\n",
       "    }\n",
       "\n",
       "    .dataframe thead th {\n",
       "        text-align: right;\n",
       "    }\n",
       "</style>\n",
       "<table border=\"1\" class=\"dataframe\">\n",
       "  <thead>\n",
       "    <tr style=\"text-align: right;\">\n",
       "      <th></th>\n",
       "      <th>Nationality</th>\n",
       "      <th>Players Count</th>\n",
       "    </tr>\n",
       "  </thead>\n",
       "  <tbody>\n",
       "    <tr>\n",
       "      <th>0</th>\n",
       "      <td>Spain</td>\n",
       "      <td>4</td>\n",
       "    </tr>\n",
       "    <tr>\n",
       "      <th>1</th>\n",
       "      <td>Belgium</td>\n",
       "      <td>3</td>\n",
       "    </tr>\n",
       "    <tr>\n",
       "      <th>2</th>\n",
       "      <td>Germany</td>\n",
       "      <td>3</td>\n",
       "    </tr>\n",
       "    <tr>\n",
       "      <th>3</th>\n",
       "      <td>Argentina</td>\n",
       "      <td>3</td>\n",
       "    </tr>\n",
       "    <tr>\n",
       "      <th>4</th>\n",
       "      <td>Uruguay</td>\n",
       "      <td>3</td>\n",
       "    </tr>\n",
       "    <tr>\n",
       "      <th>5</th>\n",
       "      <td>France</td>\n",
       "      <td>2</td>\n",
       "    </tr>\n",
       "    <tr>\n",
       "      <th>6</th>\n",
       "      <td>Brazil</td>\n",
       "      <td>1</td>\n",
       "    </tr>\n",
       "    <tr>\n",
       "      <th>7</th>\n",
       "      <td>England</td>\n",
       "      <td>1</td>\n",
       "    </tr>\n",
       "    <tr>\n",
       "      <th>8</th>\n",
       "      <td>Slovenia</td>\n",
       "      <td>1</td>\n",
       "    </tr>\n",
       "    <tr>\n",
       "      <th>9</th>\n",
       "      <td>Poland</td>\n",
       "      <td>1</td>\n",
       "    </tr>\n",
       "    <tr>\n",
       "      <th>10</th>\n",
       "      <td>Italy</td>\n",
       "      <td>1</td>\n",
       "    </tr>\n",
       "    <tr>\n",
       "      <th>11</th>\n",
       "      <td>Portugal</td>\n",
       "      <td>1</td>\n",
       "    </tr>\n",
       "    <tr>\n",
       "      <th>12</th>\n",
       "      <td>Croatia</td>\n",
       "      <td>1</td>\n",
       "    </tr>\n",
       "  </tbody>\n",
       "</table>\n",
       "</div>"
      ],
      "text/plain": [
       "   Nationality  Players Count\n",
       "0        Spain              4\n",
       "1      Belgium              3\n",
       "2      Germany              3\n",
       "3    Argentina              3\n",
       "4      Uruguay              3\n",
       "5       France              2\n",
       "6       Brazil              1\n",
       "7      England              1\n",
       "8     Slovenia              1\n",
       "9       Poland              1\n",
       "10       Italy              1\n",
       "11    Portugal              1\n",
       "12     Croatia              1"
      ]
     },
     "metadata": {},
     "output_type": "display_data"
    }
   ],
   "source": [
    "s = small_df['Nationality'].value_counts()\n",
    "s_df = s.reset_index()\n",
    "s_df.columns = ['Nationality','Players Count']\n",
    "display(s_df)"
   ]
  },
  {
   "cell_type": "code",
   "execution_count": 159,
   "metadata": {},
   "outputs": [
    {
     "data": {
      "text/plain": [
       "(620.999, 95750.0]    0.970194\n",
       "Name: Wage, dtype: float64"
      ]
     },
     "metadata": {},
     "output_type": "display_data"
    }
   ],
   "source": [
    "# У какого процента испанских специалистов (Nationality = 'Spain') зарплата (Wage) \n",
    "# находится в пределах 25% минимума от наблюдаемого уровня зарплат? \n",
    "# Ответ дайте в виде целого числа (округлите полученный результат) без знака %.\n",
    "# Подсказка: Для решения задачи используйте value_counts() с параметром bins = 4.\n",
    "s = df[df.Nationality == 'Spain'].Wage.value_counts(bins=4, normalize=True)\n",
    "display(s[s.index.left == s.index.left.min()])\n",
    "# display(s)\n"
   ]
  },
  {
   "cell_type": "code",
   "execution_count": 164,
   "metadata": {},
   "outputs": [
    {
     "data": {
      "text/plain": [
       "13"
      ]
     },
     "execution_count": 164,
     "metadata": {},
     "output_type": "execute_result"
    }
   ],
   "source": [
    "# Укажите количество уникальных сборных (Nationality),\n",
    "# к которым относятся футболисты, выступающие за клуб (Club) \"Manchester United\".\n",
    "df[df.Club == 'Manchester United'].Nationality.nunique()\n"
   ]
  },
  {
   "cell_type": "code",
   "execution_count": 166,
   "metadata": {},
   "outputs": [
    {
     "data": {
      "text/plain": [
       "array(['Alex Sandro', 'Douglas Costa'], dtype=object)"
      ]
     },
     "execution_count": 166,
     "metadata": {},
     "output_type": "execute_result"
    }
   ],
   "source": [
    "# С помощью функции unique определите двух футболистов из Бразилии (Nationality = 'Brazil'), \n",
    "# выступающих за клуб (Club) 'Juventus'. Перечислите их имена (Name, как в датафрейме) \n",
    "# через запятую в алфавитном порядке.\n",
    "df[\n",
    "    (df.Nationality == 'Brazil') & (df.Club == 'Juventus')\n",
    "].Name.unique()\n"
   ]
  },
  {
   "cell_type": "code",
   "execution_count": 170,
   "metadata": {},
   "outputs": [
    {
     "data": {
      "text/plain": [
       "'Club Atlético Huracán'"
      ]
     },
     "execution_count": 170,
     "metadata": {},
     "output_type": "execute_result"
    }
   ],
   "source": [
    "# Укажите, какой из клубов (Club) насчитывает большее количество футболистов возрастом (Age) старше 35 лет.\n",
    "df[df.Age > 35].Club.value_counts().index[0]"
   ]
  },
  {
   "cell_type": "code",
   "execution_count": 187,
   "metadata": {},
   "outputs": [
    {
     "data": {
      "text/plain": [
       "(34.75, 41.0]    49\n",
       "Name: Age, dtype: int64"
      ]
     },
     "metadata": {},
     "output_type": "display_data"
    }
   ],
   "source": [
    "# С помощью функции value_counts с параметром bins разбейте всех футболистов сборной (Nationality) Аргентины ('Argentina') \n",
    "# на 4 равные группы. Укажите, сколько футболистов в возрасте от 34.75 до 41 года в сборной Аргентины.\n",
    "sdf = df[df.Nationality == 'Argentina'].Age.value_counts(bins=4)\n",
    "display(sdf[sdf.index.left == 34.75])\n"
   ]
  },
  {
   "cell_type": "code",
   "execution_count": 195,
   "metadata": {},
   "outputs": [
    {
     "data": {
      "text/plain": [
       "11.77"
      ]
     },
     "execution_count": 195,
     "metadata": {},
     "output_type": "execute_result"
    }
   ],
   "source": [
    "# Сколько процентов футболистов из Испании (Nationality = 'Spain') имеют возраст (Age) 21 год? \n",
    "# Введите с точностью до 2 знаков после запятой без указания знака % (например, 12.35).\n",
    "round(df[(df.Nationality == 'Spain')].Age.value_counts(normalize=True)[21], 4) * 100\n"
   ]
  },
  {
   "cell_type": "code",
   "execution_count": 217,
   "metadata": {},
   "outputs": [
    {
     "name": "stdout",
     "output_type": "stream",
     "text": [
      "158000\n"
     ]
    },
    {
     "data": {
      "text/plain": [
       "Club\n",
       "Real Madrid          4138000\n",
       "FC Barcelona         3967000\n",
       "Manchester City      3097000\n",
       "Manchester United    2357000\n",
       "Juventus             2335000\n",
       "Name: Wage, dtype: int64"
      ]
     },
     "execution_count": 217,
     "metadata": {},
     "output_type": "execute_result"
    }
   ],
   "source": [
    "grouped_df = df.groupby(['Club']).sum()\n",
    "\n",
    "print(grouped_df.loc['Ajax'].Wage)\n",
    "\n",
    "df.groupby(['Club']).Wage.sum().sort_values(ascending=False).head(5)\n"
   ]
  },
  {
   "cell_type": "code",
   "execution_count": 229,
   "metadata": {},
   "outputs": [
    {
     "data": {
      "text/plain": [
       "Position\n",
       "ST     11873000\n",
       "GK      8784000\n",
       "CB      7476000\n",
       "CM      6194000\n",
       "LB      6096000\n",
       "CAM     5500000\n",
       "LM      5440000\n",
       "RM      5098000\n",
       "RB      5034000\n",
       "Name: Wage, dtype: int64"
      ]
     },
     "execution_count": 229,
     "metadata": {},
     "output_type": "execute_result"
    }
   ],
   "source": [
    "# Отметьте позиции (Position), по которым общая сумма зарплат (Wage) игроков превышает 5 млн евро в год.\n",
    "\n",
    "df_sort = df.groupby(['Position']).Wage.sum().sort_values(ascending=False)\n",
    "df_sort[df_sort > 5000000]\n"
   ]
  },
  {
   "cell_type": "code",
   "execution_count": 234,
   "metadata": {},
   "outputs": [
    {
     "data": {
      "text/html": [
       "<div>\n",
       "<style scoped>\n",
       "    .dataframe tbody tr th:only-of-type {\n",
       "        vertical-align: middle;\n",
       "    }\n",
       "\n",
       "    .dataframe tbody tr th {\n",
       "        vertical-align: top;\n",
       "    }\n",
       "\n",
       "    .dataframe thead th {\n",
       "        text-align: right;\n",
       "    }\n",
       "</style>\n",
       "<table border=\"1\" class=\"dataframe\">\n",
       "  <thead>\n",
       "    <tr style=\"text-align: right;\">\n",
       "      <th></th>\n",
       "      <th>Wage</th>\n",
       "      <th>Age</th>\n",
       "      <th>ShotPower</th>\n",
       "    </tr>\n",
       "    <tr>\n",
       "      <th>Nationality</th>\n",
       "      <th></th>\n",
       "      <th></th>\n",
       "      <th></th>\n",
       "    </tr>\n",
       "  </thead>\n",
       "  <tbody>\n",
       "    <tr>\n",
       "      <th>Dominican Republic</th>\n",
       "      <td>71000.000000</td>\n",
       "      <td>23.000000</td>\n",
       "      <td>75.500000</td>\n",
       "    </tr>\n",
       "    <tr>\n",
       "      <th>Egypt</th>\n",
       "      <td>35545.454545</td>\n",
       "      <td>25.818182</td>\n",
       "      <td>59.363636</td>\n",
       "    </tr>\n",
       "    <tr>\n",
       "      <th>Gabon</th>\n",
       "      <td>28900.000000</td>\n",
       "      <td>26.400000</td>\n",
       "      <td>56.900000</td>\n",
       "    </tr>\n",
       "    <tr>\n",
       "      <th>Croatia</th>\n",
       "      <td>26722.222222</td>\n",
       "      <td>24.819444</td>\n",
       "      <td>54.305556</td>\n",
       "    </tr>\n",
       "    <tr>\n",
       "      <th>Equatorial Guinea</th>\n",
       "      <td>25666.666667</td>\n",
       "      <td>28.000000</td>\n",
       "      <td>55.333333</td>\n",
       "    </tr>\n",
       "    <tr>\n",
       "      <th>Belgium</th>\n",
       "      <td>20024.390244</td>\n",
       "      <td>24.030488</td>\n",
       "      <td>56.390244</td>\n",
       "    </tr>\n",
       "    <tr>\n",
       "      <th>Ecuador</th>\n",
       "      <td>18333.333333</td>\n",
       "      <td>24.619048</td>\n",
       "      <td>60.666667</td>\n",
       "    </tr>\n",
       "    <tr>\n",
       "      <th>Uruguay</th>\n",
       "      <td>17590.361446</td>\n",
       "      <td>26.771084</td>\n",
       "      <td>56.192771</td>\n",
       "    </tr>\n",
       "    <tr>\n",
       "      <th>Brazil</th>\n",
       "      <td>17371.158392</td>\n",
       "      <td>27.898345</td>\n",
       "      <td>58.203310</td>\n",
       "    </tr>\n",
       "    <tr>\n",
       "      <th>Algeria</th>\n",
       "      <td>15810.810811</td>\n",
       "      <td>27.027027</td>\n",
       "      <td>56.567568</td>\n",
       "    </tr>\n",
       "  </tbody>\n",
       "</table>\n",
       "</div>"
      ],
      "text/plain": [
       "                            Wage        Age  ShotPower\n",
       "Nationality                                           \n",
       "Dominican Republic  71000.000000  23.000000  75.500000\n",
       "Egypt               35545.454545  25.818182  59.363636\n",
       "Gabon               28900.000000  26.400000  56.900000\n",
       "Croatia             26722.222222  24.819444  54.305556\n",
       "Equatorial Guinea   25666.666667  28.000000  55.333333\n",
       "Belgium             20024.390244  24.030488  56.390244\n",
       "Ecuador             18333.333333  24.619048  60.666667\n",
       "Uruguay             17590.361446  26.771084  56.192771\n",
       "Brazil              17371.158392  27.898345  58.203310\n",
       "Algeria             15810.810811  27.027027  56.567568"
      ]
     },
     "metadata": {},
     "output_type": "display_data"
    },
    {
     "data": {
      "text/html": [
       "<div>\n",
       "<style scoped>\n",
       "    .dataframe tbody tr th:only-of-type {\n",
       "        vertical-align: middle;\n",
       "    }\n",
       "\n",
       "    .dataframe tbody tr th {\n",
       "        vertical-align: top;\n",
       "    }\n",
       "\n",
       "    .dataframe thead th {\n",
       "        text-align: right;\n",
       "    }\n",
       "</style>\n",
       "<table border=\"1\" class=\"dataframe\">\n",
       "  <thead>\n",
       "    <tr style=\"text-align: right;\">\n",
       "      <th></th>\n",
       "      <th>Name</th>\n",
       "      <th>Club</th>\n",
       "      <th>Wage</th>\n",
       "      <th>Age</th>\n",
       "      <th>ShotPower</th>\n",
       "    </tr>\n",
       "  </thead>\n",
       "  <tbody>\n",
       "    <tr>\n",
       "      <th>291</th>\n",
       "      <td>Mariano</td>\n",
       "      <td>Real Madrid</td>\n",
       "      <td>140000</td>\n",
       "      <td>24</td>\n",
       "      <td>85</td>\n",
       "    </tr>\n",
       "    <tr>\n",
       "      <th>6279</th>\n",
       "      <td>L. Quezada</td>\n",
       "      <td>Córdoba CF</td>\n",
       "      <td>2000</td>\n",
       "      <td>22</td>\n",
       "      <td>66</td>\n",
       "    </tr>\n",
       "  </tbody>\n",
       "</table>\n",
       "</div>"
      ],
      "text/plain": [
       "            Name         Club    Wage  Age  ShotPower\n",
       "291      Mariano  Real Madrid  140000   24         85\n",
       "6279  L. Quezada   Córdoba CF    2000   22         66"
      ]
     },
     "execution_count": 234,
     "metadata": {},
     "output_type": "execute_result"
    }
   ],
   "source": [
    "# df.groupby(['Nationality'])[['Wage','Age','ShotPower']].mean()\n",
    "display(\n",
    "    df.groupby(\n",
    "        ['Nationality']\n",
    "    )[\n",
    "        ['Wage','Age','ShotPower']\n",
    "    ].mean().sort_values(\n",
    "        ['Wage'],ascending=False\n",
    "    ).head(10)\n",
    ") \n",
    "\n",
    "df.loc[df.Nationality == 'Dominican Republic'][['Name','Club','Wage','Age','ShotPower']]"
   ]
  },
  {
   "cell_type": "code",
   "execution_count": 250,
   "metadata": {},
   "outputs": [
    {
     "data": {
      "text/html": [
       "<div>\n",
       "<style scoped>\n",
       "    .dataframe tbody tr th:only-of-type {\n",
       "        vertical-align: middle;\n",
       "    }\n",
       "\n",
       "    .dataframe tbody tr th {\n",
       "        vertical-align: top;\n",
       "    }\n",
       "\n",
       "    .dataframe thead th {\n",
       "        text-align: right;\n",
       "    }\n",
       "</style>\n",
       "<table border=\"1\" class=\"dataframe\">\n",
       "  <thead>\n",
       "    <tr style=\"text-align: right;\">\n",
       "      <th></th>\n",
       "      <th>Wage</th>\n",
       "      <th>Value</th>\n",
       "    </tr>\n",
       "    <tr>\n",
       "      <th>Position</th>\n",
       "      <th></th>\n",
       "      <th></th>\n",
       "    </tr>\n",
       "  </thead>\n",
       "  <tbody>\n",
       "    <tr>\n",
       "      <th>LF</th>\n",
       "      <td>75125.000000</td>\n",
       "      <td>2.736250e+07</td>\n",
       "    </tr>\n",
       "    <tr>\n",
       "      <th>RF</th>\n",
       "      <td>119000.000000</td>\n",
       "      <td>2.636583e+07</td>\n",
       "    </tr>\n",
       "    <tr>\n",
       "      <th>LAM</th>\n",
       "      <td>61000.000000</td>\n",
       "      <td>1.324583e+07</td>\n",
       "    </tr>\n",
       "    <tr>\n",
       "      <th>RAM</th>\n",
       "      <td>11800.000000</td>\n",
       "      <td>8.345000e+06</td>\n",
       "    </tr>\n",
       "    <tr>\n",
       "      <th>LS</th>\n",
       "      <td>15421.487603</td>\n",
       "      <td>5.848430e+06</td>\n",
       "    </tr>\n",
       "    <tr>\n",
       "      <th>LCM</th>\n",
       "      <td>13497.854077</td>\n",
       "      <td>4.318090e+06</td>\n",
       "    </tr>\n",
       "    <tr>\n",
       "      <th>RCM</th>\n",
       "      <td>13504.166667</td>\n",
       "      <td>4.217604e+06</td>\n",
       "    </tr>\n",
       "    <tr>\n",
       "      <th>RS</th>\n",
       "      <td>13482.456140</td>\n",
       "      <td>3.645833e+06</td>\n",
       "    </tr>\n",
       "    <tr>\n",
       "      <th>LW</th>\n",
       "      <td>12169.421488</td>\n",
       "      <td>3.603099e+06</td>\n",
       "    </tr>\n",
       "    <tr>\n",
       "      <th>RW</th>\n",
       "      <td>13822.784810</td>\n",
       "      <td>3.495738e+06</td>\n",
       "    </tr>\n",
       "    <tr>\n",
       "      <th>LDM</th>\n",
       "      <td>10243.243243</td>\n",
       "      <td>3.369459e+06</td>\n",
       "    </tr>\n",
       "    <tr>\n",
       "      <th>RCB</th>\n",
       "      <td>11270.334928</td>\n",
       "      <td>3.009055e+06</td>\n",
       "    </tr>\n",
       "    <tr>\n",
       "      <th>CAM</th>\n",
       "      <td>8688.783570</td>\n",
       "      <td>2.963199e+06</td>\n",
       "    </tr>\n",
       "    <tr>\n",
       "      <th>RDM</th>\n",
       "      <td>11282.608696</td>\n",
       "      <td>2.692717e+06</td>\n",
       "    </tr>\n",
       "    <tr>\n",
       "      <th>LCB</th>\n",
       "      <td>9753.056235</td>\n",
       "      <td>2.636516e+06</td>\n",
       "    </tr>\n",
       "    <tr>\n",
       "      <th>LM</th>\n",
       "      <td>7472.527473</td>\n",
       "      <td>2.466174e+06</td>\n",
       "    </tr>\n",
       "    <tr>\n",
       "      <th>ST</th>\n",
       "      <td>7852.513228</td>\n",
       "      <td>2.157252e+06</td>\n",
       "    </tr>\n",
       "    <tr>\n",
       "      <th>RM</th>\n",
       "      <td>6655.352480</td>\n",
       "      <td>2.138734e+06</td>\n",
       "    </tr>\n",
       "    <tr>\n",
       "      <th>LWB</th>\n",
       "      <td>5783.333333</td>\n",
       "      <td>1.931333e+06</td>\n",
       "    </tr>\n",
       "    <tr>\n",
       "      <th>CF</th>\n",
       "      <td>4862.745098</td>\n",
       "      <td>1.848627e+06</td>\n",
       "    </tr>\n",
       "    <tr>\n",
       "      <th>CDM</th>\n",
       "      <td>7121.562952</td>\n",
       "      <td>1.658900e+06</td>\n",
       "    </tr>\n",
       "    <tr>\n",
       "      <th>CM</th>\n",
       "      <td>5805.060918</td>\n",
       "      <td>1.617465e+06</td>\n",
       "    </tr>\n",
       "    <tr>\n",
       "      <th>RWB</th>\n",
       "      <td>6000.000000</td>\n",
       "      <td>1.555571e+06</td>\n",
       "    </tr>\n",
       "    <tr>\n",
       "      <th>GK</th>\n",
       "      <td>5352.833638</td>\n",
       "      <td>1.502502e+06</td>\n",
       "    </tr>\n",
       "    <tr>\n",
       "      <th>LB</th>\n",
       "      <td>6083.832335</td>\n",
       "      <td>1.429032e+06</td>\n",
       "    </tr>\n",
       "    <tr>\n",
       "      <th>CB</th>\n",
       "      <td>5328.581611</td>\n",
       "      <td>1.321251e+06</td>\n",
       "    </tr>\n",
       "    <tr>\n",
       "      <th>RB</th>\n",
       "      <td>5310.126582</td>\n",
       "      <td>1.248940e+06</td>\n",
       "    </tr>\n",
       "  </tbody>\n",
       "</table>\n",
       "</div>"
      ],
      "text/plain": [
       "                   Wage         Value\n",
       "Position                             \n",
       "LF         75125.000000  2.736250e+07\n",
       "RF        119000.000000  2.636583e+07\n",
       "LAM        61000.000000  1.324583e+07\n",
       "RAM        11800.000000  8.345000e+06\n",
       "LS         15421.487603  5.848430e+06\n",
       "LCM        13497.854077  4.318090e+06\n",
       "RCM        13504.166667  4.217604e+06\n",
       "RS         13482.456140  3.645833e+06\n",
       "LW         12169.421488  3.603099e+06\n",
       "RW         13822.784810  3.495738e+06\n",
       "LDM        10243.243243  3.369459e+06\n",
       "RCB        11270.334928  3.009055e+06\n",
       "CAM         8688.783570  2.963199e+06\n",
       "RDM        11282.608696  2.692717e+06\n",
       "LCB         9753.056235  2.636516e+06\n",
       "LM          7472.527473  2.466174e+06\n",
       "ST          7852.513228  2.157252e+06\n",
       "RM          6655.352480  2.138734e+06\n",
       "LWB         5783.333333  1.931333e+06\n",
       "CF          4862.745098  1.848627e+06\n",
       "CDM         7121.562952  1.658900e+06\n",
       "CM          5805.060918  1.617465e+06\n",
       "RWB         6000.000000  1.555571e+06\n",
       "GK          5352.833638  1.502502e+06\n",
       "LB          6083.832335  1.429032e+06\n",
       "CB          5328.581611  1.321251e+06\n",
       "RB          5310.126582  1.248940e+06"
      ]
     },
     "execution_count": 250,
     "metadata": {},
     "output_type": "execute_result"
    }
   ],
   "source": [
    "# Посчитайте среднюю зарплату (Wage) и цену (Value) игроков разных позиций (Position). \n",
    "# Представители какой позиции имеют самую высокую среднюю цену?\n",
    "df.groupby(['Position'])[['Wage', 'Value']].mean().sort_values('Value', ascending=False)"
   ]
  },
  {
   "cell_type": "code",
   "execution_count": 252,
   "metadata": {},
   "outputs": [
    {
     "data": {
      "text/html": [
       "<div>\n",
       "<style scoped>\n",
       "    .dataframe tbody tr th:only-of-type {\n",
       "        vertical-align: middle;\n",
       "    }\n",
       "\n",
       "    .dataframe tbody tr th {\n",
       "        vertical-align: top;\n",
       "    }\n",
       "\n",
       "    .dataframe thead th {\n",
       "        text-align: right;\n",
       "    }\n",
       "</style>\n",
       "<table border=\"1\" class=\"dataframe\">\n",
       "  <thead>\n",
       "    <tr style=\"text-align: right;\">\n",
       "      <th></th>\n",
       "      <th>Club</th>\n",
       "      <th>Name</th>\n",
       "    </tr>\n",
       "    <tr>\n",
       "      <th>Nationality</th>\n",
       "      <th></th>\n",
       "      <th></th>\n",
       "    </tr>\n",
       "  </thead>\n",
       "  <tbody>\n",
       "    <tr>\n",
       "      <th>Afghanistan</th>\n",
       "      <td>4</td>\n",
       "      <td>4</td>\n",
       "    </tr>\n",
       "    <tr>\n",
       "      <th>Albania</th>\n",
       "      <td>26</td>\n",
       "      <td>29</td>\n",
       "    </tr>\n",
       "    <tr>\n",
       "      <th>Algeria</th>\n",
       "      <td>33</td>\n",
       "      <td>37</td>\n",
       "    </tr>\n",
       "    <tr>\n",
       "      <th>Andorra</th>\n",
       "      <td>1</td>\n",
       "      <td>1</td>\n",
       "    </tr>\n",
       "    <tr>\n",
       "      <th>Angola</th>\n",
       "      <td>9</td>\n",
       "      <td>10</td>\n",
       "    </tr>\n",
       "    <tr>\n",
       "      <th>...</th>\n",
       "      <td>...</td>\n",
       "      <td>...</td>\n",
       "    </tr>\n",
       "    <tr>\n",
       "      <th>Uzbekistan</th>\n",
       "      <td>2</td>\n",
       "      <td>2</td>\n",
       "    </tr>\n",
       "    <tr>\n",
       "      <th>Venezuela</th>\n",
       "      <td>34</td>\n",
       "      <td>36</td>\n",
       "    </tr>\n",
       "    <tr>\n",
       "      <th>Wales</th>\n",
       "      <td>56</td>\n",
       "      <td>101</td>\n",
       "    </tr>\n",
       "    <tr>\n",
       "      <th>Zambia</th>\n",
       "      <td>5</td>\n",
       "      <td>6</td>\n",
       "    </tr>\n",
       "    <tr>\n",
       "      <th>Zimbabwe</th>\n",
       "      <td>8</td>\n",
       "      <td>9</td>\n",
       "    </tr>\n",
       "  </tbody>\n",
       "</table>\n",
       "<p>156 rows × 2 columns</p>\n",
       "</div>"
      ],
      "text/plain": [
       "             Club  Name\n",
       "Nationality            \n",
       "Afghanistan     4     4\n",
       "Albania        26    29\n",
       "Algeria        33    37\n",
       "Andorra         1     1\n",
       "Angola          9    10\n",
       "...           ...   ...\n",
       "Uzbekistan      2     2\n",
       "Venezuela      34    36\n",
       "Wales          56   101\n",
       "Zambia          5     6\n",
       "Zimbabwe        8     9\n",
       "\n",
       "[156 rows x 2 columns]"
      ]
     },
     "execution_count": 252,
     "metadata": {},
     "output_type": "execute_result"
    }
   ],
   "source": [
    "df.groupby(['Nationality'])[['Club','Name']].nunique()"
   ]
  },
  {
   "cell_type": "code",
   "execution_count": 261,
   "metadata": {},
   "outputs": [
    {
     "data": {
      "text/plain": [
       "Club\n",
       " SSV Jahn Regensburg     24\n",
       "1. FC Heidenheim 1846    20\n",
       "1. FC Kaiserslautern     23\n",
       "1. FC Köln               10\n",
       "1. FC Magdeburg          21\n",
       "                         ..\n",
       "Zagłębie Sosnowiec       25\n",
       "Çaykur Rizespor          22\n",
       "Örebro SK                26\n",
       "Östersunds FK            20\n",
       "Śląsk Wrocław            24\n",
       "Name: Name, Length: 650, dtype: int64"
      ]
     },
     "metadata": {},
     "output_type": "display_data"
    },
    {
     "data": {
      "text/plain": [
       "'----------------------'"
      ]
     },
     "metadata": {},
     "output_type": "display_data"
    },
    {
     "data": {
      "text/plain": [
       "Club                  Name           \n",
       " SSV Jahn Regensburg  A. Dej             1\n",
       "                      A. Fein            1\n",
       "                      A. Geipl           1\n",
       "                      A. Nandzik         1\n",
       "                      A. Odabas          1\n",
       "                                        ..\n",
       "Śląsk Wrocław         P. Celeban         1\n",
       "                      P. Kucharczyk      1\n",
       "                      P. Samiec-Talar    1\n",
       "                      R. Pich            1\n",
       "                      W. Golla           1\n",
       "Name: Name, Length: 12884, dtype: int64"
      ]
     },
     "metadata": {},
     "output_type": "display_data"
    }
   ],
   "source": [
    "display(\n",
    "    df.groupby(['Club']).Name.count(),\n",
    "    '----------------------',\n",
    "    df.groupby(['Club']).Name.value_counts(),\n",
    ")"
   ]
  },
  {
   "cell_type": "code",
   "execution_count": 265,
   "metadata": {},
   "outputs": [
    {
     "data": {
      "text/plain": [
       "Club\n",
       " SSV Jahn Regensburg     49.833333\n",
       "1. FC Heidenheim 1846    52.000000\n",
       "1. FC Kaiserslautern     49.173913\n",
       "1. FC Köln               48.600000\n",
       "1. FC Magdeburg          48.761905\n",
       "                           ...    \n",
       "Zagłębie Sosnowiec       50.080000\n",
       "Çaykur Rizespor          56.045455\n",
       "Örebro SK                48.846154\n",
       "Östersunds FK            53.300000\n",
       "Śląsk Wrocław            51.583333\n",
       "Name: Dribbling, Length: 650, dtype: float64"
      ]
     },
     "execution_count": 265,
     "metadata": {},
     "output_type": "execute_result"
    }
   ],
   "source": [
    "\n",
    "df.groupby(['Club'])['Dribbling'].median() \n",
    "#      '---------------------------------------'\n",
    "df.groupby(['Club']).Dribbling.mean()"
   ]
  },
  {
   "cell_type": "code",
   "execution_count": 96,
   "metadata": {},
   "outputs": [
    {
     "data": {
      "text/plain": [
       "52"
      ]
     },
     "metadata": {},
     "output_type": "display_data"
    },
    {
     "data": {
      "text/plain": [
       "13000.0"
      ]
     },
     "metadata": {},
     "output_type": "display_data"
    },
    {
     "data": {
      "text/plain": [
       "'Cruzeiro'"
      ]
     },
     "metadata": {},
     "output_type": "display_data"
    }
   ],
   "source": [
    "# Посчитайте среднюю (mean) и медианную (median) зарплату (Wage) футболистов \n",
    "# из разных клубов (Club). В скольких клубах средняя и медианная зарплаты совпадают?\n",
    "# Подсказка: чтобы в процессе группировки применить к данным одновременно две агрегирующие функции, \n",
    "# необходимо указать их как аргументы метода agg:\n",
    "#   df.groupby(столбец_для_группировки)[столбцы_для_отображения].agg(['функция_1', 'функция_2'])\n",
    "\n",
    "import pandas as pd\n",
    "\n",
    "\n",
    "df = pd.read_csv('./data_sf.csv')\n",
    "\n",
    "# grouping Club column by  Wage with aggregating functions\n",
    "gdf = df.groupby(['Club']).Wage.agg(['mean', 'median', 'count', 'min', 'max'])\n",
    "\n",
    "# sorting by condition\n",
    "sort_df = gdf[gdf['mean'] == gdf['median']]\n",
    "\n",
    "# counting total records\n",
    "display(len(sort_df))\n",
    "\n",
    "\n",
    "\n",
    "# Продолжаем работать с клубами, в которых средняя зарплата совпадает с медианной. \n",
    "# Каков максимальный размер средней зарплаты в этой группе клубов?\n",
    "\n",
    "display(\n",
    "    sort_df['mean'].max(),\n",
    "    sort_df.loc[sort_df['mean'] == sort_df['mean'].max()].index[0], \n",
    ")\n",
    "\n"
   ]
  },
  {
   "cell_type": "code",
   "execution_count": 169,
   "metadata": {},
   "outputs": [
    {
     "name": "stdout",
     "output_type": "stream",
     "text": [
      "--------------------------------------------------\n"
     ]
    },
    {
     "data": {
      "text/plain": [
       "54000"
      ]
     },
     "metadata": {},
     "output_type": "display_data"
    },
    {
     "data": {
      "text/plain": [
       "54000"
      ]
     },
     "metadata": {},
     "output_type": "display_data"
    },
    {
     "name": "stdout",
     "output_type": "stream",
     "text": [
      "--------------------------------------------------\n"
     ]
    },
    {
     "data": {
      "text/plain": [
       "300000"
      ]
     },
     "metadata": {},
     "output_type": "display_data"
    },
    {
     "name": "stdout",
     "output_type": "stream",
     "text": [
      "--------------------------------------------------\n"
     ]
    },
    {
     "data": {
      "text/plain": [
       "1000"
      ]
     },
     "metadata": {},
     "output_type": "display_data"
    },
    {
     "name": "stdout",
     "output_type": "stream",
     "text": [
      "--------------------------------------------------\n"
     ]
    },
    {
     "data": {
      "text/html": [
       "<div>\n",
       "<style scoped>\n",
       "    .dataframe tbody tr th:only-of-type {\n",
       "        vertical-align: middle;\n",
       "    }\n",
       "\n",
       "    .dataframe tbody tr th {\n",
       "        vertical-align: top;\n",
       "    }\n",
       "\n",
       "    .dataframe thead th {\n",
       "        text-align: right;\n",
       "    }\n",
       "</style>\n",
       "<table border=\"1\" class=\"dataframe\">\n",
       "  <thead>\n",
       "    <tr style=\"text-align: right;\">\n",
       "      <th></th>\n",
       "      <th>Strength</th>\n",
       "      <th>Balance</th>\n",
       "    </tr>\n",
       "  </thead>\n",
       "  <tbody>\n",
       "    <tr>\n",
       "      <th>0</th>\n",
       "      <td>59</td>\n",
       "      <td>95</td>\n",
       "    </tr>\n",
       "  </tbody>\n",
       "</table>\n",
       "</div>"
      ],
      "text/plain": [
       "   Strength  Balance\n",
       "0        59       95"
      ]
     },
     "metadata": {},
     "output_type": "display_data"
    }
   ],
   "source": [
    "# С помощью функции groupby посчитайте сумму зарплат (Wage) \n",
    "# футболистов клуба (Club) \"Chelsea\".\n",
    "import pandas as pd\n",
    "\n",
    "\n",
    "df = pd.read_csv('./data_sf.csv')\n",
    "\n",
    "df[df['Club'] == 'Chelsea']['Wage'].sum()\n",
    "\n",
    "\n",
    "# Определите максимальную зарплату футболиста национальности \n",
    "# (Nationality) Аргентина (\"Argentina\") в возрасте 20 лет.\n",
    "print('-' * 50)\n",
    "# variant 1\n",
    "max_wage = (df[\n",
    "    (df['Nationality'] == \"Argentina\") & (df['Age']  == 20)\n",
    "][['Wage', 'Name', 'Nationality', 'Age']].sort_values('Wage', ascending=False).head(1))\n",
    "display(max_wage.iloc[0].Wage)\n",
    "\n",
    "# variant 2 \n",
    "max_wage = df[\n",
    "    (df['Nationality'] == \"Argentina\") & (df['Age']  == 20)\n",
    "].groupby(['Nationality'])[['Wage']].max()\n",
    "display(max_wage.iloc[0].Wage)\n",
    "\n",
    "\n",
    "# Определите максимальную зарплату футболиста национальности (Nationality) Аргентина (\"Argentina\") в возрасте 30 лет.\n",
    "print('-' * 50)\n",
    "max_wage_in_30 = (df[\n",
    "    (df['Nationality'] == \"Argentina\") & (df['Age']  == 30)\n",
    "]['Wage'].max())\n",
    "display(max_wage_in_30)\n",
    "\n",
    "\n",
    "# Определите минимальную зарплату футболиста национальности (Nationality) Аргентина (\"Argentina\") в возрасте 30 лет.\n",
    "print('-' * 50)\n",
    "max_wage_in_30 = (df[\n",
    "    (df['Nationality'] == \"Argentina\") & (df['Age']  == 30)\n",
    "]['Wage'].min())\n",
    "display(max_wage_in_30)\n",
    "\n",
    "\n",
    "# Определите максимальную силу (Strength) и баланс (Balance) среди игроков \n",
    "# клуба (Club) \"FC Barcelona\" из Аргентины (\"Argentina\"). \n",
    "# Ответ введите через точку с запятой без пробела.\n",
    "print('-' * 50)\n",
    "sdf = df[\n",
    "    (df['Nationality'] == \"Argentina\") & (df['Club']  == 'FC Barcelona')\n",
    "][['Strength', 'Balance']]\n",
    "display(sdf)"
   ]
  },
  {
   "cell_type": "code",
   "execution_count": 172,
   "metadata": {},
   "outputs": [
    {
     "data": {
      "text/html": [
       "<div>\n",
       "<style scoped>\n",
       "    .dataframe tbody tr th:only-of-type {\n",
       "        vertical-align: middle;\n",
       "    }\n",
       "\n",
       "    .dataframe tbody tr th {\n",
       "        vertical-align: top;\n",
       "    }\n",
       "\n",
       "    .dataframe thead tr th {\n",
       "        text-align: left;\n",
       "    }\n",
       "\n",
       "    .dataframe thead tr:last-of-type th {\n",
       "        text-align: right;\n",
       "    }\n",
       "</style>\n",
       "<table border=\"1\" class=\"dataframe\">\n",
       "  <thead>\n",
       "    <tr>\n",
       "      <th></th>\n",
       "      <th colspan=\"4\" halign=\"left\">Wage</th>\n",
       "    </tr>\n",
       "    <tr>\n",
       "      <th>Club</th>\n",
       "      <th>FC Barcelona</th>\n",
       "      <th>Juventus</th>\n",
       "      <th>Manchester United</th>\n",
       "      <th>Real Madrid</th>\n",
       "    </tr>\n",
       "    <tr>\n",
       "      <th>Nationality</th>\n",
       "      <th></th>\n",
       "      <th></th>\n",
       "      <th></th>\n",
       "      <th></th>\n",
       "    </tr>\n",
       "  </thead>\n",
       "  <tbody>\n",
       "    <tr>\n",
       "      <th>Argentina</th>\n",
       "      <td>565000.0</td>\n",
       "      <td>205000.0</td>\n",
       "      <td>206000.0</td>\n",
       "      <td>NaN</td>\n",
       "    </tr>\n",
       "    <tr>\n",
       "      <th>Belgium</th>\n",
       "      <td>110000.0</td>\n",
       "      <td>NaN</td>\n",
       "      <td>230000.0</td>\n",
       "      <td>240000.0</td>\n",
       "    </tr>\n",
       "    <tr>\n",
       "      <th>Bosnia Herzegovina</th>\n",
       "      <td>NaN</td>\n",
       "      <td>180000.0</td>\n",
       "      <td>NaN</td>\n",
       "      <td>NaN</td>\n",
       "    </tr>\n",
       "    <tr>\n",
       "      <th>Brazil</th>\n",
       "      <td>465000.0</td>\n",
       "      <td>335000.0</td>\n",
       "      <td>91000.0</td>\n",
       "      <td>570000.0</td>\n",
       "    </tr>\n",
       "    <tr>\n",
       "      <th>Chile</th>\n",
       "      <td>205000.0</td>\n",
       "      <td>NaN</td>\n",
       "      <td>215000.0</td>\n",
       "      <td>NaN</td>\n",
       "    </tr>\n",
       "    <tr>\n",
       "      <th>Costa Rica</th>\n",
       "      <td>NaN</td>\n",
       "      <td>NaN</td>\n",
       "      <td>NaN</td>\n",
       "      <td>195000.0</td>\n",
       "    </tr>\n",
       "    <tr>\n",
       "      <th>Croatia</th>\n",
       "      <td>260000.0</td>\n",
       "      <td>160000.0</td>\n",
       "      <td>NaN</td>\n",
       "      <td>420000.0</td>\n",
       "    </tr>\n",
       "    <tr>\n",
       "      <th>Dominican Republic</th>\n",
       "      <td>NaN</td>\n",
       "      <td>NaN</td>\n",
       "      <td>NaN</td>\n",
       "      <td>140000.0</td>\n",
       "    </tr>\n",
       "    <tr>\n",
       "      <th>Ecuador</th>\n",
       "      <td>NaN</td>\n",
       "      <td>NaN</td>\n",
       "      <td>120000.0</td>\n",
       "      <td>NaN</td>\n",
       "    </tr>\n",
       "    <tr>\n",
       "      <th>England</th>\n",
       "      <td>NaN</td>\n",
       "      <td>NaN</td>\n",
       "      <td>478000.0</td>\n",
       "      <td>NaN</td>\n",
       "    </tr>\n",
       "    <tr>\n",
       "      <th>France</th>\n",
       "      <td>495000.0</td>\n",
       "      <td>145000.0</td>\n",
       "      <td>375000.0</td>\n",
       "      <td>459000.0</td>\n",
       "    </tr>\n",
       "    <tr>\n",
       "      <th>Germany</th>\n",
       "      <td>240000.0</td>\n",
       "      <td>160000.0</td>\n",
       "      <td>NaN</td>\n",
       "      <td>355000.0</td>\n",
       "    </tr>\n",
       "    <tr>\n",
       "      <th>Italy</th>\n",
       "      <td>NaN</td>\n",
       "      <td>460000.0</td>\n",
       "      <td>88000.0</td>\n",
       "      <td>NaN</td>\n",
       "    </tr>\n",
       "    <tr>\n",
       "      <th>Ivory Coast</th>\n",
       "      <td>NaN</td>\n",
       "      <td>NaN</td>\n",
       "      <td>105000.0</td>\n",
       "      <td>NaN</td>\n",
       "    </tr>\n",
       "    <tr>\n",
       "      <th>Morocco</th>\n",
       "      <td>NaN</td>\n",
       "      <td>160000.0</td>\n",
       "      <td>NaN</td>\n",
       "      <td>NaN</td>\n",
       "    </tr>\n",
       "    <tr>\n",
       "      <th>Netherlands</th>\n",
       "      <td>135000.0</td>\n",
       "      <td>NaN</td>\n",
       "      <td>NaN</td>\n",
       "      <td>NaN</td>\n",
       "    </tr>\n",
       "    <tr>\n",
       "      <th>Poland</th>\n",
       "      <td>NaN</td>\n",
       "      <td>125000.0</td>\n",
       "      <td>NaN</td>\n",
       "      <td>NaN</td>\n",
       "    </tr>\n",
       "    <tr>\n",
       "      <th>Portugal</th>\n",
       "      <td>125000.0</td>\n",
       "      <td>405000.0</td>\n",
       "      <td>NaN</td>\n",
       "      <td>NaN</td>\n",
       "    </tr>\n",
       "    <tr>\n",
       "      <th>Scotland</th>\n",
       "      <td>NaN</td>\n",
       "      <td>NaN</td>\n",
       "      <td>11000.0</td>\n",
       "      <td>NaN</td>\n",
       "    </tr>\n",
       "    <tr>\n",
       "      <th>Serbia</th>\n",
       "      <td>NaN</td>\n",
       "      <td>NaN</td>\n",
       "      <td>165000.0</td>\n",
       "      <td>NaN</td>\n",
       "    </tr>\n",
       "    <tr>\n",
       "      <th>Spain</th>\n",
       "      <td>912000.0</td>\n",
       "      <td>NaN</td>\n",
       "      <td>260000.0</td>\n",
       "      <td>1404000.0</td>\n",
       "    </tr>\n",
       "    <tr>\n",
       "      <th>Uruguay</th>\n",
       "      <td>455000.0</td>\n",
       "      <td>NaN</td>\n",
       "      <td>NaN</td>\n",
       "      <td>NaN</td>\n",
       "    </tr>\n",
       "    <tr>\n",
       "      <th>Wales</th>\n",
       "      <td>NaN</td>\n",
       "      <td>NaN</td>\n",
       "      <td>13000.0</td>\n",
       "      <td>355000.0</td>\n",
       "    </tr>\n",
       "  </tbody>\n",
       "</table>\n",
       "</div>"
      ],
      "text/plain": [
       "                           Wage                                        \n",
       "Club               FC Barcelona  Juventus Manchester United Real Madrid\n",
       "Nationality                                                            \n",
       "Argentina              565000.0  205000.0          206000.0         NaN\n",
       "Belgium                110000.0       NaN          230000.0    240000.0\n",
       "Bosnia Herzegovina          NaN  180000.0               NaN         NaN\n",
       "Brazil                 465000.0  335000.0           91000.0    570000.0\n",
       "Chile                  205000.0       NaN          215000.0         NaN\n",
       "Costa Rica                  NaN       NaN               NaN    195000.0\n",
       "Croatia                260000.0  160000.0               NaN    420000.0\n",
       "Dominican Republic          NaN       NaN               NaN    140000.0\n",
       "Ecuador                     NaN       NaN          120000.0         NaN\n",
       "England                     NaN       NaN          478000.0         NaN\n",
       "France                 495000.0  145000.0          375000.0    459000.0\n",
       "Germany                240000.0  160000.0               NaN    355000.0\n",
       "Italy                       NaN  460000.0           88000.0         NaN\n",
       "Ivory Coast                 NaN       NaN          105000.0         NaN\n",
       "Morocco                     NaN  160000.0               NaN         NaN\n",
       "Netherlands            135000.0       NaN               NaN         NaN\n",
       "Poland                      NaN  125000.0               NaN         NaN\n",
       "Portugal               125000.0  405000.0               NaN         NaN\n",
       "Scotland                    NaN       NaN           11000.0         NaN\n",
       "Serbia                      NaN       NaN          165000.0         NaN\n",
       "Spain                  912000.0       NaN          260000.0   1404000.0\n",
       "Uruguay                455000.0       NaN               NaN         NaN\n",
       "Wales                       NaN       NaN           13000.0    355000.0"
      ]
     },
     "metadata": {},
     "output_type": "display_data"
    },
    {
     "data": {
      "text/html": [
       "<div>\n",
       "<style scoped>\n",
       "    .dataframe tbody tr th:only-of-type {\n",
       "        vertical-align: middle;\n",
       "    }\n",
       "\n",
       "    .dataframe tbody tr th {\n",
       "        vertical-align: top;\n",
       "    }\n",
       "\n",
       "    .dataframe thead tr th {\n",
       "        text-align: left;\n",
       "    }\n",
       "\n",
       "    .dataframe thead tr:last-of-type th {\n",
       "        text-align: right;\n",
       "    }\n",
       "</style>\n",
       "<table border=\"1\" class=\"dataframe\">\n",
       "  <thead>\n",
       "    <tr>\n",
       "      <th></th>\n",
       "      <th colspan=\"5\" halign=\"left\">Wage</th>\n",
       "    </tr>\n",
       "    <tr>\n",
       "      <th>Club</th>\n",
       "      <th>FC Barcelona</th>\n",
       "      <th>Juventus</th>\n",
       "      <th>Manchester United</th>\n",
       "      <th>Real Madrid</th>\n",
       "      <th>All</th>\n",
       "    </tr>\n",
       "    <tr>\n",
       "      <th>Nationality</th>\n",
       "      <th></th>\n",
       "      <th></th>\n",
       "      <th></th>\n",
       "      <th></th>\n",
       "      <th></th>\n",
       "    </tr>\n",
       "  </thead>\n",
       "  <tbody>\n",
       "    <tr>\n",
       "      <th>Argentina</th>\n",
       "      <td>565000.0</td>\n",
       "      <td>205000.0</td>\n",
       "      <td>206000.0</td>\n",
       "      <td>NaN</td>\n",
       "      <td>976000</td>\n",
       "    </tr>\n",
       "    <tr>\n",
       "      <th>Belgium</th>\n",
       "      <td>110000.0</td>\n",
       "      <td>NaN</td>\n",
       "      <td>230000.0</td>\n",
       "      <td>240000.0</td>\n",
       "      <td>580000</td>\n",
       "    </tr>\n",
       "    <tr>\n",
       "      <th>Bosnia Herzegovina</th>\n",
       "      <td>NaN</td>\n",
       "      <td>180000.0</td>\n",
       "      <td>NaN</td>\n",
       "      <td>NaN</td>\n",
       "      <td>180000</td>\n",
       "    </tr>\n",
       "    <tr>\n",
       "      <th>Brazil</th>\n",
       "      <td>465000.0</td>\n",
       "      <td>335000.0</td>\n",
       "      <td>91000.0</td>\n",
       "      <td>570000.0</td>\n",
       "      <td>1461000</td>\n",
       "    </tr>\n",
       "    <tr>\n",
       "      <th>Chile</th>\n",
       "      <td>205000.0</td>\n",
       "      <td>NaN</td>\n",
       "      <td>215000.0</td>\n",
       "      <td>NaN</td>\n",
       "      <td>420000</td>\n",
       "    </tr>\n",
       "    <tr>\n",
       "      <th>Costa Rica</th>\n",
       "      <td>NaN</td>\n",
       "      <td>NaN</td>\n",
       "      <td>NaN</td>\n",
       "      <td>195000.0</td>\n",
       "      <td>195000</td>\n",
       "    </tr>\n",
       "    <tr>\n",
       "      <th>Croatia</th>\n",
       "      <td>260000.0</td>\n",
       "      <td>160000.0</td>\n",
       "      <td>NaN</td>\n",
       "      <td>420000.0</td>\n",
       "      <td>840000</td>\n",
       "    </tr>\n",
       "    <tr>\n",
       "      <th>Dominican Republic</th>\n",
       "      <td>NaN</td>\n",
       "      <td>NaN</td>\n",
       "      <td>NaN</td>\n",
       "      <td>140000.0</td>\n",
       "      <td>140000</td>\n",
       "    </tr>\n",
       "    <tr>\n",
       "      <th>Ecuador</th>\n",
       "      <td>NaN</td>\n",
       "      <td>NaN</td>\n",
       "      <td>120000.0</td>\n",
       "      <td>NaN</td>\n",
       "      <td>120000</td>\n",
       "    </tr>\n",
       "    <tr>\n",
       "      <th>England</th>\n",
       "      <td>NaN</td>\n",
       "      <td>NaN</td>\n",
       "      <td>478000.0</td>\n",
       "      <td>NaN</td>\n",
       "      <td>478000</td>\n",
       "    </tr>\n",
       "    <tr>\n",
       "      <th>France</th>\n",
       "      <td>495000.0</td>\n",
       "      <td>145000.0</td>\n",
       "      <td>375000.0</td>\n",
       "      <td>459000.0</td>\n",
       "      <td>1474000</td>\n",
       "    </tr>\n",
       "    <tr>\n",
       "      <th>Germany</th>\n",
       "      <td>240000.0</td>\n",
       "      <td>160000.0</td>\n",
       "      <td>NaN</td>\n",
       "      <td>355000.0</td>\n",
       "      <td>755000</td>\n",
       "    </tr>\n",
       "    <tr>\n",
       "      <th>Italy</th>\n",
       "      <td>NaN</td>\n",
       "      <td>460000.0</td>\n",
       "      <td>88000.0</td>\n",
       "      <td>NaN</td>\n",
       "      <td>548000</td>\n",
       "    </tr>\n",
       "    <tr>\n",
       "      <th>Ivory Coast</th>\n",
       "      <td>NaN</td>\n",
       "      <td>NaN</td>\n",
       "      <td>105000.0</td>\n",
       "      <td>NaN</td>\n",
       "      <td>105000</td>\n",
       "    </tr>\n",
       "    <tr>\n",
       "      <th>Morocco</th>\n",
       "      <td>NaN</td>\n",
       "      <td>160000.0</td>\n",
       "      <td>NaN</td>\n",
       "      <td>NaN</td>\n",
       "      <td>160000</td>\n",
       "    </tr>\n",
       "    <tr>\n",
       "      <th>Netherlands</th>\n",
       "      <td>135000.0</td>\n",
       "      <td>NaN</td>\n",
       "      <td>NaN</td>\n",
       "      <td>NaN</td>\n",
       "      <td>135000</td>\n",
       "    </tr>\n",
       "    <tr>\n",
       "      <th>Poland</th>\n",
       "      <td>NaN</td>\n",
       "      <td>125000.0</td>\n",
       "      <td>NaN</td>\n",
       "      <td>NaN</td>\n",
       "      <td>125000</td>\n",
       "    </tr>\n",
       "    <tr>\n",
       "      <th>Portugal</th>\n",
       "      <td>125000.0</td>\n",
       "      <td>405000.0</td>\n",
       "      <td>NaN</td>\n",
       "      <td>NaN</td>\n",
       "      <td>530000</td>\n",
       "    </tr>\n",
       "    <tr>\n",
       "      <th>Scotland</th>\n",
       "      <td>NaN</td>\n",
       "      <td>NaN</td>\n",
       "      <td>11000.0</td>\n",
       "      <td>NaN</td>\n",
       "      <td>11000</td>\n",
       "    </tr>\n",
       "    <tr>\n",
       "      <th>Serbia</th>\n",
       "      <td>NaN</td>\n",
       "      <td>NaN</td>\n",
       "      <td>165000.0</td>\n",
       "      <td>NaN</td>\n",
       "      <td>165000</td>\n",
       "    </tr>\n",
       "    <tr>\n",
       "      <th>Spain</th>\n",
       "      <td>912000.0</td>\n",
       "      <td>NaN</td>\n",
       "      <td>260000.0</td>\n",
       "      <td>1404000.0</td>\n",
       "      <td>2576000</td>\n",
       "    </tr>\n",
       "    <tr>\n",
       "      <th>Uruguay</th>\n",
       "      <td>455000.0</td>\n",
       "      <td>NaN</td>\n",
       "      <td>NaN</td>\n",
       "      <td>NaN</td>\n",
       "      <td>455000</td>\n",
       "    </tr>\n",
       "    <tr>\n",
       "      <th>Wales</th>\n",
       "      <td>NaN</td>\n",
       "      <td>NaN</td>\n",
       "      <td>13000.0</td>\n",
       "      <td>355000.0</td>\n",
       "      <td>368000</td>\n",
       "    </tr>\n",
       "    <tr>\n",
       "      <th>All</th>\n",
       "      <td>3967000.0</td>\n",
       "      <td>2335000.0</td>\n",
       "      <td>2357000.0</td>\n",
       "      <td>4138000.0</td>\n",
       "      <td>12797000</td>\n",
       "    </tr>\n",
       "  </tbody>\n",
       "</table>\n",
       "</div>"
      ],
      "text/plain": [
       "                           Wage                                           \\\n",
       "Club               FC Barcelona   Juventus Manchester United Real Madrid   \n",
       "Nationality                                                                \n",
       "Argentina              565000.0   205000.0          206000.0         NaN   \n",
       "Belgium                110000.0        NaN          230000.0    240000.0   \n",
       "Bosnia Herzegovina          NaN   180000.0               NaN         NaN   \n",
       "Brazil                 465000.0   335000.0           91000.0    570000.0   \n",
       "Chile                  205000.0        NaN          215000.0         NaN   \n",
       "Costa Rica                  NaN        NaN               NaN    195000.0   \n",
       "Croatia                260000.0   160000.0               NaN    420000.0   \n",
       "Dominican Republic          NaN        NaN               NaN    140000.0   \n",
       "Ecuador                     NaN        NaN          120000.0         NaN   \n",
       "England                     NaN        NaN          478000.0         NaN   \n",
       "France                 495000.0   145000.0          375000.0    459000.0   \n",
       "Germany                240000.0   160000.0               NaN    355000.0   \n",
       "Italy                       NaN   460000.0           88000.0         NaN   \n",
       "Ivory Coast                 NaN        NaN          105000.0         NaN   \n",
       "Morocco                     NaN   160000.0               NaN         NaN   \n",
       "Netherlands            135000.0        NaN               NaN         NaN   \n",
       "Poland                      NaN   125000.0               NaN         NaN   \n",
       "Portugal               125000.0   405000.0               NaN         NaN   \n",
       "Scotland                    NaN        NaN           11000.0         NaN   \n",
       "Serbia                      NaN        NaN          165000.0         NaN   \n",
       "Spain                  912000.0        NaN          260000.0   1404000.0   \n",
       "Uruguay                455000.0        NaN               NaN         NaN   \n",
       "Wales                       NaN        NaN           13000.0    355000.0   \n",
       "All                   3967000.0  2335000.0         2357000.0   4138000.0   \n",
       "\n",
       "                              \n",
       "Club                     All  \n",
       "Nationality                   \n",
       "Argentina             976000  \n",
       "Belgium               580000  \n",
       "Bosnia Herzegovina    180000  \n",
       "Brazil               1461000  \n",
       "Chile                 420000  \n",
       "Costa Rica            195000  \n",
       "Croatia               840000  \n",
       "Dominican Republic    140000  \n",
       "Ecuador               120000  \n",
       "England               478000  \n",
       "France               1474000  \n",
       "Germany               755000  \n",
       "Italy                 548000  \n",
       "Ivory Coast           105000  \n",
       "Morocco               160000  \n",
       "Netherlands           135000  \n",
       "Poland                125000  \n",
       "Portugal              530000  \n",
       "Scotland               11000  \n",
       "Serbia                165000  \n",
       "Spain                2576000  \n",
       "Uruguay               455000  \n",
       "Wales                 368000  \n",
       "All                 12797000  "
      ]
     },
     "metadata": {},
     "output_type": "display_data"
    }
   ],
   "source": [
    "pivot = df.loc[\n",
    "    df['Club'].isin(['FC Barcelona','Real Madrid','Juventus','Manchester United'])\n",
    "  ].pivot_table(values=['Wage'],\n",
    "                index=['Nationality'],\n",
    "                columns=['Club'],\n",
    "                aggfunc='sum')\n",
    "\n",
    "display(pivot)\n",
    "\n",
    "\n",
    "pivot = df.loc[df['Club'].isin(['FC Barcelona','Real Madrid','Juventus','Manchester United'])].pivot_table(values=['Wage'],\n",
    "index=['Nationality'],\n",
    "columns=['Club'],\n",
    "aggfunc='sum',\n",
    "margins=True)\n",
    "display(pivot)"
   ]
  },
  {
   "cell_type": "code",
   "execution_count": 193,
   "metadata": {},
   "outputs": [
    {
     "data": {
      "text/plain": [
       "125000"
      ]
     },
     "metadata": {},
     "output_type": "display_data"
    },
    {
     "data": {
      "text/plain": [
       "125000"
      ]
     },
     "metadata": {},
     "output_type": "display_data"
    }
   ],
   "source": [
    "# Сводная таблица, показывающая максимальные зарплаты игроков на разных позициях, играющих за разные клубы, \n",
    "# была создана с помощью кода: `df2 = df.pivot_table(columns = 'Position', index = 'Club', values = 'Wage', aggfunc = 'max')`\n",
    "# С помощью какого кода можно получить из этой таблицы информацию о максимальной зарплате вратаря (GK), \n",
    "# играющего за футбольный клуб \"Manchester City\"?\n",
    "\n",
    "df2 = df.pivot_table(\n",
    "    columns = 'Position', \n",
    "    index = 'Club', \n",
    "    values = 'Wage', \n",
    "    aggfunc = 'max', \n",
    "    fill_value=0,\n",
    "    margins=True\n",
    ")\n",
    "\n",
    "display(\n",
    "    df2['GK']['Manchester City'], # my decision\n",
    "    df2.loc['Manchester City']['GK']\n",
    ")\n"
   ]
  },
  {
   "cell_type": "code",
   "execution_count": 209,
   "metadata": {},
   "outputs": [
    {
     "data": {
      "text/plain": [
       "2"
      ]
     },
     "metadata": {},
     "output_type": "display_data"
    },
    {
     "data": {
      "text/plain": [
       "2"
      ]
     },
     "metadata": {},
     "output_type": "display_data"
    },
    {
     "data": {
      "text/html": [
       "<div>\n",
       "<style scoped>\n",
       "    .dataframe tbody tr th:only-of-type {\n",
       "        vertical-align: middle;\n",
       "    }\n",
       "\n",
       "    .dataframe tbody tr th {\n",
       "        vertical-align: top;\n",
       "    }\n",
       "\n",
       "    .dataframe thead tr th {\n",
       "        text-align: left;\n",
       "    }\n",
       "\n",
       "    .dataframe thead tr:last-of-type th {\n",
       "        text-align: right;\n",
       "    }\n",
       "</style>\n",
       "<table border=\"1\" class=\"dataframe\">\n",
       "  <thead>\n",
       "    <tr>\n",
       "      <th></th>\n",
       "      <th colspan=\"4\" halign=\"left\">Name</th>\n",
       "    </tr>\n",
       "    <tr>\n",
       "      <th>Club</th>\n",
       "      <th>FC Barcelona</th>\n",
       "      <th>Juventus</th>\n",
       "      <th>Manchester United</th>\n",
       "      <th>Real Madrid</th>\n",
       "    </tr>\n",
       "    <tr>\n",
       "      <th>Nationality</th>\n",
       "      <th></th>\n",
       "      <th></th>\n",
       "      <th></th>\n",
       "      <th></th>\n",
       "    </tr>\n",
       "  </thead>\n",
       "  <tbody>\n",
       "    <tr>\n",
       "      <th>Spain</th>\n",
       "      <td>9</td>\n",
       "      <td>0</td>\n",
       "      <td>1</td>\n",
       "      <td>11</td>\n",
       "    </tr>\n",
       "    <tr>\n",
       "      <th>France</th>\n",
       "      <td>3</td>\n",
       "      <td>1</td>\n",
       "      <td>2</td>\n",
       "      <td>3</td>\n",
       "    </tr>\n",
       "    <tr>\n",
       "      <th>Brazil</th>\n",
       "      <td>2</td>\n",
       "      <td>2</td>\n",
       "      <td>1</td>\n",
       "      <td>2</td>\n",
       "    </tr>\n",
       "    <tr>\n",
       "      <th>Argentina</th>\n",
       "      <td>1</td>\n",
       "      <td>1</td>\n",
       "      <td>2</td>\n",
       "      <td>0</td>\n",
       "    </tr>\n",
       "    <tr>\n",
       "      <th>Uruguay</th>\n",
       "      <td>1</td>\n",
       "      <td>0</td>\n",
       "      <td>0</td>\n",
       "      <td>0</td>\n",
       "    </tr>\n",
       "    <tr>\n",
       "      <th>Portugal</th>\n",
       "      <td>1</td>\n",
       "      <td>1</td>\n",
       "      <td>0</td>\n",
       "      <td>0</td>\n",
       "    </tr>\n",
       "    <tr>\n",
       "      <th>Netherlands</th>\n",
       "      <td>1</td>\n",
       "      <td>0</td>\n",
       "      <td>0</td>\n",
       "      <td>0</td>\n",
       "    </tr>\n",
       "    <tr>\n",
       "      <th>Belgium</th>\n",
       "      <td>1</td>\n",
       "      <td>0</td>\n",
       "      <td>1</td>\n",
       "      <td>1</td>\n",
       "    </tr>\n",
       "    <tr>\n",
       "      <th>Germany</th>\n",
       "      <td>1</td>\n",
       "      <td>1</td>\n",
       "      <td>0</td>\n",
       "      <td>1</td>\n",
       "    </tr>\n",
       "    <tr>\n",
       "      <th>Croatia</th>\n",
       "      <td>1</td>\n",
       "      <td>1</td>\n",
       "      <td>0</td>\n",
       "      <td>1</td>\n",
       "    </tr>\n",
       "    <tr>\n",
       "      <th>Chile</th>\n",
       "      <td>1</td>\n",
       "      <td>0</td>\n",
       "      <td>1</td>\n",
       "      <td>0</td>\n",
       "    </tr>\n",
       "    <tr>\n",
       "      <th>England</th>\n",
       "      <td>0</td>\n",
       "      <td>0</td>\n",
       "      <td>6</td>\n",
       "      <td>0</td>\n",
       "    </tr>\n",
       "    <tr>\n",
       "      <th>Ecuador</th>\n",
       "      <td>0</td>\n",
       "      <td>0</td>\n",
       "      <td>1</td>\n",
       "      <td>0</td>\n",
       "    </tr>\n",
       "    <tr>\n",
       "      <th>Dominican Republic</th>\n",
       "      <td>0</td>\n",
       "      <td>0</td>\n",
       "      <td>0</td>\n",
       "      <td>1</td>\n",
       "    </tr>\n",
       "    <tr>\n",
       "      <th>Italy</th>\n",
       "      <td>0</td>\n",
       "      <td>4</td>\n",
       "      <td>1</td>\n",
       "      <td>0</td>\n",
       "    </tr>\n",
       "    <tr>\n",
       "      <th>Ivory Coast</th>\n",
       "      <td>0</td>\n",
       "      <td>0</td>\n",
       "      <td>1</td>\n",
       "      <td>0</td>\n",
       "    </tr>\n",
       "    <tr>\n",
       "      <th>Morocco</th>\n",
       "      <td>0</td>\n",
       "      <td>1</td>\n",
       "      <td>0</td>\n",
       "      <td>0</td>\n",
       "    </tr>\n",
       "    <tr>\n",
       "      <th>Poland</th>\n",
       "      <td>0</td>\n",
       "      <td>1</td>\n",
       "      <td>0</td>\n",
       "      <td>0</td>\n",
       "    </tr>\n",
       "    <tr>\n",
       "      <th>Costa Rica</th>\n",
       "      <td>0</td>\n",
       "      <td>0</td>\n",
       "      <td>0</td>\n",
       "      <td>1</td>\n",
       "    </tr>\n",
       "    <tr>\n",
       "      <th>Scotland</th>\n",
       "      <td>0</td>\n",
       "      <td>0</td>\n",
       "      <td>1</td>\n",
       "      <td>0</td>\n",
       "    </tr>\n",
       "    <tr>\n",
       "      <th>Serbia</th>\n",
       "      <td>0</td>\n",
       "      <td>0</td>\n",
       "      <td>1</td>\n",
       "      <td>0</td>\n",
       "    </tr>\n",
       "    <tr>\n",
       "      <th>Bosnia Herzegovina</th>\n",
       "      <td>0</td>\n",
       "      <td>1</td>\n",
       "      <td>0</td>\n",
       "      <td>0</td>\n",
       "    </tr>\n",
       "    <tr>\n",
       "      <th>Wales</th>\n",
       "      <td>0</td>\n",
       "      <td>0</td>\n",
       "      <td>1</td>\n",
       "      <td>1</td>\n",
       "    </tr>\n",
       "  </tbody>\n",
       "</table>\n",
       "</div>"
      ],
      "text/plain": [
       "                           Name                                       \n",
       "Club               FC Barcelona Juventus Manchester United Real Madrid\n",
       "Nationality                                                           \n",
       "Spain                         9        0                 1          11\n",
       "France                        3        1                 2           3\n",
       "Brazil                        2        2                 1           2\n",
       "Argentina                     1        1                 2           0\n",
       "Uruguay                       1        0                 0           0\n",
       "Portugal                      1        1                 0           0\n",
       "Netherlands                   1        0                 0           0\n",
       "Belgium                       1        0                 1           1\n",
       "Germany                       1        1                 0           1\n",
       "Croatia                       1        1                 0           1\n",
       "Chile                         1        0                 1           0\n",
       "England                       0        0                 6           0\n",
       "Ecuador                       0        0                 1           0\n",
       "Dominican Republic            0        0                 0           1\n",
       "Italy                         0        4                 1           0\n",
       "Ivory Coast                   0        0                 1           0\n",
       "Morocco                       0        1                 0           0\n",
       "Poland                        0        1                 0           0\n",
       "Costa Rica                    0        0                 0           1\n",
       "Scotland                      0        0                 1           0\n",
       "Serbia                        0        0                 1           0\n",
       "Bosnia Herzegovina            0        1                 0           0\n",
       "Wales                         0        0                 1           1"
      ]
     },
     "execution_count": 209,
     "metadata": {},
     "output_type": "execute_result"
    }
   ],
   "source": [
    "pivot = df.loc[df['Club'].isin(['FC Barcelona','Real Madrid','Juventus','Manchester United'])].pivot_table(values=['Name'],\n",
    "index=['Nationality'],\n",
    "columns=['Club'],\n",
    "aggfunc='count',\n",
    "fill_value=0)\n",
    "# display(pivot)\n",
    "\n",
    "display(\n",
    "    pivot.loc['Argentina']['Name']['Manchester United'],\n",
    "    pivot['Name']['Manchester United']['Argentina']\n",
    ")\n",
    "pivot.sort_values(by = ('Name', 'FC Barcelona'), ascending = False)\n",
    "\n"
   ]
  },
  {
   "cell_type": "code",
   "execution_count": 233,
   "metadata": {},
   "outputs": [
    {
     "data": {
      "text/plain": [
       "2.525"
      ]
     },
     "metadata": {},
     "output_type": "display_data"
    },
    {
     "data": {
      "text/plain": [
       "136"
      ]
     },
     "metadata": {},
     "output_type": "display_data"
    },
    {
     "data": {
      "text/plain": [
       "136"
      ]
     },
     "metadata": {},
     "output_type": "display_data"
    }
   ],
   "source": [
    "# Создайте сводную таблицу, содержащую сведения о количестве игроков, занимающих разные позиции \n",
    "# в каждом клубе. Отсутствующие значения замените нулями.\n",
    "\n",
    "# Каково среднее количество вратарей (GK) в клубе? \n",
    "# Ответ округлите до трёх цифр после запятой.\n",
    "\n",
    "import pandas as pd\n",
    "\n",
    "\n",
    "df = pd.read_csv('./data_sf.csv')\n",
    "\n",
    "pivot = df.pivot_table(\n",
    "    values=['Name'],\n",
    "    index=['Club'],\n",
    "    columns=['Position'],\n",
    "    aggfunc='count',\n",
    "    fill_value=0\n",
    ")\n",
    "\n",
    "display(round(pivot.Name.GK.mean(), 3))\n",
    "\n",
    "\n",
    "# Используя таблицу, созданную на предыдущем шаге, определите, \n",
    "# сколько клубов не содержат данных о центральных полузащитниках. (CM)\n",
    "\n",
    "# Подсказка: для выполнения этого задания желательно сохранить сводную таблицу \n",
    "# в виде отдельного датафрейма и сгруппировать часть данных этого датафрейма с помощью value_counts().\n",
    "\n",
    "display(\n",
    "    len(pivot[pivot.Name.CM == 0].Name.CM), # my decision\n",
    "    pivot.Name.CM.value_counts()[0] # what need in test task \n",
    ")\n"
   ]
  },
  {
   "cell_type": "code",
   "execution_count": 248,
   "metadata": {},
   "outputs": [
    {
     "data": {
      "text/plain": [
       "61000"
      ]
     },
     "metadata": {},
     "output_type": "display_data"
    },
    {
     "data": {
      "text/plain": [
       "61000"
      ]
     },
     "metadata": {},
     "output_type": "display_data"
    },
    {
     "data": {
      "text/plain": [
       "61000"
      ]
     },
     "metadata": {},
     "output_type": "display_data"
    },
    {
     "data": {
      "text/plain": [
       "61000"
      ]
     },
     "metadata": {},
     "output_type": "display_data"
    }
   ],
   "source": [
    "# С помощью сводной таблицы и функции loc посчитайте, сколько получают (\"Wage\") \n",
    "# русские футболисты (\"Russia\"), играющие за ФК \"AS Monaco\".\n",
    "import pandas as pd\n",
    "\n",
    "\n",
    "df = pd.read_csv('./data_sf.csv')\n",
    "\n",
    "# my decision\n",
    "russia_wage = df[\n",
    "    (df.Nationality == 'Russia') & (df.Club == 'AS Monaco')\n",
    "].Wage.sum() \n",
    "display(russia_wage)\n",
    "\n",
    "\n",
    "# it required \n",
    "pivot = df.pivot_table(\n",
    "    values = ['Wage'],\n",
    "    index = ['Nationality'],\n",
    "    columns = ['Club'],\n",
    "    aggfunc='sum', \n",
    "    fill_value = 0\n",
    ")\n",
    "display(\n",
    "    pivot.loc['Russia']['Wage']['AS Monaco'], \n",
    "    pivot.loc['Russia'].Wage['AS Monaco'], \n",
    "    pivot.Wage['AS Monaco'].Russia\n",
    ")\n"
   ]
  },
  {
   "cell_type": "code",
   "execution_count": 418,
   "metadata": {},
   "outputs": [
    {
     "data": {
      "text/html": [
       "<div>\n",
       "<style scoped>\n",
       "    .dataframe tbody tr th:only-of-type {\n",
       "        vertical-align: middle;\n",
       "    }\n",
       "\n",
       "    .dataframe tbody tr th {\n",
       "        vertical-align: top;\n",
       "    }\n",
       "\n",
       "    .dataframe thead th {\n",
       "        text-align: right;\n",
       "    }\n",
       "</style>\n",
       "<table border=\"1\" class=\"dataframe\">\n",
       "  <thead>\n",
       "    <tr style=\"text-align: right;\">\n",
       "      <th></th>\n",
       "      <th>Position</th>\n",
       "      <th>All</th>\n",
       "    </tr>\n",
       "  </thead>\n",
       "  <tbody>\n",
       "    <tr>\n",
       "      <th>22</th>\n",
       "      <td>RM</td>\n",
       "      <td>74.943864</td>\n",
       "    </tr>\n",
       "    <tr>\n",
       "      <th>12</th>\n",
       "      <td>LM</td>\n",
       "      <td>74.211538</td>\n",
       "    </tr>\n",
       "    <tr>\n",
       "      <th>23</th>\n",
       "      <td>RS</td>\n",
       "      <td>71.991228</td>\n",
       "    </tr>\n",
       "  </tbody>\n",
       "</table>\n",
       "</div>"
      ],
      "text/plain": [
       "   Position        All\n",
       "22       RM  74.943864\n",
       "12       LM  74.211538\n",
       "23       RS  71.991228"
      ]
     },
     "metadata": {},
     "output_type": "display_data"
    }
   ],
   "source": [
    "# Создайте сводную таблицу, содержащую сведения о средней скорости футболистов, \n",
    "# занимающих разные позиции (Position) в разных футбольных клубах (Club).\n",
    "# Основываясь на данных таблицы, отметьте три позиции, представители которых \n",
    "# в среднем обладают самой высокой скоростью.\n",
    "import pandas as pd\n",
    "\n",
    "\n",
    "df = pd.read_csv('./data_sf.csv')\n",
    "\n",
    "pivot = df.pivot_table(\n",
    "    values = ['SprintSpeed'],\n",
    "    index = ['Position'],\n",
    "    columns = ['Club'],\n",
    "    aggfunc='mean', \n",
    "    fill_value = 0,\n",
    "    margins=True\n",
    ")\n",
    "\n",
    "fp = pivot['SprintSpeed']['All'].reset_index().sort_values(by='All', ascending=False)\n",
    "display(\n",
    "    fp.loc[fp.Position.isin(['RB', 'LM', 'RM', 'CF', 'RWM', 'RS'])].head(3),\n",
    ")\n"
   ]
  },
  {
   "cell_type": "code",
   "execution_count": 429,
   "metadata": {},
   "outputs": [
    {
     "data": {
      "text/plain": [
       "             Club     \n",
       "SprintSpeed  Vitória      91.0\n",
       "             Sydney FC    88.0\n",
       "             CD Lugo      87.0\n",
       "Name: ST, dtype: float64"
      ]
     },
     "metadata": {},
     "output_type": "display_data"
    }
   ],
   "source": [
    "# Используя таблицу, созданную на предыдущем шаге, отметьте названия трёх клубов,\n",
    "# в которых центральные форварды (ST) обладают наибольшей средней скоростью.\n",
    "import pandas as pd\n",
    "\n",
    "\n",
    "df = pd.read_csv('./data_sf.csv')\n",
    "\n",
    "pivot = df.pivot_table(\n",
    "    values = ['SprintSpeed'],\n",
    "    index = ['Position'],\n",
    "    columns = ['Club'],\n",
    "    aggfunc='mean', \n",
    "    fill_value = 0,\n",
    "    margins=True\n",
    ")\n",
    "display(pivot.loc['ST'].sort_values(ascending=False).head(3))"
   ]
  }
 ],
 "metadata": {
  "kernelspec": {
   "display_name": "Python 3",
   "language": "python",
   "name": "python3"
  },
  "language_info": {
   "codemirror_mode": {
    "name": "ipython",
    "version": 3
   },
   "file_extension": ".py",
   "mimetype": "text/x-python",
   "name": "python",
   "nbconvert_exporter": "python",
   "pygments_lexer": "ipython3",
   "version": "3.8.3"
  }
 },
 "nbformat": 4,
 "nbformat_minor": 4
}
