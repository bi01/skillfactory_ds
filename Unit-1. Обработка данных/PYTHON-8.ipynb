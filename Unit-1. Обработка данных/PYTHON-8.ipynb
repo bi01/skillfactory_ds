{
 "cells": [
  {
   "cell_type": "markdown",
   "metadata": {},
   "source": [
    "# PYTHON-8. Очистка данных"
   ]
  },
  {
   "cell_type": "markdown",
   "metadata": {},
   "source": [
    "- Сколько раз клиенту нужно прийти в контору, чтобы сделать ставку?\n",
    "- Каков средний выигрыш в процентах?\n",
    "- Каков баланс по каждому пользователю?\n",
    "- Какие города самые выгодные?\n",
    "- В каких городах самая высокая ставка\n",
    "- Сколько времени проходит от первого посещения клиентом сайта до первой ставки?"
   ]
  },
  {
   "cell_type": "code",
   "execution_count": 17,
   "metadata": {},
   "outputs": [],
   "source": [
    "import pandas as pd\n",
    "\n",
    "\n",
    "# Загрузим \"log.csv\" в dataframe log с помощью read_csv.\n",
    "# Не передавайте никаких дополнительных параметров!\n",
    "\n",
    "# В результате переменная log должна содержать загруженный из\n",
    "# файла датафрейм. Напишите код загрузки\n",
    "from IPython.core.display import display\n",
    "\n",
    "log = pd.read_csv('./datasets/python-8/log.csv')\n"
   ]
  },
  {
   "cell_type": "markdown",
   "metadata": {},
   "source": [
    "Предобработка состоит из следующих этапов:\n",
    "\n",
    "- Загрузка.\n",
    "- Очистка.\n",
    "- Обогащение / feature engineering.\n",
    "- Анализ."
   ]
  },
  {
   "cell_type": "code",
   "execution_count": 18,
   "metadata": {},
   "outputs": [
    {
     "data": {
      "text/plain": "                                    0                     1        2        3\n0    Запись пользователя № - user_919  [2019-01-01 14:06:51      NaN      NaN\n1    Запись пользователя № - user_973  [2019-01-01 14:51:16      NaN      NaN\n2    Запись пользователя № - user_903  [2019-01-01 16:31:16      NaN      NaN\n3    Запись пользователя № - user_954  [2019-01-01 17:17:51      NaN      NaN\n4    Запись пользователя № - user_954  [2019-01-01 21:31:18      NaN      NaN\n..                                ...                   ...      ...      ...\n995  Запись пользователя № - user_984   [2019-04-20 9:59:58   9754.0      NaN\n996                            #error                   NaN  10054.0  29265.0\n997                            #error                   NaN  10454.0      NaN\n998                            #error                   NaN   1000.0      NaN\n999                            #error                   NaN  10754.0      NaN\n\n[1000 rows x 4 columns]",
      "text/html": "<div>\n<style scoped>\n    .dataframe tbody tr th:only-of-type {\n        vertical-align: middle;\n    }\n\n    .dataframe tbody tr th {\n        vertical-align: top;\n    }\n\n    .dataframe thead th {\n        text-align: right;\n    }\n</style>\n<table border=\"1\" class=\"dataframe\">\n  <thead>\n    <tr style=\"text-align: right;\">\n      <th></th>\n      <th>0</th>\n      <th>1</th>\n      <th>2</th>\n      <th>3</th>\n    </tr>\n  </thead>\n  <tbody>\n    <tr>\n      <th>0</th>\n      <td>Запись пользователя № - user_919</td>\n      <td>[2019-01-01 14:06:51</td>\n      <td>NaN</td>\n      <td>NaN</td>\n    </tr>\n    <tr>\n      <th>1</th>\n      <td>Запись пользователя № - user_973</td>\n      <td>[2019-01-01 14:51:16</td>\n      <td>NaN</td>\n      <td>NaN</td>\n    </tr>\n    <tr>\n      <th>2</th>\n      <td>Запись пользователя № - user_903</td>\n      <td>[2019-01-01 16:31:16</td>\n      <td>NaN</td>\n      <td>NaN</td>\n    </tr>\n    <tr>\n      <th>3</th>\n      <td>Запись пользователя № - user_954</td>\n      <td>[2019-01-01 17:17:51</td>\n      <td>NaN</td>\n      <td>NaN</td>\n    </tr>\n    <tr>\n      <th>4</th>\n      <td>Запись пользователя № - user_954</td>\n      <td>[2019-01-01 21:31:18</td>\n      <td>NaN</td>\n      <td>NaN</td>\n    </tr>\n    <tr>\n      <th>...</th>\n      <td>...</td>\n      <td>...</td>\n      <td>...</td>\n      <td>...</td>\n    </tr>\n    <tr>\n      <th>995</th>\n      <td>Запись пользователя № - user_984</td>\n      <td>[2019-04-20 9:59:58</td>\n      <td>9754.0</td>\n      <td>NaN</td>\n    </tr>\n    <tr>\n      <th>996</th>\n      <td>#error</td>\n      <td>NaN</td>\n      <td>10054.0</td>\n      <td>29265.0</td>\n    </tr>\n    <tr>\n      <th>997</th>\n      <td>#error</td>\n      <td>NaN</td>\n      <td>10454.0</td>\n      <td>NaN</td>\n    </tr>\n    <tr>\n      <th>998</th>\n      <td>#error</td>\n      <td>NaN</td>\n      <td>1000.0</td>\n      <td>NaN</td>\n    </tr>\n    <tr>\n      <th>999</th>\n      <td>#error</td>\n      <td>NaN</td>\n      <td>10754.0</td>\n      <td>NaN</td>\n    </tr>\n  </tbody>\n</table>\n<p>1000 rows × 4 columns</p>\n</div>"
     },
     "execution_count": 18,
     "metadata": {},
     "output_type": "execute_result"
    }
   ],
   "source": [
    "import pandas as pd\n",
    "\n",
    "log = pd.read_csv('./datasets/python-8/log.csv', header = None)\n",
    "log"
   ]
  },
  {
   "cell_type": "code",
   "execution_count": 19,
   "metadata": {},
   "outputs": [
    {
     "data": {
      "text/plain": "            name         city  age profession\n0         Иванов       Москва   25     Клинер\n1            NaN    Волгоград   31   Менеджер\n2         Иванов       Москва   25     Клинер\n3        sidorov  Владивосток   43   Менеджер\n4        _______        Курск   50   Водитель\n5       Кузнецов         Сочи   19    Рабочий\n6          Сажин       Сургут   29    Рабочий\n7   Котлеревский   Йошкар-Ола   32    Рабочий\n8     Завалишина    Чебоксары   36   Менеджер\n9         Левина          NaN   55    Рабочий\n10          Фикс         Рига   42    Рабочий",
      "text/html": "<div>\n<style scoped>\n    .dataframe tbody tr th:only-of-type {\n        vertical-align: middle;\n    }\n\n    .dataframe tbody tr th {\n        vertical-align: top;\n    }\n\n    .dataframe thead th {\n        text-align: right;\n    }\n</style>\n<table border=\"1\" class=\"dataframe\">\n  <thead>\n    <tr style=\"text-align: right;\">\n      <th></th>\n      <th>name</th>\n      <th>city</th>\n      <th>age</th>\n      <th>profession</th>\n    </tr>\n  </thead>\n  <tbody>\n    <tr>\n      <th>0</th>\n      <td>Иванов</td>\n      <td>Москва</td>\n      <td>25</td>\n      <td>Клинер</td>\n    </tr>\n    <tr>\n      <th>1</th>\n      <td>NaN</td>\n      <td>Волгоград</td>\n      <td>31</td>\n      <td>Менеджер</td>\n    </tr>\n    <tr>\n      <th>2</th>\n      <td>Иванов</td>\n      <td>Москва</td>\n      <td>25</td>\n      <td>Клинер</td>\n    </tr>\n    <tr>\n      <th>3</th>\n      <td>sidorov</td>\n      <td>Владивосток</td>\n      <td>43</td>\n      <td>Менеджер</td>\n    </tr>\n    <tr>\n      <th>4</th>\n      <td>_______</td>\n      <td>Курск</td>\n      <td>50</td>\n      <td>Водитель</td>\n    </tr>\n    <tr>\n      <th>5</th>\n      <td>Кузнецов</td>\n      <td>Сочи</td>\n      <td>19</td>\n      <td>Рабочий</td>\n    </tr>\n    <tr>\n      <th>6</th>\n      <td>Сажин</td>\n      <td>Сургут</td>\n      <td>29</td>\n      <td>Рабочий</td>\n    </tr>\n    <tr>\n      <th>7</th>\n      <td>Котлеревский</td>\n      <td>Йошкар-Ола</td>\n      <td>32</td>\n      <td>Рабочий</td>\n    </tr>\n    <tr>\n      <th>8</th>\n      <td>Завалишина</td>\n      <td>Чебоксары</td>\n      <td>36</td>\n      <td>Менеджер</td>\n    </tr>\n    <tr>\n      <th>9</th>\n      <td>Левина</td>\n      <td>NaN</td>\n      <td>55</td>\n      <td>Рабочий</td>\n    </tr>\n    <tr>\n      <th>10</th>\n      <td>Фикс</td>\n      <td>Рига</td>\n      <td>42</td>\n      <td>Рабочий</td>\n    </tr>\n  </tbody>\n</table>\n</div>"
     },
     "metadata": {},
     "output_type": "display_data"
    },
    {
     "data": {
      "text/plain": "            name         city  age profession\n0         Иванов       Москва   25     Клинер\n1            NaN    Волгоград   31   Менеджер\n2         Иванов       Москва   25     Клинер\n3        sidorov  Владивосток   43   Менеджер\n4        _______        Курск   50   Водитель\n5       Кузнецов         Сочи   19    Рабочий\n6          Сажин       Сургут   29    Рабочий\n7   Котлеревский   Йошкар-Ола   32    Рабочий\n8     Завалишина    Чебоксары   36   Менеджер\n9         Левина          NaN   55    Рабочий\n10          Фикс         Рига   42    Рабочий",
      "text/html": "<div>\n<style scoped>\n    .dataframe tbody tr th:only-of-type {\n        vertical-align: middle;\n    }\n\n    .dataframe tbody tr th {\n        vertical-align: top;\n    }\n\n    .dataframe thead th {\n        text-align: right;\n    }\n</style>\n<table border=\"1\" class=\"dataframe\">\n  <thead>\n    <tr style=\"text-align: right;\">\n      <th></th>\n      <th>name</th>\n      <th>city</th>\n      <th>age</th>\n      <th>profession</th>\n    </tr>\n  </thead>\n  <tbody>\n    <tr>\n      <th>0</th>\n      <td>Иванов</td>\n      <td>Москва</td>\n      <td>25</td>\n      <td>Клинер</td>\n    </tr>\n    <tr>\n      <th>1</th>\n      <td>NaN</td>\n      <td>Волгоград</td>\n      <td>31</td>\n      <td>Менеджер</td>\n    </tr>\n    <tr>\n      <th>2</th>\n      <td>Иванов</td>\n      <td>Москва</td>\n      <td>25</td>\n      <td>Клинер</td>\n    </tr>\n    <tr>\n      <th>3</th>\n      <td>sidorov</td>\n      <td>Владивосток</td>\n      <td>43</td>\n      <td>Менеджер</td>\n    </tr>\n    <tr>\n      <th>4</th>\n      <td>_______</td>\n      <td>Курск</td>\n      <td>50</td>\n      <td>Водитель</td>\n    </tr>\n    <tr>\n      <th>5</th>\n      <td>Кузнецов</td>\n      <td>Сочи</td>\n      <td>19</td>\n      <td>Рабочий</td>\n    </tr>\n    <tr>\n      <th>6</th>\n      <td>Сажин</td>\n      <td>Сургут</td>\n      <td>29</td>\n      <td>Рабочий</td>\n    </tr>\n    <tr>\n      <th>7</th>\n      <td>Котлеревский</td>\n      <td>Йошкар-Ола</td>\n      <td>32</td>\n      <td>Рабочий</td>\n    </tr>\n    <tr>\n      <th>8</th>\n      <td>Завалишина</td>\n      <td>Чебоксары</td>\n      <td>36</td>\n      <td>Менеджер</td>\n    </tr>\n    <tr>\n      <th>9</th>\n      <td>Левина</td>\n      <td>NaN</td>\n      <td>55</td>\n      <td>Рабочий</td>\n    </tr>\n    <tr>\n      <th>10</th>\n      <td>Фикс</td>\n      <td>Рига</td>\n      <td>42</td>\n      <td>Рабочий</td>\n    </tr>\n  </tbody>\n</table>\n</div>"
     },
     "metadata": {},
     "output_type": "display_data"
    }
   ],
   "source": [
    "sample = pd.read_csv('./datasets/python-8/sample.csv')\n",
    "columns = sample.columns\n",
    "\n",
    "sample.columns = [s.lower() for s in columns]\n",
    "display(sample)\n",
    "\n",
    "sample = pd.read_csv('./datasets/python-8/sample.csv')\n",
    "sample.columns = map(lambda x: str(x).lower(), sample.columns)\n",
    "display(sample)\n",
    "\n"
   ]
  },
  {
   "cell_type": "code",
   "execution_count": 20,
   "metadata": {},
   "outputs": [
    {
     "data": {
      "text/plain": "                              user_id                  time      bet      win\n0    Запись пользователя № - user_919  [2019-01-01 14:06:51      NaN      NaN\n1    Запись пользователя № - user_973  [2019-01-01 14:51:16      NaN      NaN\n2    Запись пользователя № - user_903  [2019-01-01 16:31:16      NaN      NaN\n3    Запись пользователя № - user_954  [2019-01-01 17:17:51      NaN      NaN\n4    Запись пользователя № - user_954  [2019-01-01 21:31:18      NaN      NaN\n..                                ...                   ...      ...      ...\n995  Запись пользователя № - user_984   [2019-04-20 9:59:58   9754.0      NaN\n996                            #error                   NaN  10054.0  29265.0\n997                            #error                   NaN  10454.0      NaN\n998                            #error                   NaN   1000.0      NaN\n999                            #error                   NaN  10754.0      NaN\n\n[1000 rows x 4 columns]",
      "text/html": "<div>\n<style scoped>\n    .dataframe tbody tr th:only-of-type {\n        vertical-align: middle;\n    }\n\n    .dataframe tbody tr th {\n        vertical-align: top;\n    }\n\n    .dataframe thead th {\n        text-align: right;\n    }\n</style>\n<table border=\"1\" class=\"dataframe\">\n  <thead>\n    <tr style=\"text-align: right;\">\n      <th></th>\n      <th>user_id</th>\n      <th>time</th>\n      <th>bet</th>\n      <th>win</th>\n    </tr>\n  </thead>\n  <tbody>\n    <tr>\n      <th>0</th>\n      <td>Запись пользователя № - user_919</td>\n      <td>[2019-01-01 14:06:51</td>\n      <td>NaN</td>\n      <td>NaN</td>\n    </tr>\n    <tr>\n      <th>1</th>\n      <td>Запись пользователя № - user_973</td>\n      <td>[2019-01-01 14:51:16</td>\n      <td>NaN</td>\n      <td>NaN</td>\n    </tr>\n    <tr>\n      <th>2</th>\n      <td>Запись пользователя № - user_903</td>\n      <td>[2019-01-01 16:31:16</td>\n      <td>NaN</td>\n      <td>NaN</td>\n    </tr>\n    <tr>\n      <th>3</th>\n      <td>Запись пользователя № - user_954</td>\n      <td>[2019-01-01 17:17:51</td>\n      <td>NaN</td>\n      <td>NaN</td>\n    </tr>\n    <tr>\n      <th>4</th>\n      <td>Запись пользователя № - user_954</td>\n      <td>[2019-01-01 21:31:18</td>\n      <td>NaN</td>\n      <td>NaN</td>\n    </tr>\n    <tr>\n      <th>...</th>\n      <td>...</td>\n      <td>...</td>\n      <td>...</td>\n      <td>...</td>\n    </tr>\n    <tr>\n      <th>995</th>\n      <td>Запись пользователя № - user_984</td>\n      <td>[2019-04-20 9:59:58</td>\n      <td>9754.0</td>\n      <td>NaN</td>\n    </tr>\n    <tr>\n      <th>996</th>\n      <td>#error</td>\n      <td>NaN</td>\n      <td>10054.0</td>\n      <td>29265.0</td>\n    </tr>\n    <tr>\n      <th>997</th>\n      <td>#error</td>\n      <td>NaN</td>\n      <td>10454.0</td>\n      <td>NaN</td>\n    </tr>\n    <tr>\n      <th>998</th>\n      <td>#error</td>\n      <td>NaN</td>\n      <td>1000.0</td>\n      <td>NaN</td>\n    </tr>\n    <tr>\n      <th>999</th>\n      <td>#error</td>\n      <td>NaN</td>\n      <td>10754.0</td>\n      <td>NaN</td>\n    </tr>\n  </tbody>\n</table>\n<p>1000 rows × 4 columns</p>\n</div>"
     },
     "execution_count": 20,
     "metadata": {},
     "output_type": "execute_result"
    }
   ],
   "source": [
    "log = pd.read_csv(\"./datasets/python-8/log.csv\", header=None)\n",
    "log.columns = ['user_id', 'time', 'bet', 'win']\n",
    "log"
   ]
  },
  {
   "cell_type": "code",
   "execution_count": 21,
   "metadata": {},
   "outputs": [
    {
     "data": {
      "text/plain": "     user_id                     email          geo\n0   User_943       Accumanst@gmail.com       Ижевск\n1   User_908         Advismowr@mail.ru       Ижевск\n2   User_962           Anachso@ukr.net    Краснодар\n3   User_973          Antecia@inbox.ru        Пермь\n4   User_902        Balliaryva@ukr.net          NaN\n..       ...                       ...          ...\n95  User_959  UpdatesCurious@yahoo.com       Тюмень\n96  User_901        V2artierso@mail.ru  Арзангелтск\n97  User_970          Vashoterlo@bk.ru      Воронеж\n98  User_965       Visuareda@yahoo.com      Воронеж\n99  User_921              Aavast@ya.ru       Ижевск\n\n[100 rows x 3 columns]",
      "text/html": "<div>\n<style scoped>\n    .dataframe tbody tr th:only-of-type {\n        vertical-align: middle;\n    }\n\n    .dataframe tbody tr th {\n        vertical-align: top;\n    }\n\n    .dataframe thead th {\n        text-align: right;\n    }\n</style>\n<table border=\"1\" class=\"dataframe\">\n  <thead>\n    <tr style=\"text-align: right;\">\n      <th></th>\n      <th>user_id</th>\n      <th>email</th>\n      <th>geo</th>\n    </tr>\n  </thead>\n  <tbody>\n    <tr>\n      <th>0</th>\n      <td>User_943</td>\n      <td>Accumanst@gmail.com</td>\n      <td>Ижевск</td>\n    </tr>\n    <tr>\n      <th>1</th>\n      <td>User_908</td>\n      <td>Advismowr@mail.ru</td>\n      <td>Ижевск</td>\n    </tr>\n    <tr>\n      <th>2</th>\n      <td>User_962</td>\n      <td>Anachso@ukr.net</td>\n      <td>Краснодар</td>\n    </tr>\n    <tr>\n      <th>3</th>\n      <td>User_973</td>\n      <td>Antecia@inbox.ru</td>\n      <td>Пермь</td>\n    </tr>\n    <tr>\n      <th>4</th>\n      <td>User_902</td>\n      <td>Balliaryva@ukr.net</td>\n      <td>NaN</td>\n    </tr>\n    <tr>\n      <th>...</th>\n      <td>...</td>\n      <td>...</td>\n      <td>...</td>\n    </tr>\n    <tr>\n      <th>95</th>\n      <td>User_959</td>\n      <td>UpdatesCurious@yahoo.com</td>\n      <td>Тюмень</td>\n    </tr>\n    <tr>\n      <th>96</th>\n      <td>User_901</td>\n      <td>V2artierso@mail.ru</td>\n      <td>Арзангелтск</td>\n    </tr>\n    <tr>\n      <th>97</th>\n      <td>User_970</td>\n      <td>Vashoterlo@bk.ru</td>\n      <td>Воронеж</td>\n    </tr>\n    <tr>\n      <th>98</th>\n      <td>User_965</td>\n      <td>Visuareda@yahoo.com</td>\n      <td>Воронеж</td>\n    </tr>\n    <tr>\n      <th>99</th>\n      <td>User_921</td>\n      <td>Aavast@ya.ru</td>\n      <td>Ижевск</td>\n    </tr>\n  </tbody>\n</table>\n<p>100 rows × 3 columns</p>\n</div>"
     },
     "execution_count": 21,
     "metadata": {},
     "output_type": "execute_result"
    }
   ],
   "source": [
    "import pandas as pd\n",
    "\n",
    "\n",
    "users = pd.read_csv('./datasets/python-8/users.csv', encoding='koi8_r', sep='\\t')\n",
    "users.columns = ['user_id', 'email', 'geo']\n",
    "users"
   ]
  },
  {
   "cell_type": "code",
   "execution_count": 22,
   "metadata": {},
   "outputs": [
    {
     "name": "stdout",
     "output_type": "stream",
     "text": [
      "<class 'pandas.core.frame.DataFrame'>\n",
      "RangeIndex: 100 entries, 0 to 99\n",
      "Data columns (total 3 columns):\n",
      " #   Column   Non-Null Count  Dtype \n",
      "---  ------   --------------  ----- \n",
      " 0   user_id  100 non-null    object\n",
      " 1   email    99 non-null     object\n",
      " 2   geo      97 non-null     object\n",
      "dtypes: object(3)\n",
      "memory usage: 2.5+ KB\n",
      "<class 'pandas.core.frame.DataFrame'>\n",
      "RangeIndex: 1000 entries, 0 to 999\n",
      "Data columns (total 4 columns):\n",
      " #   Column   Non-Null Count  Dtype  \n",
      "---  ------   --------------  -----  \n",
      " 0   user_id  1000 non-null   object \n",
      " 1   time     985 non-null    object \n",
      " 2   bet      485 non-null    float64\n",
      " 3   win      138 non-null    float64\n",
      "dtypes: float64(2), object(2)\n",
      "memory usage: 31.4+ KB\n",
      "<class 'pandas.core.frame.DataFrame'>\n",
      "RangeIndex: 11 entries, 0 to 10\n",
      "Data columns (total 4 columns):\n",
      " #   Column      Non-Null Count  Dtype \n",
      "---  ------      --------------  ----- \n",
      " 0   name        10 non-null     object\n",
      " 1   city        10 non-null     object\n",
      " 2   age         11 non-null     int64 \n",
      " 3   profession  11 non-null     object\n",
      "dtypes: int64(1), object(3)\n",
      "memory usage: 480.0+ bytes\n"
     ]
    },
    {
     "data": {
      "text/plain": "    user_id                email     geo\n0  User_943  Accumanst@gmail.com  Ижевск\n1  User_908    Advismowr@mail.ru  Ижевск",
      "text/html": "<div>\n<style scoped>\n    .dataframe tbody tr th:only-of-type {\n        vertical-align: middle;\n    }\n\n    .dataframe tbody tr th {\n        vertical-align: top;\n    }\n\n    .dataframe thead th {\n        text-align: right;\n    }\n</style>\n<table border=\"1\" class=\"dataframe\">\n  <thead>\n    <tr style=\"text-align: right;\">\n      <th></th>\n      <th>user_id</th>\n      <th>email</th>\n      <th>geo</th>\n    </tr>\n  </thead>\n  <tbody>\n    <tr>\n      <th>0</th>\n      <td>User_943</td>\n      <td>Accumanst@gmail.com</td>\n      <td>Ижевск</td>\n    </tr>\n    <tr>\n      <th>1</th>\n      <td>User_908</td>\n      <td>Advismowr@mail.ru</td>\n      <td>Ижевск</td>\n    </tr>\n  </tbody>\n</table>\n</div>"
     },
     "metadata": {},
     "output_type": "display_data"
    },
    {
     "data": {
      "text/plain": "                            user_id                  time  bet  win\n0  Запись пользователя № - user_919  [2019-01-01 14:06:51  NaN  NaN\n1  Запись пользователя № - user_973  [2019-01-01 14:51:16  NaN  NaN",
      "text/html": "<div>\n<style scoped>\n    .dataframe tbody tr th:only-of-type {\n        vertical-align: middle;\n    }\n\n    .dataframe tbody tr th {\n        vertical-align: top;\n    }\n\n    .dataframe thead th {\n        text-align: right;\n    }\n</style>\n<table border=\"1\" class=\"dataframe\">\n  <thead>\n    <tr style=\"text-align: right;\">\n      <th></th>\n      <th>user_id</th>\n      <th>time</th>\n      <th>bet</th>\n      <th>win</th>\n    </tr>\n  </thead>\n  <tbody>\n    <tr>\n      <th>0</th>\n      <td>Запись пользователя № - user_919</td>\n      <td>[2019-01-01 14:06:51</td>\n      <td>NaN</td>\n      <td>NaN</td>\n    </tr>\n    <tr>\n      <th>1</th>\n      <td>Запись пользователя № - user_973</td>\n      <td>[2019-01-01 14:51:16</td>\n      <td>NaN</td>\n      <td>NaN</td>\n    </tr>\n  </tbody>\n</table>\n</div>"
     },
     "metadata": {},
     "output_type": "display_data"
    },
    {
     "data": {
      "text/plain": "array(['User_943', 'User_908', 'User_962', 'User_973', 'User_902',\n       'User_976', 'User_955', 'User_992', 'User_978', 'User_939',\n       'User_974', 'User_983', 'User_932', 'User_903', 'User_954',\n       'User_918', 'User_906', 'User_941', 'User_917', 'User_947',\n       'User_919', 'User_1000', 'User_998', 'User_949', 'User_946',\n       'User_938', 'User_934', 'User_916', 'User_989', 'User_935',\n       'User_966', 'User_928', 'User_985', 'User_960', 'User_950',\n       'User_910', 'User_977', 'User_961', 'User_967', 'User_972',\n       'User_957', 'User_993', 'User_991', 'User_911', 'User_931',\n       'User_980', 'User_952', 'User_990', 'User_912', 'User_913',\n       'User_984', 'User_969', 'User_904', 'User_953', 'User_995',\n       'User_951', 'User_900', 'User_930', 'User_922', 'User_926',\n       'User_982', 'User_942', 'User_958', 'User_975', 'User_933',\n       'User_987', 'User_920', 'User_964', 'User_937', 'User_927',\n       'User_936', 'User_905', 'User_986', 'User_915', 'User_997',\n       'User_971', 'User_909', 'User_963', 'User_948', 'User_914',\n       'User_968', 'User_944', 'User_924', 'User_925', 'User_940',\n       'User_988', 'User_999', 'User_981', 'User_923', 'User_945',\n       'User_979', 'User_994', 'User_929', 'User_907', 'User_996',\n       'User_959', 'User_901', 'User_970', 'User_965', 'User_921'],\n      dtype=object)"
     },
     "metadata": {},
     "output_type": "display_data"
    },
    {
     "data": {
      "text/plain": "array(['Запись пользователя № - user_919',\n       'Запись пользователя № - user_973',\n       'Запись пользователя № - user_903',\n       'Запись пользователя № - user_954',\n       'Запись пользователя № - user_917',\n       'Запись пользователя № - user_900',\n       'Запись пользователя № - user_980',\n       'Запись пользователя № - user_906',\n       'Запись пользователя № - user_952',\n       'Запись пользователя № - user_972',\n       'Запись пользователя № - user_966',\n       'Запись пользователя № - user_964',\n       'Запись пользователя № - user_978',\n       'Запись пользователя № - user_968',\n       'Запись пользователя № - user_974',\n       'Запись пользователя № - user_998',\n       'Запись пользователя № - user_990',\n       'Запись пользователя № - user_942',\n       'Запись пользователя № - user_929',\n       'Запись пользователя № - user_976',\n       'Запись пользователя № - user_927',\n       'Запись пользователя № - user_951',\n       'Запись пользователя № - user_949',\n       'Запись пользователя № - user_987',\n       'Запись пользователя № - user_985',\n       'Запись пользователя № - user_992',\n       'Запись пользователя № - user_937',\n       'Запись пользователя № - user_913',\n       'Запись пользователя № - user_948',\n       'Запись пользователя № - user_916',\n       'Запись пользователя № - user_938',\n       'Запись пользователя № - user_997',\n       'Запись пользователя № - user_940',\n       'Запись пользователя № - user_918',\n       'Запись пользователя № - user_960',\n       'Запись пользователя № - user_905',\n       'Запись пользователя № - user_924',\n       'Запись пользователя № - user_958',\n       'Запись пользователя № - user_920',\n       'Запись пользователя № - user_943',\n       'Запись пользователя № - user_935',\n       'Запись пользователя № - user_915',\n       'Запись пользователя № - user_921',\n       'Запись пользователя № - user_999',\n       'Запись пользователя № - user_982',\n       'Запись пользователя № - user_928',\n       'Запись пользователя № - user_944',\n       'Запись пользователя № - user_912',\n       'Запись пользователя № - user_969',\n       'Запись пользователя № - user_901',\n       'Запись пользователя № - user_995',\n       'Запись пользователя № - user_933',\n       'Запись пользователя № - user_986',\n       'Запись пользователя № - user_971',\n       'Запись пользователя № - user_977',\n       'Запись пользователя № - user_979',\n       'Запись пользователя № - user_910',\n       'Запись пользователя № - user_994',\n       'Запись пользователя № - user_907',\n       'Запись пользователя № - user_941',\n       'Запись пользователя № - user_989',\n       'Запись пользователя № - user_955',\n       'Запись пользователя № - user_991',\n       'Запись пользователя № - user_996',\n       'Запись пользователя № - user_926',\n       'Запись пользователя № - user_984',\n       'Запись пользователя № - user_957',\n       'Запись пользователя № - user_914',\n       'Запись пользователя № - user_988',\n       'Запись пользователя № - user_923',\n       'Запись пользователя № - user_967',\n       'Запись пользователя № - user_945',\n       'Запись пользователя № - user_993',\n       'Запись пользователя № - user_908',\n       'Запись пользователя № - user_930',\n       'Запись пользователя № - user_981',\n       'Запись пользователя № - user_936',\n       'Запись пользователя № - user_922',\n       'Запись пользователя № - user_962',\n       'Запись пользователя № - user_965',\n       'Запись пользователя № - user_959',\n       'Запись пользователя № - user_963',\n       'Запись пользователя № - user_904',\n       'Запись пользователя № - user_931',\n       'Запись пользователя № - user_1000',\n       'Запись пользователя № - user_946',\n       'Запись пользователя № - user_970',\n       'Запись пользователя № - user_939',\n       'Запись пользователя № - user_961',\n       'Запись пользователя № - user_911',\n       'Запись пользователя № - user_950',\n       'Запись пользователя № - user_956',\n       'Запись пользователя № - user_909',\n       'Запись пользователя № - user_983',\n       'Запись пользователя № - user_902',\n       'Запись пользователя № - user_947',\n       'Запись пользователя № - user_975',\n       'Запись пользователя № - user_953',\n       'Запись пользователя № - user_925',\n       'Запись пользователя № - user_934',\n       'Запись пользователя № - user_932', '#error'], dtype=object)"
     },
     "metadata": {},
     "output_type": "display_data"
    }
   ],
   "source": [
    "users.info()\n",
    "log.info()\n",
    "sample.info()\n",
    "\n",
    "display(\n",
    "    users.head(2),\n",
    "    log.head(2),\n",
    "    users.user_id.unique(), log.user_id.unique(),\n",
    ")\n",
    "\n",
    "\n",
    "\n",
    "\n"
   ]
  },
  {
   "cell_type": "code",
   "execution_count": 23,
   "metadata": {},
   "outputs": [
    {
     "data": {
      "text/plain": "array(['Иванов', nan, 'sidorov', '_______', 'Кузнецов', 'Сажин',\n       'Котлеревский', 'Завалишина', 'Левина', 'Фикс'], dtype=object)"
     },
     "execution_count": 23,
     "metadata": {},
     "output_type": "execute_result"
    }
   ],
   "source": [
    "sample.name.unique()"
   ]
  },
  {
   "cell_type": "code",
   "execution_count": 24,
   "metadata": {},
   "outputs": [
    {
     "name": "stdout",
     "output_type": "stream",
     "text": [
      "<class 'pandas.core.frame.DataFrame'>\n",
      "RangeIndex: 11 entries, 0 to 10\n",
      "Data columns (total 4 columns):\n",
      " #   Column      Non-Null Count  Dtype \n",
      "---  ------      --------------  ----- \n",
      " 0   name        10 non-null     object\n",
      " 1   city        10 non-null     object\n",
      " 2   age         11 non-null     int64 \n",
      " 3   profession  11 non-null     object\n",
      "dtypes: int64(1), object(3)\n",
      "memory usage: 480.0+ bytes\n"
     ]
    },
    {
     "data": {
      "text/plain": "10"
     },
     "execution_count": 24,
     "metadata": {},
     "output_type": "execute_result"
    }
   ],
   "source": [
    "sample.info()\n",
    "len(sample.city.unique())"
   ]
  },
  {
   "cell_type": "code",
   "execution_count": 25,
   "metadata": {},
   "outputs": [
    {
     "data": {
      "text/plain": "array(['Запись пользователя № - user_919',\n       'Запись пользователя № - user_973',\n       'Запись пользователя № - user_903',\n       'Запись пользователя № - user_954',\n       'Запись пользователя № - user_917',\n       'Запись пользователя № - user_900',\n       'Запись пользователя № - user_980',\n       'Запись пользователя № - user_906',\n       'Запись пользователя № - user_952',\n       'Запись пользователя № - user_972',\n       'Запись пользователя № - user_966',\n       'Запись пользователя № - user_964',\n       'Запись пользователя № - user_978',\n       'Запись пользователя № - user_968',\n       'Запись пользователя № - user_974',\n       'Запись пользователя № - user_998',\n       'Запись пользователя № - user_990',\n       'Запись пользователя № - user_942',\n       'Запись пользователя № - user_929',\n       'Запись пользователя № - user_976',\n       'Запись пользователя № - user_927',\n       'Запись пользователя № - user_951',\n       'Запись пользователя № - user_949',\n       'Запись пользователя № - user_987',\n       'Запись пользователя № - user_985',\n       'Запись пользователя № - user_992',\n       'Запись пользователя № - user_937',\n       'Запись пользователя № - user_913',\n       'Запись пользователя № - user_948',\n       'Запись пользователя № - user_916',\n       'Запись пользователя № - user_938',\n       'Запись пользователя № - user_997',\n       'Запись пользователя № - user_940',\n       'Запись пользователя № - user_918',\n       'Запись пользователя № - user_960',\n       'Запись пользователя № - user_905',\n       'Запись пользователя № - user_924',\n       'Запись пользователя № - user_958',\n       'Запись пользователя № - user_920',\n       'Запись пользователя № - user_943',\n       'Запись пользователя № - user_935',\n       'Запись пользователя № - user_915',\n       'Запись пользователя № - user_921',\n       'Запись пользователя № - user_999',\n       'Запись пользователя № - user_982',\n       'Запись пользователя № - user_928',\n       'Запись пользователя № - user_944',\n       'Запись пользователя № - user_912',\n       'Запись пользователя № - user_969',\n       'Запись пользователя № - user_901',\n       'Запись пользователя № - user_995',\n       'Запись пользователя № - user_933',\n       'Запись пользователя № - user_986',\n       'Запись пользователя № - user_971',\n       'Запись пользователя № - user_977',\n       'Запись пользователя № - user_979',\n       'Запись пользователя № - user_910',\n       'Запись пользователя № - user_994',\n       'Запись пользователя № - user_907',\n       'Запись пользователя № - user_941',\n       'Запись пользователя № - user_989',\n       'Запись пользователя № - user_955',\n       'Запись пользователя № - user_991',\n       'Запись пользователя № - user_996',\n       'Запись пользователя № - user_926',\n       'Запись пользователя № - user_984',\n       'Запись пользователя № - user_957',\n       'Запись пользователя № - user_914',\n       'Запись пользователя № - user_988',\n       'Запись пользователя № - user_923',\n       'Запись пользователя № - user_967',\n       'Запись пользователя № - user_945',\n       'Запись пользователя № - user_993',\n       'Запись пользователя № - user_908',\n       'Запись пользователя № - user_930',\n       'Запись пользователя № - user_981',\n       'Запись пользователя № - user_936',\n       'Запись пользователя № - user_922',\n       'Запись пользователя № - user_962',\n       'Запись пользователя № - user_965',\n       'Запись пользователя № - user_959',\n       'Запись пользователя № - user_963',\n       'Запись пользователя № - user_904',\n       'Запись пользователя № - user_931',\n       'Запись пользователя № - user_1000',\n       'Запись пользователя № - user_946',\n       'Запись пользователя № - user_970',\n       'Запись пользователя № - user_939',\n       'Запись пользователя № - user_961',\n       'Запись пользователя № - user_911',\n       'Запись пользователя № - user_950',\n       'Запись пользователя № - user_956',\n       'Запись пользователя № - user_909',\n       'Запись пользователя № - user_983',\n       'Запись пользователя № - user_902',\n       'Запись пользователя № - user_947',\n       'Запись пользователя № - user_975',\n       'Запись пользователя № - user_953',\n       'Запись пользователя № - user_925',\n       'Запись пользователя № - user_934',\n       'Запись пользователя № - user_932', '#error'], dtype=object)"
     },
     "execution_count": 25,
     "metadata": {},
     "output_type": "execute_result"
    }
   ],
   "source": [
    "log.user_id.unique()"
   ]
  },
  {
   "cell_type": "code",
   "execution_count": 26,
   "metadata": {},
   "outputs": [
    {
     "data": {
      "text/plain": "       Name    City  Age Profession\n0    Иванов  Москва   25     Клинер\n2    Иванов  Москва   25     Клинер\n5  Кузнецов    Сочи   19    Рабочий\n6     Сажин  Сургут   29    Рабочий",
      "text/html": "<div>\n<style scoped>\n    .dataframe tbody tr th:only-of-type {\n        vertical-align: middle;\n    }\n\n    .dataframe tbody tr th {\n        vertical-align: top;\n    }\n\n    .dataframe thead th {\n        text-align: right;\n    }\n</style>\n<table border=\"1\" class=\"dataframe\">\n  <thead>\n    <tr style=\"text-align: right;\">\n      <th></th>\n      <th>Name</th>\n      <th>City</th>\n      <th>Age</th>\n      <th>Profession</th>\n    </tr>\n  </thead>\n  <tbody>\n    <tr>\n      <th>0</th>\n      <td>Иванов</td>\n      <td>Москва</td>\n      <td>25</td>\n      <td>Клинер</td>\n    </tr>\n    <tr>\n      <th>2</th>\n      <td>Иванов</td>\n      <td>Москва</td>\n      <td>25</td>\n      <td>Клинер</td>\n    </tr>\n    <tr>\n      <th>5</th>\n      <td>Кузнецов</td>\n      <td>Сочи</td>\n      <td>19</td>\n      <td>Рабочий</td>\n    </tr>\n    <tr>\n      <th>6</th>\n      <td>Сажин</td>\n      <td>Сургут</td>\n      <td>29</td>\n      <td>Рабочий</td>\n    </tr>\n  </tbody>\n</table>\n</div>"
     },
     "execution_count": 26,
     "metadata": {},
     "output_type": "execute_result"
    }
   ],
   "source": [
    "# Создайте новый датафрейм sample2, в который будут входить\n",
    "# только записи о людях в возрасте меньше 30 лет.\n",
    "import pandas as pd\n",
    "\n",
    "sample = pd.read_csv(\"datasets/python-8/sample.csv\")\n",
    "sample.head()\n",
    "\n",
    "sample2 = sample[sample.Age < 30]\n",
    "sample2"
   ]
  },
  {
   "cell_type": "code",
   "execution_count": 27,
   "metadata": {},
   "outputs": [
    {
     "data": {
      "text/plain": "1000"
     },
     "metadata": {},
     "output_type": "display_data"
    },
    {
     "data": {
      "text/plain": "138"
     },
     "metadata": {},
     "output_type": "display_data"
    },
    {
     "data": {
      "text/plain": "138"
     },
     "metadata": {},
     "output_type": "display_data"
    },
    {
     "data": {
      "text/plain": "138"
     },
     "metadata": {},
     "output_type": "display_data"
    }
   ],
   "source": [
    "# Создайте новый датафрейм log_win, в который будут входить только записи,\n",
    "# где пользователь выиграл. Посчитайте, сколько таких записей, и сохраните в переменной win_count.\n",
    "\n",
    "log = pd.read_csv(\"datasets/python-8/log.csv\",header=None)\n",
    "log.columns = ['user_id','time', 'bet','win']\n",
    "display(len(log))\n",
    "\n",
    "log_win = log[~(log.win.isnull())]\n",
    "display(len(log_win))\n",
    "\n",
    "log_win = log[log.win.notna()]\n",
    "display(len(log_win))\n",
    "\n",
    "log_win = log[~log.win.isna()]\n",
    "display(len(log_win))\n",
    "\n",
    "\n",
    "log_win = log[log.win.notna()]\n",
    "win_count = len(log_win)\n",
    "\n"
   ]
  },
  {
   "cell_type": "code",
   "execution_count": 28,
   "metadata": {},
   "outputs": [
    {
     "data": {
      "text/plain": "       Name    City  Age Profession\n0    Иванов  Москва   25     Клинер\n2    Иванов  Москва   25     Клинер\n5  Кузнецов    Сочи   19    Рабочий\n6     Сажин  Сургут   29    Рабочий",
      "text/html": "<div>\n<style scoped>\n    .dataframe tbody tr th:only-of-type {\n        vertical-align: middle;\n    }\n\n    .dataframe tbody tr th {\n        vertical-align: top;\n    }\n\n    .dataframe thead th {\n        text-align: right;\n    }\n</style>\n<table border=\"1\" class=\"dataframe\">\n  <thead>\n    <tr style=\"text-align: right;\">\n      <th></th>\n      <th>Name</th>\n      <th>City</th>\n      <th>Age</th>\n      <th>Profession</th>\n    </tr>\n  </thead>\n  <tbody>\n    <tr>\n      <th>0</th>\n      <td>Иванов</td>\n      <td>Москва</td>\n      <td>25</td>\n      <td>Клинер</td>\n    </tr>\n    <tr>\n      <th>2</th>\n      <td>Иванов</td>\n      <td>Москва</td>\n      <td>25</td>\n      <td>Клинер</td>\n    </tr>\n    <tr>\n      <th>5</th>\n      <td>Кузнецов</td>\n      <td>Сочи</td>\n      <td>19</td>\n      <td>Рабочий</td>\n    </tr>\n    <tr>\n      <th>6</th>\n      <td>Сажин</td>\n      <td>Сургут</td>\n      <td>29</td>\n      <td>Рабочий</td>\n    </tr>\n  </tbody>\n</table>\n</div>"
     },
     "execution_count": 28,
     "metadata": {},
     "output_type": "execute_result"
    }
   ],
   "source": [
    "sample = pd.read_csv(\"datasets/python-8/sample.csv\")\n",
    "\n",
    "\n",
    "sample2 = sample[sample.Age < 30]\n",
    "\n",
    "sample2"
   ]
  },
  {
   "cell_type": "code",
   "execution_count": 29,
   "metadata": {},
   "outputs": [
    {
     "data": {
      "text/plain": "            Name         City  Age Profession\n0         Иванов       Москва   25     Клинер\n1            NaN    Волгоград   31   Менеджер\n2         Иванов       Москва   25     Клинер\n3        sidorov  Владивосток   43   Менеджер\n4        _______        Курск   50   Водитель\n6          Сажин       Сургут   29    Рабочий\n7   Котлеревский   Йошкар-Ола   32    Рабочий\n8     Завалишина    Чебоксары   36   Менеджер\n9         Левина          NaN   55    Рабочий\n10          Фикс         Рига   42    Рабочий",
      "text/html": "<div>\n<style scoped>\n    .dataframe tbody tr th:only-of-type {\n        vertical-align: middle;\n    }\n\n    .dataframe tbody tr th {\n        vertical-align: top;\n    }\n\n    .dataframe thead th {\n        text-align: right;\n    }\n</style>\n<table border=\"1\" class=\"dataframe\">\n  <thead>\n    <tr style=\"text-align: right;\">\n      <th></th>\n      <th>Name</th>\n      <th>City</th>\n      <th>Age</th>\n      <th>Profession</th>\n    </tr>\n  </thead>\n  <tbody>\n    <tr>\n      <th>0</th>\n      <td>Иванов</td>\n      <td>Москва</td>\n      <td>25</td>\n      <td>Клинер</td>\n    </tr>\n    <tr>\n      <th>1</th>\n      <td>NaN</td>\n      <td>Волгоград</td>\n      <td>31</td>\n      <td>Менеджер</td>\n    </tr>\n    <tr>\n      <th>2</th>\n      <td>Иванов</td>\n      <td>Москва</td>\n      <td>25</td>\n      <td>Клинер</td>\n    </tr>\n    <tr>\n      <th>3</th>\n      <td>sidorov</td>\n      <td>Владивосток</td>\n      <td>43</td>\n      <td>Менеджер</td>\n    </tr>\n    <tr>\n      <th>4</th>\n      <td>_______</td>\n      <td>Курск</td>\n      <td>50</td>\n      <td>Водитель</td>\n    </tr>\n    <tr>\n      <th>6</th>\n      <td>Сажин</td>\n      <td>Сургут</td>\n      <td>29</td>\n      <td>Рабочий</td>\n    </tr>\n    <tr>\n      <th>7</th>\n      <td>Котлеревский</td>\n      <td>Йошкар-Ола</td>\n      <td>32</td>\n      <td>Рабочий</td>\n    </tr>\n    <tr>\n      <th>8</th>\n      <td>Завалишина</td>\n      <td>Чебоксары</td>\n      <td>36</td>\n      <td>Менеджер</td>\n    </tr>\n    <tr>\n      <th>9</th>\n      <td>Левина</td>\n      <td>NaN</td>\n      <td>55</td>\n      <td>Рабочий</td>\n    </tr>\n    <tr>\n      <th>10</th>\n      <td>Фикс</td>\n      <td>Рига</td>\n      <td>42</td>\n      <td>Рабочий</td>\n    </tr>\n  </tbody>\n</table>\n</div>"
     },
     "execution_count": 29,
     "metadata": {},
     "output_type": "execute_result"
    }
   ],
   "source": [
    "sample.query('Age>20')"
   ]
  },
  {
   "cell_type": "code",
   "execution_count": 30,
   "metadata": {},
   "outputs": [
    {
     "data": {
      "text/plain": "     Name    City  Age Profession\n0  Иванов  Москва   25     Клинер\n2  Иванов  Москва   25     Клинер",
      "text/html": "<div>\n<style scoped>\n    .dataframe tbody tr th:only-of-type {\n        vertical-align: middle;\n    }\n\n    .dataframe tbody tr th {\n        vertical-align: top;\n    }\n\n    .dataframe thead th {\n        text-align: right;\n    }\n</style>\n<table border=\"1\" class=\"dataframe\">\n  <thead>\n    <tr style=\"text-align: right;\">\n      <th></th>\n      <th>Name</th>\n      <th>City</th>\n      <th>Age</th>\n      <th>Profession</th>\n    </tr>\n  </thead>\n  <tbody>\n    <tr>\n      <th>0</th>\n      <td>Иванов</td>\n      <td>Москва</td>\n      <td>25</td>\n      <td>Клинер</td>\n    </tr>\n    <tr>\n      <th>2</th>\n      <td>Иванов</td>\n      <td>Москва</td>\n      <td>25</td>\n      <td>Клинер</td>\n    </tr>\n  </tbody>\n</table>\n</div>"
     },
     "execution_count": 30,
     "metadata": {},
     "output_type": "execute_result"
    }
   ],
   "source": [
    "sample.query('Age==25')"
   ]
  },
  {
   "cell_type": "code",
   "execution_count": 31,
   "metadata": {},
   "outputs": [
    {
     "data": {
      "text/plain": "        Name  City  Age Profession\n5   Кузнецов  Сочи   19    Рабочий\n10      Фикс  Рига   42    Рабочий",
      "text/html": "<div>\n<style scoped>\n    .dataframe tbody tr th:only-of-type {\n        vertical-align: middle;\n    }\n\n    .dataframe tbody tr th {\n        vertical-align: top;\n    }\n\n    .dataframe thead th {\n        text-align: right;\n    }\n</style>\n<table border=\"1\" class=\"dataframe\">\n  <thead>\n    <tr style=\"text-align: right;\">\n      <th></th>\n      <th>Name</th>\n      <th>City</th>\n      <th>Age</th>\n      <th>Profession</th>\n    </tr>\n  </thead>\n  <tbody>\n    <tr>\n      <th>5</th>\n      <td>Кузнецов</td>\n      <td>Сочи</td>\n      <td>19</td>\n      <td>Рабочий</td>\n    </tr>\n    <tr>\n      <th>10</th>\n      <td>Фикс</td>\n      <td>Рига</td>\n      <td>42</td>\n      <td>Рабочий</td>\n    </tr>\n  </tbody>\n</table>\n</div>"
     },
     "execution_count": 31,
     "metadata": {},
     "output_type": "execute_result"
    }
   ],
   "source": [
    "sample.query('City in [\"Рига\",\"Сочи\"]')"
   ]
  },
  {
   "cell_type": "code",
   "execution_count": 32,
   "metadata": {},
   "outputs": [
    {
     "data": {
      "text/plain": "     Name    City  Age Profession\n6   Сажин  Сургут   29    Рабочий\n10   Фикс    Рига   42    Рабочий",
      "text/html": "<div>\n<style scoped>\n    .dataframe tbody tr th:only-of-type {\n        vertical-align: middle;\n    }\n\n    .dataframe tbody tr th {\n        vertical-align: top;\n    }\n\n    .dataframe thead th {\n        text-align: right;\n    }\n</style>\n<table border=\"1\" class=\"dataframe\">\n  <thead>\n    <tr style=\"text-align: right;\">\n      <th></th>\n      <th>Name</th>\n      <th>City</th>\n      <th>Age</th>\n      <th>Profession</th>\n    </tr>\n  </thead>\n  <tbody>\n    <tr>\n      <th>6</th>\n      <td>Сажин</td>\n      <td>Сургут</td>\n      <td>29</td>\n      <td>Рабочий</td>\n    </tr>\n    <tr>\n      <th>10</th>\n      <td>Фикс</td>\n      <td>Рига</td>\n      <td>42</td>\n      <td>Рабочий</td>\n    </tr>\n  </tbody>\n</table>\n</div>"
     },
     "execution_count": 32,
     "metadata": {},
     "output_type": "execute_result"
    }
   ],
   "source": [
    "sample.query('City in [\"Рига\", \"Сочи\",\"Чебоксары\", \"Сургут\"] & 21<Age<50 & Profession!=\"Менеджер\"')"
   ]
  },
  {
   "cell_type": "code",
   "execution_count": 33,
   "metadata": {},
   "outputs": [],
   "source": [
    "# С помощью функции query найдите тех, у кого ставка меньше 2000, а выигрыш больше 0.\n",
    "# Сохраните в новый датафрейм log2.\n",
    "import pandas as pd\n",
    "\n",
    "\n",
    "log = pd.read_csv(\"datasets/python-8/log.csv\",header=None)\n",
    "log.columns = ['user_id','time', 'bet','win']\n",
    "# Напишите ваш код ниже\n",
    "log2 = log.query('bet < 2000 & win > 0')"
   ]
  },
  {
   "cell_type": "code",
   "execution_count": 34,
   "metadata": {},
   "outputs": [
    {
     "data": {
      "text/plain": "array(['Москва', 'Волгоград', 'Владивосток', 'Курск', 'Сочи', 'Сургут',\n       'Йошкар-Ола', 'Чебоксары', nan, 'Рига'], dtype=object)"
     },
     "metadata": {},
     "output_type": "display_data"
    },
    {
     "data": {
      "text/plain": "       Name    City  Age Profession\n4   _______   Курск   50   Водитель\n6     Сажин  Сургут   29    Рабочий\n9    Левина     NaN   55    Рабочий\n10     Фикс    Рига   42    Рабочий",
      "text/html": "<div>\n<style scoped>\n    .dataframe tbody tr th:only-of-type {\n        vertical-align: middle;\n    }\n\n    .dataframe tbody tr th {\n        vertical-align: top;\n    }\n\n    .dataframe thead th {\n        text-align: right;\n    }\n</style>\n<table border=\"1\" class=\"dataframe\">\n  <thead>\n    <tr style=\"text-align: right;\">\n      <th></th>\n      <th>Name</th>\n      <th>City</th>\n      <th>Age</th>\n      <th>Profession</th>\n    </tr>\n  </thead>\n  <tbody>\n    <tr>\n      <th>4</th>\n      <td>_______</td>\n      <td>Курск</td>\n      <td>50</td>\n      <td>Водитель</td>\n    </tr>\n    <tr>\n      <th>6</th>\n      <td>Сажин</td>\n      <td>Сургут</td>\n      <td>29</td>\n      <td>Рабочий</td>\n    </tr>\n    <tr>\n      <th>9</th>\n      <td>Левина</td>\n      <td>NaN</td>\n      <td>55</td>\n      <td>Рабочий</td>\n    </tr>\n    <tr>\n      <th>10</th>\n      <td>Фикс</td>\n      <td>Рига</td>\n      <td>42</td>\n      <td>Рабочий</td>\n    </tr>\n  </tbody>\n</table>\n</div>"
     },
     "execution_count": 34,
     "metadata": {},
     "output_type": "execute_result"
    }
   ],
   "source": [
    "# Найдите записи, где в городах есть буква «о», и сохраните в переменную sample3.\n",
    "# Функция contains не может работать с пустыми значениями: необходимо использовать параметр na = False\n",
    "\n",
    "sample = pd.read_csv(\"datasets/python-8/sample.csv\")\n",
    "display(sample.City.unique())\n",
    "sample3 = sample[sample.City.str.contains('о', na = False)]\n",
    "\n",
    "# Найдите записи, где в городах нет буквы \"о\", и сохраните в переменную sample4.\n",
    "# Не забудьте про NaN и параметр na\n",
    "sample4 = sample[~sample.City.str.contains('о', na = False)]\n",
    "sample4"
   ]
  },
  {
   "cell_type": "code",
   "execution_count": 35,
   "metadata": {},
   "outputs": [
    {
     "data": {
      "text/plain": "array(['Запись пользователя № - user_919',\n       'Запись пользователя № - user_973',\n       'Запись пользователя № - user_903',\n       'Запись пользователя № - user_954',\n       'Запись пользователя № - user_917',\n       'Запись пользователя № - user_900',\n       'Запись пользователя № - user_980',\n       'Запись пользователя № - user_906',\n       'Запись пользователя № - user_952',\n       'Запись пользователя № - user_972',\n       'Запись пользователя № - user_966',\n       'Запись пользователя № - user_964',\n       'Запись пользователя № - user_978',\n       'Запись пользователя № - user_968',\n       'Запись пользователя № - user_974',\n       'Запись пользователя № - user_998',\n       'Запись пользователя № - user_990',\n       'Запись пользователя № - user_942',\n       'Запись пользователя № - user_929',\n       'Запись пользователя № - user_976',\n       'Запись пользователя № - user_927',\n       'Запись пользователя № - user_951',\n       'Запись пользователя № - user_949',\n       'Запись пользователя № - user_987',\n       'Запись пользователя № - user_985',\n       'Запись пользователя № - user_992',\n       'Запись пользователя № - user_937',\n       'Запись пользователя № - user_913',\n       'Запись пользователя № - user_948',\n       'Запись пользователя № - user_916',\n       'Запись пользователя № - user_938',\n       'Запись пользователя № - user_997',\n       'Запись пользователя № - user_940',\n       'Запись пользователя № - user_918',\n       'Запись пользователя № - user_960',\n       'Запись пользователя № - user_905',\n       'Запись пользователя № - user_924',\n       'Запись пользователя № - user_958',\n       'Запись пользователя № - user_920',\n       'Запись пользователя № - user_943',\n       'Запись пользователя № - user_935',\n       'Запись пользователя № - user_915',\n       'Запись пользователя № - user_921',\n       'Запись пользователя № - user_999',\n       'Запись пользователя № - user_982',\n       'Запись пользователя № - user_928',\n       'Запись пользователя № - user_944',\n       'Запись пользователя № - user_912',\n       'Запись пользователя № - user_969',\n       'Запись пользователя № - user_901',\n       'Запись пользователя № - user_995',\n       'Запись пользователя № - user_933',\n       'Запись пользователя № - user_986',\n       'Запись пользователя № - user_971',\n       'Запись пользователя № - user_977',\n       'Запись пользователя № - user_979',\n       'Запись пользователя № - user_910',\n       'Запись пользователя № - user_994',\n       'Запись пользователя № - user_907',\n       'Запись пользователя № - user_941',\n       'Запись пользователя № - user_989',\n       'Запись пользователя № - user_955',\n       'Запись пользователя № - user_991',\n       'Запись пользователя № - user_996',\n       'Запись пользователя № - user_926',\n       'Запись пользователя № - user_984',\n       'Запись пользователя № - user_957',\n       'Запись пользователя № - user_914',\n       'Запись пользователя № - user_988',\n       'Запись пользователя № - user_923',\n       'Запись пользователя № - user_967',\n       'Запись пользователя № - user_945',\n       'Запись пользователя № - user_993',\n       'Запись пользователя № - user_908',\n       'Запись пользователя № - user_930',\n       'Запись пользователя № - user_981',\n       'Запись пользователя № - user_936',\n       'Запись пользователя № - user_922',\n       'Запись пользователя № - user_962',\n       'Запись пользователя № - user_965',\n       'Запись пользователя № - user_959',\n       'Запись пользователя № - user_963',\n       'Запись пользователя № - user_904',\n       'Запись пользователя № - user_931',\n       'Запись пользователя № - user_1000',\n       'Запись пользователя № - user_946',\n       'Запись пользователя № - user_970',\n       'Запись пользователя № - user_939',\n       'Запись пользователя № - user_961',\n       'Запись пользователя № - user_911',\n       'Запись пользователя № - user_950',\n       'Запись пользователя № - user_956',\n       'Запись пользователя № - user_909',\n       'Запись пользователя № - user_983',\n       'Запись пользователя № - user_902',\n       'Запись пользователя № - user_947',\n       'Запись пользователя № - user_975',\n       'Запись пользователя № - user_953',\n       'Запись пользователя № - user_925',\n       'Запись пользователя № - user_934',\n       'Запись пользователя № - user_932'], dtype=object)"
     },
     "execution_count": 35,
     "metadata": {},
     "output_type": "execute_result"
    }
   ],
   "source": [
    "# Сохраните в переменную new_log датафрейм, из которого удалены записи с ошибкой в поле user_id:\n",
    "\n",
    "\n",
    "log.user_id.unique()\n",
    "new_log = log[~log.user_id.str.contains('error', na = False)]\n",
    "new_log.user_id.unique()"
   ]
  },
  {
   "cell_type": "code",
   "execution_count": 36,
   "metadata": {},
   "outputs": [],
   "source": [
    "sample.Age.apply(lambda x:x**2)\n",
    "\n",
    "# С помощью apply и лямбда-функции увеличьте возраст во всех записях на 1 год и сохраните в sample2.\n",
    "# В переменной sample2 должен содержаться весь датафрейм sample.\n",
    "import pandas as pd\n",
    "\n",
    "sample = pd.read_csv(\"datasets/python-8/sample.csv\")\n",
    "sample.head()\n",
    "\n",
    "sample2 = sample.copy()\n",
    "sample2.Age = sample2.Age.apply(lambda x: x+1)\n"
   ]
  },
  {
   "cell_type": "code",
   "execution_count": 37,
   "metadata": {},
   "outputs": [
    {
     "data": {
      "text/plain": "array(['Москва', 'Волгоград', 'Владивосток', 'Курск', 'Сочи', 'Сургут',\n       'Йошкар-Ола', 'Чебоксары', nan, 'Рига'], dtype=object)"
     },
     "execution_count": 37,
     "metadata": {},
     "output_type": "execute_result"
    }
   ],
   "source": [
    "# С помощью apply и lambda-функции замените все буквы в поле City на маленькие и сохраните в sample2.\n",
    "# Вам может понадобиться функция s.lower().\n",
    "# Обратите внимание: когда в столбце есть пропущенные значения, необходимо в явном виде указывать,\n",
    "# что это str.\n",
    "\n",
    "sample2 = sample.copy()\n",
    "sample2.City = sample.City.apply(lambda x: str(x).lower())\n",
    "\n",
    "sample.City.unique()"
   ]
  },
  {
   "cell_type": "code",
   "execution_count": 38,
   "metadata": {},
   "outputs": [
    {
     "data": {
      "text/plain": "            Name         City  Age  Profession\n0         Иванов       Москва   25           2\n1            NaN    Волгоград   31           1\n2         Иванов       Москва   25           2\n3        sidorov  Владивосток   43           1\n4        _______        Курск   50           2\n5       Кузнецов         Сочи   19           0\n6          Сажин       Сургут   29           0\n7   Котлеревский   Йошкар-Ола   32           0\n8     Завалишина    Чебоксары   36           1\n9         Левина          NaN   55           0\n10          Фикс         Рига   42           0",
      "text/html": "<div>\n<style scoped>\n    .dataframe tbody tr th:only-of-type {\n        vertical-align: middle;\n    }\n\n    .dataframe tbody tr th {\n        vertical-align: top;\n    }\n\n    .dataframe thead th {\n        text-align: right;\n    }\n</style>\n<table border=\"1\" class=\"dataframe\">\n  <thead>\n    <tr style=\"text-align: right;\">\n      <th></th>\n      <th>Name</th>\n      <th>City</th>\n      <th>Age</th>\n      <th>Profession</th>\n    </tr>\n  </thead>\n  <tbody>\n    <tr>\n      <th>0</th>\n      <td>Иванов</td>\n      <td>Москва</td>\n      <td>25</td>\n      <td>2</td>\n    </tr>\n    <tr>\n      <th>1</th>\n      <td>NaN</td>\n      <td>Волгоград</td>\n      <td>31</td>\n      <td>1</td>\n    </tr>\n    <tr>\n      <th>2</th>\n      <td>Иванов</td>\n      <td>Москва</td>\n      <td>25</td>\n      <td>2</td>\n    </tr>\n    <tr>\n      <th>3</th>\n      <td>sidorov</td>\n      <td>Владивосток</td>\n      <td>43</td>\n      <td>1</td>\n    </tr>\n    <tr>\n      <th>4</th>\n      <td>_______</td>\n      <td>Курск</td>\n      <td>50</td>\n      <td>2</td>\n    </tr>\n    <tr>\n      <th>5</th>\n      <td>Кузнецов</td>\n      <td>Сочи</td>\n      <td>19</td>\n      <td>0</td>\n    </tr>\n    <tr>\n      <th>6</th>\n      <td>Сажин</td>\n      <td>Сургут</td>\n      <td>29</td>\n      <td>0</td>\n    </tr>\n    <tr>\n      <th>7</th>\n      <td>Котлеревский</td>\n      <td>Йошкар-Ола</td>\n      <td>32</td>\n      <td>0</td>\n    </tr>\n    <tr>\n      <th>8</th>\n      <td>Завалишина</td>\n      <td>Чебоксары</td>\n      <td>36</td>\n      <td>1</td>\n    </tr>\n    <tr>\n      <th>9</th>\n      <td>Левина</td>\n      <td>NaN</td>\n      <td>55</td>\n      <td>0</td>\n    </tr>\n    <tr>\n      <th>10</th>\n      <td>Фикс</td>\n      <td>Рига</td>\n      <td>42</td>\n      <td>0</td>\n    </tr>\n  </tbody>\n</table>\n</div>"
     },
     "execution_count": 38,
     "metadata": {},
     "output_type": "execute_result"
    }
   ],
   "source": [
    "import pandas as pd\n",
    "\n",
    "sample = pd.read_csv(\"datasets/python-8/sample.csv\")\n",
    "\n",
    "# Напишите функцию profession_code, которая на вход получает строку, а на выход возвращает:\n",
    "#\n",
    "# 0 — если на вход поступила строка \"Рабочий\"\n",
    "# 1 — если на вход поступила строка \"Менеджер\"\n",
    "# 2 — в любом другом случае\n",
    "\n",
    "def profession_code(s: str) -> int:\n",
    "    if s == 'Рабочий':\n",
    "        return 0\n",
    "    elif s == 'Менеджер':\n",
    "        return 1\n",
    "    else:\n",
    "        return 2\n",
    "\n",
    "sample2 = sample.copy()\n",
    "\n",
    "sample2.Profession = sample.Profession.apply(profession_code)\n",
    "sample2\n"
   ]
  },
  {
   "cell_type": "code",
   "execution_count": 39,
   "metadata": {},
   "outputs": [
    {
     "data": {
      "text/plain": "            Name         City  Age Profession Age_category\n0         Иванов       Москва   25     Клинер      средний\n1            NaN    Волгоград   31   Менеджер      средний\n2         Иванов       Москва   25     Клинер      средний\n3        sidorov  Владивосток   43   Менеджер       зрелый\n4        _______        Курск   50   Водитель       зрелый\n5       Кузнецов         Сочи   19    Рабочий      молодой\n6          Сажин       Сургут   29    Рабочий      средний\n7   Котлеревский   Йошкар-Ола   32    Рабочий      средний\n8     Завалишина    Чебоксары   36   Менеджер       зрелый\n9         Левина          NaN   55    Рабочий       зрелый\n10          Фикс         Рига   42    Рабочий       зрелый",
      "text/html": "<div>\n<style scoped>\n    .dataframe tbody tr th:only-of-type {\n        vertical-align: middle;\n    }\n\n    .dataframe tbody tr th {\n        vertical-align: top;\n    }\n\n    .dataframe thead th {\n        text-align: right;\n    }\n</style>\n<table border=\"1\" class=\"dataframe\">\n  <thead>\n    <tr style=\"text-align: right;\">\n      <th></th>\n      <th>Name</th>\n      <th>City</th>\n      <th>Age</th>\n      <th>Profession</th>\n      <th>Age_category</th>\n    </tr>\n  </thead>\n  <tbody>\n    <tr>\n      <th>0</th>\n      <td>Иванов</td>\n      <td>Москва</td>\n      <td>25</td>\n      <td>Клинер</td>\n      <td>средний</td>\n    </tr>\n    <tr>\n      <th>1</th>\n      <td>NaN</td>\n      <td>Волгоград</td>\n      <td>31</td>\n      <td>Менеджер</td>\n      <td>средний</td>\n    </tr>\n    <tr>\n      <th>2</th>\n      <td>Иванов</td>\n      <td>Москва</td>\n      <td>25</td>\n      <td>Клинер</td>\n      <td>средний</td>\n    </tr>\n    <tr>\n      <th>3</th>\n      <td>sidorov</td>\n      <td>Владивосток</td>\n      <td>43</td>\n      <td>Менеджер</td>\n      <td>зрелый</td>\n    </tr>\n    <tr>\n      <th>4</th>\n      <td>_______</td>\n      <td>Курск</td>\n      <td>50</td>\n      <td>Водитель</td>\n      <td>зрелый</td>\n    </tr>\n    <tr>\n      <th>5</th>\n      <td>Кузнецов</td>\n      <td>Сочи</td>\n      <td>19</td>\n      <td>Рабочий</td>\n      <td>молодой</td>\n    </tr>\n    <tr>\n      <th>6</th>\n      <td>Сажин</td>\n      <td>Сургут</td>\n      <td>29</td>\n      <td>Рабочий</td>\n      <td>средний</td>\n    </tr>\n    <tr>\n      <th>7</th>\n      <td>Котлеревский</td>\n      <td>Йошкар-Ола</td>\n      <td>32</td>\n      <td>Рабочий</td>\n      <td>средний</td>\n    </tr>\n    <tr>\n      <th>8</th>\n      <td>Завалишина</td>\n      <td>Чебоксары</td>\n      <td>36</td>\n      <td>Менеджер</td>\n      <td>зрелый</td>\n    </tr>\n    <tr>\n      <th>9</th>\n      <td>Левина</td>\n      <td>NaN</td>\n      <td>55</td>\n      <td>Рабочий</td>\n      <td>зрелый</td>\n    </tr>\n    <tr>\n      <th>10</th>\n      <td>Фикс</td>\n      <td>Рига</td>\n      <td>42</td>\n      <td>Рабочий</td>\n      <td>зрелый</td>\n    </tr>\n  </tbody>\n</table>\n</div>"
     },
     "execution_count": 39,
     "metadata": {},
     "output_type": "execute_result"
    }
   ],
   "source": [
    "import pandas as pd\n",
    "\n",
    "sample = pd.read_csv(\"datasets/python-8/sample.csv\")\n",
    "\n",
    "# Напишите функцию age_category, которая на вход получает число, а на выход отдаёт:\n",
    "#\n",
    "# \"молодой\" — если возраст меньше 23\n",
    "# \"средний\" — если возраст от 23 до 35\n",
    "# \"зрелый\" — если возраст больше 35\n",
    "\n",
    "def age_category(age):\n",
    "    if age < 23:\n",
    "        return 'молодой'\n",
    "    elif 23 < age < 35:\n",
    "        return 'средний'\n",
    "    else:\n",
    "        return 'зрелый'\n",
    "\n",
    "\n",
    "# Примените функцию age_category и apply, чтобы создать новую колонку в sample\n",
    "# под названием 'Age_category'. Не забудьте загрузить датафрейм.\n",
    "\n",
    "# Вспомним, как создать новую колонку:\n",
    "# df['new_column'] = df.old_column.apply(func)\n",
    "sample['Age_category'] = sample.Age.apply(age_category)\n",
    "sample"
   ]
  },
  {
   "cell_type": "code",
   "execution_count": 40,
   "metadata": {},
   "outputs": [],
   "source": [
    "# Преобразуем поле user_id в датафрейме log, оставив только идентификатор пользователя.\n",
    "# Например, вместо \"Запись пользователя № — user_974\" должно остаться только \"user_974\".\n",
    "\n",
    "# На месте записей с ошибками в user_id должна быть пустая строка \"\".\n",
    "# Сделайте это через apply и новую функцию, которую вы создадите. Результат сохраните в log:\n",
    "\n",
    "import pandas as pd\n",
    "\n",
    "\n",
    "log = pd.read_csv(\"datasets/python-8/log.csv\", header=None)\n",
    "log.columns = ['user_id','time','bet','win']\n",
    "\n",
    "def repair_user_id(field):\n",
    "    return (\"\" if 'error' in field\n",
    "            else field.split()[-1])\n",
    "\n",
    "log.user_id = log.user_id.apply(repair_user_id)\n",
    "\n",
    "\n"
   ]
  },
  {
   "cell_type": "code",
   "execution_count": 5,
   "metadata": {},
   "outputs": [],
   "source": [
    "# Загрузите log.csv в log. Удалите квадратную скобку из первой строки в столбце time,\n",
    "# чтобы привести его к более привычному формату: t равен log.time[0]. Сохраните результат в t:\n",
    "import pandas as pd\n",
    "\n",
    "\n",
    "log = pd.read_csv(\"datasets/python-8/log.csv\", header=None)\n",
    "log.columns = ['user_id','time','bet','win']\n",
    "t = log.time[0]\n",
    "t = t[1:]\n",
    "\n",
    "# Уберите ненужную скобку \"[\" из поля в time. Результат сохраните в log:\n",
    "log.time = log.time.str.replace('[', '')\n",
    "# log.time.unique()\n",
    "\n"
   ]
  },
  {
   "cell_type": "code",
   "execution_count": 42,
   "metadata": {},
   "outputs": [
    {
     "data": {
      "text/plain": "      user_id                 time      bet     win\n0    user_919  2019-01-01 14:06:51      NaN     NaN\n1    user_973  2019-01-01 14:51:16      NaN     NaN\n2    user_903  2019-01-01 16:31:16      NaN     NaN\n3    user_954  2019-01-01 17:17:51      NaN     NaN\n4    user_954  2019-01-01 21:31:18      NaN     NaN\n..        ...                  ...      ...     ...\n991  user_965  2019-04-20 12:55:41    800.0  6927.0\n992  user_967  2019-04-20 14:59:36  10154.0     NaN\n993  user_973  2019-04-20 17:09:56  10254.0     NaN\n994  user_977  2019-04-20 18:10:07  10354.0     NaN\n995  user_984   2019-04-20 9:59:58   9754.0     NaN\n\n[985 rows x 4 columns]",
      "text/html": "<div>\n<style scoped>\n    .dataframe tbody tr th:only-of-type {\n        vertical-align: middle;\n    }\n\n    .dataframe tbody tr th {\n        vertical-align: top;\n    }\n\n    .dataframe thead th {\n        text-align: right;\n    }\n</style>\n<table border=\"1\" class=\"dataframe\">\n  <thead>\n    <tr style=\"text-align: right;\">\n      <th></th>\n      <th>user_id</th>\n      <th>time</th>\n      <th>bet</th>\n      <th>win</th>\n    </tr>\n  </thead>\n  <tbody>\n    <tr>\n      <th>0</th>\n      <td>user_919</td>\n      <td>2019-01-01 14:06:51</td>\n      <td>NaN</td>\n      <td>NaN</td>\n    </tr>\n    <tr>\n      <th>1</th>\n      <td>user_973</td>\n      <td>2019-01-01 14:51:16</td>\n      <td>NaN</td>\n      <td>NaN</td>\n    </tr>\n    <tr>\n      <th>2</th>\n      <td>user_903</td>\n      <td>2019-01-01 16:31:16</td>\n      <td>NaN</td>\n      <td>NaN</td>\n    </tr>\n    <tr>\n      <th>3</th>\n      <td>user_954</td>\n      <td>2019-01-01 17:17:51</td>\n      <td>NaN</td>\n      <td>NaN</td>\n    </tr>\n    <tr>\n      <th>4</th>\n      <td>user_954</td>\n      <td>2019-01-01 21:31:18</td>\n      <td>NaN</td>\n      <td>NaN</td>\n    </tr>\n    <tr>\n      <th>...</th>\n      <td>...</td>\n      <td>...</td>\n      <td>...</td>\n      <td>...</td>\n    </tr>\n    <tr>\n      <th>991</th>\n      <td>user_965</td>\n      <td>2019-04-20 12:55:41</td>\n      <td>800.0</td>\n      <td>6927.0</td>\n    </tr>\n    <tr>\n      <th>992</th>\n      <td>user_967</td>\n      <td>2019-04-20 14:59:36</td>\n      <td>10154.0</td>\n      <td>NaN</td>\n    </tr>\n    <tr>\n      <th>993</th>\n      <td>user_973</td>\n      <td>2019-04-20 17:09:56</td>\n      <td>10254.0</td>\n      <td>NaN</td>\n    </tr>\n    <tr>\n      <th>994</th>\n      <td>user_977</td>\n      <td>2019-04-20 18:10:07</td>\n      <td>10354.0</td>\n      <td>NaN</td>\n    </tr>\n    <tr>\n      <th>995</th>\n      <td>user_984</td>\n      <td>2019-04-20 9:59:58</td>\n      <td>9754.0</td>\n      <td>NaN</td>\n    </tr>\n  </tbody>\n</table>\n<p>985 rows × 4 columns</p>\n</div>"
     },
     "execution_count": 42,
     "metadata": {},
     "output_type": "execute_result"
    }
   ],
   "source": [
    "# Соединим всё, что мы делали, и очистим файл log.csv. А именно:\n",
    "\n",
    "# прочитаем файл в переменную log;\n",
    "# добавим названия колонок user_id, time, bet, win;\n",
    "# удалим строки, которые содержат значения user_id с ошибками;\n",
    "# оставим в user_id только значения идентификатора;\n",
    "# уберём начальную скобку из поля time.\n",
    "import pandas as pd\n",
    "import re\n",
    "\n",
    "log = pd.read_csv(\"datasets/python-8/log.csv\", header=None)\n",
    "log.columns = ['user_id','time','bet','win']\n",
    "\n",
    "\n",
    "log = log[~log.user_id.str.contains('error')]\n",
    "# log.user_id = log.user_id.apply(lambda s: re.search(r'[0-9]+', s).group())\n",
    "log.user_id = log.user_id.apply(lambda s: str(s).split()[-1])\n",
    "log.time = log.time.str.replace('[', '')\n",
    "log\n",
    "\n"
   ]
  }
 ],
 "metadata": {
  "kernelspec": {
   "display_name": "Python 3",
   "language": "python",
   "name": "python3"
  },
  "language_info": {
   "codemirror_mode": {
    "name": "ipython",
    "version": 3
   },
   "file_extension": ".py",
   "mimetype": "text/x-python",
   "name": "python",
   "nbconvert_exporter": "python",
   "pygments_lexer": "ipython3",
   "version": "3.8.3"
  }
 },
 "nbformat": 4,
 "nbformat_minor": 4
}